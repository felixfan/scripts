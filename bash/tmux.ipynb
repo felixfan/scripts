{
 "cells": [
  {
   "cell_type": "markdown",
   "metadata": {},
   "source": [
    "[tmux](https://tmux.github.io/) is a terminal multiplexer"
   ]
  },
  {
   "cell_type": "markdown",
   "metadata": {},
   "source": [
    "# 1. Install tmux on Mac OS"
   ]
  },
  {
   "cell_type": "markdown",
   "metadata": {},
   "source": [
    "```bash\n",
    "brew install tmux\n",
    "```"
   ]
  },
  {
   "cell_type": "markdown",
   "metadata": {},
   "source": [
    "# 2. Start tmux"
   ]
  },
  {
   "cell_type": "markdown",
   "metadata": {},
   "source": [
    "```bash\n",
    "tmux\n",
    "```"
   ]
  },
  {
   "cell_type": "markdown",
   "metadata": {},
   "source": [
    "# 3. Shortcut Reference (Ctrl + b)"
   ]
  },
  {
   "cell_type": "markdown",
   "metadata": {},
   "source": [
    "```\n",
    "Basics\n",
    "    ? get help\n",
    "    \n",
    "Windows\n",
    "    c          create a new window\n",
    "    %          split horizontally\n",
    "    \"          split vertically\n",
    "    0 to 9     select windows 0 through 9\n",
    "    p          previous window\n",
    "    n          next window\n",
    "\n",
    "Panes\n",
    "    %          create a horizontal pane\n",
    "    \"          create a vertical pane\n",
    "    x          kill the current pane\n",
    "    Left       switch to the panel on the left\n",
    "    Right      switch to the panel on the right\n",
    "    Up         switch to the panel on the top\n",
    "    Down       switch to the panel on the bottom\n",
    "    o          go to the next pane (cycle through all of them)\n",
    "    ;          go to the ‘last’ (previously used) pane\n",
    "    \n",
    "Resizing panes\n",
    "    \n",
    "    \n",
    "```"
   ]
  }
 ],
 "metadata": {
  "anaconda-cloud": {},
  "kernelspec": {
   "display_name": "Python [Root]",
   "language": "python",
   "name": "Python [Root]"
  },
  "language_info": {
   "codemirror_mode": {
    "name": "ipython",
    "version": 2
   },
   "file_extension": ".py",
   "mimetype": "text/x-python",
   "name": "python",
   "nbconvert_exporter": "python",
   "pygments_lexer": "ipython2",
   "version": "2.7.12"
  },
  "nav_menu": {},
  "toc": {
   "navigate_menu": true,
   "number_sections": false,
   "sideBar": false,
   "threshold": "",
   "toc_cell": false,
   "toc_section_display": "block",
   "toc_window_display": false
  }
 },
 "nbformat": 4,
 "nbformat_minor": 0
}
