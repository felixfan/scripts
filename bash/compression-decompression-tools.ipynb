{
 "cells": [
  {
   "cell_type": "markdown",
   "metadata": {},
   "source": [
    "# 1. tar"
   ]
  },
  {
   "cell_type": "markdown",
   "metadata": {},
   "source": [
    "```\n",
    "格式：tar [主选项+辅选项] 文件或目录\n",
    "\n",
    "主选项：它们不可能同时出现，告诉tar要做什么事，是必须要有的\n",
    "\n",
    "    -c：创建新的压缩文件，相当与打包\n",
    "    -x：从压缩文件中释放文件，相当于拆包\n",
    "    -t：列出压缩文件中的内容\n",
    "\n",
    "辅选项：可选\n",
    "\n",
    "    -C：切换到指定目录\n",
    "    -z：是否同时具有gzip的属性？亦即是否需要用gzip压缩或解压？一般格式为tar.gz或xx.tgz\n",
    "    -j：是否同时具有bzip2的属性？亦即是否需要用bzip2压缩或解压？一般格式为tar.bz2\n",
    "    -v：压缩过程中显示文件\n",
    "    -f：指定压缩文件，注意，在f之后要立即接档名（自己取的），不要再加其他参数\n",
    "    -p：使用原文件的原来属性\n",
    "    -exclude FILE：在压缩过程中，不要将FILE打包\n",
    "    \n",
    "常用命令：\n",
    "\n",
    "压缩：\n",
    "\n",
    "tar -cvf     文件或目录名 打包的对象——仅打包，不压缩\n",
    "tar -zcvf    文件或目录名——打包后，以gzip压缩\n",
    "tar -jcvf    文件或目录名——打包后，以bzip2压缩\n",
    "\n",
    "查阅：\n",
    "\n",
    "tar -ztvf    文件或目录名 ——查阅压缩文件中有那些文件\n",
    "\n",
    "解压：\n",
    "\n",
    "tar -xvf     文件或目录名\n",
    "tar -zxvf    文件或目录名\n",
    "\n",
    "```"
   ]
  },
  {
   "cell_type": "markdown",
   "metadata": {},
   "source": [
    "## 1.1 创建归档 (c / --create)"
   ]
  },
  {
   "cell_type": "markdown",
   "metadata": {},
   "source": [
    "```bash\n",
    "tar --create --verbose --file=archive.tar file1 file2 file3\n",
    "tar cvf archive.tar file1 file2 file3\n",
    "```"
   ]
  },
  {
   "cell_type": "markdown",
   "metadata": {},
   "source": [
    "## 1.2 列出归档文件内容 ( t / --list)"
   ]
  },
  {
   "cell_type": "markdown",
   "metadata": {},
   "source": [
    "```bash\n",
    "tar --list archive.tar\n",
    "tar tvf archive.tar\n",
    "```"
   ]
  },
  {
   "cell_type": "markdown",
   "metadata": {},
   "source": [
    "## 1.3 提取归档 (x / --extract)"
   ]
  },
  {
   "cell_type": "markdown",
   "metadata": {},
   "source": [
    "```bash\n",
    "tar xvf archive.tar\n",
    "tar xvf archive.tar --wildcards '*.c'   # 从归档中提取后缀名为 *.c 的文件。\n",
    "```"
   ]
  },
  {
   "cell_type": "markdown",
   "metadata": {},
   "source": [
    "## 1.4 对归档文件进行更新 ( u / --update)"
   ]
  },
  {
   "cell_type": "markdown",
   "metadata": {},
   "source": [
    "```bash\n",
    "tar uvf archive.tar newfile.c   #  假如归档的newfile.c  要比先前已经归档的新，则添加更新的 newfile.c 到归档里面.\n",
    "```"
   ]
  },
  {
   "cell_type": "markdown",
   "metadata": {},
   "source": [
    "## 1.5 从归档中删除文件 (--delete)"
   ]
  },
  {
   "cell_type": "markdown",
   "metadata": {},
   "source": [
    "```bash\n",
    "tar --delete -f archive.tar file1.c  # 从压缩包'archive.tar' 中删除文件'file1.c' \n",
    "```"
   ]
  },
  {
   "cell_type": "markdown",
   "metadata": {},
   "source": [
    "# 2. gzip gunzip"
   ]
  },
  {
   "cell_type": "markdown",
   "metadata": {},
   "source": [
    "## 2.1 压缩文件"
   ]
  },
  {
   "cell_type": "markdown",
   "metadata": {},
   "source": [
    "```bash\n",
    "gzip file(s)  # 每个文件将被单独压缩。\n",
    "gzip -c file > file.gz  # 通常在压缩完成后，它会将原来的文件删除。我们可以使用 -c 选项来保留原来的文件。\n",
    "cat file1 file2 file3 | gzip > archieve.gz # 将一组文件压缩到一个单独的文件中\n",
    "```"
   ]
  },
  {
   "cell_type": "markdown",
   "metadata": {},
   "source": [
    "## 2.2 检查压缩比"
   ]
  },
  {
   "cell_type": "markdown",
   "metadata": {},
   "source": [
    "```bash\n",
    "gzip -l archieve.gz\n",
    "```"
   ]
  },
  {
   "cell_type": "markdown",
   "metadata": {},
   "source": [
    "## 2.3 解压文件"
   ]
  },
  {
   "cell_type": "markdown",
   "metadata": {},
   "source": [
    "```bash\n",
    "gunzip -c archieve.gz  # 原有的（压缩）文件在被解压后同样会被删除。使用 -c选项来保留原始文件。\n",
    "```"
   ]
  }
 ],
 "metadata": {
  "kernelspec": {
   "display_name": "Python [Root]",
   "language": "python",
   "name": "Python [Root]"
  },
  "language_info": {
   "codemirror_mode": {
    "name": "ipython",
    "version": 2
   },
   "file_extension": ".py",
   "mimetype": "text/x-python",
   "name": "python",
   "nbconvert_exporter": "python",
   "pygments_lexer": "ipython2",
   "version": "2.7.12"
  },
  "nav_menu": {},
  "toc": {
   "navigate_menu": true,
   "number_sections": false,
   "sideBar": false,
   "threshold": "",
   "toc_cell": false,
   "toc_section_display": "block",
   "toc_window_display": false
  }
 },
 "nbformat": 4,
 "nbformat_minor": 0
}
