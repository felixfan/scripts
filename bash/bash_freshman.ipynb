{
 "cells": [
  {
   "cell_type": "code",
   "execution_count": 1,
   "metadata": {
    "collapsed": false
   },
   "outputs": [
    {
     "name": "stdout",
     "output_type": "stream",
     "text": [
      "\u001b[H\u001b[2JThe script starts now.\n",
      "Hi, alicefelix!\n",
      "I'm setting two variables now.\n",
      "This is a string: red\n",
      "And this is a number: 9\n"
     ]
    }
   ],
   "source": [
    "%%bash\n",
    "#!/bin/bash\n",
    "\n",
    "clear\n",
    "\n",
    "echo \"The script starts now.\"\n",
    "echo \"Hi, $USER!\"\n",
    "\n",
    "echo \"I'm setting two variables now.\"\n",
    "COLOUR=\"red\" \n",
    "# 在等号周围放置空格会造成错误。\n",
    "# 在对变量赋值得时候把内容字符串用引号引起来是一个良好的习惯:这样会降低你出错的机会。\n",
    "VALUES=9\n",
    "echo \"This is a string: $COLOUR\"\n",
    "echo \"And this is a number: $VALUES\"\n"
   ]
  },
  {
   "cell_type": "code",
   "execution_count": 2,
   "metadata": {
    "collapsed": false
   },
   "outputs": [
    {
     "name": "stdout",
     "output_type": "stream",
     "text": [
      "6\n",
      "\n",
      "you've more than two files.\n"
     ]
    }
   ],
   "source": [
    "%%bash\n",
    "# 数字的比较\n",
    "num=`ls | wc -l`\n",
    "\n",
    "echo $num\n",
    "\n",
    "if [ \"$num\" -gt \"2\" ]\n",
    "then \n",
    "    echo\n",
    "    echo \"you've more than two files.\"\n",
    "fi"
   ]
  },
  {
   "cell_type": "code",
   "execution_count": 3,
   "metadata": {
    "collapsed": false
   },
   "outputs": [
    {
     "name": "stdout",
     "output_type": "stream",
     "text": [
      "You have no permission to run bash as non−root user.\n"
     ]
    }
   ],
   "source": [
    "%%bash\n",
    "# 字符串比较\n",
    "if [ \"$(whoami)\" != 'root' ]\n",
    "then\n",
    "    echo \"You have no permission to run $0 as non−root user.\"\n",
    "    exit 1\n",
    "fi"
   ]
  },
  {
   "cell_type": "code",
   "execution_count": 4,
   "metadata": {
    "collapsed": false
   },
   "outputs": [
    {
     "name": "stdout",
     "output_type": "stream",
     "text": [
      "How come the lady hasn't got a drink yet?\n"
     ]
    }
   ],
   "source": [
    "%%bash\n",
    "gender=\"male\"\n",
    "if [ \"$gender\" == \"f*\" ]\n",
    "then\n",
    "    echo \"Pleasure to meet you, Madame.\"\n",
    "else\n",
    "    echo \"How come the lady hasn't got a drink yet?\"\n",
    "fi"
   ]
  },
  {
   "cell_type": "code",
   "execution_count": 5,
   "metadata": {
    "collapsed": false
   },
   "outputs": [
    {
     "name": "stdout",
     "output_type": "stream",
     "text": [
      "#!/bin/bash\n",
      "\n",
      "# This script prints a message about your weight\n",
      "# if you give it your weight in kilos and hight in centimeters.\n",
      "\n",
      "# $#代表了命令行的参数数量.\n",
      "# $0 代表了脚本的名字。\n",
      "# 命令行参数使用位置参数$1,$2,...,$N来达到此目的.\n",
      "# 第一个参数代表$1，第二个参数代表$2，以此类推.\n",
      "\n",
      "if [ ! $# == 2 ]\n",
      "then\n",
      "    echo \"Usage: $0 weight_in_kilos length_in_centimeters\"\n",
      "    exit\n",
      "fi\n",
      "\n",
      "weight=\"$1\"\n",
      "height=\"$2\"\n",
      "\n",
      "idealweight=$[$height-110]\n",
      "echo \"Your ideal weight is $idealweight kilos\"\n",
      "echo\n",
      "\n",
      "bmi=$[100*$weight/$height]\n",
      "bmi=$[100*$bmi/$height]\n",
      "echo \"Your BMI is $bmi\"\n",
      "echo\n",
      "\n",
      "if [ $weight -le $idealweight ]\n",
      "then\n",
      "    echo \"You should eat a bit more fat.\"\n",
      "else\n",
      "    echo \"You should eat a bit more fruit.\"\n",
      "fi\n"
     ]
    }
   ],
   "source": [
    "%%bash\n",
    "cat weight.sh"
   ]
  },
  {
   "cell_type": "code",
   "execution_count": 6,
   "metadata": {
    "collapsed": false
   },
   "outputs": [
    {
     "name": "stdout",
     "output_type": "stream",
     "text": [
      "Your ideal weight is 64 kilos\n",
      "\n",
      "Your BMI is 21\n",
      "\n",
      "You should eat a bit more fruit.\n"
     ]
    }
   ],
   "source": [
    "%%bash\n",
    "bash weight.sh 65 174"
   ]
  },
  {
   "cell_type": "code",
   "execution_count": 7,
   "metadata": {
    "collapsed": false
   },
   "outputs": [
    {
     "name": "stdout",
     "output_type": "stream",
     "text": [
      "Usage: weight.sh weight_in_kilos length_in_centimeters\n"
     ]
    }
   ],
   "source": [
    "%%bash\n",
    "bash weight.sh 65 174 23"
   ]
  },
  {
   "cell_type": "code",
   "execution_count": 8,
   "metadata": {
    "collapsed": false
   },
   "outputs": [
    {
     "name": "stdout",
     "output_type": "stream",
     "text": [
      "#!/bin/bash\n",
      "\n",
      "# This script will test if we're in a leap year or not.\n",
      "\n",
      "year=`date +%Y`\n",
      "\n",
      "if [ $[$year % 400] -eq \"0\" ]\n",
      "then\n",
      "    echo \"This is a leap year. February has 29 days.\"\n",
      "elif [ $[$year % 4] -eq 0 ]\n",
      "then\n",
      "    if [ $[$year % 100] -ne 0 ]\n",
      "    then\n",
      "        echo \"This is a leap year, February has 29 days.\"\n",
      "    else\n",
      "        echo \"This is not a leap year. February has 28 days.\"\n",
      "    fi\n",
      "else\n",
      "    echo \"This is not a leap year. February has 28 days.\"\n",
      "fi\n"
     ]
    }
   ],
   "source": [
    "%%bash\n",
    "cat testLeap.sh"
   ]
  },
  {
   "cell_type": "code",
   "execution_count": 9,
   "metadata": {
    "collapsed": false
   },
   "outputs": [
    {
     "name": "stdout",
     "output_type": "stream",
     "text": [
      "This is not a leap year. February has 28 days.\n"
     ]
    }
   ],
   "source": [
    "%%bash\n",
    "bash testLeap.sh"
   ]
  }
 ],
 "metadata": {
  "kernelspec": {
   "display_name": "Python [default]",
   "language": "python",
   "name": "python2"
  },
  "language_info": {
   "codemirror_mode": {
    "name": "ipython",
    "version": 2
   },
   "file_extension": ".py",
   "mimetype": "text/x-python",
   "name": "python",
   "nbconvert_exporter": "python",
   "pygments_lexer": "ipython2",
   "version": "2.7.12"
  }
 },
 "nbformat": 4,
 "nbformat_minor": 1
}
