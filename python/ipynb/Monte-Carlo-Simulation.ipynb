{
 "cells": [
  {
   "cell_type": "markdown",
   "metadata": {
    "toc": "true"
   },
   "source": [
    "# Table of Contents\n",
    " <p><div class=\"lev1 toc-item\"><a href=\"#What-is-Monte-Carlo-simulation?\" data-toc-modified-id=\"What-is-Monte-Carlo-simulation?-1\"><span class=\"toc-item-num\">1&nbsp;&nbsp;</span>What is Monte Carlo simulation?</a></div><div class=\"lev1 toc-item\"><a href=\"#How-Monte-Carlo-simulation-works\" data-toc-modified-id=\"How-Monte-Carlo-simulation-works-2\"><span class=\"toc-item-num\">2&nbsp;&nbsp;</span>How Monte Carlo simulation works</a></div><div class=\"lev1 toc-item\"><a href=\"#Why-would-we-want-to-do-a-Monte-Carlo-Simulation?\" data-toc-modified-id=\"Why-would-we-want-to-do-a-Monte-Carlo-Simulation?-3\"><span class=\"toc-item-num\">3&nbsp;&nbsp;</span>Why would we want to do a Monte Carlo Simulation?</a></div><div class=\"lev1 toc-item\"><a href=\"#Examples\" data-toc-modified-id=\"Examples-4\"><span class=\"toc-item-num\">4&nbsp;&nbsp;</span>Examples</a></div><div class=\"lev2 toc-item\"><a href=\"#calculate-an-approximation-of-the-value-of-Pi\" data-toc-modified-id=\"calculate-an-approximation-of-the-value-of-Pi-4.1\"><span class=\"toc-item-num\">4.1&nbsp;&nbsp;</span>calculate an approximation of the value of Pi</a></div><div class=\"lev2 toc-item\"><a href=\"#mean-of-roll-fair,-six-sided-dice\" data-toc-modified-id=\"mean-of-roll-fair,-six-sided-dice-4.2\"><span class=\"toc-item-num\">4.2&nbsp;&nbsp;</span>mean of roll fair, six-sided dice</a></div>"
   ]
  },
  {
   "cell_type": "markdown",
   "metadata": {},
   "source": [
    "# What is Monte Carlo simulation?"
   ]
  },
  {
   "cell_type": "markdown",
   "metadata": {},
   "source": [
    "[Monte Carlo methods](https://en.wikipedia.org/wiki/Monte_Carlo_method) (or Monte Carlo experiments, or Monte Carlo simulation) are a broad class of computational algorithms that rely on repeated random sampling to obtain numerical results. Their essential idea is using randomness to solve problems that might be deterministic in principle. "
   ]
  },
  {
   "cell_type": "markdown",
   "metadata": {},
   "source": [
    "[Monte Carlo simulation](http://www.palisade.com/risk/monte_carlo_simulation.asp) is a computerized mathematical technique that allows people to account for risk in quantitative analysis and decision making. Monte Carlo simulation furnishes the decision-maker with a range of possible outcomes and the probabilities they will occur for any choice of action."
   ]
  },
  {
   "cell_type": "markdown",
   "metadata": {},
   "source": [
    "[Monte Carlo methods](http://mathworld.wolfram.com/MonteCarloMethod.html): Any method which solves a problem by generating suitable random numbers and observing that fraction of the numbers obeying some property or properties. The method is useful for obtaining numerical solutions to problems which are too complicated to solve analytically. It was named by S. Ulam, who in 1946 became the first mathematician to dignify this approach with a name, in honor of a relative having a propensity to gamble (Hoffman 1998, p. 239). Nicolas Metropolis also made important contributions to the development of such methods."
   ]
  },
  {
   "cell_type": "markdown",
   "metadata": {},
   "source": [
    "In general terms, the [Monte Carlo method](http://www.goldsim.com/Web/Introduction/Probabilistic/MonteCarlo/) (or Monte Carlo simulation) can be used to describe any technique that approximates solutions to quantitative problems through **statistical sampling**. As used here, 'Monte Carlo simulation' is more specifically used to describe a  method for propagating (translating) uncertainties in model inputs into uncertainties in model outputs (results). Hence, it is a type of simulation that explicitly and quantitatively represents uncertainties. Monte Carlo simulation relies on the process of explicitly representing uncertainties by **specifying inputs as probability distributions**.  If the inputs describing a system are uncertain, the prediction of future performance is necessarily uncertain. That is, the result of any analysis based on inputs represented by probability distributions is itself a probability distribution."
   ]
  },
  {
   "cell_type": "markdown",
   "metadata": {},
   "source": [
    "# How Monte Carlo simulation works"
   ]
  },
  {
   "cell_type": "markdown",
   "metadata": {},
   "source": [
    "Monte Carlo simulation performs risk analysis by **building models of possible results by substituting a range of values—a probability distribution—for any factor that has inherent uncertainty**. \n",
    "\n",
    "It then calculates results over and over, each time using a different set of random values from the probability functions. \n",
    "\n",
    "Monte Carlo simulation produces distributions of possible outcome values."
   ]
  },
  {
   "cell_type": "markdown",
   "metadata": {},
   "source": [
    "# Why would we want to do a Monte Carlo Simulation?"
   ]
  },
  {
   "cell_type": "markdown",
   "metadata": {},
   "source": [
    "There could be hundreds of reasons and thousands of examples, but they all reduce down to one thing: **predicting performance without conducting hundreds of experiments or building thousands of samples.** [[1]](http://blog.minitab.com/blog/understanding-statistics/monte-carlo-is-not-as-difficult-as-you-think)"
   ]
  },
  {
   "cell_type": "markdown",
   "metadata": {},
   "source": [
    "Whenever you need to make an estimate, forecast or decision where there is **significant uncertainty**, you'd be well advised to consider Monte Carlo simulation. [[2]](http://www.solver.com/monte-carlo-simulation-overview)"
   ]
  },
  {
   "cell_type": "markdown",
   "metadata": {},
   "source": [
    "If your success depends on making good forecasts or managing activities that involve uncertainty, you can benefit in a big way from learning to use Monte Carlo simulation.  By doing so, you can Avoid the Trap of the Flaw of Averages.  As Dr. Sam Savage warns, \"**Plans based on average assumptions will be wrong on average.**\" [[2]](http://www.solver.com/monte-carlo-simulation-overview) "
   ]
  },
  {
   "cell_type": "markdown",
   "metadata": {},
   "source": [
    "# Examples"
   ]
  },
  {
   "cell_type": "markdown",
   "metadata": {},
   "source": [
    "## calculate an approximation of the value of Pi"
   ]
  },
  {
   "cell_type": "markdown",
   "metadata": {},
   "source": [
    "Imagine a dart board inside of a square. If you throw darts, in a random fashion, at the square, counting the number of darts which land on the dart board versus the number which land on the square, you can approximate Pi with some simple arithmetic. $$\\pi = 4 * \\frac{hits}{throws}$$"
   ]
  },
  {
   "cell_type": "code",
   "execution_count": 1,
   "metadata": {
    "collapsed": false
   },
   "outputs": [],
   "source": [
    "from random import random\n",
    "\n",
    "def cal_appr_pi(n=1000):\n",
    "    hits = 0\n",
    "    for i in xrange(n):\n",
    "        if (random()**2 + random()**2)**(0.5) <= 1.0:\n",
    "            hits += 1\n",
    "    return 4.0 * hits / n"
   ]
  },
  {
   "cell_type": "code",
   "execution_count": 2,
   "metadata": {
    "collapsed": false
   },
   "outputs": [
    {
     "name": "stdout",
     "output_type": "stream",
     "text": [
      "3.6\n",
      "CPU times: user 308 µs, sys: 188 µs, total: 496 µs\n",
      "Wall time: 339 µs\n"
     ]
    }
   ],
   "source": [
    "%time print(cal_appr_pi(10))"
   ]
  },
  {
   "cell_type": "code",
   "execution_count": 3,
   "metadata": {
    "collapsed": false
   },
   "outputs": [
    {
     "name": "stdout",
     "output_type": "stream",
     "text": [
      "2.96\n",
      "CPU times: user 209 µs, sys: 55 µs, total: 264 µs\n",
      "Wall time: 223 µs\n"
     ]
    }
   ],
   "source": [
    "%time print(cal_appr_pi(100))"
   ]
  },
  {
   "cell_type": "code",
   "execution_count": 4,
   "metadata": {
    "collapsed": false
   },
   "outputs": [
    {
     "name": "stdout",
     "output_type": "stream",
     "text": [
      "3.136\n",
      "CPU times: user 1.35 ms, sys: 376 µs, total: 1.73 ms\n",
      "Wall time: 1.4 ms\n"
     ]
    }
   ],
   "source": [
    "%time print(cal_appr_pi())"
   ]
  },
  {
   "cell_type": "code",
   "execution_count": 5,
   "metadata": {
    "collapsed": false
   },
   "outputs": [
    {
     "name": "stdout",
     "output_type": "stream",
     "text": [
      "3.141628\n",
      "CPU times: user 885 ms, sys: 25.1 ms, total: 910 ms\n",
      "Wall time: 938 ms\n"
     ]
    }
   ],
   "source": [
    "%time print(cal_appr_pi(1000000))"
   ]
  },
  {
   "cell_type": "markdown",
   "metadata": {},
   "source": [
    "## mean of roll fair, six-sided dice"
   ]
  },
  {
   "cell_type": "code",
   "execution_count": 6,
   "metadata": {
    "collapsed": false
   },
   "outputs": [],
   "source": [
    "import numpy as np\n",
    "def mean_dice(n=1000):\n",
    "   return np.random.randint(1, 7, n).mean()"
   ]
  },
  {
   "cell_type": "code",
   "execution_count": 7,
   "metadata": {
    "collapsed": false
   },
   "outputs": [
    {
     "name": "stdout",
     "output_type": "stream",
     "text": [
      "3.5\n",
      "CPU times: user 323 µs, sys: 185 µs, total: 508 µs\n",
      "Wall time: 390 µs\n"
     ]
    }
   ],
   "source": [
    "%time print(mean_dice(10))\n",
    "# true value is 3.5"
   ]
  },
  {
   "cell_type": "code",
   "execution_count": 8,
   "metadata": {
    "collapsed": false
   },
   "outputs": [
    {
     "name": "stdout",
     "output_type": "stream",
     "text": [
      "3.42\n",
      "CPU times: user 241 µs, sys: 95 µs, total: 336 µs\n",
      "Wall time: 315 µs\n"
     ]
    }
   ],
   "source": [
    "%time print(mean_dice(100))"
   ]
  },
  {
   "cell_type": "code",
   "execution_count": 9,
   "metadata": {
    "collapsed": false
   },
   "outputs": [
    {
     "name": "stdout",
     "output_type": "stream",
     "text": [
      "3.484\n",
      "CPU times: user 339 µs, sys: 149 µs, total: 488 µs\n",
      "Wall time: 382 µs\n"
     ]
    }
   ],
   "source": [
    "%time print(mean_dice())"
   ]
  },
  {
   "cell_type": "code",
   "execution_count": 10,
   "metadata": {
    "collapsed": false
   },
   "outputs": [
    {
     "name": "stdout",
     "output_type": "stream",
     "text": [
      "3.500122\n",
      "CPU times: user 28.3 ms, sys: 6.68 ms, total: 35 ms\n",
      "Wall time: 35.1 ms\n"
     ]
    }
   ],
   "source": [
    "%time print(mean_dice(1000000))"
   ]
  }
 ],
 "metadata": {
  "kernelspec": {
   "display_name": "Python 2",
   "language": "python",
   "name": "python2"
  },
  "language_info": {
   "codemirror_mode": {
    "name": "ipython",
    "version": 2
   },
   "file_extension": ".py",
   "mimetype": "text/x-python",
   "name": "python",
   "nbconvert_exporter": "python",
   "pygments_lexer": "ipython2",
   "version": "2.7.13"
  },
  "nav_menu": {},
  "toc": {
   "navigate_menu": true,
   "number_sections": true,
   "sideBar": false,
   "threshold": 6,
   "toc_cell": true,
   "toc_section_display": "block",
   "toc_window_display": true
  }
 },
 "nbformat": 4,
 "nbformat_minor": 0
}
