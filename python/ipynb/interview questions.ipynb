{
 "cells": [
  {
   "cell_type": "markdown",
   "metadata": {
    "toc": "true"
   },
   "source": [
    "# Table of Contents\n",
    " <p><div class=\"lev1 toc-item\"><a href=\"#Q1-Expected-payoff-of-a-dice-game\" data-toc-modified-id=\"Q1-Expected-payoff-of-a-dice-game-1\"><span class=\"toc-item-num\">1&nbsp;&nbsp;</span>Q1 Expected payoff of a dice game</a></div>"
   ]
  },
  {
   "cell_type": "code",
   "execution_count": 1,
   "metadata": {
    "collapsed": true
   },
   "outputs": [],
   "source": [
    "import pandas as pd"
   ]
  },
  {
   "cell_type": "markdown",
   "metadata": {},
   "source": [
    "# Q1 Expected payoff of a dice game"
   ]
  },
  {
   "cell_type": "code",
   "execution_count": 2,
   "metadata": {
    "collapsed": false
   },
   "outputs": [],
   "source": [
    "def expected_payoff_dice_game(n=3):\n",
    "    '''\n",
    "    expected payoff of a dice game\n",
    "    You have the option to throw a die up to three times. \n",
    "    You will earn the face value of the die. \n",
    "    You have the option to stop after each throw and walk away with the money earned. \n",
    "    The earnings are not additive. \n",
    "    What is the expected payoff of this game?\n",
    "    \n",
    "    The expected payoff of each one roll is $3.50. \n",
    "    Work backwards.\n",
    "    If you get (1, 2, 3) on the second roll, you proceed to the third roll, \n",
    "    since the third roll has expected payoff of $3.50. \n",
    "    Otherwise, you rolled and would keep one of your (4,5,6). \n",
    "    Therefore, expected value of asking for second roll is (0.5*$3.50) + (0.5*$5) = $4.25.\n",
    "    Back to the first roll then, if you roll (5,6), keep it. This happens with a chance of 1/3. \n",
    "    In the other 2/3 time, proceed onto the second roll, which sees expected payoff of $4.25.\n",
    "    The overall expected payoff then is (1/3)($5.5) + (2/3)($4.25) = $14/3 = $4.67\n",
    "    '''\n",
    "    df = pd.DataFrame([1,2,3,4,5,6])\n",
    "    df.columns = ['x']\n",
    "    e = df.x.mean()\n",
    "    if n == 1:\n",
    "        return e\n",
    "    else:\n",
    "        for i in range(n-1):\n",
    "            f = df[df.x > e]\n",
    "            s = df[df.x < e]\n",
    "            e = (f.x.mean() * len(f) + e * len(s))/6.0\n",
    "        return e   "
   ]
  },
  {
   "cell_type": "code",
   "execution_count": 3,
   "metadata": {
    "collapsed": false
   },
   "outputs": [
    {
     "name": "stdout",
     "output_type": "stream",
     "text": [
      "expected payoff of 1 times dice game is 3.5000\n",
      "expected payoff of 2 times dice game is 4.2500\n",
      "expected payoff of 3 times dice game is 4.6667\n",
      "expected payoff of 4 times dice game is 4.9444\n",
      "expected payoff of 5 times dice game is 5.1296\n",
      "expected payoff of 6 times dice game is 5.2747\n",
      "expected payoff of 7 times dice game is 5.3956\n",
      "expected payoff of 8 times dice game is 5.4963\n",
      "expected payoff of 9 times dice game is 5.5803\n",
      "expected payoff of 10 times dice game is 5.6502\n"
     ]
    }
   ],
   "source": [
    "for i in range(10):\n",
    "    print(\"expected payoff of {} times dice game is {:.4f}\".format(i+1, expected_payoff_dice_game(i+1)))"
   ]
  },
  {
   "cell_type": "markdown",
   "metadata": {},
   "source": [
    "if n $\\gt$ 4 rerolls were allowed, you would only stop if you rolled a 6 on the first turn. Otherwise, you would reroll with an expected payoff of $v_{n-1}$, where $v_i$ is the expected value of a game with i rerolls. Your chance of rerolling is \\frac{5}{6} on the first turn. Therefore,\n",
    "\n",
    "$$v_{n} = \\frac{5}{6}v_{n-1} + 1, n > 4$$"
   ]
  }
 ],
 "metadata": {
  "kernelspec": {
   "display_name": "Python 2",
   "language": "python",
   "name": "python2"
  },
  "language_info": {
   "codemirror_mode": {
    "name": "ipython",
    "version": 2
   },
   "file_extension": ".py",
   "mimetype": "text/x-python",
   "name": "python",
   "nbconvert_exporter": "python",
   "pygments_lexer": "ipython2",
   "version": "2.7.12"
  },
  "nav_menu": {},
  "toc": {
   "navigate_menu": true,
   "number_sections": true,
   "sideBar": true,
   "threshold": "6",
   "toc_cell": true,
   "toc_section_display": "block",
   "toc_window_display": false
  }
 },
 "nbformat": 4,
 "nbformat_minor": 0
}
