{
 "cells": [
  {
   "cell_type": "markdown",
   "metadata": {
    "toc": "true"
   },
   "source": [
    "# Table of Contents\n",
    " <p><div class=\"lev1 toc-item\"><a href=\"#Q1-Expected-payoff-of-a-dice-game\" data-toc-modified-id=\"Q1-Expected-payoff-of-a-dice-game-1\"><span class=\"toc-item-num\">1&nbsp;&nbsp;</span>Q1 Expected payoff of a dice game</a></div><div class=\"lev1 toc-item\"><a href=\"#Q2-The-Scok-Drawer\" data-toc-modified-id=\"Q2-The-Scok-Drawer-2\"><span class=\"toc-item-num\">2&nbsp;&nbsp;</span>Q2 The Scok Drawer</a></div><div class=\"lev1 toc-item\"><a href=\"#Q3-Successive-Wins\" data-toc-modified-id=\"Q3-Successive-Wins-3\"><span class=\"toc-item-num\">3&nbsp;&nbsp;</span>Q3 Successive Wins</a></div><div class=\"lev1 toc-item\"><a href=\"#Q4.-The-Flippant-Juror\" data-toc-modified-id=\"Q4.-The-Flippant-Juror-4\"><span class=\"toc-item-num\">4&nbsp;&nbsp;</span>Q4. The Flippant Juror</a></div><div class=\"lev1 toc-item\"><a href=\"#Q5.-Trials-until-Fist-Success\" data-toc-modified-id=\"Q5.-Trials-until-Fist-Success-5\"><span class=\"toc-item-num\">5&nbsp;&nbsp;</span>Q5. Trials until Fist Success</a></div><div class=\"lev1 toc-item\"><a href=\"#Q6.-Coin-in-Square\" data-toc-modified-id=\"Q6.-Coin-in-Square-6\"><span class=\"toc-item-num\">6&nbsp;&nbsp;</span>Q6. Coin in Square</a></div><div class=\"lev1 toc-item\"><a href=\"#Q7.-Collecting-Coupons\" data-toc-modified-id=\"Q7.-Collecting-Coupons-7\"><span class=\"toc-item-num\">7&nbsp;&nbsp;</span>Q7. Collecting Coupons</a></div><div class=\"lev1 toc-item\"><a href=\"#Q8.-The-Theater-Row\" data-toc-modified-id=\"Q8.-The-Theater-Row-8\"><span class=\"toc-item-num\">8&nbsp;&nbsp;</span>Q8. The Theater Row</a></div><div class=\"lev1 toc-item\"><a href=\"#Q9.-The-Three-Cornered-Duel\" data-toc-modified-id=\"Q9.-The-Three-Cornered-Duel-9\"><span class=\"toc-item-num\">9&nbsp;&nbsp;</span>Q9. The Three-Cornered Duel</a></div>"
   ]
  },
  {
   "cell_type": "code",
   "execution_count": 1,
   "metadata": {
    "collapsed": true
   },
   "outputs": [],
   "source": [
    "import pandas as pd"
   ]
  },
  {
   "cell_type": "markdown",
   "metadata": {},
   "source": [
    "# Q1 Expected payoff of a dice game"
   ]
  },
  {
   "cell_type": "code",
   "execution_count": 2,
   "metadata": {
    "collapsed": false
   },
   "outputs": [],
   "source": [
    "def expected_payoff_dice_game(n=3):\n",
    "    '''\n",
    "    expected payoff of a dice game\n",
    "    You have the option to throw a die up to three times. \n",
    "    You will earn the face value of the die. \n",
    "    You have the option to stop after each throw and walk away with the money earned. \n",
    "    The earnings are not additive. \n",
    "    What is the expected payoff of this game?\n",
    "    \n",
    "    The expected payoff of each one roll is $3.50. \n",
    "    Work backwards.\n",
    "    If you get (1, 2, 3) on the second roll, you proceed to the third roll, \n",
    "    since the third roll has expected payoff of $3.50. \n",
    "    Otherwise, you rolled and would keep one of your (4,5,6). \n",
    "    Therefore, expected value of asking for second roll is (0.5*$3.50) + (0.5*$5) = $4.25.\n",
    "    Back to the first roll then, if you roll (5,6), keep it. This happens with a chance of 1/3. \n",
    "    In the other 2/3 time, proceed onto the second roll, which sees expected payoff of $4.25.\n",
    "    The overall expected payoff then is (1/3)($5.5) + (2/3)($4.25) = $14/3 = $4.67\n",
    "    \n",
    "    n: times to throw a die\n",
    "    '''\n",
    "    df = pd.DataFrame([1,2,3,4,5,6])\n",
    "    df.columns = ['x']\n",
    "    e = df.x.mean()\n",
    "    if n == 1:\n",
    "        return e\n",
    "    else:\n",
    "        for i in range(n-1):\n",
    "            f = df[df.x > e]\n",
    "            s = df[df.x < e]\n",
    "            e = (f.x.mean() * len(f) + e * len(s))/6.0\n",
    "        return e   "
   ]
  },
  {
   "cell_type": "code",
   "execution_count": 3,
   "metadata": {
    "collapsed": false
   },
   "outputs": [
    {
     "name": "stdout",
     "output_type": "stream",
     "text": [
      "expected payoff of 1 times dice game is 3.5000\n",
      "expected payoff of 2 times dice game is 4.2500\n",
      "expected payoff of 3 times dice game is 4.6667\n",
      "expected payoff of 4 times dice game is 4.9444\n",
      "expected payoff of 5 times dice game is 5.1296\n",
      "expected payoff of 6 times dice game is 5.2747\n",
      "expected payoff of 7 times dice game is 5.3956\n",
      "expected payoff of 8 times dice game is 5.4963\n",
      "expected payoff of 9 times dice game is 5.5803\n",
      "expected payoff of 10 times dice game is 5.6502\n"
     ]
    }
   ],
   "source": [
    "for i in range(10):\n",
    "    print(\"expected payoff of {} times dice game is {:.4f}\".format(i+1, expected_payoff_dice_game(i+1)))"
   ]
  },
  {
   "cell_type": "markdown",
   "metadata": {},
   "source": [
    "if n $\\gt$ 4 rerolls were allowed, you would only stop if you rolled a 6 on the first turn. Otherwise, you would reroll with an expected payoff of $v_{n-1}$, where $v_i$ is the expected value of a game with i rerolls. Your chance of rerolling is \\frac{5}{6} on the first turn. Therefore,\n",
    "\n",
    "$$v_{n} = \\frac{5}{6}v_{n-1} + 1, n > 4$$"
   ]
  },
  {
   "cell_type": "markdown",
   "metadata": {},
   "source": [
    "# Q2 The Scok Drawer"
   ]
  },
  {
   "cell_type": "code",
   "execution_count": 4,
   "metadata": {
    "collapsed": true
   },
   "outputs": [],
   "source": [
    "def sock_drawer(n=1):\n",
    "    '''\n",
    "    A drawer contains red socks and black socks.\n",
    "    when two socks are drawn at random, the probability that both are red is 0.5\n",
    "    How small can the number of socks in the drawer be?\n",
    "    How small if the number of black socks is even?\n",
    "    \n",
    "    n: number of combinations of red and black socks, from small to large\n",
    "    '''\n",
    "    r = 1\n",
    "    b = 1\n",
    "    m = 0\n",
    "    print(\"red\\tblack\")\n",
    "    while 1:\n",
    "        p = 1.0 * r / (r + b) * (r -1 ) / (r + b -1)\n",
    "        if p == 0.5:\n",
    "            print(\"{}\\t{}\".format(r,b))\n",
    "            m += 1\n",
    "            r += 1\n",
    "            b += 1\n",
    "        elif p > 0.5:\n",
    "            b += 1\n",
    "        elif p < 0.5:\n",
    "            r += 1\n",
    "        if m == n:\n",
    "            break  "
   ]
  },
  {
   "cell_type": "code",
   "execution_count": 5,
   "metadata": {
    "collapsed": false
   },
   "outputs": [
    {
     "name": "stdout",
     "output_type": "stream",
     "text": [
      "red\tblack\n",
      "3\t1\n",
      "15\t6\n",
      "85\t35\n",
      "493\t204\n",
      "16731\t6930\n"
     ]
    }
   ],
   "source": [
    "sock_drawer(5) # first five combinations"
   ]
  },
  {
   "cell_type": "markdown",
   "metadata": {},
   "source": [
    "# Q3 Successive Wins"
   ]
  },
  {
   "cell_type": "markdown",
   "metadata": {},
   "source": [
    "To encourage Elmer's promissing tennis career, his father offers him a prize if he wins (at least) two tennis sets in a row in a three-set series to be played with his father and the club champion alternately: father-champion-father or champion-father-chamption, according to Elmer's choice. The champion is a better player than Elmer's father. Which series should Elmer choose?"
   ]
  },
  {
   "cell_type": "markdown",
   "metadata": {},
   "source": [
    "A: let C stand for champion, F for father, W and L for win and loss by Elmer. Let f and c is the probability of Elmer's winning any set from his father and the chamption, respectively. Then"
   ]
  },
  {
   "cell_type": "markdown",
   "metadata": {},
   "source": [
    "father-champion-father\n",
    "\n",
    "| F | C | F | probability |\n",
    "|---|---|---|-------------|\n",
    "| W | W | W | fcf         |\n",
    "| W | W | L | fc(1-f)     |\n",
    "| L | W | W | (1-f)cf     |\n",
    "|   |   |   | fc(2-f)     |"
   ]
  },
  {
   "cell_type": "markdown",
   "metadata": {},
   "source": [
    "champion-father-chamption\n",
    "\n",
    "| C | F | C | probability |\n",
    "|---|---|---|-------------|\n",
    "| W | W | W | cfc         |\n",
    "| W | W | L | cf(1-c)     |\n",
    "| L | W | W | (1-c)cf     |\n",
    "|   |   |   | fc(2-c)     |"
   ]
  },
  {
   "cell_type": "markdown",
   "metadata": {},
   "source": [
    "since f > c, then fc(2-f) < fc(2-c). Choose **champion-father-chamption**."
   ]
  },
  {
   "cell_type": "markdown",
   "metadata": {},
   "source": [
    "# Q4. The Flippant Juror"
   ]
  },
  {
   "cell_type": "markdown",
   "metadata": {},
   "source": [
    "A three-man jury has two members each of whom independently has probability $p$ of making the correct decision and a third member who flips a coin for each decision. A one-man jury has probability $p$ of making the correct decision. Which jury has the better probability of making the correct decision?"
   ]
  },
  {
   "cell_type": "markdown",
   "metadata": {},
   "source": [
    "Three-man jury:   \n",
    "\n",
    "1) two members have same probability made the right decision, $p^2$   \n",
    "2) only one of the two members have same probability made the right decision, $2p(1-p)\\frac{1}{2}$   \n",
    "\n",
    "total: $p^2 + 2p(1-p)\\frac{1}{2} = p$"
   ]
  },
  {
   "cell_type": "markdown",
   "metadata": {},
   "source": [
    "one-man jury:\n",
    "    \n",
    "total: p"
   ]
  },
  {
   "cell_type": "markdown",
   "metadata": {},
   "source": [
    "# Q5. Trials until Fist Success"
   ]
  },
  {
   "cell_type": "markdown",
   "metadata": {},
   "source": [
    "On average, how many times must a die be thrown until one gets a 6?"
   ]
  },
  {
   "cell_type": "markdown",
   "metadata": {},
   "source": [
    "Ans:     \n",
    "\n",
    "let $p$ be the probability of a 6 on a given trial. let $m$ be the mean number of trials.     \n",
    "    \n",
    "when the first toss is a failure, the mean required number of trials is $m + 1$;     \n",
    "when the first toss is a success, the mean required number of trials is 1;    \n",
    "then       \n",
    "$$m = p + (1-p)(m+1)$$   \n",
    "and $m = \\frac{1}{p}$    \n",
    "$p=\\frac{1}{6}$    \n",
    "$m=6$    "
   ]
  },
  {
   "cell_type": "markdown",
   "metadata": {
    "collapsed": true
   },
   "source": [
    "# Q6. Coin in Square"
   ]
  },
  {
   "cell_type": "markdown",
   "metadata": {},
   "source": [
    "A player tosses a penny onto the surface of a table ruled in 1-inch squares. If the penny ($\\frac{3}{4}$ inch in diameter) lands on the table, what is his chance to win?"
   ]
  },
  {
   "cell_type": "markdown",
   "metadata": {},
   "source": [
    "Ans:   \n",
    "\n",
    "Since the coin is $\\frac{3}{8}$ inch in radius, its center must not land within $\\frac{3}{8}$ inch of any edge if the player is to win. This restriction generates a square of side $\\frac{1}{4}$ ($1 - \\frac{3}{8} - \\frac{3}{8}$) inch within which the center of the coin must lie for the coin to be in the square. The probabilitity of winning is $(\\frac{1}{4})^2=\\frac{1}{16}$."
   ]
  },
  {
   "cell_type": "markdown",
   "metadata": {},
   "source": [
    "# Q7. Collecting Coupons"
   ]
  },
  {
   "cell_type": "markdown",
   "metadata": {
    "collapsed": true
   },
   "source": [
    "Coupons in cereal boxes are numbered 1 to 5, and a set of one of each is required for a prize. With one coupon per box, how many boxes on the average are required to make a complete set?"
   ]
  },
  {
   "cell_type": "markdown",
   "metadata": {
    "collapsed": true
   },
   "source": [
    "Ans:\n",
    "\n",
    "We get one of the number in the first box. Now the chance of getting a new number from the next box is $\\frac{4}{5}$, Using the result of Q5, the second new number requires $\\frac{1}{\\frac{4}{5}} = \\frac{5}{4}$ boxes. The third new number requires an additional $\\frac{5}{3}$, the fourth $\\frac{5}{2}$, the fifth $\\frac{5}{1}$. Thus the average number of boxes required is:\n",
    "$$ 1 + \\frac{5}{4} + \\frac{5}{3} + \\frac{5}{2} + \\frac{5}{1} = 11.42 $$"
   ]
  },
  {
   "cell_type": "markdown",
   "metadata": {
    "collapsed": true
   },
   "source": [
    "# Q8. The Theater Row"
   ]
  },
  {
   "cell_type": "markdown",
   "metadata": {
    "collapsed": true
   },
   "source": [
    "Eight eligible bachelors and seven beautiful models happen randomly to have purchased single seats in the same 15-seat row of a theater. On the average, how many pairs of adjacent seats are ticketed for marriageable couples?"
   ]
  },
  {
   "cell_type": "markdown",
   "metadata": {},
   "source": [
    "Ans:\n",
    "    \n",
    "Look at the first two positions, if they are unlike, the probability is $\\frac{8}{15}\\frac{7}{14} + \\frac{7}{15}\\frac{8}{14}=\\frac{8}{15}$. This same calculation applies to any adjacent pair. To get the average number of marriageable adjacent pairs, we multiply by the number of adjacent pairs 14. $14 * \\frac{8}{15} = \\frac{112}{15}$\n",
    "\n",
    "more generally, with b elements of one kind and m of another, randomly arranged in a line, the expected number of unlike adjacent elements is\n",
    "$$(b+m-1)[\\frac{b}{b+m}\\frac{m}{b+m-1} + \\frac{m}{b+m}\\frac{b}{b+m-1}] = \\frac{2bm}{b+m}$$"
   ]
  },
  {
   "cell_type": "markdown",
   "metadata": {},
   "source": [
    "# Q9. The Three-Cornered Duel"
   ]
  },
  {
   "cell_type": "code",
   "execution_count": null,
   "metadata": {
    "collapsed": true
   },
   "outputs": [],
   "source": []
  },
  {
   "cell_type": "code",
   "execution_count": null,
   "metadata": {
    "collapsed": true
   },
   "outputs": [],
   "source": []
  },
  {
   "cell_type": "code",
   "execution_count": null,
   "metadata": {
    "collapsed": true
   },
   "outputs": [],
   "source": []
  },
  {
   "cell_type": "code",
   "execution_count": null,
   "metadata": {
    "collapsed": true
   },
   "outputs": [],
   "source": []
  },
  {
   "cell_type": "code",
   "execution_count": null,
   "metadata": {
    "collapsed": true
   },
   "outputs": [],
   "source": []
  },
  {
   "cell_type": "code",
   "execution_count": null,
   "metadata": {
    "collapsed": true
   },
   "outputs": [],
   "source": []
  },
  {
   "cell_type": "code",
   "execution_count": null,
   "metadata": {
    "collapsed": true
   },
   "outputs": [],
   "source": []
  },
  {
   "cell_type": "code",
   "execution_count": null,
   "metadata": {
    "collapsed": true
   },
   "outputs": [],
   "source": []
  },
  {
   "cell_type": "code",
   "execution_count": null,
   "metadata": {
    "collapsed": true
   },
   "outputs": [],
   "source": []
  },
  {
   "cell_type": "code",
   "execution_count": null,
   "metadata": {
    "collapsed": true
   },
   "outputs": [],
   "source": []
  },
  {
   "cell_type": "code",
   "execution_count": null,
   "metadata": {
    "collapsed": true
   },
   "outputs": [],
   "source": []
  },
  {
   "cell_type": "code",
   "execution_count": null,
   "metadata": {
    "collapsed": true
   },
   "outputs": [],
   "source": []
  },
  {
   "cell_type": "code",
   "execution_count": null,
   "metadata": {
    "collapsed": true
   },
   "outputs": [],
   "source": []
  },
  {
   "cell_type": "code",
   "execution_count": null,
   "metadata": {
    "collapsed": true
   },
   "outputs": [],
   "source": []
  },
  {
   "cell_type": "code",
   "execution_count": null,
   "metadata": {
    "collapsed": true
   },
   "outputs": [],
   "source": []
  }
 ],
 "metadata": {
  "kernelspec": {
   "display_name": "Python 2",
   "language": "python",
   "name": "python2"
  },
  "language_info": {
   "codemirror_mode": {
    "name": "ipython",
    "version": 2
   },
   "file_extension": ".py",
   "mimetype": "text/x-python",
   "name": "python",
   "nbconvert_exporter": "python",
   "pygments_lexer": "ipython2",
   "version": "2.7.12"
  },
  "nav_menu": {},
  "toc": {
   "navigate_menu": true,
   "number_sections": true,
   "sideBar": true,
   "threshold": "6",
   "toc_cell": true,
   "toc_section_display": "block",
   "toc_window_display": false
  }
 },
 "nbformat": 4,
 "nbformat_minor": 0
}
