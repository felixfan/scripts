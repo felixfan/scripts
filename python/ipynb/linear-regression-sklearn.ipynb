{
 "cells": [
  {
   "cell_type": "markdown",
   "metadata": {
    "toc": "true"
   },
   "source": [
    "# Table of Contents\n",
    " <p><div class=\"lev1 toc-item\"><a href=\"#一元线性回归\" data-toc-modified-id=\"一元线性回归-1\"><span class=\"toc-item-num\">1&nbsp;&nbsp;</span>一元线性回归</a></div><div class=\"lev2 toc-item\"><a href=\"#披萨价格与直径的关系\" data-toc-modified-id=\"披萨价格与直径的关系-1.1\"><span class=\"toc-item-num\">1.1&nbsp;&nbsp;</span>披萨价格与直径的关系</a></div><div class=\"lev2 toc-item\"><a href=\"#Linear-regression-model\" data-toc-modified-id=\"Linear-regression-model-1.2\"><span class=\"toc-item-num\">1.2&nbsp;&nbsp;</span>Linear regression model</a></div><div class=\"lev2 toc-item\"><a href=\"#prediction\" data-toc-modified-id=\"prediction-1.3\"><span class=\"toc-item-num\">1.3&nbsp;&nbsp;</span>prediction</a></div><div class=\"lev2 toc-item\"><a href=\"#Regression-line\" data-toc-modified-id=\"Regression-line-1.4\"><span class=\"toc-item-num\">1.4&nbsp;&nbsp;</span>Regression line</a></div><div class=\"lev2 toc-item\"><a href=\"#模型的残差\" data-toc-modified-id=\"模型的残差-1.5\"><span class=\"toc-item-num\">1.5&nbsp;&nbsp;</span>模型的残差</a></div><div class=\"lev2 toc-item\"><a href=\"#参数估计\" data-toc-modified-id=\"参数估计-1.6\"><span class=\"toc-item-num\">1.6&nbsp;&nbsp;</span>参数估计</a></div><div class=\"lev2 toc-item\"><a href=\"#模型评估\" data-toc-modified-id=\"模型评估-1.7\"><span class=\"toc-item-num\">1.7&nbsp;&nbsp;</span>模型评估</a></div><div class=\"lev1 toc-item\"><a href=\"#多元线性回归\" data-toc-modified-id=\"多元线性回归-2\"><span class=\"toc-item-num\">2&nbsp;&nbsp;</span>多元线性回归</a></div><div class=\"lev1 toc-item\"><a href=\"#多项式回归\" data-toc-modified-id=\"多项式回归-3\"><span class=\"toc-item-num\">3&nbsp;&nbsp;</span>多项式回归</a></div><div class=\"lev2 toc-item\"><a href=\"#二次回归（Quadratic-Regression）\" data-toc-modified-id=\"二次回归（Quadratic-Regression）-3.1\"><span class=\"toc-item-num\">3.1&nbsp;&nbsp;</span>二次回归（Quadratic Regression）</a></div><div class=\"lev2 toc-item\"><a href=\"#三次回归\" data-toc-modified-id=\"三次回归-3.2\"><span class=\"toc-item-num\">3.2&nbsp;&nbsp;</span>三次回归</a></div><div class=\"lev1 toc-item\"><a href=\"#Plots-(4-models)\" data-toc-modified-id=\"Plots-(4-models)-4\"><span class=\"toc-item-num\">4&nbsp;&nbsp;</span>Plots (4 models)</a></div>"
   ]
  },
  {
   "cell_type": "code",
   "execution_count": 1,
   "metadata": {
    "collapsed": true
   },
   "outputs": [],
   "source": [
    "from sklearn.linear_model import LinearRegression\n",
    "from sklearn.preprocessing import PolynomialFeatures\n",
    "import matplotlib.pyplot as plt\n",
    "import numpy as np\n",
    "\n",
    "%matplotlib inline"
   ]
  },
  {
   "cell_type": "markdown",
   "metadata": {},
   "source": [
    "# 一元线性回归"
   ]
  },
  {
   "cell_type": "markdown",
   "metadata": {},
   "source": [
    "## 披萨价格与直径的关系"
   ]
  },
  {
   "cell_type": "code",
   "execution_count": 2,
   "metadata": {
    "collapsed": true
   },
   "outputs": [],
   "source": [
    "X = [[6], [8], [10], [14], [18]] # 直径\n",
    "y = [[7], [9], [13], [17.5], [18]] # 价格\n",
    "x_test = np.linspace(0,26,100) # 直径"
   ]
  },
  {
   "cell_type": "code",
   "execution_count": 3,
   "metadata": {
    "collapsed": false
   },
   "outputs": [
    {
     "data": {
      "image/png": "[encoded data removed]",
      "text/plain": [
       "<matplotlib.figure.Figure at 0x10c5c2610>"
      ]
     },
     "metadata": {},
     "output_type": "display_data"
    }
   ],
   "source": [
    "plt.figure()\n",
    "plt.title('price vs. diameter')\n",
    "plt.xlabel('diameter(inch)')\n",
    "plt.ylabel('price(us$)')\n",
    "plt.axis([0,25,0,25])\n",
    "plt.grid(True)\n",
    "plt.plot(X, y, 'k.');"
   ]
  },
  {
   "cell_type": "markdown",
   "metadata": {},
   "source": [
    "## Linear regression model"
   ]
  },
  {
   "cell_type": "code",
   "execution_count": 4,
   "metadata": {
    "collapsed": false
   },
   "outputs": [
    {
     "name": "stderr",
     "output_type": "stream",
     "text": [
      "/Users/alicefelix/anaconda/lib/python2.7/site-packages/scipy/linalg/basic.py:884: RuntimeWarning: internal gelsd driver lwork query error, required iwork dimension not returned. This is likely the result of LAPACK bug 0038, fixed in LAPACK 3.2.2 (released July 21, 2010). Falling back to 'gelss' driver.\n",
      "  warnings.warn(mesg, RuntimeWarning)\n"
     ]
    },
    {
     "data": {
      "text/plain": [
       "LinearRegression(copy_X=True, fit_intercept=True, n_jobs=1, normalize=False)"
      ]
     },
     "execution_count": 4,
     "metadata": {},
     "output_type": "execute_result"
    }
   ],
   "source": [
    "model = LinearRegression()\n",
    "model.fit(X, y)"
   ]
  },
  {
   "cell_type": "markdown",
   "metadata": {},
   "source": [
    "## prediction"
   ]
  },
  {
   "cell_type": "code",
   "execution_count": 5,
   "metadata": {
    "collapsed": false
   },
   "outputs": [
    {
     "data": {
      "text/plain": [
       "array([[ 13.68103448]])"
      ]
     },
     "execution_count": 5,
     "metadata": {},
     "output_type": "execute_result"
    }
   ],
   "source": [
    "model.predict(12)"
   ]
  },
  {
   "cell_type": "code",
   "execution_count": 6,
   "metadata": {
    "collapsed": false
   },
   "outputs": [
    {
     "name": "stdout",
     "output_type": "stream",
     "text": [
      "预测一张12寸的披萨价格为: 13.68$\n"
     ]
    }
   ],
   "source": [
    "print('预测一张12寸的披萨价格为: {:.2f}$'.format(model.predict(12)[0][0]))"
   ]
  },
  {
   "cell_type": "markdown",
   "metadata": {},
   "source": [
    "## Regression line"
   ]
  },
  {
   "cell_type": "code",
   "execution_count": 7,
   "metadata": {
    "collapsed": false
   },
   "outputs": [
    {
     "data": {
      "image/png": "[encoded data removed]",
      "text/plain": [
       "<matplotlib.figure.Figure at 0x10f131d10>"
      ]
     },
     "metadata": {},
     "output_type": "display_data"
    }
   ],
   "source": [
    "plt.figure()\n",
    "plt.axis([0,30,0,30])\n",
    "plt.grid(True)\n",
    "plt.plot(X, y, 'k.')\n",
    "yy = model.predict(x_test.reshape(x_test.shape[0], 1))\n",
    "plt.plot(x_test, yy, 'g-');"
   ]
  },
  {
   "cell_type": "markdown",
   "metadata": {},
   "source": [
    "## 模型的残差"
   ]
  },
  {
   "cell_type": "code",
   "execution_count": 8,
   "metadata": {
    "collapsed": false
   },
   "outputs": [
    {
     "data": {
      "image/png": "[encoded data removed]",
      "text/plain": [
       "<matplotlib.figure.Figure at 0x10f1684d0>"
      ]
     },
     "metadata": {},
     "output_type": "display_data"
    }
   ],
   "source": [
    "plt.figure()\n",
    "plt.axis([0,30,0,30])\n",
    "plt.grid(True)\n",
    "plt.plot(X, y, 'k.')\n",
    "plt.plot(x_test, yy, 'g-')\n",
    "yr = model.predict(X) # 预测值\n",
    "for idx, x in enumerate(X):\n",
    "    plt.plot([x,x], [y[idx], yr[idx]], 'r-')\n"
   ]
  },
  {
   "cell_type": "markdown",
   "metadata": {},
   "source": [
    "## 参数估计"
   ]
  },
  {
   "cell_type": "markdown",
   "metadata": {},
   "source": [
    "通过残差的平方之和最小化实现最佳拟合"
   ]
  },
  {
   "cell_type": "markdown",
   "metadata": {},
   "source": [
    "$$\\beta = \\frac{cov(x,y)}{var(x)}$$   \n",
    "$$\\alpha = \\bar{y} - \\beta \\bar{x}$$       "
   ]
  },
  {
   "cell_type": "code",
   "execution_count": 9,
   "metadata": {
    "collapsed": false
   },
   "outputs": [],
   "source": [
    "xl = [6,8,10,14,18] # x as list\n",
    "yl = [7,9,13,17.5,18] # y as list\n",
    "yp = np.asarray([item for sublist in yr for item in sublist]) # predicted y\n",
    "cov = np.cov(xl, yl)\n",
    "# The 2x2 array returned by np.cov(a,b) has elements equal to\n",
    "# cov(a,a)  cov(a,b)\n",
    "# cov(a,b)  cov(b,b)"
   ]
  },
  {
   "cell_type": "code",
   "execution_count": 10,
   "metadata": {
    "collapsed": false
   },
   "outputs": [
    {
     "name": "stdout",
     "output_type": "stream",
     "text": [
      "alpha = 1.97\n",
      "beta = 0.98\n"
     ]
    }
   ],
   "source": [
    "var_x = cov[0, 0]\n",
    "cov_xy = cov[0, 1]\n",
    "beta = cov_xy / var_x\n",
    "alpha = np.mean(yl) - beta * np.mean(xl)\n",
    "print(\"alpha = {:.2f}\\nbeta = {:.2f}\".format(alpha, beta))"
   ]
  },
  {
   "cell_type": "markdown",
   "metadata": {},
   "source": [
    "## 模型评估"
   ]
  },
  {
   "cell_type": "markdown",
   "metadata": {},
   "source": [
    "coefficient of determination R^2 of the prediction. R方也叫确定系数，表示模型对现实数据拟合的程度"
   ]
  },
  {
   "cell_type": "code",
   "execution_count": 11,
   "metadata": {
    "collapsed": false
   },
   "outputs": [
    {
     "data": {
      "text/plain": [
       "0.91000159642401024"
      ]
     },
     "execution_count": 11,
     "metadata": {},
     "output_type": "execute_result"
    }
   ],
   "source": [
    "ss_tot = np.sum(np.power(yl - np.mean(yl), 2))\n",
    "ss_res = np.sum(np.power(yl - yp, 2))\n",
    "r2 = 1 - ss_res / ss_tot\n",
    "r2"
   ]
  },
  {
   "cell_type": "code",
   "execution_count": 12,
   "metadata": {
    "collapsed": false
   },
   "outputs": [
    {
     "data": {
      "text/plain": [
       "0.91000159642401024"
      ]
     },
     "execution_count": 12,
     "metadata": {},
     "output_type": "execute_result"
    }
   ],
   "source": [
    "model.score(X, y) \n",
    "# 说明测试集里面91%的价格都可以通过模型解释"
   ]
  },
  {
   "cell_type": "markdown",
   "metadata": {
    "collapsed": true
   },
   "source": [
    "# 多元线性回归"
   ]
  },
  {
   "cell_type": "markdown",
   "metadata": {},
   "source": [
    "匹萨的价格其实还会受到其他因素的影响。比如，匹萨的价格还与上面的辅料有关。   \n",
    "\n",
    "$$y = \\alpha + \\beta_{1} x_{1} + \\beta_{2} x_{2}$$   \n"
   ]
  },
  {
   "cell_type": "code",
   "execution_count": 13,
   "metadata": {
    "collapsed": true
   },
   "outputs": [],
   "source": [
    "ds = [6, 8, 10, 14, 18] # 直径\n",
    "cs = [2, 1, 0, 2, 0] # 辅料种类 0， 1， 2\n",
    "ps = [7, 9, 13, 17.5, 18] # 价格\n",
    "y2 = []\n",
    "for p in ps:\n",
    "    y2.append([p])\n",
    "X2 = []\n",
    "for d, c in zip(ds, cs):\n",
    "    X2.append([d,c])\n",
    "x2_test = []\n",
    "x2_test_d = [1, 5, 10, 15, 20, 25]\n",
    "x2_test_c = [0, 2, 1, 1, 0, 2]\n",
    "for d, c in zip(x2_test_d, x2_test_c):\n",
    "    x2_test.append([d,c])"
   ]
  },
  {
   "cell_type": "code",
   "execution_count": 14,
   "metadata": {
    "collapsed": false
   },
   "outputs": [],
   "source": [
    "model2 = LinearRegression()\n",
    "model2.fit(X2, y2)\n",
    "yy2 = model2.predict(x2_test)"
   ]
  },
  {
   "cell_type": "code",
   "execution_count": 15,
   "metadata": {
    "collapsed": false
   },
   "outputs": [
    {
     "data": {
      "text/plain": [
       "0.91533779149519889"
      ]
     },
     "execution_count": 15,
     "metadata": {},
     "output_type": "execute_result"
    }
   ],
   "source": [
    "model2.score(X2, y2)"
   ]
  },
  {
   "cell_type": "markdown",
   "metadata": {},
   "source": [
    "# 多项式回归"
   ]
  },
  {
   "cell_type": "markdown",
   "metadata": {},
   "source": [
    "多项式回归，一种特殊的多元线性回归方法，增加了指数项（ 的次数大于1）。现实世界中的曲线关系都是通过增加多项式实现的，其实现方式和多元线性回归类似"
   ]
  },
  {
   "cell_type": "markdown",
   "metadata": {},
   "source": [
    "## 二次回归（Quadratic Regression）"
   ]
  },
  {
   "cell_type": "markdown",
   "metadata": {},
   "source": [
    "即回归方程有个二次项，公式如下：\n",
    "\n",
    "$$y = \\alpha + \\beta_{1} x + \\beta_{2} x^2$$   \n",
    "\n",
    "只用一个解释变量，但是模型有三项，通过第三项（二次项）来实现曲线关系。"
   ]
  },
  {
   "cell_type": "code",
   "execution_count": 16,
   "metadata": {
    "collapsed": false
   },
   "outputs": [],
   "source": [
    "quadratic_featurizer = PolynomialFeatures(degree = 2)\n",
    "X_quadratic = quadratic_featurizer.fit_transform(X)\n",
    "x_test_quadratic = quadratic_featurizer.transform(x_test.reshape(x_test.shape[0], 1))\n",
    "reg_quadratic = LinearRegression()\n",
    "reg_quadratic.fit(X_quadratic, y)\n",
    "yy_quadratic = reg_quadratic.predict(x_test_quadratic)"
   ]
  },
  {
   "cell_type": "markdown",
   "metadata": {},
   "source": [
    "## 三次回归"
   ]
  },
  {
   "cell_type": "markdown",
   "metadata": {},
   "source": [
    "$$y = \\alpha + \\beta_{1} x + \\beta_{2} x^2 ＋ \\beta_{3} x^3$$ "
   ]
  },
  {
   "cell_type": "code",
   "execution_count": 17,
   "metadata": {
    "collapsed": false
   },
   "outputs": [],
   "source": [
    "cubic_featurizer = PolynomialFeatures(degree = 3)\n",
    "X_cubic = cubic_featurizer.fit_transform(X)\n",
    "x_test_cubic = cubic_featurizer.transform(x_test.reshape(x_test.shape[0], 1))\n",
    "reg_cubic = LinearRegression()\n",
    "reg_cubic.fit(X_cubic, y)\n",
    "yy_cubic = reg_cubic.predict(x_test_cubic)"
   ]
  },
  {
   "cell_type": "markdown",
   "metadata": {},
   "source": [
    "# Plots (4 models)"
   ]
  },
  {
   "cell_type": "code",
   "execution_count": 18,
   "metadata": {
    "collapsed": false
   },
   "outputs": [
    {
     "name": "stdout",
     "output_type": "stream",
     "text": [
      "一元回归R-squared = 0.91\n",
      "二次回归R-squared = 0.98\n",
      "三次回归R-squared = 0.99\n",
      "多元回归R-squared = 0.92\n"
     ]
    },
    {
     "data": {
      "image/png": "[encoded data removed]",
      "text/plain": [
       "<matplotlib.figure.Figure at 0x10f46d4d0>"
      ]
     },
     "metadata": {},
     "output_type": "display_data"
    }
   ],
   "source": [
    "plt.figure()\n",
    "plt.axis([0,30,0,30])\n",
    "plt.grid(True)\n",
    "plt.plot(X, y, 'k.')\n",
    "plt.plot(x_test, yy, 'g-')\n",
    "plt.plot(x_test, yy_quadratic, 'k-')\n",
    "plt.plot(x_test, yy_cubic, 'b-')\n",
    "plt.plot(x2_test_d, yy2, 'r-')\n",
    "print(\"一元回归R-squared = {:.2f}\".format(model.score(X, y)))\n",
    "print(\"二次回归R-squared = {:.2f}\".format(reg_quadratic.score(X_quadratic, y)))\n",
    "print(\"三次回归R-squared = {:.2f}\".format(reg_cubic.score(X_cubic, y)))\n",
    "print(\"多元回归R-squared = {:.2f}\".format(model2.score(X2, y2)))"
   ]
  }
 ],
 "metadata": {
  "kernelspec": {
   "display_name": "Python 2",
   "language": "python",
   "name": "python2"
  },
  "language_info": {
   "codemirror_mode": {
    "name": "ipython",
    "version": 2
   },
   "file_extension": ".py",
   "mimetype": "text/x-python",
   "name": "python",
   "nbconvert_exporter": "python",
   "pygments_lexer": "ipython2",
   "version": "2.7.12"
  },
  "nav_menu": {},
  "toc": {
   "navigate_menu": true,
   "number_sections": true,
   "sideBar": true,
   "threshold": "6",
   "toc_cell": true,
   "toc_section_display": "block",
   "toc_window_display": false
  }
 },
 "nbformat": 4,
 "nbformat_minor": 0
}
