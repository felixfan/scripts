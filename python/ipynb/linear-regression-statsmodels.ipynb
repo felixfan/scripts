{
 "cells": [
  {
   "cell_type": "markdown",
   "metadata": {
    "toc": "true"
   },
   "source": [
    "# Table of Contents\n",
    " <p><div class=\"lev1 toc-item\"><a href=\"#Example-Data\" data-toc-modified-id=\"Example-Data-1\"><span class=\"toc-item-num\">1&nbsp;&nbsp;</span>Example Data</a></div><div class=\"lev1 toc-item\"><a href=\"#Read-Data\" data-toc-modified-id=\"Read-Data-2\"><span class=\"toc-item-num\">2&nbsp;&nbsp;</span>Read Data</a></div><div class=\"lev1 toc-item\"><a href=\"#Fitting-the-model\" data-toc-modified-id=\"Fitting-the-model-3\"><span class=\"toc-item-num\">3&nbsp;&nbsp;</span>Fitting the model</a></div><div class=\"lev2 toc-item\"><a href=\"#F-statistics\" data-toc-modified-id=\"F-statistics-3.1\"><span class=\"toc-item-num\">3.1&nbsp;&nbsp;</span>F-statistics</a></div><div class=\"lev2 toc-item\"><a href=\"#Log-Likelihood\" data-toc-modified-id=\"Log-Likelihood-3.2\"><span class=\"toc-item-num\">3.2&nbsp;&nbsp;</span>Log-Likelihood</a></div><div class=\"lev2 toc-item\"><a href=\"#AIC-and-BIC\" data-toc-modified-id=\"AIC-and-BIC-3.3\"><span class=\"toc-item-num\">3.3&nbsp;&nbsp;</span>AIC and BIC</a></div><div class=\"lev2 toc-item\"><a href=\"#Coefficients\" data-toc-modified-id=\"Coefficients-3.4\"><span class=\"toc-item-num\">3.4&nbsp;&nbsp;</span>Coefficients</a></div><div class=\"lev2 toc-item\"><a href=\"#t-statistic\" data-toc-modified-id=\"t-statistic-3.5\"><span class=\"toc-item-num\">3.5&nbsp;&nbsp;</span>t-statistic</a></div><div class=\"lev2 toc-item\"><a href=\"#Standard-Error\" data-toc-modified-id=\"Standard-Error-3.6\"><span class=\"toc-item-num\">3.6&nbsp;&nbsp;</span>Standard Error</a></div><div class=\"lev2 toc-item\"><a href=\"#Confidence-Interval\" data-toc-modified-id=\"Confidence-Interval-3.7\"><span class=\"toc-item-num\">3.7&nbsp;&nbsp;</span>Confidence Interval</a></div><div class=\"lev2 toc-item\"><a href=\"#Skewness-and-Kurtosis\" data-toc-modified-id=\"Skewness-and-Kurtosis-3.8\"><span class=\"toc-item-num\">3.8&nbsp;&nbsp;</span>Skewness and Kurtosis</a></div><div class=\"lev2 toc-item\"><a href=\"#Omnibus-Test\" data-toc-modified-id=\"Omnibus-Test-3.9\"><span class=\"toc-item-num\">3.9&nbsp;&nbsp;</span>Omnibus Test</a></div><div class=\"lev2 toc-item\"><a href=\"#Durbin-Watson\" data-toc-modified-id=\"Durbin-Watson-3.10\"><span class=\"toc-item-num\">3.10&nbsp;&nbsp;</span>Durbin-Watson</a></div><div class=\"lev2 toc-item\"><a href=\"#Jarque-Bera-Test\" data-toc-modified-id=\"Jarque-Bera-Test-3.11\"><span class=\"toc-item-num\">3.11&nbsp;&nbsp;</span>Jarque-Bera Test</a></div><div class=\"lev2 toc-item\"><a href=\"#Condition-Number\" data-toc-modified-id=\"Condition-Number-3.12\"><span class=\"toc-item-num\">3.12&nbsp;&nbsp;</span>Condition Number</a></div><div class=\"lev2 toc-item\"><a href=\"#R-squared\" data-toc-modified-id=\"R-squared-3.13\"><span class=\"toc-item-num\">3.13&nbsp;&nbsp;</span>R-squared</a></div><div class=\"lev2 toc-item\"><a href=\"#Adjusted-R-squared\" data-toc-modified-id=\"Adjusted-R-squared-3.14\"><span class=\"toc-item-num\">3.14&nbsp;&nbsp;</span>Adjusted R-squared</a></div><div class=\"lev1 toc-item\"><a href=\"#Plot-the-data-and-fit\" data-toc-modified-id=\"Plot-the-data-and-fit-4\"><span class=\"toc-item-num\">4&nbsp;&nbsp;</span>Plot the data and fit</a></div><div class=\"lev1 toc-item\"><a href=\"#Fit-diagnostiscs\" data-toc-modified-id=\"Fit-diagnostiscs-5\"><span class=\"toc-item-num\">5&nbsp;&nbsp;</span>Fit diagnostiscs</a></div><div class=\"lev2 toc-item\"><a href=\"#A-look-at-the-residuals\" data-toc-modified-id=\"A-look-at-the-residuals-5.1\"><span class=\"toc-item-num\">5.1&nbsp;&nbsp;</span>A look at the residuals</a></div><div class=\"lev2 toc-item\"><a href=\"#Cooks-distance\" data-toc-modified-id=\"Cooks-distance-5.2\"><span class=\"toc-item-num\">5.2&nbsp;&nbsp;</span>Cooks distance</a></div><div class=\"lev2 toc-item\"><a href=\"#Statsmodels-builtin-plots\" data-toc-modified-id=\"Statsmodels-builtin-plots-5.3\"><span class=\"toc-item-num\">5.3&nbsp;&nbsp;</span>Statsmodels builtin plots</a></div>"
   ]
  },
  {
   "cell_type": "code",
   "execution_count": 1,
   "metadata": {
    "collapsed": true
   },
   "outputs": [],
   "source": [
    "import pandas as pd\n",
    "import numpy as np\n",
    "import scipy\n",
    "import statsmodels.formula.api as sm\n",
    "import matplotlib.pyplot as plt\n",
    "\n",
    "%matplotlib inline"
   ]
  },
  {
   "cell_type": "markdown",
   "metadata": {},
   "source": [
    "# Example Data"
   ]
  },
  {
   "cell_type": "markdown",
   "metadata": {},
   "source": [
    "The **whiteside** dataset from R package MASS. It contains: the weekly gas consumption and average external temperature at a house in south-east England for two heating seasons, one of 26 weeks before, and one of 30 weeks after cavity-wall insulation was installed."
   ]
  },
  {
   "cell_type": "markdown",
   "metadata": {},
   "source": [
    "# Read Data"
   ]
  },
  {
   "cell_type": "code",
   "execution_count": 2,
   "metadata": {
    "collapsed": false
   },
   "outputs": [
    {
     "data": {
      "text/html": [
       "<div>\n",
       "<table border=\"1\" class=\"dataframe\">\n",
       "  <thead>\n",
       "    <tr style=\"text-align: right;\">\n",
       "      <th></th>\n",
       "      <th>Unnamed: 0</th>\n",
       "      <th>Insul</th>\n",
       "      <th>Temp</th>\n",
       "      <th>Gas</th>\n",
       "    </tr>\n",
       "  </thead>\n",
       "  <tbody>\n",
       "    <tr>\n",
       "      <th>0</th>\n",
       "      <td>1</td>\n",
       "      <td>Before</td>\n",
       "      <td>-0.8</td>\n",
       "      <td>7.2</td>\n",
       "    </tr>\n",
       "    <tr>\n",
       "      <th>1</th>\n",
       "      <td>2</td>\n",
       "      <td>Before</td>\n",
       "      <td>-0.7</td>\n",
       "      <td>6.9</td>\n",
       "    </tr>\n",
       "    <tr>\n",
       "      <th>2</th>\n",
       "      <td>3</td>\n",
       "      <td>Before</td>\n",
       "      <td>0.4</td>\n",
       "      <td>6.4</td>\n",
       "    </tr>\n",
       "    <tr>\n",
       "      <th>3</th>\n",
       "      <td>4</td>\n",
       "      <td>Before</td>\n",
       "      <td>2.5</td>\n",
       "      <td>6.0</td>\n",
       "    </tr>\n",
       "    <tr>\n",
       "      <th>4</th>\n",
       "      <td>5</td>\n",
       "      <td>Before</td>\n",
       "      <td>2.9</td>\n",
       "      <td>5.8</td>\n",
       "    </tr>\n",
       "  </tbody>\n",
       "</table>\n",
       "</div>"
      ],
      "text/plain": [
       "   Unnamed: 0   Insul  Temp  Gas\n",
       "0           1  Before  -0.8  7.2\n",
       "1           2  Before  -0.7  6.9\n",
       "2           3  Before   0.4  6.4\n",
       "3           4  Before   2.5  6.0\n",
       "4           5  Before   2.9  5.8"
      ]
     },
     "execution_count": 2,
     "metadata": {},
     "output_type": "execute_result"
    }
   ],
   "source": [
    "whiteside = pd.read_csv(\"whiteside.csv\")\n",
    "whiteside.head(5)"
   ]
  },
  {
   "cell_type": "markdown",
   "metadata": {},
   "source": [
    "# Fitting the model"
   ]
  },
  {
   "cell_type": "markdown",
   "metadata": {},
   "source": [
    "Let’s see what the relationship between the gas consumption and the temprature is before the insulation"
   ]
  },
  {
   "cell_type": "code",
   "execution_count": 3,
   "metadata": {
    "collapsed": false
   },
   "outputs": [
    {
     "name": "stdout",
     "output_type": "stream",
     "text": [
      "                            OLS Regression Results                            \n",
      "==============================================================================\n",
      "Dep. Variable:                    Gas   R-squared:                       0.944\n",
      "Model:                            OLS   Adj. R-squared:                  0.941\n",
      "Method:                 Least Squares   F-statistic:                     403.1\n",
      "Date:                Sun, 07 Aug 2016   Prob (F-statistic):           1.64e-16\n",
      "Time:                        22:28:50   Log-Likelihood:                -2.8783\n",
      "No. Observations:                  26   AIC:                             9.757\n",
      "Df Residuals:                      24   BIC:                             12.27\n",
      "Df Model:                           1                                         \n",
      "Covariance Type:            nonrobust                                         \n",
      "==============================================================================\n",
      "                 coef    std err          t      P>|t|      [95.0% Conf. Int.]\n",
      "------------------------------------------------------------------------------\n",
      "Intercept      6.8538      0.118     57.876      0.000         6.609     7.098\n",
      "Temp          -0.3932      0.020    -20.078      0.000        -0.434    -0.353\n",
      "==============================================================================\n",
      "Omnibus:                        0.296   Durbin-Watson:                   2.420\n",
      "Prob(Omnibus):                  0.862   Jarque-Bera (JB):                0.164\n",
      "Skew:                          -0.177   Prob(JB):                        0.921\n",
      "Kurtosis:                       2.839   Cond. No.                         13.3\n",
      "==============================================================================\n",
      "\n",
      "Warnings:\n",
      "[1] Standard Errors assume that the covariance matrix of the errors is correctly specified.\n"
     ]
    }
   ],
   "source": [
    "model = sm.ols(formula='Gas ~ Temp', data=whiteside, subset = whiteside['Insul']==\"Before\")\n",
    "fitted = model.fit()\n",
    "print fitted.summary()"
   ]
  },
  {
   "cell_type": "markdown",
   "metadata": {},
   "source": [
    "## F-statistics"
   ]
  },
  {
   "cell_type": "markdown",
   "metadata": {},
   "source": [
    "- The null hypothesis of the F-test is that the data can be modeled accurately by setting the regression coefficients to zero.   \n",
    "- The alternative hypothesis is that at least one of the regression coefficients should be non-zero. \n",
    "\n",
    "If the F-distribution provides a p-value that is lower than some threshold , then we reject the null hypothesis, and and say that our model is, in fact, “doing something with its life.” "
   ]
  },
  {
   "cell_type": "code",
   "execution_count": 4,
   "metadata": {
    "collapsed": false
   },
   "outputs": [
    {
     "data": {
      "text/plain": [
       "403.10760179665471"
      ]
     },
     "execution_count": 4,
     "metadata": {},
     "output_type": "execute_result"
    }
   ],
   "source": [
    "fitted.fvalue"
   ]
  },
  {
   "cell_type": "code",
   "execution_count": 5,
   "metadata": {
    "collapsed": false
   },
   "outputs": [
    {
     "data": {
      "text/plain": [
       "1.6404687152856934e-16"
      ]
     },
     "execution_count": 5,
     "metadata": {},
     "output_type": "execute_result"
    }
   ],
   "source": [
    "fitted.f_pvalue"
   ]
  },
  {
   "cell_type": "markdown",
   "metadata": {},
   "source": [
    "## Log-Likelihood"
   ]
  },
  {
   "cell_type": "code",
   "execution_count": 6,
   "metadata": {
    "collapsed": false
   },
   "outputs": [
    {
     "data": {
      "text/plain": [
       "-2.8782923384182699"
      ]
     },
     "execution_count": 6,
     "metadata": {},
     "output_type": "execute_result"
    }
   ],
   "source": [
    "N = fitted.nobs\n",
    "SSR = fitted.ssr\n",
    "s2 = SSR / N\n",
    "L = (1.0 / np.sqrt(2 * np.pi * s2)) ** N * np.exp(-SSR / (s2 * 2.0))\n",
    "np.log(L)"
   ]
  },
  {
   "cell_type": "code",
   "execution_count": 7,
   "metadata": {
    "collapsed": false
   },
   "outputs": [
    {
     "data": {
      "text/plain": [
       "-2.8782923384182695"
      ]
     },
     "execution_count": 7,
     "metadata": {},
     "output_type": "execute_result"
    }
   ],
   "source": [
    "fitted.llf"
   ]
  },
  {
   "cell_type": "markdown",
   "metadata": {},
   "source": [
    "## AIC and BIC"
   ]
  },
  {
   "cell_type": "markdown",
   "metadata": {},
   "source": [
    "The Akaike information criterion (AIC) and the Bayesian information criterion (BIC) are based on the log-likelihood. Both measures introduce a penalty for model complexity, but the AIC penalizes complexity less severely than the BIC. **Both measures are only used when trying to decide between different models**. Choose the model that had the lower AIC or BIC value."
   ]
  },
  {
   "cell_type": "code",
   "execution_count": 8,
   "metadata": {
    "collapsed": false
   },
   "outputs": [
    {
     "name": "stdout",
     "output_type": "stream",
     "text": [
      "aic = 9.75658467684\n",
      "bic = 12.2727777529\n"
     ]
    }
   ],
   "source": [
    "k = 2 # the number of parameters: slope and intercept\n",
    "aic = 2 * k - 2 * np.log(L)\n",
    "bic = k * np.log(N) - 2 * np.log(L)\n",
    "print(\"aic = {}\\nbic = {}\".format(aic, bic))"
   ]
  },
  {
   "cell_type": "code",
   "execution_count": 9,
   "metadata": {
    "collapsed": false
   },
   "outputs": [
    {
     "data": {
      "text/plain": [
       "9.756584676836539"
      ]
     },
     "execution_count": 9,
     "metadata": {},
     "output_type": "execute_result"
    }
   ],
   "source": [
    "fitted.aic"
   ]
  },
  {
   "cell_type": "code",
   "execution_count": 10,
   "metadata": {
    "collapsed": false
   },
   "outputs": [
    {
     "data": {
      "text/plain": [
       "12.272777752879502"
      ]
     },
     "execution_count": 10,
     "metadata": {},
     "output_type": "execute_result"
    }
   ],
   "source": [
    "fitted.bic"
   ]
  },
  {
   "cell_type": "markdown",
   "metadata": {},
   "source": [
    "## Coefficients"
   ]
  },
  {
   "cell_type": "code",
   "execution_count": 11,
   "metadata": {
    "collapsed": false
   },
   "outputs": [
    {
     "data": {
      "text/plain": [
       "Intercept    6.853828\n",
       "Temp        -0.393239\n",
       "dtype: float64"
      ]
     },
     "execution_count": 11,
     "metadata": {},
     "output_type": "execute_result"
    }
   ],
   "source": [
    "fitted.params"
   ]
  },
  {
   "cell_type": "markdown",
   "metadata": {},
   "source": [
    "## t-statistic"
   ]
  },
  {
   "cell_type": "markdown",
   "metadata": {},
   "source": [
    "The statistic is given by the ratio of the coefficient (or factor) of the predictor variable of interest, and its corresponding standard error.  "
   ]
  },
  {
   "cell_type": "code",
   "execution_count": 12,
   "metadata": {
    "collapsed": false
   },
   "outputs": [
    {
     "data": {
      "text/plain": [
       "Intercept    57.875615\n",
       "Temp        -20.077540\n",
       "dtype: float64"
      ]
     },
     "execution_count": 12,
     "metadata": {},
     "output_type": "execute_result"
    }
   ],
   "source": [
    "fitted.tvalues"
   ]
  },
  {
   "cell_type": "code",
   "execution_count": 13,
   "metadata": {
    "collapsed": false
   },
   "outputs": [
    {
     "data": {
      "text/plain": [
       "Intercept    2.717533e-27\n",
       "Temp         1.640469e-16\n",
       "dtype: float64"
      ]
     },
     "execution_count": 13,
     "metadata": {},
     "output_type": "execute_result"
    }
   ],
   "source": [
    "fitted.pvalues"
   ]
  },
  {
   "cell_type": "markdown",
   "metadata": {},
   "source": [
    "## Standard Error"
   ]
  },
  {
   "cell_type": "code",
   "execution_count": 14,
   "metadata": {
    "collapsed": false
   },
   "outputs": [
    {
     "data": {
      "text/plain": [
       "Intercept    0.118423\n",
       "Temp         0.019586\n",
       "dtype: float64"
      ]
     },
     "execution_count": 14,
     "metadata": {},
     "output_type": "execute_result"
    }
   ],
   "source": [
    "SE = fitted.params / fitted.tvalues\n",
    "SE"
   ]
  },
  {
   "cell_type": "markdown",
   "metadata": {},
   "source": [
    "## Confidence Interval"
   ]
  },
  {
   "cell_type": "code",
   "execution_count": 15,
   "metadata": {
    "collapsed": false
   },
   "outputs": [],
   "source": [
    "def get_ci(fitted, SE, i=0):\n",
    "    # the estimated coefficient, and its variance \n",
    "    beta, c = fitted.params[i], SE[i] \n",
    "\n",
    "    # critical value of the t-statistic \n",
    "    N = fitted.nobs\n",
    "    P = fitted.df_model\n",
    "    dof = N - P - 1\n",
    "    z = scipy.stats.t( dof ).ppf(0.975) \n",
    "\n",
    "    # the confidence interval \n",
    "    print(beta - z * c, beta + z * c)"
   ]
  },
  {
   "cell_type": "code",
   "execution_count": 16,
   "metadata": {
    "collapsed": false
   },
   "outputs": [
    {
     "name": "stdout",
     "output_type": "stream",
     "text": [
      "(6.6094137926823855, 7.0982416053546853)\n"
     ]
    }
   ],
   "source": [
    "get_ci(fitted, SE, 0)"
   ]
  },
  {
   "cell_type": "code",
   "execution_count": 17,
   "metadata": {
    "collapsed": false
   },
   "outputs": [
    {
     "name": "stdout",
     "output_type": "stream",
     "text": [
      "(-0.43366235273559578, -0.35281529175731513)\n"
     ]
    }
   ],
   "source": [
    "get_ci(fitted, SE, 1)"
   ]
  },
  {
   "cell_type": "code",
   "execution_count": 18,
   "metadata": {
    "collapsed": false
   },
   "outputs": [
    {
     "data": {
      "text/html": [
       "<div>\n",
       "<table border=\"1\" class=\"dataframe\">\n",
       "  <thead>\n",
       "    <tr style=\"text-align: right;\">\n",
       "      <th></th>\n",
       "      <th>0</th>\n",
       "      <th>1</th>\n",
       "    </tr>\n",
       "  </thead>\n",
       "  <tbody>\n",
       "    <tr>\n",
       "      <th>Intercept</th>\n",
       "      <td>6.609414</td>\n",
       "      <td>7.098242</td>\n",
       "    </tr>\n",
       "    <tr>\n",
       "      <th>Temp</th>\n",
       "      <td>-0.433662</td>\n",
       "      <td>-0.352815</td>\n",
       "    </tr>\n",
       "  </tbody>\n",
       "</table>\n",
       "</div>"
      ],
      "text/plain": [
       "                  0         1\n",
       "Intercept  6.609414  7.098242\n",
       "Temp      -0.433662 -0.352815"
      ]
     },
     "execution_count": 18,
     "metadata": {},
     "output_type": "execute_result"
    }
   ],
   "source": [
    "fitted.conf_int()"
   ]
  },
  {
   "cell_type": "markdown",
   "metadata": {},
   "source": [
    "## Skewness and Kurtosis"
   ]
  },
  {
   "cell_type": "markdown",
   "metadata": {},
   "source": [
    "Skew and kurtosis refer to the shape of a (normal) distribution. Skewness is a measure of the asymmetry of a distribution, and kurtosis is a measure of its curvature, specifically how peaked the curve is."
   ]
  },
  {
   "cell_type": "code",
   "execution_count": 19,
   "metadata": {
    "collapsed": false
   },
   "outputs": [
    {
     "name": "stdout",
     "output_type": "stream",
     "text": [
      "Skewness = -0.177\n",
      "Kurtosis = 2.839\n"
     ]
    }
   ],
   "source": [
    "d = whiteside.Gas - fitted.fittedvalues \n",
    "S = np.mean(d**3.0) / np.mean(d**2.0)**(3.0/2.0) \n",
    "K = np.mean(d**4.0) / np.mean(d**2.0)**(4.0/2.0) \n",
    "print('Skewness = {:.3f}\\nKurtosis = {:.3f}'.format(S, K))"
   ]
  },
  {
   "cell_type": "markdown",
   "metadata": {},
   "source": [
    "## Omnibus Test"
   ]
  },
  {
   "cell_type": "markdown",
   "metadata": {},
   "source": [
    "The Omnibus test uses skewness and kurtosis to **test the null hypothesis that a distribution is normal**. In this case, we’re looking at the distribution of the residual. If we obtain a very small value for Prob(Omnibus), then the residuals are not normally distributed about zero, and we should maybe look at our model more closely.  "
   ]
  },
  {
   "cell_type": "markdown",
   "metadata": {},
   "source": [
    "## Durbin-Watson"
   ]
  },
  {
   "cell_type": "markdown",
   "metadata": {},
   "source": [
    "The Durbin-Watson test **checks for autocorrelation** by looking at he residuals separated by some lag. The statistic **ranges from zero to four**, and **a value around two suggests that there is no autocorrelation. Values greater than two suggest negative correlation, and values less that one suggest positive correlation.**"
   ]
  },
  {
   "cell_type": "markdown",
   "metadata": {},
   "source": [
    "## Jarque-Bera Test"
   ]
  },
  {
   "cell_type": "markdown",
   "metadata": {},
   "source": [
    "The Jarque-Bera test is another test that considers skewness (S), and kurtosis (K). **The null hypothesis is that the distribution is normal**, that both the skewness and excess kurtosis equal zero, or alternatively, that the skewness is zero and the regular run-of-the-mill kurtosis is three. Unfortunately, with small samples the Jarque-Bera test is prone rejecting the null hypothesis–that the distribution is normal–when it is in fact true.    "
   ]
  },
  {
   "cell_type": "markdown",
   "metadata": {},
   "source": [
    "## Condition Number"
   ]
  },
  {
   "cell_type": "markdown",
   "metadata": {},
   "source": [
    "The condition number measures the sensitivity of a function’s output to its input. When two predictor variables are highly correlated, which is called **multicolinearity**, the coefficients or factors of those predictor variables can fluctuate erratically for small changes in the data, or the model. Ideally, similar models should be similar, i.e., have approximately equal coefficients. Multicolinearity can cause numerical matrix inversion to crap out, or produce inaccurate results. "
   ]
  },
  {
   "cell_type": "markdown",
   "metadata": {},
   "source": [
    "## R-squared"
   ]
  },
  {
   "cell_type": "markdown",
   "metadata": {},
   "source": [
    "The term is the coefficient of determination and it usually reflects how well the model fits the observed data."
   ]
  },
  {
   "cell_type": "code",
   "execution_count": 20,
   "metadata": {
    "collapsed": false
   },
   "outputs": [
    {
     "data": {
      "text/plain": [
       "0.94380807108315912"
      ]
     },
     "execution_count": 20,
     "metadata": {},
     "output_type": "execute_result"
    }
   ],
   "source": [
    "fitted.rsquared"
   ]
  },
  {
   "cell_type": "markdown",
   "metadata": {},
   "source": [
    "## Adjusted R-squared"
   ]
  },
  {
   "cell_type": "markdown",
   "metadata": {},
   "source": [
    "As you incorporate more predictor variables then $R^2$ typically increases because you’re trying to map a much larger input space onto a single scalar prediction. This is known as the **Curse of Dimensionality**. The adjusted $R^2$ takes into account the number of predictor variables (the degrees of freedom) and number of observations."
   ]
  },
  {
   "cell_type": "code",
   "execution_count": 21,
   "metadata": {
    "collapsed": false
   },
   "outputs": [
    {
     "data": {
      "text/plain": [
       "0.94146674071162406"
      ]
     },
     "execution_count": 21,
     "metadata": {},
     "output_type": "execute_result"
    }
   ],
   "source": [
    "fitted.rsquared_adj"
   ]
  },
  {
   "cell_type": "markdown",
   "metadata": {},
   "source": [
    "# Plot the data and fit"
   ]
  },
  {
   "cell_type": "code",
   "execution_count": 22,
   "metadata": {
    "collapsed": false
   },
   "outputs": [
    {
     "data": {
      "image/png": "[encoded data removed]",
      "text/plain": [
       "<matplotlib.figure.Figure at 0x11770e790>"
      ]
     },
     "metadata": {},
     "output_type": "display_data"
    }
   ],
   "source": [
    "Before = whiteside[whiteside[\"Insul\"] == \"Before\"]\n",
    "plt.plot(Before[\"Temp\"], Before[\"Gas\"], 'ro')\n",
    "plt.plot(Before[\"Temp\"], fitted.fittedvalues, 'b-')\n",
    "plt.legend(['Data', 'Fitted model'])\n",
    "plt.ylim(0, 10)\n",
    "plt.xlim(-2, 12)\n",
    "plt.xlabel('Temperature')\n",
    "plt.ylabel('Gas')\n",
    "plt.title('Before Insulation');"
   ]
  },
  {
   "cell_type": "markdown",
   "metadata": {},
   "source": [
    "# Fit diagnostiscs"
   ]
  },
  {
   "cell_type": "markdown",
   "metadata": {},
   "source": [
    "## A look at the residuals"
   ]
  },
  {
   "cell_type": "code",
   "execution_count": 23,
   "metadata": {
    "collapsed": false
   },
   "outputs": [
    {
     "data": {
      "image/png": "[encoded data removed]",
      "text/plain": [
       "<matplotlib.figure.Figure at 0x1176ec690>"
      ]
     },
     "metadata": {},
     "output_type": "display_data"
    }
   ],
   "source": [
    "plt.hist(fitted.resid)\n",
    "plt.ylabel('Count')\n",
    "plt.xlabel('Normalized residuals');"
   ]
  },
  {
   "cell_type": "markdown",
   "metadata": {},
   "source": [
    "## Cooks distance"
   ]
  },
  {
   "cell_type": "code",
   "execution_count": 24,
   "metadata": {
    "collapsed": false
   },
   "outputs": [
    {
     "data": {
      "image/png": "[encoded data removed]",
      "text/plain": [
       "<matplotlib.figure.Figure at 0x117a44150>"
      ]
     },
     "metadata": {},
     "output_type": "display_data"
    }
   ],
   "source": [
    "influence = fitted.get_influence()\n",
    "#c is the distance and p is p-value\n",
    "(c, p) = influence.cooks_distance\n",
    "plt.stem(np.arange(len(c)), c, markerfmt=\",\");\n",
    "# print(\"distance = {}\\np-value = {}\".format(c, p))"
   ]
  },
  {
   "cell_type": "markdown",
   "metadata": {},
   "source": [
    "## Statsmodels builtin plots"
   ]
  },
  {
   "cell_type": "code",
   "execution_count": 25,
   "metadata": {
    "collapsed": false
   },
   "outputs": [
    {
     "data": {
      "image/png": "[encoded data removed]",
      "text/plain": [
       "<matplotlib.figure.Figure at 0x117a71350>"
      ]
     },
     "metadata": {},
     "output_type": "display_data"
    }
   ],
   "source": [
    "from statsmodels.graphics.regressionplots import *\n",
    "plot_leverage_resid2(fitted);"
   ]
  },
  {
   "cell_type": "code",
   "execution_count": 26,
   "metadata": {
    "collapsed": false
   },
   "outputs": [
    {
     "data": {
      "image/png": "[encoded data removed]",
      "text/plain": [
       "<matplotlib.figure.Figure at 0x117fa7dd0>"
      ]
     },
     "metadata": {},
     "output_type": "display_data"
    }
   ],
   "source": [
    "influence_plot(fitted);"
   ]
  }
 ],
 "metadata": {
  "kernelspec": {
   "display_name": "Python 2",
   "language": "python",
   "name": "python2"
  },
  "language_info": {
   "codemirror_mode": {
    "name": "ipython",
    "version": 2
   },
   "file_extension": ".py",
   "mimetype": "text/x-python",
   "name": "python",
   "nbconvert_exporter": "python",
   "pygments_lexer": "ipython2",
   "version": "2.7.12"
  },
  "nav_menu": {},
  "toc": {
   "navigate_menu": true,
   "number_sections": true,
   "sideBar": true,
   "threshold": "6",
   "toc_cell": true,
   "toc_section_display": "block",
   "toc_window_display": false
  }
 },
 "nbformat": 4,
 "nbformat_minor": 0
}
