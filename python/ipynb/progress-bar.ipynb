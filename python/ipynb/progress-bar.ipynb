{
 "cells": [
  {
   "cell_type": "markdown",
   "metadata": {
    "toc": "true"
   },
   "source": [
    "# Table of Contents\n",
    " <p><div class=\"lev1 toc-item\"><a href=\"#sys.stdout\" data-toc-modified-id=\"sys.stdout-1\"><span class=\"toc-item-num\">1&nbsp;&nbsp;</span>sys.stdout</a></div><div class=\"lev2 toc-item\"><a href=\"#Problems-that-are-solved-by-doing-smaller-identical-tasks-of-known-quantity\" data-toc-modified-id=\"Problems-that-are-solved-by-doing-smaller-identical-tasks-of-known-quantity-1.1\"><span class=\"toc-item-num\">1.1&nbsp;&nbsp;</span>Problems that are solved by doing smaller identical tasks of known quantity</a></div><div class=\"lev2 toc-item\"><a href=\"#Problems-that-are-solved-by-doing-multiple-tasks-but-known-quantity.\" data-toc-modified-id=\"Problems-that-are-solved-by-doing-multiple-tasks-but-known-quantity.-1.2\"><span class=\"toc-item-num\">1.2&nbsp;&nbsp;</span>Problems that are solved by doing multiple tasks but known quantity.</a></div><div class=\"lev2 toc-item\"><a href=\"#Problems-that-are-solved-by-doing-unknown-number-of-tasks-and/or-unknown-quantity.\" data-toc-modified-id=\"Problems-that-are-solved-by-doing-unknown-number-of-tasks-and/or-unknown-quantity.-1.3\"><span class=\"toc-item-num\">1.3&nbsp;&nbsp;</span>Problems that are solved by doing unknown number of tasks and/or unknown quantity.</a></div><div class=\"lev1 toc-item\"><a href=\"#progressbar\" data-toc-modified-id=\"progressbar-2\"><span class=\"toc-item-num\">2&nbsp;&nbsp;</span>progressbar</a></div><div class=\"lev1 toc-item\"><a href=\"#tqdm\" data-toc-modified-id=\"tqdm-3\"><span class=\"toc-item-num\">3&nbsp;&nbsp;</span>tqdm</a></div>"
   ]
  },
  {
   "cell_type": "code",
   "execution_count": 1,
   "metadata": {
    "collapsed": false
   },
   "outputs": [],
   "source": [
    "import sys, time\n",
    "from tqdm import tqdm, trange\n",
    "import progressbar as pb"
   ]
  },
  {
   "cell_type": "markdown",
   "metadata": {},
   "source": [
    "# sys.stdout"
   ]
  },
  {
   "cell_type": "code",
   "execution_count": 2,
   "metadata": {
    "collapsed": false
   },
   "outputs": [
    {
     "name": "stdout",
     "output_type": "stream",
     "text": [
      "\b\b\b\b\b\b\b\b\b\b\b\b\b\b\b\b\b\b\b\b\b\b\b\b\b\b\b\b\b\b\b\b\b\b\b\b\b\b\b\b\b========================================\n"
     ]
    }
   ],
   "source": [
    "toolbar_width = 40\n",
    "\n",
    "# setup toolbar\n",
    "sys.stdout.write(\"{}\".format(\"\" * toolbar_width))\n",
    "sys.stdout.flush()\n",
    "sys.stdout.write(\"\\b\" * (toolbar_width+1)) # return to start of line, after '['\n",
    "\n",
    "for i in xrange(toolbar_width):\n",
    "    time.sleep(0.1) # do real work here\n",
    "    # update the bar\n",
    "    sys.stdout.write(\"=\")\n",
    "    sys.stdout.flush()\n",
    "sys.stdout.write(\"\\n\")"
   ]
  },
  {
   "cell_type": "markdown",
   "metadata": {},
   "source": [
    "## Problems that are solved by doing smaller identical tasks of known quantity"
   ]
  },
  {
   "cell_type": "code",
   "execution_count": 3,
   "metadata": {
    "collapsed": false
   },
   "outputs": [
    {
     "name": "stdout",
     "output_type": "stream",
     "text": [
      "Starting  \b. \b. \b. \b. \b. \b. \b. \b. \b. \b.  Done!\n"
     ]
    }
   ],
   "source": [
    "def do_task():\n",
    "    time.sleep(1)\n",
    "\n",
    "def example_1(n):\n",
    "    for i in range(n):\n",
    "        do_task()\n",
    "        print '\\b.',\n",
    "        sys.stdout.flush()\n",
    "    print ' Done!'\n",
    "\n",
    "print 'Starting ',\n",
    "example_1(10)"
   ]
  },
  {
   "cell_type": "markdown",
   "metadata": {},
   "source": [
    "## Problems that are solved by doing multiple tasks but known quantity."
   ]
  },
  {
   "cell_type": "code",
   "execution_count": 4,
   "metadata": {
    "collapsed": false
   },
   "outputs": [
    {
     "name": "stdout",
     "output_type": "stream",
     "text": [
      "Starting  \b. \b. \b.  Done!\n"
     ]
    }
   ],
   "source": [
    "def update_progress_bar():\n",
    "    print '\\b.',\n",
    "    sys.stdout.flush()\n",
    "\n",
    "print 'Starting ',\n",
    "sys.stdout.flush()\n",
    "\n",
    "#task 1\n",
    "time.sleep(1)\n",
    "update_progress_bar()\n",
    "\n",
    "#task 2 \n",
    "time.sleep(1)\n",
    "update_progress_bar()\n",
    "\n",
    "#task 3 \n",
    "time.sleep(1)\n",
    "update_progress_bar()\n",
    "\n",
    "#Add as many tasks as you need. \n",
    "\n",
    "print ' Done!'"
   ]
  },
  {
   "cell_type": "markdown",
   "metadata": {},
   "source": [
    "## Problems that are solved by doing unknown number of tasks and/or unknown quantity."
   ]
  },
  {
   "cell_type": "code",
   "execution_count": 5,
   "metadata": {
    "collapsed": false
   },
   "outputs": [
    {
     "name": "stdout",
     "output_type": "stream",
     "text": [
      "Loading....  \b/\b-\b\\\b|\b/\b-\b\\\b|\b/\b-\b\\ \b\b done!\n"
     ]
    }
   ],
   "source": [
    "print 'Loading....  ',\n",
    "sys.stdout.flush()\n",
    "\n",
    "i = 0\n",
    "\n",
    "while i <= 10:\n",
    "    if (i%4) == 0: \n",
    "        sys.stdout.write('\\b/')\n",
    "    elif (i%4) == 1: \n",
    "        sys.stdout.write('\\b-')\n",
    "    elif (i%4) == 2:\n",
    "        sys.stdout.write('\\b\\\\')\n",
    "    elif (i%4) == 3: \n",
    "        sys.stdout.write('\\b|')\n",
    "\n",
    "    sys.stdout.flush()\n",
    "    time.sleep(0.2)\n",
    "    i+=1\n",
    "        \n",
    "print '\\b\\b done!'"
   ]
  },
  {
   "cell_type": "markdown",
   "metadata": {},
   "source": [
    "# progressbar"
   ]
  },
  {
   "cell_type": "code",
   "execution_count": 6,
   "metadata": {
    "collapsed": false
   },
   "outputs": [
    {
     "name": "stderr",
     "output_type": "stream",
     "text": [
      "100% |########################################################################|\n"
     ]
    }
   ],
   "source": [
    "pbar = pb.ProgressBar()\n",
    "\n",
    "for x in pbar(range(10)):\n",
    "    time.sleep(0.2)"
   ]
  },
  {
   "cell_type": "code",
   "execution_count": 7,
   "metadata": {
    "collapsed": false
   },
   "outputs": [
    {
     "name": "stderr",
     "output_type": "stream",
     "text": [
      "Time for loop of 100 iterations: 100% ||||||||||||||||||||||||||| Time: 0:00:10\n"
     ]
    }
   ],
   "source": [
    "#initialize widgets\n",
    "widgets = ['Time for loop of 100 iterations: ', pb.Percentage(), ' ',  \n",
    "            pb.Bar(marker=pb.RotatingMarker()), ' ', pb.ETA()]\n",
    "#initialize timer\n",
    "timer = pb.ProgressBar(widgets=widgets, maxval=100).start()\n",
    "\n",
    "#for loop example\n",
    "for i in range(0,100):  \n",
    "    #update\n",
    "    timer.update(i)\n",
    "    time.sleep(0.1)\n",
    "#finish\n",
    "timer.finish() "
   ]
  },
  {
   "cell_type": "markdown",
   "metadata": {},
   "source": [
    "# tqdm"
   ]
  },
  {
   "cell_type": "code",
   "execution_count": 8,
   "metadata": {
    "collapsed": false
   },
   "outputs": [
    {
     "name": "stderr",
     "output_type": "stream",
     "text": [
      "100%|██████████| 10/10 [00:01<00:00,  9.67it/s]\n"
     ]
    }
   ],
   "source": [
    "for i in tqdm(range(10)):\n",
    "    time.sleep(0.1)"
   ]
  },
  {
   "cell_type": "code",
   "execution_count": 9,
   "metadata": {
    "collapsed": false
   },
   "outputs": [
    {
     "name": "stderr",
     "output_type": "stream",
     "text": [
      "100%|██████████| 4/4 [00:04<00:00,  1.00s/it]\n"
     ]
    }
   ],
   "source": [
    "text = \"\"\n",
    "for char in tqdm([\"a\", \"b\", \"c\", \"d\"]):\n",
    "    time.sleep(1)\n",
    "    text = text + char"
   ]
  },
  {
   "cell_type": "code",
   "execution_count": 10,
   "metadata": {
    "collapsed": false
   },
   "outputs": [
    {
     "name": "stderr",
     "output_type": "stream",
     "text": [
      "100%|██████████| 10/10 [00:01<00:00,  9.57it/s]\n"
     ]
    }
   ],
   "source": [
    "for i in trange(10):\n",
    "    time.sleep(0.1)"
   ]
  },
  {
   "cell_type": "code",
   "execution_count": 11,
   "metadata": {
    "collapsed": false
   },
   "outputs": [
    {
     "name": "stderr",
     "output_type": "stream",
     "text": [
      "Processing d: 100%|██████████| 4/4 [00:04<00:00,  1.01s/it]\n"
     ]
    }
   ],
   "source": [
    "pbar = tqdm([\"a\", \"b\", \"c\", \"d\"])\n",
    "for char in pbar:\n",
    "    time.sleep(1)\n",
    "    pbar.set_description(\"Processing %s\" % char)"
   ]
  },
  {
   "cell_type": "code",
   "execution_count": 12,
   "metadata": {
    "collapsed": false
   },
   "outputs": [
    {
     "name": "stderr",
     "output_type": "stream",
     "text": [
      "100%|██████████| 100/100 [00:00<00:00, 96.92it/s]\n"
     ]
    }
   ],
   "source": [
    "with tqdm(total=100) as pbar:\n",
    "    for i in range(10):\n",
    "        pbar.update(10)\n",
    "        time.sleep(0.1)"
   ]
  },
  {
   "cell_type": "code",
   "execution_count": 13,
   "metadata": {
    "collapsed": false
   },
   "outputs": [
    {
     "name": "stderr",
     "output_type": "stream",
     "text": [
      "100%|██████████| 100/100 [00:00<00:00, 97.28it/s]\n"
     ]
    }
   ],
   "source": [
    "pbar = tqdm(total=100)\n",
    "for i in range(10):\n",
    "    pbar.update(10)\n",
    "    time.sleep(0.1)\n",
    "pbar.close()"
   ]
  }
 ],
 "metadata": {
  "kernelspec": {
   "display_name": "Python 2",
   "language": "python",
   "name": "python2"
  },
  "language_info": {
   "codemirror_mode": {
    "name": "ipython",
    "version": 2
   },
   "file_extension": ".py",
   "mimetype": "text/x-python",
   "name": "python",
   "nbconvert_exporter": "python",
   "pygments_lexer": "ipython2",
   "version": "2.7.13"
  },
  "nav_menu": {},
  "toc": {
   "navigate_menu": true,
   "number_sections": true,
   "sideBar": true,
   "threshold": "6",
   "toc_cell": true,
   "toc_section_display": "block",
   "toc_window_display": false
  }
 },
 "nbformat": 4,
 "nbformat_minor": 0
}
