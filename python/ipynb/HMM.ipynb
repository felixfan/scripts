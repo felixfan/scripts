{
 "cells": [
  {
   "cell_type": "markdown",
   "metadata": {},
   "source": [
    "# Example 1"
   ]
  },
  {
   "cell_type": "code",
   "execution_count": 1,
   "metadata": {
    "collapsed": false
   },
   "outputs": [
    {
     "name": "stdout",
     "output_type": "stream",
     "text": [
      "  index:       0       1       2\n",
      " observ:  normal    cold   dizzy\n",
      "\n",
      "Healthy: 0.30000 0.08400 0.00588\n",
      "  Fever: 0.04000 0.02700 0.01512\n",
      "\n",
      "  state: Healthy Healthy   Fever\n"
     ]
    }
   ],
   "source": [
    "#coding=utf-8\n",
    "\n",
    "# example code from https://en.wikipedia.org/wiki/Viterbi_algorithm\n",
    "\n",
    "def viterbi(obs, states, start_p, trans_p, emit_p):\n",
    "    '''\n",
    "    Consider a village where all villagers are either healthy or have a fever \n",
    "    and only the village doctor can determine whether each has a fever. \n",
    "\n",
    "    The doctor diagnoses fever by asking patients how they feel. \n",
    "    The villagers may only answer that they feel normal, dizzy, or cold.\n",
    "\n",
    "    The doctor believes that the health condition of his patients \n",
    "    operate as a discrete Markov chain. There are two states, \n",
    "    \"Healthy\" and \"Fever\", but the doctor cannot observe them directly, \n",
    "    they are hidden from him. \n",
    "\n",
    "    On each day, there is a certain chance that the patient will tell\n",
    "    the doctor he/she is \"normal\", \"cold\", or \"dizzy\", depending on her health condition.\n",
    "\n",
    "    - start_probability\n",
    "    represents the doctor's belief about which state the HMM is in \n",
    "    when the patient first visits (all he knows is that the patient tends to be healthy). \n",
    "    The particular probability distribution used here is not the equilibrium one, \n",
    "    which is (given the transition probabilities) approximately {'Healthy': 0.57, 'Fever': 0.43}. \n",
    "\n",
    "    - transition_probability\n",
    "    represents the change of the health condition in the underlying Markov chain. \n",
    "    In this example, there is only a 0.3 chance that tomorrow the patient will \n",
    "    have a fever if he is healthy today.\n",
    "\n",
    "    - emission_probability\n",
    "    represents how likely the patient is to feel on each day. \n",
    "    If he is healthy, there is a 0.5 chance that he feels normal; \n",
    "    if he has a fever, there is a 0.6 chance that he feels dizzy.\n",
    "\n",
    "    - observations \n",
    "    ('normal', 'cold', 'dizzy')\n",
    "\n",
    "    - question\n",
    "    what is the hidden state for the observations?\n",
    "    '''\n",
    "    V = [{}]\n",
    "    path = {}\n",
    "\n",
    "    # Initialize base cases (t == 0)\n",
    "    for y in states:\n",
    "        V[0][y] = start_p[y] * emit_p[y][obs[0]]\n",
    "        path[y] = [y]\n",
    "\n",
    "    # Run Viterbi when t > 0\n",
    "    for t in range(1, len(obs)):\n",
    "        V.append({})\n",
    "        newpath = {}\n",
    "\n",
    "        for y in states:\n",
    "            (prob, state) = max([(V[t-1][y0] * trans_p[y0][y] * emit_p[y][obs[t]], y0) for y0 in states])\n",
    "            V[t][y] = prob\n",
    "            newpath[y] = path[state] + [y]\n",
    "\n",
    "        # Don't need to remember the old paths\n",
    "        path = newpath\n",
    "\n",
    "    (prob, state) = max([(V[len(obs) - 1][y], y) for y in states])\n",
    "\n",
    "    print \"{:>7s}{}\".format('index', ':'),\n",
    "    for i in range(len(V)): print \"{:>7d}\".format(i),\n",
    "    print\n",
    "\n",
    "    print \"{:>7s}{}\".format('observ', ':'),\n",
    "    for s in observations:\n",
    "        print '{:>7s}'.format(s),\n",
    "    print\n",
    "    print\n",
    "\n",
    "    for y in V[0].keys():\n",
    "        print '{:>7}{}'.format(y,':'),\n",
    "        for t in range(len(V)):\n",
    "            print '{:.5f}'.format(V[t][y]),\n",
    "        print\n",
    "    print\n",
    "\n",
    "    print \"{:>7s}{}\".format('state', ':'),\n",
    "    for s in path[state]:\n",
    "        print '{:>7s}'.format(s),\n",
    "    print\n",
    "\n",
    "\n",
    "if __name__ == \"__main__\":\n",
    "\n",
    "    states = ('Healthy', 'Fever')\n",
    "\n",
    "    observations = ('normal', 'cold', 'dizzy')\n",
    "\n",
    "    start_probability = {'Healthy': 0.6, 'Fever': 0.4}\n",
    "\n",
    "    transition_probability = {\n",
    "        'Healthy' : {'Healthy': 0.7, 'Fever': 0.3},\n",
    "        'Fever' : {'Healthy': 0.4, 'Fever': 0.6}\n",
    "        }\n",
    "\n",
    "    emission_probability = {\n",
    "        'Healthy': {'normal': 0.5, 'cold': 0.4, 'dizzy': 0.1},\n",
    "        'Fever': {'normal': 0.1, 'cold': 0.3, 'dizzy': 0.6}\n",
    "        }\n",
    "    \n",
    "    viterbi(\n",
    "        observations,\n",
    "        states,\n",
    "        start_probability,\n",
    "        transition_probability,\n",
    "        emission_probability)"
   ]
  },
  {
   "cell_type": "markdown",
   "metadata": {},
   "source": [
    "# Example 2"
   ]
  },
  {
   "cell_type": "code",
   "execution_count": 2,
   "metadata": {
    "collapsed": true
   },
   "outputs": [],
   "source": [
    "#coding=utf-8\n",
    "from __future__ import division\n",
    "import numpy as np\n",
    "from hmmlearn import hmm\n",
    "\n",
    "'''\n",
    "Consider two friends, Alice and Bob, who live far apart from each other\n",
    "and who talk together daily over the telephone about what they did that day.\n",
    "\n",
    "Bob is only interested in three activities: walking in the park, shopping, \n",
    "and cleaning his apartment. The choice of what to do is determined \n",
    "exclusively by the weather on a given day. \n",
    "\n",
    "Alice has no definite information about the weather where Bob lives, \n",
    "but she knows general trends. Based on what Bob tells her he did each day, \n",
    "Alice tries to guess what the weather must have been like.\n",
    "\n",
    "Alice believes that the weather operates as a discrete Markov chain. \n",
    "There are two states, \"Rainy\" and \"Sunny\", but she cannot observe them \n",
    "directly, that is, they are hidden from her. \n",
    "\n",
    "On each day, there is a certain chance that Bob will perform one of \n",
    "the following activities, depending on the weather: \"walk\", \"shop\", or\n",
    "\"clean\". \n",
    "\n",
    "Since Bob tells Alice about his activities, those are the observations. \n",
    "The entire system is that of a hidden Markov model (HMM).\n",
    "\n",
    "Alice knows the general weather trends in the area, and what Bob likes \n",
    "to do on average. In other words, the parameters of the HMM are known.\n",
    "\n",
    "- start_probability:\n",
    "represents Alice's belief about which state the HMM is in when Bob first \n",
    "calls her (all she knows is that it tends to be rainy on average). \n",
    "The particular probability distribution used here is not \n",
    "the equilibrium one, which is (given the transition probabilities) \n",
    "approximately {'Rainy': 0.57, 'Sunny': 0.43}. \n",
    "\n",
    "- transition_probability \n",
    "represents the change of the weather in the underlying Markov chain. \n",
    "In this example, there is only a 0.3 chance that tomorrow will be sunny \n",
    "if today is rainy. \n",
    "\n",
    "- emission_probability\n",
    "represents how likely Bob is to perform a certain activity on each day. \n",
    "If it is rainy, there is a 0.5 chance that he is cleaning his apartment; \n",
    "if it is sunny, there is a 0.6 chance that he is outside for a walk.\n",
    "\n",
    "observation: (0, 2, 1, 1, 2, 0)\n",
    "Alice talks to Bob six days in a row and discovers that on the first day \n",
    "he went for a walk, on the second day he cleaned his apartment, on the \n",
    "third and fourth days he went shopping, on the fifth day he cleaned \n",
    "his apartment, and on the sixth day he went for a walk.\n",
    "\n",
    "Alice's question: \n",
    "what is the most likely sequence of rainy/sunny days that would explain \n",
    "these observations? \n",
    "\n",
    "Answer:\n",
    "This is answered by the Viterbi algorithm.\n",
    "'''\n",
    "\n",
    "states = [\"Rainy\", \"Sunny\"]\n",
    "n_states = len(states)\n",
    "\n",
    "observations = [\"walk\", \"shop\", \"clean\"]\n",
    "n_observations = len(observations)\n",
    "\n",
    "start_probability = np.array([0.6, 0.4])\n",
    "\n",
    "transition_probability = np.array([\n",
    "  [0.7, 0.3],\n",
    "  [0.4, 0.6]\n",
    "])\n",
    "\n",
    "emission_probability = np.array([\n",
    "  [0.1, 0.4, 0.5],\n",
    "  [0.6, 0.3, 0.1]\n",
    "])\n",
    "\n",
    "randNum = None\n",
    "model = hmm.MultinomialHMM(n_components=n_states, random_state=randNum)\n",
    "model.startprob_=start_probability\n",
    "model.transmat_=transition_probability\n",
    "model.emissionprob_ = emission_probability\n",
    "\n",
    "# predict a sequence of hidden states based on visible states\n",
    "# predict weather based on what bob has said\n",
    "bob_say = [0, 2, 1, 1, 2, 0]\n",
    "bob_says = np.array([[0, 2, 1, 1, 2, 0]]).T\n",
    "model.fit(bob_says)\n",
    "\n",
    "# Find most likely state sequence corresponding to X.\n",
    "logprob, alice_hears = model.decode(bob_says, algorithm=\"viterbi\")"
   ]
  },
  {
   "cell_type": "code",
   "execution_count": 3,
   "metadata": {
    "collapsed": false
   },
   "outputs": [
    {
     "name": "stdout",
     "output_type": "stream",
     "text": [
      "Bob says: walk, clean, shop, shop, clean, walk\n",
      "Alice hears: Sunny, Rainy, Rainy, Rainy, Rainy, Sunny\n"
     ]
    }
   ],
   "source": [
    "print \"Bob says:\", \", \".join(map(lambda x: observations[x], bob_say))\n",
    "print \"Alice hears:\", \", \".join(map(lambda x: states[x], alice_hears))"
   ]
  },
  {
   "cell_type": "code",
   "execution_count": 4,
   "metadata": {
    "collapsed": false
   },
   "outputs": [
    {
     "name": "stdout",
     "output_type": "stream",
     "text": [
      "\n",
      "decode output:\n",
      "[1 0 0 0 0 1]\n",
      "-5.84453991035\n"
     ]
    }
   ],
   "source": [
    "print \"\\ndecode output:\"\n",
    "print alice_hears\n",
    "print logprob"
   ]
  },
  {
   "cell_type": "code",
   "execution_count": 5,
   "metadata": {
    "collapsed": false
   },
   "outputs": [
    {
     "name": "stdout",
     "output_type": "stream",
     "text": [
      "\n",
      "predict output:\n",
      "[1 0 0 0 0 1]\n"
     ]
    }
   ],
   "source": [
    "aaa = model.predict(bob_says)\n",
    "print '\\npredict output:'\n",
    "print aaa"
   ]
  },
  {
   "cell_type": "code",
   "execution_count": 6,
   "metadata": {
    "collapsed": false
   },
   "outputs": [
    {
     "name": "stdout",
     "output_type": "stream",
     "text": [
      "\n",
      "score output:\n",
      "-5.49888303332\n"
     ]
    }
   ],
   "source": [
    "# Compute the log probability under the model.\n",
    "sss = model.score(bob_says)\n",
    "print '\\nscore output:'\n",
    "print sss"
   ]
  },
  {
   "cell_type": "code",
   "execution_count": 7,
   "metadata": {
    "collapsed": false
   },
   "outputs": [
    {
     "name": "stdout",
     "output_type": "stream",
     "text": [
      "\n",
      "predict_proba output:\n",
      "[[  1.25132530e-11   1.00000000e+00]\n",
      " [  8.62153164e-01   1.37846836e-01]\n",
      " [  9.98896327e-01   1.10367280e-03]\n",
      " [  9.98896393e-01   1.10360690e-03]\n",
      " [  8.62702111e-01   1.37297889e-01]\n",
      " [  4.57569803e-02   9.54243020e-01]]\n"
     ]
    }
   ],
   "source": [
    "# Compute the posterior probability for each state in the model.\n",
    "ppp = model.predict_proba(bob_says)\n",
    "print '\\npredict_proba output:'\n",
    "print ppp"
   ]
  }
 ],
 "metadata": {
  "kernelspec": {
   "display_name": "Python 2",
   "language": "python",
   "name": "python2"
  },
  "language_info": {
   "codemirror_mode": {
    "name": "ipython",
    "version": 2
   },
   "file_extension": ".py",
   "mimetype": "text/x-python",
   "name": "python",
   "nbconvert_exporter": "python",
   "pygments_lexer": "ipython2",
   "version": "2.7.13"
  },
  "nav_menu": {},
  "toc": {
   "navigate_menu": true,
   "number_sections": false,
   "sideBar": false,
   "threshold": "0",
   "toc_cell": false,
   "toc_section_display": "block",
   "toc_window_display": true
  }
 },
 "nbformat": 4,
 "nbformat_minor": 0
}
