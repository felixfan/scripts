{
 "cells": [
  {
   "cell_type": "markdown",
   "metadata": {
    "toc": "true"
   },
   "source": [
    "# Table of Contents\n",
    " <p><div class=\"lev1 toc-item\"><a href=\"#Reading-a-csv-into-Pandas\" data-toc-modified-id=\"Reading-a-csv-into-Pandas-1\"><span class=\"toc-item-num\">1&nbsp;&nbsp;</span>Reading a csv into Pandas</a></div><div class=\"lev1 toc-item\"><a href=\"#read-a-tabular-data-file-into-pandas\" data-toc-modified-id=\"read-a-tabular-data-file-into-pandas-2\"><span class=\"toc-item-num\">2&nbsp;&nbsp;</span>read a tabular data file into pandas</a></div><div class=\"lev1 toc-item\"><a href=\"#Getting-first-x-rows.\" data-toc-modified-id=\"Getting-first-x-rows.-3\"><span class=\"toc-item-num\">3&nbsp;&nbsp;</span>Getting first x rows.</a></div><div class=\"lev1 toc-item\"><a href=\"#Getting-last-x-rows.\" data-toc-modified-id=\"Getting-last-x-rows.-4\"><span class=\"toc-item-num\">4&nbsp;&nbsp;</span>Getting last x rows.</a></div><div class=\"lev1 toc-item\"><a href=\"#Changing-column-labels.\" data-toc-modified-id=\"Changing-column-labels.-5\"><span class=\"toc-item-num\">5&nbsp;&nbsp;</span>Changing column labels.</a></div><div class=\"lev1 toc-item\"><a href=\"#Finding-out-how-many-rows-dataset-has.\" data-toc-modified-id=\"Finding-out-how-many-rows-dataset-has.-6\"><span class=\"toc-item-num\">6&nbsp;&nbsp;</span>Finding out how many rows dataset has.</a></div><div class=\"lev1 toc-item\"><a href=\"#Finding-out-basic-statistical-information-on-your-dataset.\" data-toc-modified-id=\"Finding-out-basic-statistical-information-on-your-dataset.-7\"><span class=\"toc-item-num\">7&nbsp;&nbsp;</span>Finding out basic statistical information on your dataset.</a></div><div class=\"lev1 toc-item\"><a href=\"#Getting-a-column-by-label\" data-toc-modified-id=\"Getting-a-column-by-label-8\"><span class=\"toc-item-num\">8&nbsp;&nbsp;</span>Getting a column by label</a></div><div class=\"lev1 toc-item\"><a href=\"#Getting-a-column-by-label-using-.\" data-toc-modified-id=\"Getting-a-column-by-label-using-.-9\"><span class=\"toc-item-num\">9&nbsp;&nbsp;</span>Getting a column by label using .</a></div><div class=\"lev1 toc-item\"><a href=\"#Creating-a-series-of-booleans-based-on-a-conditional\" data-toc-modified-id=\"Creating-a-series-of-booleans-based-on-a-conditional-10\"><span class=\"toc-item-num\">10&nbsp;&nbsp;</span>Creating a series of booleans based on a conditional</a></div><div class=\"lev1 toc-item\"><a href=\"#Using-a-series-of-booleans-to-filter\" data-toc-modified-id=\"Using-a-series-of-booleans-to-filter-11\"><span class=\"toc-item-num\">11&nbsp;&nbsp;</span>Using a series of booleans to filter</a></div><div class=\"lev1 toc-item\"><a href=\"#Filtering-by-multiple-conditionals\" data-toc-modified-id=\"Filtering-by-multiple-conditionals-12\"><span class=\"toc-item-num\">12&nbsp;&nbsp;</span>Filtering by multiple conditionals</a></div><div class=\"lev1 toc-item\"><a href=\"#Filtering-by-string-methods\" data-toc-modified-id=\"Filtering-by-string-methods-13\"><span class=\"toc-item-num\">13&nbsp;&nbsp;</span>Filtering by string methods</a></div><div class=\"lev1 toc-item\"><a href=\"#Getting-a-row-via-a-numerical-index\" data-toc-modified-id=\"Getting-a-row-via-a-numerical-index-14\"><span class=\"toc-item-num\">14&nbsp;&nbsp;</span>Getting a row via a numerical index</a></div><div class=\"lev1 toc-item\"><a href=\"#Setting-a-new-index-from-an-existing-column\" data-toc-modified-id=\"Setting-a-new-index-from-an-existing-column-15\"><span class=\"toc-item-num\">15&nbsp;&nbsp;</span>Setting a new index from an existing column</a></div><div class=\"lev1 toc-item\"><a href=\"#Getting-a-row-via-a-label-based-index\" data-toc-modified-id=\"Getting-a-row-via-a-label-based-index-16\"><span class=\"toc-item-num\">16&nbsp;&nbsp;</span>Getting a row via a label-based index</a></div><div class=\"lev1 toc-item\"><a href=\"#Getting-a-row-via-a-label-based-or-numerical-index\" data-toc-modified-id=\"Getting-a-row-via-a-label-based-or-numerical-index-17\"><span class=\"toc-item-num\">17&nbsp;&nbsp;</span>Getting a row via a label-based or numerical index</a></div><div class=\"lev1 toc-item\"><a href=\"#sort-index\" data-toc-modified-id=\"sort-index-18\"><span class=\"toc-item-num\">18&nbsp;&nbsp;</span>sort index</a></div><div class=\"lev1 toc-item\"><a href=\"#Returning-an-index-to-data\" data-toc-modified-id=\"Returning-an-index-to-data-19\"><span class=\"toc-item-num\">19&nbsp;&nbsp;</span>Returning an index to data</a></div><div class=\"lev1 toc-item\"><a href=\"#Selecting-a-subset-of-columns\" data-toc-modified-id=\"Selecting-a-subset-of-columns-20\"><span class=\"toc-item-num\">20&nbsp;&nbsp;</span>Selecting a subset of columns</a></div><div class=\"lev1 toc-item\"><a href=\"#Add-random-date-column\" data-toc-modified-id=\"Add-random-date-column-21\"><span class=\"toc-item-num\">21&nbsp;&nbsp;</span>Add random date column</a></div><div class=\"lev1 toc-item\"><a href=\"#Applying-a-function-to-a-column\" data-toc-modified-id=\"Applying-a-function-to-a-column-22\"><span class=\"toc-item-num\">22&nbsp;&nbsp;</span>Applying a function to a column</a></div><div class=\"lev1 toc-item\"><a href=\"#Grouby\" data-toc-modified-id=\"Grouby-23\"><span class=\"toc-item-num\">23&nbsp;&nbsp;</span>Grouby</a></div><div class=\"lev1 toc-item\"><a href=\"#Grouping-by-multiple-columns\" data-toc-modified-id=\"Grouping-by-multiple-columns-24\"><span class=\"toc-item-num\">24&nbsp;&nbsp;</span>Grouping by multiple columns</a></div><div class=\"lev1 toc-item\"><a href=\"#pivot_table\" data-toc-modified-id=\"pivot_table-25\"><span class=\"toc-item-num\">25&nbsp;&nbsp;</span>pivot_table</a></div><div class=\"lev1 toc-item\"><a href=\"#合并数据集\" data-toc-modified-id=\"合并数据集-26\"><span class=\"toc-item-num\">26&nbsp;&nbsp;</span>合并数据集</a></div><div class=\"lev1 toc-item\"><a href=\"#Drop-missing-values\" data-toc-modified-id=\"Drop-missing-values-27\"><span class=\"toc-item-num\">27&nbsp;&nbsp;</span>Drop missing values</a></div><div class=\"lev1 toc-item\"><a href=\"#Fill-missing-values\" data-toc-modified-id=\"Fill-missing-values-28\"><span class=\"toc-item-num\">28&nbsp;&nbsp;</span>Fill missing values</a></div><div class=\"lev1 toc-item\"><a href=\"#Saving-your-data-to-a-csv\" data-toc-modified-id=\"Saving-your-data-to-a-csv-29\"><span class=\"toc-item-num\">29&nbsp;&nbsp;</span>Saving your data to a csv</a></div><div class=\"lev1 toc-item\"><a href=\"#Plots\" data-toc-modified-id=\"Plots-30\"><span class=\"toc-item-num\">30&nbsp;&nbsp;</span>Plots</a></div><div class=\"lev1 toc-item\"><a href=\"#Crosstab\" data-toc-modified-id=\"Crosstab-31\"><span class=\"toc-item-num\">31&nbsp;&nbsp;</span>Crosstab</a></div><div class=\"lev1 toc-item\"><a href=\"#sort_values\" data-toc-modified-id=\"sort_values-32\"><span class=\"toc-item-num\">32&nbsp;&nbsp;</span>sort_values</a></div><div class=\"lev1 toc-item\"><a href=\"#value_counts\" data-toc-modified-id=\"value_counts-33\"><span class=\"toc-item-num\">33&nbsp;&nbsp;</span>value_counts</a></div>"
   ]
  },
  {
   "cell_type": "code",
   "execution_count": 1,
   "metadata": {
    "collapsed": true
   },
   "outputs": [],
   "source": [
    "import pandas as pd\n",
    "import numpy as np\n",
    "\n",
    "%matplotlib inline"
   ]
  },
  {
   "cell_type": "markdown",
   "metadata": {},
   "source": [
    "# Reading a csv into Pandas"
   ]
  },
  {
   "cell_type": "code",
   "execution_count": 2,
   "metadata": {
    "collapsed": true
   },
   "outputs": [],
   "source": [
    "df = pd.read_csv('iris.csv', header=0)\n",
    "# If there are no column names you can set header to None. "
   ]
  },
  {
   "cell_type": "markdown",
   "metadata": {},
   "source": [
    "# read a tabular data file into pandas"
   ]
  },
  {
   "cell_type": "code",
   "execution_count": 3,
   "metadata": {
    "collapsed": false
   },
   "outputs": [],
   "source": [
    "df2 = pd.read_table('olympics.txt')\n",
    "# by default, sep is tab, first row is header"
   ]
  },
  {
   "cell_type": "code",
   "execution_count": 4,
   "metadata": {
    "collapsed": true
   },
   "outputs": [],
   "source": [
    "df3 = pd.read_table('http://bit.ly/chiporders')"
   ]
  },
  {
   "cell_type": "code",
   "execution_count": 5,
   "metadata": {
    "collapsed": true
   },
   "outputs": [],
   "source": [
    "df4 = pd.read_table('http://bit.ly/movieusers', sep='|', header=None)"
   ]
  },
  {
   "cell_type": "markdown",
   "metadata": {},
   "source": [
    "# Getting first x rows."
   ]
  },
  {
   "cell_type": "code",
   "execution_count": 6,
   "metadata": {
    "collapsed": false
   },
   "outputs": [
    {
     "data": {
      "text/html": [
       "<div>\n",
       "<table border=\"1\" class=\"dataframe\">\n",
       "  <thead>\n",
       "    <tr style=\"text-align: right;\">\n",
       "      <th></th>\n",
       "      <th>Unnamed: 0</th>\n",
       "      <th>Sepal.Length</th>\n",
       "      <th>Sepal.Width</th>\n",
       "      <th>Petal.Length</th>\n",
       "      <th>Petal.Width</th>\n",
       "      <th>Species</th>\n",
       "    </tr>\n",
       "  </thead>\n",
       "  <tbody>\n",
       "    <tr>\n",
       "      <th>0</th>\n",
       "      <td>1</td>\n",
       "      <td>5.1</td>\n",
       "      <td>3.5</td>\n",
       "      <td>1.4</td>\n",
       "      <td>0.2</td>\n",
       "      <td>setosa</td>\n",
       "    </tr>\n",
       "    <tr>\n",
       "      <th>1</th>\n",
       "      <td>2</td>\n",
       "      <td>4.9</td>\n",
       "      <td>3.0</td>\n",
       "      <td>1.4</td>\n",
       "      <td>0.2</td>\n",
       "      <td>setosa</td>\n",
       "    </tr>\n",
       "  </tbody>\n",
       "</table>\n",
       "</div>"
      ],
      "text/plain": [
       "   Unnamed: 0  Sepal.Length  Sepal.Width  Petal.Length  Petal.Width Species\n",
       "0           1           5.1          3.5           1.4          0.2  setosa\n",
       "1           2           4.9          3.0           1.4          0.2  setosa"
      ]
     },
     "execution_count": 6,
     "metadata": {},
     "output_type": "execute_result"
    }
   ],
   "source": [
    "df.head(2)"
   ]
  },
  {
   "cell_type": "code",
   "execution_count": 7,
   "metadata": {
    "collapsed": false
   },
   "outputs": [
    {
     "data": {
      "text/html": [
       "<div>\n",
       "<table border=\"1\" class=\"dataframe\">\n",
       "  <thead>\n",
       "    <tr style=\"text-align: right;\">\n",
       "      <th></th>\n",
       "      <th>0</th>\n",
       "      <th>1</th>\n",
       "      <th>2</th>\n",
       "      <th>3</th>\n",
       "      <th>4</th>\n",
       "    </tr>\n",
       "  </thead>\n",
       "  <tbody>\n",
       "    <tr>\n",
       "      <th>0</th>\n",
       "      <td>1</td>\n",
       "      <td>24</td>\n",
       "      <td>M</td>\n",
       "      <td>technician</td>\n",
       "      <td>85711</td>\n",
       "    </tr>\n",
       "    <tr>\n",
       "      <th>1</th>\n",
       "      <td>2</td>\n",
       "      <td>53</td>\n",
       "      <td>F</td>\n",
       "      <td>other</td>\n",
       "      <td>94043</td>\n",
       "    </tr>\n",
       "  </tbody>\n",
       "</table>\n",
       "</div>"
      ],
      "text/plain": [
       "   0   1  2           3      4\n",
       "0  1  24  M  technician  85711\n",
       "1  2  53  F       other  94043"
      ]
     },
     "execution_count": 7,
     "metadata": {},
     "output_type": "execute_result"
    }
   ],
   "source": [
    "df4.head(2)"
   ]
  },
  {
   "cell_type": "markdown",
   "metadata": {},
   "source": [
    "# Getting last x rows."
   ]
  },
  {
   "cell_type": "code",
   "execution_count": 8,
   "metadata": {
    "collapsed": false
   },
   "outputs": [
    {
     "data": {
      "text/html": [
       "<div>\n",
       "<table border=\"1\" class=\"dataframe\">\n",
       "  <thead>\n",
       "    <tr style=\"text-align: right;\">\n",
       "      <th></th>\n",
       "      <th>Unnamed: 0</th>\n",
       "      <th>Sepal.Length</th>\n",
       "      <th>Sepal.Width</th>\n",
       "      <th>Petal.Length</th>\n",
       "      <th>Petal.Width</th>\n",
       "      <th>Species</th>\n",
       "    </tr>\n",
       "  </thead>\n",
       "  <tbody>\n",
       "    <tr>\n",
       "      <th>148</th>\n",
       "      <td>149</td>\n",
       "      <td>6.2</td>\n",
       "      <td>3.4</td>\n",
       "      <td>5.4</td>\n",
       "      <td>2.3</td>\n",
       "      <td>virginica</td>\n",
       "    </tr>\n",
       "    <tr>\n",
       "      <th>149</th>\n",
       "      <td>150</td>\n",
       "      <td>5.9</td>\n",
       "      <td>3.0</td>\n",
       "      <td>5.1</td>\n",
       "      <td>1.8</td>\n",
       "      <td>virginica</td>\n",
       "    </tr>\n",
       "  </tbody>\n",
       "</table>\n",
       "</div>"
      ],
      "text/plain": [
       "     Unnamed: 0  Sepal.Length  Sepal.Width  Petal.Length  Petal.Width  \\\n",
       "148         149           6.2          3.4           5.4          2.3   \n",
       "149         150           5.9          3.0           5.1          1.8   \n",
       "\n",
       "       Species  \n",
       "148  virginica  \n",
       "149  virginica  "
      ]
     },
     "execution_count": 8,
     "metadata": {},
     "output_type": "execute_result"
    }
   ],
   "source": [
    "df.tail(2)"
   ]
  },
  {
   "cell_type": "markdown",
   "metadata": {},
   "source": [
    "# Changing column labels."
   ]
  },
  {
   "cell_type": "code",
   "execution_count": 9,
   "metadata": {
    "collapsed": false
   },
   "outputs": [
    {
     "data": {
      "text/html": [
       "<div>\n",
       "<table border=\"1\" class=\"dataframe\">\n",
       "  <thead>\n",
       "    <tr style=\"text-align: right;\">\n",
       "      <th></th>\n",
       "      <th>idx</th>\n",
       "      <th>sepal_length</th>\n",
       "      <th>sepal_width</th>\n",
       "      <th>petal_length</th>\n",
       "      <th>petal_width</th>\n",
       "      <th>species</th>\n",
       "    </tr>\n",
       "  </thead>\n",
       "  <tbody>\n",
       "    <tr>\n",
       "      <th>0</th>\n",
       "      <td>1</td>\n",
       "      <td>5.1</td>\n",
       "      <td>3.5</td>\n",
       "      <td>1.4</td>\n",
       "      <td>0.2</td>\n",
       "      <td>setosa</td>\n",
       "    </tr>\n",
       "    <tr>\n",
       "      <th>1</th>\n",
       "      <td>2</td>\n",
       "      <td>4.9</td>\n",
       "      <td>3.0</td>\n",
       "      <td>1.4</td>\n",
       "      <td>0.2</td>\n",
       "      <td>setosa</td>\n",
       "    </tr>\n",
       "  </tbody>\n",
       "</table>\n",
       "</div>"
      ],
      "text/plain": [
       "   idx  sepal_length  sepal_width  petal_length  petal_width species\n",
       "0    1           5.1          3.5           1.4          0.2  setosa\n",
       "1    2           4.9          3.0           1.4          0.2  setosa"
      ]
     },
     "execution_count": 9,
     "metadata": {},
     "output_type": "execute_result"
    }
   ],
   "source": [
    "df.columns = ['idx','sepal_length', 'sepal_width', 'petal_length', 'petal_width', 'species']\n",
    "df.head(2)"
   ]
  },
  {
   "cell_type": "code",
   "execution_count": 10,
   "metadata": {
    "collapsed": false
   },
   "outputs": [
    {
     "data": {
      "text/html": [
       "<div>\n",
       "<table border=\"1\" class=\"dataframe\">\n",
       "  <thead>\n",
       "    <tr style=\"text-align: right;\">\n",
       "      <th></th>\n",
       "      <th>user_id</th>\n",
       "      <th>age</th>\n",
       "      <th>gender</th>\n",
       "      <th>occupation</th>\n",
       "      <th>zip_code</th>\n",
       "    </tr>\n",
       "  </thead>\n",
       "  <tbody>\n",
       "    <tr>\n",
       "      <th>0</th>\n",
       "      <td>1</td>\n",
       "      <td>24</td>\n",
       "      <td>M</td>\n",
       "      <td>technician</td>\n",
       "      <td>85711</td>\n",
       "    </tr>\n",
       "    <tr>\n",
       "      <th>1</th>\n",
       "      <td>2</td>\n",
       "      <td>53</td>\n",
       "      <td>F</td>\n",
       "      <td>other</td>\n",
       "      <td>94043</td>\n",
       "    </tr>\n",
       "  </tbody>\n",
       "</table>\n",
       "</div>"
      ],
      "text/plain": [
       "   user_id  age gender  occupation zip_code\n",
       "0        1   24      M  technician    85711\n",
       "1        2   53      F       other    94043"
      ]
     },
     "execution_count": 10,
     "metadata": {},
     "output_type": "execute_result"
    }
   ],
   "source": [
    "df4.columns = ['user_id', 'age', 'gender', 'occupation', 'zip_code']\n",
    "df4.head(2)"
   ]
  },
  {
   "cell_type": "markdown",
   "metadata": {},
   "source": [
    "# Finding out how many rows dataset has."
   ]
  },
  {
   "cell_type": "code",
   "execution_count": 11,
   "metadata": {
    "collapsed": false
   },
   "outputs": [
    {
     "data": {
      "text/plain": [
       "150"
      ]
     },
     "execution_count": 11,
     "metadata": {},
     "output_type": "execute_result"
    }
   ],
   "source": [
    "len(df)"
   ]
  },
  {
   "cell_type": "markdown",
   "metadata": {},
   "source": [
    "# Finding out basic statistical information on your dataset."
   ]
  },
  {
   "cell_type": "code",
   "execution_count": 12,
   "metadata": {
    "collapsed": false
   },
   "outputs": [
    {
     "data": {
      "text/html": [
       "<div>\n",
       "<table border=\"1\" class=\"dataframe\">\n",
       "  <thead>\n",
       "    <tr style=\"text-align: right;\">\n",
       "      <th></th>\n",
       "      <th>idx</th>\n",
       "      <th>sepal_length</th>\n",
       "      <th>sepal_width</th>\n",
       "      <th>petal_length</th>\n",
       "      <th>petal_width</th>\n",
       "    </tr>\n",
       "  </thead>\n",
       "  <tbody>\n",
       "    <tr>\n",
       "      <th>count</th>\n",
       "      <td>150.000</td>\n",
       "      <td>150.000</td>\n",
       "      <td>150.000</td>\n",
       "      <td>150.000</td>\n",
       "      <td>150.000</td>\n",
       "    </tr>\n",
       "    <tr>\n",
       "      <th>mean</th>\n",
       "      <td>75.500</td>\n",
       "      <td>5.843</td>\n",
       "      <td>3.057</td>\n",
       "      <td>3.758</td>\n",
       "      <td>1.199</td>\n",
       "    </tr>\n",
       "    <tr>\n",
       "      <th>std</th>\n",
       "      <td>43.445</td>\n",
       "      <td>0.828</td>\n",
       "      <td>0.436</td>\n",
       "      <td>1.765</td>\n",
       "      <td>0.762</td>\n",
       "    </tr>\n",
       "    <tr>\n",
       "      <th>min</th>\n",
       "      <td>1.000</td>\n",
       "      <td>4.300</td>\n",
       "      <td>2.000</td>\n",
       "      <td>1.000</td>\n",
       "      <td>0.100</td>\n",
       "    </tr>\n",
       "    <tr>\n",
       "      <th>25%</th>\n",
       "      <td>38.250</td>\n",
       "      <td>5.100</td>\n",
       "      <td>2.800</td>\n",
       "      <td>1.600</td>\n",
       "      <td>0.300</td>\n",
       "    </tr>\n",
       "    <tr>\n",
       "      <th>50%</th>\n",
       "      <td>75.500</td>\n",
       "      <td>5.800</td>\n",
       "      <td>3.000</td>\n",
       "      <td>4.350</td>\n",
       "      <td>1.300</td>\n",
       "    </tr>\n",
       "    <tr>\n",
       "      <th>75%</th>\n",
       "      <td>112.750</td>\n",
       "      <td>6.400</td>\n",
       "      <td>3.300</td>\n",
       "      <td>5.100</td>\n",
       "      <td>1.800</td>\n",
       "    </tr>\n",
       "    <tr>\n",
       "      <th>max</th>\n",
       "      <td>150.000</td>\n",
       "      <td>7.900</td>\n",
       "      <td>4.400</td>\n",
       "      <td>6.900</td>\n",
       "      <td>2.500</td>\n",
       "    </tr>\n",
       "  </tbody>\n",
       "</table>\n",
       "</div>"
      ],
      "text/plain": [
       "          idx  sepal_length  sepal_width  petal_length  petal_width\n",
       "count 150.000       150.000      150.000       150.000      150.000\n",
       "mean   75.500         5.843        3.057         3.758        1.199\n",
       "std    43.445         0.828        0.436         1.765        0.762\n",
       "min     1.000         4.300        2.000         1.000        0.100\n",
       "25%    38.250         5.100        2.800         1.600        0.300\n",
       "50%    75.500         5.800        3.000         4.350        1.300\n",
       "75%   112.750         6.400        3.300         5.100        1.800\n",
       "max   150.000         7.900        4.400         6.900        2.500"
      ]
     },
     "execution_count": 12,
     "metadata": {},
     "output_type": "execute_result"
    }
   ],
   "source": [
    "pd.options.display.float_format = '{:,.3f}'.format \n",
    "# Limit output to 3 decimal places.\n",
    "df.describe()"
   ]
  },
  {
   "cell_type": "code",
   "execution_count": 13,
   "metadata": {
    "collapsed": false
   },
   "outputs": [
    {
     "data": {
      "text/html": [
       "<div>\n",
       "<table border=\"1\" class=\"dataframe\">\n",
       "  <thead>\n",
       "    <tr style=\"text-align: right;\">\n",
       "      <th></th>\n",
       "      <th>idx</th>\n",
       "      <th>sepal_length</th>\n",
       "      <th>sepal_width</th>\n",
       "      <th>petal_length</th>\n",
       "      <th>petal_width</th>\n",
       "    </tr>\n",
       "  </thead>\n",
       "  <tbody>\n",
       "    <tr>\n",
       "      <th>idx</th>\n",
       "      <td>1,887.500</td>\n",
       "      <td>25.783</td>\n",
       "      <td>-7.618</td>\n",
       "      <td>67.693</td>\n",
       "      <td>29.805</td>\n",
       "    </tr>\n",
       "    <tr>\n",
       "      <th>sepal_length</th>\n",
       "      <td>25.783</td>\n",
       "      <td>0.686</td>\n",
       "      <td>-0.042</td>\n",
       "      <td>1.274</td>\n",
       "      <td>0.516</td>\n",
       "    </tr>\n",
       "    <tr>\n",
       "      <th>sepal_width</th>\n",
       "      <td>-7.618</td>\n",
       "      <td>-0.042</td>\n",
       "      <td>0.190</td>\n",
       "      <td>-0.330</td>\n",
       "      <td>-0.122</td>\n",
       "    </tr>\n",
       "    <tr>\n",
       "      <th>petal_length</th>\n",
       "      <td>67.693</td>\n",
       "      <td>1.274</td>\n",
       "      <td>-0.330</td>\n",
       "      <td>3.116</td>\n",
       "      <td>1.296</td>\n",
       "    </tr>\n",
       "    <tr>\n",
       "      <th>petal_width</th>\n",
       "      <td>29.805</td>\n",
       "      <td>0.516</td>\n",
       "      <td>-0.122</td>\n",
       "      <td>1.296</td>\n",
       "      <td>0.581</td>\n",
       "    </tr>\n",
       "  </tbody>\n",
       "</table>\n",
       "</div>"
      ],
      "text/plain": [
       "                   idx  sepal_length  sepal_width  petal_length  petal_width\n",
       "idx          1,887.500        25.783       -7.618        67.693       29.805\n",
       "sepal_length    25.783         0.686       -0.042         1.274        0.516\n",
       "sepal_width     -7.618        -0.042        0.190        -0.330       -0.122\n",
       "petal_length    67.693         1.274       -0.330         3.116        1.296\n",
       "petal_width     29.805         0.516       -0.122         1.296        0.581"
      ]
     },
     "execution_count": 13,
     "metadata": {},
     "output_type": "execute_result"
    }
   ],
   "source": [
    "df.cov()"
   ]
  },
  {
   "cell_type": "code",
   "execution_count": 14,
   "metadata": {
    "collapsed": false
   },
   "outputs": [
    {
     "data": {
      "text/html": [
       "<div>\n",
       "<table border=\"1\" class=\"dataframe\">\n",
       "  <thead>\n",
       "    <tr style=\"text-align: right;\">\n",
       "      <th></th>\n",
       "      <th>idx</th>\n",
       "      <th>sepal_length</th>\n",
       "      <th>sepal_width</th>\n",
       "      <th>petal_length</th>\n",
       "      <th>petal_width</th>\n",
       "    </tr>\n",
       "  </thead>\n",
       "  <tbody>\n",
       "    <tr>\n",
       "      <th>idx</th>\n",
       "      <td>1.000</td>\n",
       "      <td>0.717</td>\n",
       "      <td>-0.402</td>\n",
       "      <td>0.883</td>\n",
       "      <td>0.900</td>\n",
       "    </tr>\n",
       "    <tr>\n",
       "      <th>sepal_length</th>\n",
       "      <td>0.717</td>\n",
       "      <td>1.000</td>\n",
       "      <td>-0.118</td>\n",
       "      <td>0.872</td>\n",
       "      <td>0.818</td>\n",
       "    </tr>\n",
       "    <tr>\n",
       "      <th>sepal_width</th>\n",
       "      <td>-0.402</td>\n",
       "      <td>-0.118</td>\n",
       "      <td>1.000</td>\n",
       "      <td>-0.428</td>\n",
       "      <td>-0.366</td>\n",
       "    </tr>\n",
       "    <tr>\n",
       "      <th>petal_length</th>\n",
       "      <td>0.883</td>\n",
       "      <td>0.872</td>\n",
       "      <td>-0.428</td>\n",
       "      <td>1.000</td>\n",
       "      <td>0.963</td>\n",
       "    </tr>\n",
       "    <tr>\n",
       "      <th>petal_width</th>\n",
       "      <td>0.900</td>\n",
       "      <td>0.818</td>\n",
       "      <td>-0.366</td>\n",
       "      <td>0.963</td>\n",
       "      <td>1.000</td>\n",
       "    </tr>\n",
       "  </tbody>\n",
       "</table>\n",
       "</div>"
      ],
      "text/plain": [
       "                idx  sepal_length  sepal_width  petal_length  petal_width\n",
       "idx           1.000         0.717       -0.402         0.883        0.900\n",
       "sepal_length  0.717         1.000       -0.118         0.872        0.818\n",
       "sepal_width  -0.402        -0.118        1.000        -0.428       -0.366\n",
       "petal_length  0.883         0.872       -0.428         1.000        0.963\n",
       "petal_width   0.900         0.818       -0.366         0.963        1.000"
      ]
     },
     "execution_count": 14,
     "metadata": {},
     "output_type": "execute_result"
    }
   ],
   "source": [
    "df.corr()"
   ]
  },
  {
   "cell_type": "markdown",
   "metadata": {},
   "source": [
    "# Getting a column by label"
   ]
  },
  {
   "cell_type": "code",
   "execution_count": 15,
   "metadata": {
    "collapsed": false
   },
   "outputs": [
    {
     "data": {
      "text/plain": [
       "0   5.100\n",
       "1   4.900\n",
       "Name: sepal_length, dtype: float64"
      ]
     },
     "execution_count": 15,
     "metadata": {},
     "output_type": "execute_result"
    }
   ],
   "source": [
    "df['sepal_length'].head(2)"
   ]
  },
  {
   "cell_type": "markdown",
   "metadata": {},
   "source": [
    "# Getting a column by label using ."
   ]
  },
  {
   "cell_type": "code",
   "execution_count": 16,
   "metadata": {
    "collapsed": false
   },
   "outputs": [
    {
     "data": {
      "text/plain": [
       "0   5.100\n",
       "1   4.900\n",
       "Name: sepal_length, dtype: float64"
      ]
     },
     "execution_count": 16,
     "metadata": {},
     "output_type": "execute_result"
    }
   ],
   "source": [
    "df.sepal_length.head(2)"
   ]
  },
  {
   "cell_type": "markdown",
   "metadata": {},
   "source": [
    "# Creating a series of booleans based on a conditional"
   ]
  },
  {
   "cell_type": "code",
   "execution_count": 17,
   "metadata": {
    "collapsed": false
   },
   "outputs": [
    {
     "data": {
      "text/plain": [
       "0    False\n",
       "1     True\n",
       "Name: sepal_length, dtype: bool"
      ]
     },
     "execution_count": 17,
     "metadata": {},
     "output_type": "execute_result"
    }
   ],
   "source": [
    "boolean = df.sepal_length < 5\n",
    "boolean.head(2)\n",
    "# Or df['sepal_length'] < 5"
   ]
  },
  {
   "cell_type": "markdown",
   "metadata": {},
   "source": [
    "# Using a series of booleans to filter"
   ]
  },
  {
   "cell_type": "code",
   "execution_count": 18,
   "metadata": {
    "collapsed": false
   },
   "outputs": [
    {
     "data": {
      "text/html": [
       "<div>\n",
       "<table border=\"1\" class=\"dataframe\">\n",
       "  <thead>\n",
       "    <tr style=\"text-align: right;\">\n",
       "      <th></th>\n",
       "      <th>idx</th>\n",
       "      <th>sepal_length</th>\n",
       "      <th>sepal_width</th>\n",
       "      <th>petal_length</th>\n",
       "      <th>petal_width</th>\n",
       "      <th>species</th>\n",
       "    </tr>\n",
       "  </thead>\n",
       "  <tbody>\n",
       "    <tr>\n",
       "      <th>1</th>\n",
       "      <td>2</td>\n",
       "      <td>4.900</td>\n",
       "      <td>3.000</td>\n",
       "      <td>1.400</td>\n",
       "      <td>0.200</td>\n",
       "      <td>setosa</td>\n",
       "    </tr>\n",
       "    <tr>\n",
       "      <th>2</th>\n",
       "      <td>3</td>\n",
       "      <td>4.700</td>\n",
       "      <td>3.200</td>\n",
       "      <td>1.300</td>\n",
       "      <td>0.200</td>\n",
       "      <td>setosa</td>\n",
       "    </tr>\n",
       "  </tbody>\n",
       "</table>\n",
       "</div>"
      ],
      "text/plain": [
       "   idx  sepal_length  sepal_width  petal_length  petal_width species\n",
       "1    2         4.900        3.000         1.400        0.200  setosa\n",
       "2    3         4.700        3.200         1.300        0.200  setosa"
      ]
     },
     "execution_count": 18,
     "metadata": {},
     "output_type": "execute_result"
    }
   ],
   "source": [
    "df[df.sepal_length < 5].head(2)"
   ]
  },
  {
   "cell_type": "code",
   "execution_count": 19,
   "metadata": {
    "collapsed": false
   },
   "outputs": [
    {
     "data": {
      "text/html": [
       "<div>\n",
       "<table border=\"1\" class=\"dataframe\">\n",
       "  <thead>\n",
       "    <tr style=\"text-align: right;\">\n",
       "      <th></th>\n",
       "      <th>idx</th>\n",
       "      <th>sepal_length</th>\n",
       "      <th>sepal_width</th>\n",
       "      <th>petal_length</th>\n",
       "      <th>petal_width</th>\n",
       "      <th>species</th>\n",
       "    </tr>\n",
       "  </thead>\n",
       "  <tbody>\n",
       "    <tr>\n",
       "      <th>0</th>\n",
       "      <td>1</td>\n",
       "      <td>5.100</td>\n",
       "      <td>3.500</td>\n",
       "      <td>1.400</td>\n",
       "      <td>0.200</td>\n",
       "      <td>setosa</td>\n",
       "    </tr>\n",
       "    <tr>\n",
       "      <th>4</th>\n",
       "      <td>5</td>\n",
       "      <td>5.000</td>\n",
       "      <td>3.600</td>\n",
       "      <td>1.400</td>\n",
       "      <td>0.200</td>\n",
       "      <td>setosa</td>\n",
       "    </tr>\n",
       "  </tbody>\n",
       "</table>\n",
       "</div>"
      ],
      "text/plain": [
       "   idx  sepal_length  sepal_width  petal_length  petal_width species\n",
       "0    1         5.100        3.500         1.400        0.200  setosa\n",
       "4    5         5.000        3.600         1.400        0.200  setosa"
      ]
     },
     "execution_count": 19,
     "metadata": {},
     "output_type": "execute_result"
    }
   ],
   "source": [
    "df[~(df.sepal_length < 5)].head(2)"
   ]
  },
  {
   "cell_type": "markdown",
   "metadata": {},
   "source": [
    "# Filtering by multiple conditionals"
   ]
  },
  {
   "cell_type": "code",
   "execution_count": 20,
   "metadata": {
    "collapsed": false
   },
   "outputs": [
    {
     "data": {
      "text/html": [
       "<div>\n",
       "<table border=\"1\" class=\"dataframe\">\n",
       "  <thead>\n",
       "    <tr style=\"text-align: right;\">\n",
       "      <th></th>\n",
       "      <th>idx</th>\n",
       "      <th>sepal_length</th>\n",
       "      <th>sepal_width</th>\n",
       "      <th>petal_length</th>\n",
       "      <th>petal_width</th>\n",
       "      <th>species</th>\n",
       "    </tr>\n",
       "  </thead>\n",
       "  <tbody>\n",
       "    <tr>\n",
       "      <th>2</th>\n",
       "      <td>3</td>\n",
       "      <td>4.700</td>\n",
       "      <td>3.200</td>\n",
       "      <td>1.300</td>\n",
       "      <td>0.200</td>\n",
       "      <td>setosa</td>\n",
       "    </tr>\n",
       "    <tr>\n",
       "      <th>3</th>\n",
       "      <td>4</td>\n",
       "      <td>4.600</td>\n",
       "      <td>3.100</td>\n",
       "      <td>1.500</td>\n",
       "      <td>0.200</td>\n",
       "      <td>setosa</td>\n",
       "    </tr>\n",
       "  </tbody>\n",
       "</table>\n",
       "</div>"
      ],
      "text/plain": [
       "   idx  sepal_length  sepal_width  petal_length  petal_width species\n",
       "2    3         4.700        3.200         1.300        0.200  setosa\n",
       "3    4         4.600        3.100         1.500        0.200  setosa"
      ]
     },
     "execution_count": 20,
     "metadata": {},
     "output_type": "execute_result"
    }
   ],
   "source": [
    "df[(df.sepal_length < 5) & (df.sepal_width > 3)].head(2)\n",
    "# Can't use the keyword 'and'"
   ]
  },
  {
   "cell_type": "code",
   "execution_count": 21,
   "metadata": {
    "collapsed": false
   },
   "outputs": [
    {
     "data": {
      "text/html": [
       "<div>\n",
       "<table border=\"1\" class=\"dataframe\">\n",
       "  <thead>\n",
       "    <tr style=\"text-align: right;\">\n",
       "      <th></th>\n",
       "      <th>idx</th>\n",
       "      <th>sepal_length</th>\n",
       "      <th>sepal_width</th>\n",
       "      <th>petal_length</th>\n",
       "      <th>petal_width</th>\n",
       "      <th>species</th>\n",
       "    </tr>\n",
       "  </thead>\n",
       "  <tbody>\n",
       "    <tr>\n",
       "      <th>0</th>\n",
       "      <td>1</td>\n",
       "      <td>5.100</td>\n",
       "      <td>3.500</td>\n",
       "      <td>1.400</td>\n",
       "      <td>0.200</td>\n",
       "      <td>setosa</td>\n",
       "    </tr>\n",
       "    <tr>\n",
       "      <th>1</th>\n",
       "      <td>2</td>\n",
       "      <td>4.900</td>\n",
       "      <td>3.000</td>\n",
       "      <td>1.400</td>\n",
       "      <td>0.200</td>\n",
       "      <td>setosa</td>\n",
       "    </tr>\n",
       "  </tbody>\n",
       "</table>\n",
       "</div>"
      ],
      "text/plain": [
       "   idx  sepal_length  sepal_width  petal_length  petal_width species\n",
       "0    1         5.100        3.500         1.400        0.200  setosa\n",
       "1    2         4.900        3.000         1.400        0.200  setosa"
      ]
     },
     "execution_count": 21,
     "metadata": {},
     "output_type": "execute_result"
    }
   ],
   "source": [
    "df[(df.sepal_length < 5) | (df.sepal_width > 3)].head(2)"
   ]
  },
  {
   "cell_type": "markdown",
   "metadata": {},
   "source": [
    "# Filtering by string methods"
   ]
  },
  {
   "cell_type": "code",
   "execution_count": 22,
   "metadata": {
    "collapsed": false
   },
   "outputs": [
    {
     "data": {
      "text/html": [
       "<div>\n",
       "<table border=\"1\" class=\"dataframe\">\n",
       "  <thead>\n",
       "    <tr style=\"text-align: right;\">\n",
       "      <th></th>\n",
       "      <th>idx</th>\n",
       "      <th>sepal_length</th>\n",
       "      <th>sepal_width</th>\n",
       "      <th>petal_length</th>\n",
       "      <th>petal_width</th>\n",
       "      <th>species</th>\n",
       "    </tr>\n",
       "  </thead>\n",
       "  <tbody>\n",
       "    <tr>\n",
       "      <th>0</th>\n",
       "      <td>1</td>\n",
       "      <td>5.100</td>\n",
       "      <td>3.500</td>\n",
       "      <td>1.400</td>\n",
       "      <td>0.200</td>\n",
       "      <td>setosa</td>\n",
       "    </tr>\n",
       "    <tr>\n",
       "      <th>1</th>\n",
       "      <td>2</td>\n",
       "      <td>4.900</td>\n",
       "      <td>3.000</td>\n",
       "      <td>1.400</td>\n",
       "      <td>0.200</td>\n",
       "      <td>setosa</td>\n",
       "    </tr>\n",
       "    <tr>\n",
       "      <th>2</th>\n",
       "      <td>3</td>\n",
       "      <td>4.700</td>\n",
       "      <td>3.200</td>\n",
       "      <td>1.300</td>\n",
       "      <td>0.200</td>\n",
       "      <td>setosa</td>\n",
       "    </tr>\n",
       "  </tbody>\n",
       "</table>\n",
       "</div>"
      ],
      "text/plain": [
       "   idx  sepal_length  sepal_width  petal_length  petal_width species\n",
       "0    1         5.100        3.500         1.400        0.200  setosa\n",
       "1    2         4.900        3.000         1.400        0.200  setosa\n",
       "2    3         4.700        3.200         1.300        0.200  setosa"
      ]
     },
     "execution_count": 22,
     "metadata": {},
     "output_type": "execute_result"
    }
   ],
   "source": [
    "df[df.species.str.startswith('seto')].head(3)"
   ]
  },
  {
   "cell_type": "markdown",
   "metadata": {},
   "source": [
    "# Getting a row via a numerical index"
   ]
  },
  {
   "cell_type": "code",
   "execution_count": 23,
   "metadata": {
    "collapsed": false
   },
   "outputs": [
    {
     "data": {
      "text/plain": [
       "idx                 31\n",
       "sepal_length     4.800\n",
       "sepal_width      3.100\n",
       "petal_length     1.600\n",
       "petal_width      0.200\n",
       "species         setosa\n",
       "Name: 30, dtype: object"
      ]
     },
     "execution_count": 23,
     "metadata": {},
     "output_type": "execute_result"
    }
   ],
   "source": [
    "df.iloc[30]"
   ]
  },
  {
   "cell_type": "markdown",
   "metadata": {},
   "source": [
    "# Setting a new index from an existing column"
   ]
  },
  {
   "cell_type": "code",
   "execution_count": 24,
   "metadata": {
    "collapsed": false
   },
   "outputs": [
    {
     "data": {
      "text/html": [
       "<div>\n",
       "<table border=\"1\" class=\"dataframe\">\n",
       "  <thead>\n",
       "    <tr style=\"text-align: right;\">\n",
       "      <th></th>\n",
       "      <th>sepal_length</th>\n",
       "      <th>sepal_width</th>\n",
       "      <th>petal_length</th>\n",
       "      <th>petal_width</th>\n",
       "      <th>species</th>\n",
       "    </tr>\n",
       "    <tr>\n",
       "      <th>idx</th>\n",
       "      <th></th>\n",
       "      <th></th>\n",
       "      <th></th>\n",
       "      <th></th>\n",
       "      <th></th>\n",
       "    </tr>\n",
       "  </thead>\n",
       "  <tbody>\n",
       "    <tr>\n",
       "      <th>1</th>\n",
       "      <td>5.100</td>\n",
       "      <td>3.500</td>\n",
       "      <td>1.400</td>\n",
       "      <td>0.200</td>\n",
       "      <td>setosa</td>\n",
       "    </tr>\n",
       "    <tr>\n",
       "      <th>2</th>\n",
       "      <td>4.900</td>\n",
       "      <td>3.000</td>\n",
       "      <td>1.400</td>\n",
       "      <td>0.200</td>\n",
       "      <td>setosa</td>\n",
       "    </tr>\n",
       "    <tr>\n",
       "      <th>3</th>\n",
       "      <td>4.700</td>\n",
       "      <td>3.200</td>\n",
       "      <td>1.300</td>\n",
       "      <td>0.200</td>\n",
       "      <td>setosa</td>\n",
       "    </tr>\n",
       "    <tr>\n",
       "      <th>4</th>\n",
       "      <td>4.600</td>\n",
       "      <td>3.100</td>\n",
       "      <td>1.500</td>\n",
       "      <td>0.200</td>\n",
       "      <td>setosa</td>\n",
       "    </tr>\n",
       "    <tr>\n",
       "      <th>5</th>\n",
       "      <td>5.000</td>\n",
       "      <td>3.600</td>\n",
       "      <td>1.400</td>\n",
       "      <td>0.200</td>\n",
       "      <td>setosa</td>\n",
       "    </tr>\n",
       "  </tbody>\n",
       "</table>\n",
       "</div>"
      ],
      "text/plain": [
       "     sepal_length  sepal_width  petal_length  petal_width species\n",
       "idx                                                              \n",
       "1           5.100        3.500         1.400        0.200  setosa\n",
       "2           4.900        3.000         1.400        0.200  setosa\n",
       "3           4.700        3.200         1.300        0.200  setosa\n",
       "4           4.600        3.100         1.500        0.200  setosa\n",
       "5           5.000        3.600         1.400        0.200  setosa"
      ]
     },
     "execution_count": 24,
     "metadata": {},
     "output_type": "execute_result"
    }
   ],
   "source": [
    "df = df.set_index(['idx'])\n",
    "# This will make the column ‘idx’ an index.\n",
    "df.head(5)"
   ]
  },
  {
   "cell_type": "markdown",
   "metadata": {},
   "source": [
    "# Getting a row via a label-based index"
   ]
  },
  {
   "cell_type": "code",
   "execution_count": 25,
   "metadata": {
    "collapsed": false
   },
   "outputs": [
    {
     "data": {
      "text/plain": [
       "sepal_length     4.700\n",
       "sepal_width      3.200\n",
       "petal_length     1.600\n",
       "petal_width      0.200\n",
       "species         setosa\n",
       "Name: 30, dtype: object"
      ]
     },
     "execution_count": 25,
     "metadata": {},
     "output_type": "execute_result"
    }
   ],
   "source": [
    "df.loc[30]\n",
    "# This, like iloc will return a series of the row you reference. \n",
    "# The only difference is this time you are using label based \n",
    "# referencing not numerical based.\n",
    "# Note: idx starts from 1 while index starts from 0"
   ]
  },
  {
   "cell_type": "markdown",
   "metadata": {},
   "source": [
    "# Getting a row via a label-based or numerical index"
   ]
  },
  {
   "cell_type": "code",
   "execution_count": 26,
   "metadata": {
    "collapsed": false
   },
   "outputs": [
    {
     "data": {
      "text/plain": [
       "sepal_length     4.700\n",
       "sepal_width      3.200\n",
       "petal_length     1.600\n",
       "petal_width      0.200\n",
       "species         setosa\n",
       "Name: 30, dtype: object"
      ]
     },
     "execution_count": 26,
     "metadata": {},
     "output_type": "execute_result"
    }
   ],
   "source": [
    "df.ix[30] \n",
    "# Label based with numerical index fallback \n",
    "# *Not recommended"
   ]
  },
  {
   "cell_type": "markdown",
   "metadata": {},
   "source": [
    "# sort index"
   ]
  },
  {
   "cell_type": "code",
   "execution_count": 27,
   "metadata": {
    "collapsed": false
   },
   "outputs": [
    {
     "data": {
      "text/html": [
       "<div>\n",
       "<table border=\"1\" class=\"dataframe\">\n",
       "  <thead>\n",
       "    <tr style=\"text-align: right;\">\n",
       "      <th></th>\n",
       "      <th>sepal_length</th>\n",
       "      <th>sepal_width</th>\n",
       "      <th>petal_length</th>\n",
       "      <th>petal_width</th>\n",
       "      <th>species</th>\n",
       "    </tr>\n",
       "    <tr>\n",
       "      <th>idx</th>\n",
       "      <th></th>\n",
       "      <th></th>\n",
       "      <th></th>\n",
       "      <th></th>\n",
       "      <th></th>\n",
       "    </tr>\n",
       "  </thead>\n",
       "  <tbody>\n",
       "    <tr>\n",
       "      <th>150</th>\n",
       "      <td>5.900</td>\n",
       "      <td>3.000</td>\n",
       "      <td>5.100</td>\n",
       "      <td>1.800</td>\n",
       "      <td>virginica</td>\n",
       "    </tr>\n",
       "    <tr>\n",
       "      <th>149</th>\n",
       "      <td>6.200</td>\n",
       "      <td>3.400</td>\n",
       "      <td>5.400</td>\n",
       "      <td>2.300</td>\n",
       "      <td>virginica</td>\n",
       "    </tr>\n",
       "    <tr>\n",
       "      <th>148</th>\n",
       "      <td>6.500</td>\n",
       "      <td>3.000</td>\n",
       "      <td>5.200</td>\n",
       "      <td>2.000</td>\n",
       "      <td>virginica</td>\n",
       "    </tr>\n",
       "    <tr>\n",
       "      <th>147</th>\n",
       "      <td>6.300</td>\n",
       "      <td>2.500</td>\n",
       "      <td>5.000</td>\n",
       "      <td>1.900</td>\n",
       "      <td>virginica</td>\n",
       "    </tr>\n",
       "    <tr>\n",
       "      <th>146</th>\n",
       "      <td>6.700</td>\n",
       "      <td>3.000</td>\n",
       "      <td>5.200</td>\n",
       "      <td>2.300</td>\n",
       "      <td>virginica</td>\n",
       "    </tr>\n",
       "  </tbody>\n",
       "</table>\n",
       "</div>"
      ],
      "text/plain": [
       "     sepal_length  sepal_width  petal_length  petal_width    species\n",
       "idx                                                                 \n",
       "150         5.900        3.000         5.100        1.800  virginica\n",
       "149         6.200        3.400         5.400        2.300  virginica\n",
       "148         6.500        3.000         5.200        2.000  virginica\n",
       "147         6.300        2.500         5.000        1.900  virginica\n",
       "146         6.700        3.000         5.200        2.300  virginica"
      ]
     },
     "execution_count": 27,
     "metadata": {},
     "output_type": "execute_result"
    }
   ],
   "source": [
    "df.sort_index(ascending=False).head(5) \n",
    "#inplace=True to apple the sorting in place"
   ]
  },
  {
   "cell_type": "markdown",
   "metadata": {},
   "source": [
    "# Returning an index to data"
   ]
  },
  {
   "cell_type": "code",
   "execution_count": 28,
   "metadata": {
    "collapsed": false
   },
   "outputs": [
    {
     "data": {
      "text/html": [
       "<div>\n",
       "<table border=\"1\" class=\"dataframe\">\n",
       "  <thead>\n",
       "    <tr style=\"text-align: right;\">\n",
       "      <th></th>\n",
       "      <th>idx</th>\n",
       "      <th>sepal_length</th>\n",
       "      <th>sepal_width</th>\n",
       "      <th>petal_length</th>\n",
       "      <th>petal_width</th>\n",
       "      <th>species</th>\n",
       "    </tr>\n",
       "  </thead>\n",
       "  <tbody>\n",
       "    <tr>\n",
       "      <th>0</th>\n",
       "      <td>1</td>\n",
       "      <td>5.100</td>\n",
       "      <td>3.500</td>\n",
       "      <td>1.400</td>\n",
       "      <td>0.200</td>\n",
       "      <td>setosa</td>\n",
       "    </tr>\n",
       "    <tr>\n",
       "      <th>1</th>\n",
       "      <td>2</td>\n",
       "      <td>4.900</td>\n",
       "      <td>3.000</td>\n",
       "      <td>1.400</td>\n",
       "      <td>0.200</td>\n",
       "      <td>setosa</td>\n",
       "    </tr>\n",
       "    <tr>\n",
       "      <th>2</th>\n",
       "      <td>3</td>\n",
       "      <td>4.700</td>\n",
       "      <td>3.200</td>\n",
       "      <td>1.300</td>\n",
       "      <td>0.200</td>\n",
       "      <td>setosa</td>\n",
       "    </tr>\n",
       "    <tr>\n",
       "      <th>3</th>\n",
       "      <td>4</td>\n",
       "      <td>4.600</td>\n",
       "      <td>3.100</td>\n",
       "      <td>1.500</td>\n",
       "      <td>0.200</td>\n",
       "      <td>setosa</td>\n",
       "    </tr>\n",
       "    <tr>\n",
       "      <th>4</th>\n",
       "      <td>5</td>\n",
       "      <td>5.000</td>\n",
       "      <td>3.600</td>\n",
       "      <td>1.400</td>\n",
       "      <td>0.200</td>\n",
       "      <td>setosa</td>\n",
       "    </tr>\n",
       "  </tbody>\n",
       "</table>\n",
       "</div>"
      ],
      "text/plain": [
       "   idx  sepal_length  sepal_width  petal_length  petal_width species\n",
       "0    1         5.100        3.500         1.400        0.200  setosa\n",
       "1    2         4.900        3.000         1.400        0.200  setosa\n",
       "2    3         4.700        3.200         1.300        0.200  setosa\n",
       "3    4         4.600        3.100         1.500        0.200  setosa\n",
       "4    5         5.000        3.600         1.400        0.200  setosa"
      ]
     },
     "execution_count": 28,
     "metadata": {},
     "output_type": "execute_result"
    }
   ],
   "source": [
    "df = df.reset_index('idx')\n",
    "df.head(5)"
   ]
  },
  {
   "cell_type": "markdown",
   "metadata": {},
   "source": [
    "# Selecting a subset of columns"
   ]
  },
  {
   "cell_type": "code",
   "execution_count": 29,
   "metadata": {
    "collapsed": false
   },
   "outputs": [
    {
     "data": {
      "text/html": [
       "<div>\n",
       "<table border=\"1\" class=\"dataframe\">\n",
       "  <thead>\n",
       "    <tr style=\"text-align: right;\">\n",
       "      <th></th>\n",
       "      <th>sepal_length</th>\n",
       "      <th>sepal_width</th>\n",
       "    </tr>\n",
       "  </thead>\n",
       "  <tbody>\n",
       "    <tr>\n",
       "      <th>0</th>\n",
       "      <td>5.100</td>\n",
       "      <td>3.500</td>\n",
       "    </tr>\n",
       "    <tr>\n",
       "      <th>1</th>\n",
       "      <td>4.900</td>\n",
       "      <td>3.000</td>\n",
       "    </tr>\n",
       "  </tbody>\n",
       "</table>\n",
       "</div>"
      ],
      "text/plain": [
       "   sepal_length  sepal_width\n",
       "0         5.100        3.500\n",
       "1         4.900        3.000"
      ]
     },
     "execution_count": 29,
     "metadata": {},
     "output_type": "execute_result"
    }
   ],
   "source": [
    "df[['sepal_length', 'sepal_width']].head(2)"
   ]
  },
  {
   "cell_type": "markdown",
   "metadata": {},
   "source": [
    "# Add random date column"
   ]
  },
  {
   "cell_type": "code",
   "execution_count": 30,
   "metadata": {
    "collapsed": true
   },
   "outputs": [],
   "source": [
    "year = np.random.randint(low=1980,high=2016,size=len(df))\n",
    "month = np.random.randint(low=1,high=13,size=len(df))\n",
    "date = []\n",
    "for y, m in zip(year, month):\n",
    "    y = str(y)\n",
    "    m = str(m)\n",
    "    date.append('/'.join((y, m)))"
   ]
  },
  {
   "cell_type": "code",
   "execution_count": 31,
   "metadata": {
    "collapsed": false
   },
   "outputs": [
    {
     "data": {
      "text/html": [
       "<div>\n",
       "<table border=\"1\" class=\"dataframe\">\n",
       "  <thead>\n",
       "    <tr style=\"text-align: right;\">\n",
       "      <th></th>\n",
       "      <th>idx</th>\n",
       "      <th>sepal_length</th>\n",
       "      <th>sepal_width</th>\n",
       "      <th>petal_length</th>\n",
       "      <th>petal_width</th>\n",
       "      <th>species</th>\n",
       "      <th>date</th>\n",
       "    </tr>\n",
       "  </thead>\n",
       "  <tbody>\n",
       "    <tr>\n",
       "      <th>0</th>\n",
       "      <td>1</td>\n",
       "      <td>5.100</td>\n",
       "      <td>3.500</td>\n",
       "      <td>1.400</td>\n",
       "      <td>0.200</td>\n",
       "      <td>setosa</td>\n",
       "      <td>2015/6</td>\n",
       "    </tr>\n",
       "    <tr>\n",
       "      <th>1</th>\n",
       "      <td>2</td>\n",
       "      <td>4.900</td>\n",
       "      <td>3.000</td>\n",
       "      <td>1.400</td>\n",
       "      <td>0.200</td>\n",
       "      <td>setosa</td>\n",
       "      <td>1987/8</td>\n",
       "    </tr>\n",
       "    <tr>\n",
       "      <th>2</th>\n",
       "      <td>3</td>\n",
       "      <td>4.700</td>\n",
       "      <td>3.200</td>\n",
       "      <td>1.300</td>\n",
       "      <td>0.200</td>\n",
       "      <td>setosa</td>\n",
       "      <td>1988/2</td>\n",
       "    </tr>\n",
       "    <tr>\n",
       "      <th>3</th>\n",
       "      <td>4</td>\n",
       "      <td>4.600</td>\n",
       "      <td>3.100</td>\n",
       "      <td>1.500</td>\n",
       "      <td>0.200</td>\n",
       "      <td>setosa</td>\n",
       "      <td>1998/2</td>\n",
       "    </tr>\n",
       "    <tr>\n",
       "      <th>4</th>\n",
       "      <td>5</td>\n",
       "      <td>5.000</td>\n",
       "      <td>3.600</td>\n",
       "      <td>1.400</td>\n",
       "      <td>0.200</td>\n",
       "      <td>setosa</td>\n",
       "      <td>2006/9</td>\n",
       "    </tr>\n",
       "  </tbody>\n",
       "</table>\n",
       "</div>"
      ],
      "text/plain": [
       "   idx  sepal_length  sepal_width  petal_length  petal_width species    date\n",
       "0    1         5.100        3.500         1.400        0.200  setosa  2015/6\n",
       "1    2         4.900        3.000         1.400        0.200  setosa  1987/8\n",
       "2    3         4.700        3.200         1.300        0.200  setosa  1988/2\n",
       "3    4         4.600        3.100         1.500        0.200  setosa  1998/2\n",
       "4    5         5.000        3.600         1.400        0.200  setosa  2006/9"
      ]
     },
     "execution_count": 31,
     "metadata": {},
     "output_type": "execute_result"
    }
   ],
   "source": [
    "df['date'] = pd.Series(date, index=df.index)\n",
    "df.head(5)"
   ]
  },
  {
   "cell_type": "markdown",
   "metadata": {},
   "source": [
    "# Applying a function to a column"
   ]
  },
  {
   "cell_type": "code",
   "execution_count": 32,
   "metadata": {
    "collapsed": false
   },
   "outputs": [
    {
     "data": {
      "text/html": [
       "<div>\n",
       "<table border=\"1\" class=\"dataframe\">\n",
       "  <thead>\n",
       "    <tr style=\"text-align: right;\">\n",
       "      <th></th>\n",
       "      <th>idx</th>\n",
       "      <th>sepal_length</th>\n",
       "      <th>sepal_width</th>\n",
       "      <th>petal_length</th>\n",
       "      <th>petal_width</th>\n",
       "      <th>species</th>\n",
       "      <th>date</th>\n",
       "      <th>year</th>\n",
       "    </tr>\n",
       "  </thead>\n",
       "  <tbody>\n",
       "    <tr>\n",
       "      <th>0</th>\n",
       "      <td>1</td>\n",
       "      <td>5.100</td>\n",
       "      <td>3.500</td>\n",
       "      <td>1.400</td>\n",
       "      <td>0.200</td>\n",
       "      <td>setosa</td>\n",
       "      <td>2015/6</td>\n",
       "      <td>2015</td>\n",
       "    </tr>\n",
       "    <tr>\n",
       "      <th>1</th>\n",
       "      <td>2</td>\n",
       "      <td>4.900</td>\n",
       "      <td>3.000</td>\n",
       "      <td>1.400</td>\n",
       "      <td>0.200</td>\n",
       "      <td>setosa</td>\n",
       "      <td>1987/8</td>\n",
       "      <td>1987</td>\n",
       "    </tr>\n",
       "    <tr>\n",
       "      <th>2</th>\n",
       "      <td>3</td>\n",
       "      <td>4.700</td>\n",
       "      <td>3.200</td>\n",
       "      <td>1.300</td>\n",
       "      <td>0.200</td>\n",
       "      <td>setosa</td>\n",
       "      <td>1988/2</td>\n",
       "      <td>1988</td>\n",
       "    </tr>\n",
       "    <tr>\n",
       "      <th>3</th>\n",
       "      <td>4</td>\n",
       "      <td>4.600</td>\n",
       "      <td>3.100</td>\n",
       "      <td>1.500</td>\n",
       "      <td>0.200</td>\n",
       "      <td>setosa</td>\n",
       "      <td>1998/2</td>\n",
       "      <td>1998</td>\n",
       "    </tr>\n",
       "    <tr>\n",
       "      <th>4</th>\n",
       "      <td>5</td>\n",
       "      <td>5.000</td>\n",
       "      <td>3.600</td>\n",
       "      <td>1.400</td>\n",
       "      <td>0.200</td>\n",
       "      <td>setosa</td>\n",
       "      <td>2006/9</td>\n",
       "      <td>2006</td>\n",
       "    </tr>\n",
       "  </tbody>\n",
       "</table>\n",
       "</div>"
      ],
      "text/plain": [
       "   idx  sepal_length  sepal_width  petal_length  petal_width species    date  \\\n",
       "0    1         5.100        3.500         1.400        0.200  setosa  2015/6   \n",
       "1    2         4.900        3.000         1.400        0.200  setosa  1987/8   \n",
       "2    3         4.700        3.200         1.300        0.200  setosa  1988/2   \n",
       "3    4         4.600        3.100         1.500        0.200  setosa  1998/2   \n",
       "4    5         5.000        3.600         1.400        0.200  setosa  2006/9   \n",
       "\n",
       "   year  \n",
       "0  2015  \n",
       "1  1987  \n",
       "2  1988  \n",
       "3  1998  \n",
       "4  2006  "
      ]
     },
     "execution_count": 32,
     "metadata": {},
     "output_type": "execute_result"
    }
   ],
   "source": [
    "def get_year(date):\n",
    "    year = date[:4]\n",
    "    year= pd.to_datetime(year).year\n",
    "    return year\n",
    " \n",
    "df['year'] = df.date.apply(get_year)\n",
    "df.head(5)"
   ]
  },
  {
   "cell_type": "code",
   "execution_count": 33,
   "metadata": {
    "collapsed": false
   },
   "outputs": [
    {
     "data": {
      "text/html": [
       "<div>\n",
       "<table border=\"1\" class=\"dataframe\">\n",
       "  <thead>\n",
       "    <tr style=\"text-align: right;\">\n",
       "      <th></th>\n",
       "      <th>sepal_length</th>\n",
       "      <th>sepal_width</th>\n",
       "    </tr>\n",
       "  </thead>\n",
       "  <tbody>\n",
       "    <tr>\n",
       "      <th>0</th>\n",
       "      <td>2.258</td>\n",
       "      <td>1.871</td>\n",
       "    </tr>\n",
       "    <tr>\n",
       "      <th>1</th>\n",
       "      <td>2.214</td>\n",
       "      <td>1.732</td>\n",
       "    </tr>\n",
       "  </tbody>\n",
       "</table>\n",
       "</div>"
      ],
      "text/plain": [
       "   sepal_length  sepal_width\n",
       "0         2.258        1.871\n",
       "1         2.214        1.732"
      ]
     },
     "execution_count": 33,
     "metadata": {},
     "output_type": "execute_result"
    }
   ],
   "source": [
    "df[['sepal_length','sepal_width']].apply(np.sqrt).head(2)"
   ]
  },
  {
   "cell_type": "markdown",
   "metadata": {},
   "source": [
    "# Grouby"
   ]
  },
  {
   "cell_type": "code",
   "execution_count": 34,
   "metadata": {
    "collapsed": false
   },
   "outputs": [
    {
     "data": {
      "text/html": [
       "<div>\n",
       "<table border=\"1\" class=\"dataframe\">\n",
       "  <thead>\n",
       "    <tr style=\"text-align: right;\">\n",
       "      <th></th>\n",
       "      <th></th>\n",
       "      <th>idx</th>\n",
       "      <th>sepal_length</th>\n",
       "      <th>sepal_width</th>\n",
       "      <th>petal_length</th>\n",
       "      <th>petal_width</th>\n",
       "      <th>year</th>\n",
       "    </tr>\n",
       "    <tr>\n",
       "      <th>year</th>\n",
       "      <th></th>\n",
       "      <th></th>\n",
       "      <th></th>\n",
       "      <th></th>\n",
       "      <th></th>\n",
       "      <th></th>\n",
       "      <th></th>\n",
       "    </tr>\n",
       "  </thead>\n",
       "  <tbody>\n",
       "    <tr>\n",
       "      <th rowspan=\"8\" valign=\"top\">1980</th>\n",
       "      <th>count</th>\n",
       "      <td>40.000</td>\n",
       "      <td>40.000</td>\n",
       "      <td>40.000</td>\n",
       "      <td>40.000</td>\n",
       "      <td>40.000</td>\n",
       "      <td>40.000</td>\n",
       "    </tr>\n",
       "    <tr>\n",
       "      <th>mean</th>\n",
       "      <td>65.775</td>\n",
       "      <td>5.750</td>\n",
       "      <td>3.105</td>\n",
       "      <td>3.427</td>\n",
       "      <td>1.020</td>\n",
       "      <td>1,984.925</td>\n",
       "    </tr>\n",
       "    <tr>\n",
       "      <th>std</th>\n",
       "      <td>42.190</td>\n",
       "      <td>0.868</td>\n",
       "      <td>0.425</td>\n",
       "      <td>1.830</td>\n",
       "      <td>0.718</td>\n",
       "      <td>2.664</td>\n",
       "    </tr>\n",
       "    <tr>\n",
       "      <th>min</th>\n",
       "      <td>2.000</td>\n",
       "      <td>4.400</td>\n",
       "      <td>2.300</td>\n",
       "      <td>1.300</td>\n",
       "      <td>0.100</td>\n",
       "      <td>1,980.000</td>\n",
       "    </tr>\n",
       "    <tr>\n",
       "      <th>25%</th>\n",
       "      <td>25.500</td>\n",
       "      <td>5.000</td>\n",
       "      <td>2.900</td>\n",
       "      <td>1.500</td>\n",
       "      <td>0.300</td>\n",
       "      <td>1,983.000</td>\n",
       "    </tr>\n",
       "    <tr>\n",
       "      <th>50%</th>\n",
       "      <td>71.000</td>\n",
       "      <td>5.700</td>\n",
       "      <td>3.000</td>\n",
       "      <td>4.100</td>\n",
       "      <td>1.250</td>\n",
       "      <td>1,984.500</td>\n",
       "    </tr>\n",
       "    <tr>\n",
       "      <th>75%</th>\n",
       "      <td>100.250</td>\n",
       "      <td>6.325</td>\n",
       "      <td>3.400</td>\n",
       "      <td>4.725</td>\n",
       "      <td>1.525</td>\n",
       "      <td>1,987.250</td>\n",
       "    </tr>\n",
       "    <tr>\n",
       "      <th>max</th>\n",
       "      <td>147.000</td>\n",
       "      <td>7.700</td>\n",
       "      <td>4.400</td>\n",
       "      <td>6.700</td>\n",
       "      <td>2.500</td>\n",
       "      <td>1,989.000</td>\n",
       "    </tr>\n",
       "    <tr>\n",
       "      <th rowspan=\"8\" valign=\"top\">1990</th>\n",
       "      <th>count</th>\n",
       "      <td>37.000</td>\n",
       "      <td>37.000</td>\n",
       "      <td>37.000</td>\n",
       "      <td>37.000</td>\n",
       "      <td>37.000</td>\n",
       "      <td>37.000</td>\n",
       "    </tr>\n",
       "    <tr>\n",
       "      <th>mean</th>\n",
       "      <td>80.432</td>\n",
       "      <td>5.781</td>\n",
       "      <td>2.959</td>\n",
       "      <td>3.870</td>\n",
       "      <td>1.278</td>\n",
       "      <td>1,994.784</td>\n",
       "    </tr>\n",
       "    <tr>\n",
       "      <th>std</th>\n",
       "      <td>40.663</td>\n",
       "      <td>0.763</td>\n",
       "      <td>0.404</td>\n",
       "      <td>1.615</td>\n",
       "      <td>0.736</td>\n",
       "      <td>2.594</td>\n",
       "    </tr>\n",
       "    <tr>\n",
       "      <th>min</th>\n",
       "      <td>4.000</td>\n",
       "      <td>4.300</td>\n",
       "      <td>2.000</td>\n",
       "      <td>1.100</td>\n",
       "      <td>0.100</td>\n",
       "      <td>1,990.000</td>\n",
       "    </tr>\n",
       "    <tr>\n",
       "      <th>25%</th>\n",
       "      <td>46.000</td>\n",
       "      <td>5.100</td>\n",
       "      <td>2.800</td>\n",
       "      <td>1.900</td>\n",
       "      <td>0.500</td>\n",
       "      <td>1,993.000</td>\n",
       "    </tr>\n",
       "    <tr>\n",
       "      <th>50%</th>\n",
       "      <td>80.000</td>\n",
       "      <td>5.800</td>\n",
       "      <td>3.000</td>\n",
       "      <td>4.500</td>\n",
       "      <td>1.400</td>\n",
       "      <td>1,995.000</td>\n",
       "    </tr>\n",
       "    <tr>\n",
       "      <th>75%</th>\n",
       "      <td>120.000</td>\n",
       "      <td>6.400</td>\n",
       "      <td>3.200</td>\n",
       "      <td>5.000</td>\n",
       "      <td>1.800</td>\n",
       "      <td>1,997.000</td>\n",
       "    </tr>\n",
       "    <tr>\n",
       "      <th>max</th>\n",
       "      <td>146.000</td>\n",
       "      <td>7.200</td>\n",
       "      <td>4.200</td>\n",
       "      <td>6.000</td>\n",
       "      <td>2.400</td>\n",
       "      <td>1,999.000</td>\n",
       "    </tr>\n",
       "    <tr>\n",
       "      <th rowspan=\"8\" valign=\"top\">2000</th>\n",
       "      <th>count</th>\n",
       "      <td>47.000</td>\n",
       "      <td>47.000</td>\n",
       "      <td>47.000</td>\n",
       "      <td>47.000</td>\n",
       "      <td>47.000</td>\n",
       "      <td>47.000</td>\n",
       "    </tr>\n",
       "    <tr>\n",
       "      <th>mean</th>\n",
       "      <td>80.936</td>\n",
       "      <td>5.970</td>\n",
       "      <td>3.115</td>\n",
       "      <td>3.896</td>\n",
       "      <td>1.306</td>\n",
       "      <td>2,004.383</td>\n",
       "    </tr>\n",
       "    <tr>\n",
       "      <th>std</th>\n",
       "      <td>45.297</td>\n",
       "      <td>0.833</td>\n",
       "      <td>0.464</td>\n",
       "      <td>1.851</td>\n",
       "      <td>0.805</td>\n",
       "      <td>2.953</td>\n",
       "    </tr>\n",
       "    <tr>\n",
       "      <th>min</th>\n",
       "      <td>5.000</td>\n",
       "      <td>4.400</td>\n",
       "      <td>2.200</td>\n",
       "      <td>1.000</td>\n",
       "      <td>0.100</td>\n",
       "      <td>2,000.000</td>\n",
       "    </tr>\n",
       "    <tr>\n",
       "      <th>25%</th>\n",
       "      <td>43.500</td>\n",
       "      <td>5.400</td>\n",
       "      <td>2.800</td>\n",
       "      <td>1.550</td>\n",
       "      <td>0.400</td>\n",
       "      <td>2,002.000</td>\n",
       "    </tr>\n",
       "    <tr>\n",
       "      <th>50%</th>\n",
       "      <td>82.000</td>\n",
       "      <td>5.900</td>\n",
       "      <td>3.100</td>\n",
       "      <td>4.700</td>\n",
       "      <td>1.500</td>\n",
       "      <td>2,004.000</td>\n",
       "    </tr>\n",
       "    <tr>\n",
       "      <th>75%</th>\n",
       "      <td>117.000</td>\n",
       "      <td>6.500</td>\n",
       "      <td>3.400</td>\n",
       "      <td>5.300</td>\n",
       "      <td>1.950</td>\n",
       "      <td>2,006.500</td>\n",
       "    </tr>\n",
       "    <tr>\n",
       "      <th>max</th>\n",
       "      <td>150.000</td>\n",
       "      <td>7.900</td>\n",
       "      <td>4.100</td>\n",
       "      <td>6.700</td>\n",
       "      <td>2.500</td>\n",
       "      <td>2,009.000</td>\n",
       "    </tr>\n",
       "    <tr>\n",
       "      <th rowspan=\"8\" valign=\"top\">2010</th>\n",
       "      <th>count</th>\n",
       "      <td>26.000</td>\n",
       "      <td>26.000</td>\n",
       "      <td>26.000</td>\n",
       "      <td>26.000</td>\n",
       "      <td>26.000</td>\n",
       "      <td>26.000</td>\n",
       "    </tr>\n",
       "    <tr>\n",
       "      <th>mean</th>\n",
       "      <td>73.615</td>\n",
       "      <td>5.846</td>\n",
       "      <td>3.019</td>\n",
       "      <td>3.858</td>\n",
       "      <td>1.169</td>\n",
       "      <td>2,012.077</td>\n",
       "    </tr>\n",
       "    <tr>\n",
       "      <th>std</th>\n",
       "      <td>45.494</td>\n",
       "      <td>0.865</td>\n",
       "      <td>0.440</td>\n",
       "      <td>1.745</td>\n",
       "      <td>0.778</td>\n",
       "      <td>1.896</td>\n",
       "    </tr>\n",
       "    <tr>\n",
       "      <th>min</th>\n",
       "      <td>1.000</td>\n",
       "      <td>4.400</td>\n",
       "      <td>2.200</td>\n",
       "      <td>1.400</td>\n",
       "      <td>0.100</td>\n",
       "      <td>2,010.000</td>\n",
       "    </tr>\n",
       "    <tr>\n",
       "      <th>25%</th>\n",
       "      <td>40.750</td>\n",
       "      <td>5.150</td>\n",
       "      <td>2.625</td>\n",
       "      <td>1.675</td>\n",
       "      <td>0.250</td>\n",
       "      <td>2,011.000</td>\n",
       "    </tr>\n",
       "    <tr>\n",
       "      <th>50%</th>\n",
       "      <td>69.000</td>\n",
       "      <td>5.700</td>\n",
       "      <td>2.950</td>\n",
       "      <td>4.200</td>\n",
       "      <td>1.300</td>\n",
       "      <td>2,011.000</td>\n",
       "    </tr>\n",
       "    <tr>\n",
       "      <th>75%</th>\n",
       "      <td>106.750</td>\n",
       "      <td>6.300</td>\n",
       "      <td>3.400</td>\n",
       "      <td>5.050</td>\n",
       "      <td>1.500</td>\n",
       "      <td>2,013.750</td>\n",
       "    </tr>\n",
       "    <tr>\n",
       "      <th>max</th>\n",
       "      <td>149.000</td>\n",
       "      <td>7.700</td>\n",
       "      <td>3.700</td>\n",
       "      <td>6.900</td>\n",
       "      <td>2.500</td>\n",
       "      <td>2,015.000</td>\n",
       "    </tr>\n",
       "  </tbody>\n",
       "</table>\n",
       "</div>"
      ],
      "text/plain": [
       "               idx  sepal_length  sepal_width  petal_length  petal_width  \\\n",
       "year                                                                       \n",
       "1980 count  40.000        40.000       40.000        40.000       40.000   \n",
       "     mean   65.775         5.750        3.105         3.427        1.020   \n",
       "     std    42.190         0.868        0.425         1.830        0.718   \n",
       "     min     2.000         4.400        2.300         1.300        0.100   \n",
       "     25%    25.500         5.000        2.900         1.500        0.300   \n",
       "     50%    71.000         5.700        3.000         4.100        1.250   \n",
       "     75%   100.250         6.325        3.400         4.725        1.525   \n",
       "     max   147.000         7.700        4.400         6.700        2.500   \n",
       "1990 count  37.000        37.000       37.000        37.000       37.000   \n",
       "     mean   80.432         5.781        2.959         3.870        1.278   \n",
       "     std    40.663         0.763        0.404         1.615        0.736   \n",
       "     min     4.000         4.300        2.000         1.100        0.100   \n",
       "     25%    46.000         5.100        2.800         1.900        0.500   \n",
       "     50%    80.000         5.800        3.000         4.500        1.400   \n",
       "     75%   120.000         6.400        3.200         5.000        1.800   \n",
       "     max   146.000         7.200        4.200         6.000        2.400   \n",
       "2000 count  47.000        47.000       47.000        47.000       47.000   \n",
       "     mean   80.936         5.970        3.115         3.896        1.306   \n",
       "     std    45.297         0.833        0.464         1.851        0.805   \n",
       "     min     5.000         4.400        2.200         1.000        0.100   \n",
       "     25%    43.500         5.400        2.800         1.550        0.400   \n",
       "     50%    82.000         5.900        3.100         4.700        1.500   \n",
       "     75%   117.000         6.500        3.400         5.300        1.950   \n",
       "     max   150.000         7.900        4.100         6.700        2.500   \n",
       "2010 count  26.000        26.000       26.000        26.000       26.000   \n",
       "     mean   73.615         5.846        3.019         3.858        1.169   \n",
       "     std    45.494         0.865        0.440         1.745        0.778   \n",
       "     min     1.000         4.400        2.200         1.400        0.100   \n",
       "     25%    40.750         5.150        2.625         1.675        0.250   \n",
       "     50%    69.000         5.700        2.950         4.200        1.300   \n",
       "     75%   106.750         6.300        3.400         5.050        1.500   \n",
       "     max   149.000         7.700        3.700         6.900        2.500   \n",
       "\n",
       "                year  \n",
       "year                  \n",
       "1980 count    40.000  \n",
       "     mean  1,984.925  \n",
       "     std       2.664  \n",
       "     min   1,980.000  \n",
       "     25%   1,983.000  \n",
       "     50%   1,984.500  \n",
       "     75%   1,987.250  \n",
       "     max   1,989.000  \n",
       "1990 count    37.000  \n",
       "     mean  1,994.784  \n",
       "     std       2.594  \n",
       "     min   1,990.000  \n",
       "     25%   1,993.000  \n",
       "     50%   1,995.000  \n",
       "     75%   1,997.000  \n",
       "     max   1,999.000  \n",
       "2000 count    47.000  \n",
       "     mean  2,004.383  \n",
       "     std       2.953  \n",
       "     min   2,000.000  \n",
       "     25%   2,002.000  \n",
       "     50%   2,004.000  \n",
       "     75%   2,006.500  \n",
       "     max   2,009.000  \n",
       "2010 count    26.000  \n",
       "     mean  2,012.077  \n",
       "     std       1.896  \n",
       "     min   2,010.000  \n",
       "     25%   2,011.000  \n",
       "     50%   2,011.000  \n",
       "     75%   2,013.750  \n",
       "     max   2,015.000  "
      ]
     },
     "execution_count": 34,
     "metadata": {},
     "output_type": "execute_result"
    }
   ],
   "source": [
    "df.groupby(df.year // 10 * 10).describe()\n",
    "# 按年代分组， 再获得每组的统计值"
   ]
  },
  {
   "cell_type": "markdown",
   "metadata": {},
   "source": [
    "# Grouping by multiple columns"
   ]
  },
  {
   "cell_type": "code",
   "execution_count": 35,
   "metadata": {
    "collapsed": false
   },
   "outputs": [
    {
     "data": {
      "text/html": [
       "<div>\n",
       "<table border=\"1\" class=\"dataframe\">\n",
       "  <thead>\n",
       "    <tr style=\"text-align: right;\">\n",
       "      <th></th>\n",
       "      <th></th>\n",
       "      <th>idx</th>\n",
       "      <th>sepal_length</th>\n",
       "      <th>sepal_width</th>\n",
       "      <th>petal_length</th>\n",
       "      <th>petal_width</th>\n",
       "      <th>year</th>\n",
       "    </tr>\n",
       "    <tr>\n",
       "      <th>year</th>\n",
       "      <th>sepal_length</th>\n",
       "      <th></th>\n",
       "      <th></th>\n",
       "      <th></th>\n",
       "      <th></th>\n",
       "      <th></th>\n",
       "      <th></th>\n",
       "    </tr>\n",
       "  </thead>\n",
       "  <tbody>\n",
       "    <tr>\n",
       "      <th rowspan=\"4\" valign=\"top\">1980</th>\n",
       "      <th>4.000</th>\n",
       "      <td>30.625</td>\n",
       "      <td>4.725</td>\n",
       "      <td>2.950</td>\n",
       "      <td>1.775</td>\n",
       "      <td>0.400</td>\n",
       "      <td>1,984.750</td>\n",
       "    </tr>\n",
       "    <tr>\n",
       "      <th>5.000</th>\n",
       "      <td>49.312</td>\n",
       "      <td>5.375</td>\n",
       "      <td>3.344</td>\n",
       "      <td>2.462</td>\n",
       "      <td>0.644</td>\n",
       "      <td>1,984.188</td>\n",
       "    </tr>\n",
       "    <tr>\n",
       "      <th>6.000</th>\n",
       "      <td>94.167</td>\n",
       "      <td>6.367</td>\n",
       "      <td>2.950</td>\n",
       "      <td>4.842</td>\n",
       "      <td>1.650</td>\n",
       "      <td>1,986.167</td>\n",
       "    </tr>\n",
       "    <tr>\n",
       "      <th>7.000</th>\n",
       "      <td>116.750</td>\n",
       "      <td>7.450</td>\n",
       "      <td>2.925</td>\n",
       "      <td>6.350</td>\n",
       "      <td>1.875</td>\n",
       "      <td>1,984.500</td>\n",
       "    </tr>\n",
       "    <tr>\n",
       "      <th rowspan=\"4\" valign=\"top\">1990</th>\n",
       "      <th>4.000</th>\n",
       "      <td>30.500</td>\n",
       "      <td>4.683</td>\n",
       "      <td>2.967</td>\n",
       "      <td>1.750</td>\n",
       "      <td>0.333</td>\n",
       "      <td>1,994.500</td>\n",
       "    </tr>\n",
       "    <tr>\n",
       "      <th>5.000</th>\n",
       "      <td>68.786</td>\n",
       "      <td>5.407</td>\n",
       "      <td>2.986</td>\n",
       "      <td>3.257</td>\n",
       "      <td>1.093</td>\n",
       "      <td>1,995.000</td>\n",
       "    </tr>\n",
       "    <tr>\n",
       "      <th>6.000</th>\n",
       "      <td>106.500</td>\n",
       "      <td>6.431</td>\n",
       "      <td>2.919</td>\n",
       "      <td>5.069</td>\n",
       "      <td>1.763</td>\n",
       "      <td>1,994.688</td>\n",
       "    </tr>\n",
       "    <tr>\n",
       "      <th>7.000</th>\n",
       "      <td>126.000</td>\n",
       "      <td>7.200</td>\n",
       "      <td>3.200</td>\n",
       "      <td>6.000</td>\n",
       "      <td>1.800</td>\n",
       "      <td>1,995.000</td>\n",
       "    </tr>\n",
       "    <tr>\n",
       "      <th rowspan=\"4\" valign=\"top\">2000</th>\n",
       "      <th>4.000</th>\n",
       "      <td>31.750</td>\n",
       "      <td>4.600</td>\n",
       "      <td>3.250</td>\n",
       "      <td>1.275</td>\n",
       "      <td>0.175</td>\n",
       "      <td>2,005.250</td>\n",
       "    </tr>\n",
       "    <tr>\n",
       "      <th>5.000</th>\n",
       "      <td>56.850</td>\n",
       "      <td>5.440</td>\n",
       "      <td>3.195</td>\n",
       "      <td>2.740</td>\n",
       "      <td>0.825</td>\n",
       "      <td>2,004.750</td>\n",
       "    </tr>\n",
       "    <tr>\n",
       "      <th>6.000</th>\n",
       "      <td>111.389</td>\n",
       "      <td>6.461</td>\n",
       "      <td>2.939</td>\n",
       "      <td>5.189</td>\n",
       "      <td>1.922</td>\n",
       "      <td>2,003.778</td>\n",
       "    </tr>\n",
       "    <tr>\n",
       "      <th>7.000</th>\n",
       "      <td>107.000</td>\n",
       "      <td>7.420</td>\n",
       "      <td>3.320</td>\n",
       "      <td>5.960</td>\n",
       "      <td>1.920</td>\n",
       "      <td>2,004.400</td>\n",
       "    </tr>\n",
       "    <tr>\n",
       "      <th rowspan=\"4\" valign=\"top\">2010</th>\n",
       "      <th>4.000</th>\n",
       "      <td>21.000</td>\n",
       "      <td>4.725</td>\n",
       "      <td>3.325</td>\n",
       "      <td>1.575</td>\n",
       "      <td>0.175</td>\n",
       "      <td>2,014.500</td>\n",
       "    </tr>\n",
       "    <tr>\n",
       "      <th>5.000</th>\n",
       "      <td>58.818</td>\n",
       "      <td>5.445</td>\n",
       "      <td>3.000</td>\n",
       "      <td>3.200</td>\n",
       "      <td>0.864</td>\n",
       "      <td>2,012.182</td>\n",
       "    </tr>\n",
       "    <tr>\n",
       "      <th>6.000</th>\n",
       "      <td>102.250</td>\n",
       "      <td>6.325</td>\n",
       "      <td>2.875</td>\n",
       "      <td>4.963</td>\n",
       "      <td>1.638</td>\n",
       "      <td>2,011.250</td>\n",
       "    </tr>\n",
       "    <tr>\n",
       "      <th>7.000</th>\n",
       "      <td>121.667</td>\n",
       "      <td>7.533</td>\n",
       "      <td>3.067</td>\n",
       "      <td>6.367</td>\n",
       "      <td>2.367</td>\n",
       "      <td>2,010.667</td>\n",
       "    </tr>\n",
       "  </tbody>\n",
       "</table>\n",
       "</div>"
      ],
      "text/plain": [
       "                      idx  sepal_length  sepal_width  petal_length  \\\n",
       "year sepal_length                                                    \n",
       "1980 4.000         30.625         4.725        2.950         1.775   \n",
       "     5.000         49.312         5.375        3.344         2.462   \n",
       "     6.000         94.167         6.367        2.950         4.842   \n",
       "     7.000        116.750         7.450        2.925         6.350   \n",
       "1990 4.000         30.500         4.683        2.967         1.750   \n",
       "     5.000         68.786         5.407        2.986         3.257   \n",
       "     6.000        106.500         6.431        2.919         5.069   \n",
       "     7.000        126.000         7.200        3.200         6.000   \n",
       "2000 4.000         31.750         4.600        3.250         1.275   \n",
       "     5.000         56.850         5.440        3.195         2.740   \n",
       "     6.000        111.389         6.461        2.939         5.189   \n",
       "     7.000        107.000         7.420        3.320         5.960   \n",
       "2010 4.000         21.000         4.725        3.325         1.575   \n",
       "     5.000         58.818         5.445        3.000         3.200   \n",
       "     6.000        102.250         6.325        2.875         4.963   \n",
       "     7.000        121.667         7.533        3.067         6.367   \n",
       "\n",
       "                   petal_width      year  \n",
       "year sepal_length                         \n",
       "1980 4.000               0.400 1,984.750  \n",
       "     5.000               0.644 1,984.188  \n",
       "     6.000               1.650 1,986.167  \n",
       "     7.000               1.875 1,984.500  \n",
       "1990 4.000               0.333 1,994.500  \n",
       "     5.000               1.093 1,995.000  \n",
       "     6.000               1.763 1,994.688  \n",
       "     7.000               1.800 1,995.000  \n",
       "2000 4.000               0.175 2,005.250  \n",
       "     5.000               0.825 2,004.750  \n",
       "     6.000               1.922 2,003.778  \n",
       "     7.000               1.920 2,004.400  \n",
       "2010 4.000               0.175 2,014.500  \n",
       "     5.000               0.864 2,012.182  \n",
       "     6.000               1.638 2,011.250  \n",
       "     7.000               2.367 2,010.667  "
      ]
     },
     "execution_count": 35,
     "metadata": {},
     "output_type": "execute_result"
    }
   ],
   "source": [
    "df.groupby([df.year // 10 * 10, df.sepal_length // 1]).mean()\n",
    "# decade & sepal_length"
   ]
  },
  {
   "cell_type": "markdown",
   "metadata": {},
   "source": [
    "# pivot_table"
   ]
  },
  {
   "cell_type": "code",
   "execution_count": 36,
   "metadata": {
    "collapsed": false
   },
   "outputs": [
    {
     "data": {
      "text/html": [
       "<div>\n",
       "<table border=\"1\" class=\"dataframe\">\n",
       "  <thead>\n",
       "    <tr style=\"text-align: right;\">\n",
       "      <th></th>\n",
       "      <th>idx</th>\n",
       "      <th>petal_length</th>\n",
       "      <th>petal_width</th>\n",
       "      <th>sepal_length</th>\n",
       "      <th>sepal_width</th>\n",
       "    </tr>\n",
       "    <tr>\n",
       "      <th>year</th>\n",
       "      <th></th>\n",
       "      <th></th>\n",
       "      <th></th>\n",
       "      <th></th>\n",
       "      <th></th>\n",
       "    </tr>\n",
       "  </thead>\n",
       "  <tbody>\n",
       "    <tr>\n",
       "      <th>1980</th>\n",
       "      <td>45.000</td>\n",
       "      <td>2.650</td>\n",
       "      <td>0.750</td>\n",
       "      <td>5.200</td>\n",
       "      <td>3.050</td>\n",
       "    </tr>\n",
       "    <tr>\n",
       "      <th>1981</th>\n",
       "      <td>85.000</td>\n",
       "      <td>3.667</td>\n",
       "      <td>1.100</td>\n",
       "      <td>5.567</td>\n",
       "      <td>2.767</td>\n",
       "    </tr>\n",
       "    <tr>\n",
       "      <th>1982</th>\n",
       "      <td>74.000</td>\n",
       "      <td>3.900</td>\n",
       "      <td>1.000</td>\n",
       "      <td>6.200</td>\n",
       "      <td>3.150</td>\n",
       "    </tr>\n",
       "    <tr>\n",
       "      <th>1983</th>\n",
       "      <td>71.000</td>\n",
       "      <td>3.767</td>\n",
       "      <td>1.183</td>\n",
       "      <td>5.967</td>\n",
       "      <td>3.117</td>\n",
       "    </tr>\n",
       "    <tr>\n",
       "      <th>1984</th>\n",
       "      <td>66.286</td>\n",
       "      <td>3.357</td>\n",
       "      <td>0.929</td>\n",
       "      <td>5.714</td>\n",
       "      <td>3.100</td>\n",
       "    </tr>\n",
       "    <tr>\n",
       "      <th>1985</th>\n",
       "      <td>25.000</td>\n",
       "      <td>1.500</td>\n",
       "      <td>0.200</td>\n",
       "      <td>5.033</td>\n",
       "      <td>3.467</td>\n",
       "    </tr>\n",
       "    <tr>\n",
       "      <th>1986</th>\n",
       "      <td>94.333</td>\n",
       "      <td>4.333</td>\n",
       "      <td>1.467</td>\n",
       "      <td>5.733</td>\n",
       "      <td>2.767</td>\n",
       "    </tr>\n",
       "    <tr>\n",
       "      <th>1987</th>\n",
       "      <td>28.000</td>\n",
       "      <td>2.275</td>\n",
       "      <td>0.500</td>\n",
       "      <td>5.325</td>\n",
       "      <td>3.175</td>\n",
       "    </tr>\n",
       "    <tr>\n",
       "      <th>1988</th>\n",
       "      <td>69.857</td>\n",
       "      <td>3.486</td>\n",
       "      <td>1.200</td>\n",
       "      <td>5.814</td>\n",
       "      <td>3.271</td>\n",
       "    </tr>\n",
       "    <tr>\n",
       "      <th>1989</th>\n",
       "      <td>96.333</td>\n",
       "      <td>5.300</td>\n",
       "      <td>1.667</td>\n",
       "      <td>6.800</td>\n",
       "      <td>2.933</td>\n",
       "    </tr>\n",
       "    <tr>\n",
       "      <th>1990</th>\n",
       "      <td>60.667</td>\n",
       "      <td>3.233</td>\n",
       "      <td>1.033</td>\n",
       "      <td>5.467</td>\n",
       "      <td>3.133</td>\n",
       "    </tr>\n",
       "    <tr>\n",
       "      <th>1991</th>\n",
       "      <td>34.000</td>\n",
       "      <td>1.400</td>\n",
       "      <td>0.200</td>\n",
       "      <td>5.500</td>\n",
       "      <td>4.200</td>\n",
       "    </tr>\n",
       "    <tr>\n",
       "      <th>1992</th>\n",
       "      <td>98.500</td>\n",
       "      <td>4.975</td>\n",
       "      <td>1.750</td>\n",
       "      <td>6.025</td>\n",
       "      <td>2.875</td>\n",
       "    </tr>\n",
       "    <tr>\n",
       "      <th>1993</th>\n",
       "      <td>90.000</td>\n",
       "      <td>4.380</td>\n",
       "      <td>1.420</td>\n",
       "      <td>6.000</td>\n",
       "      <td>2.840</td>\n",
       "    </tr>\n",
       "    <tr>\n",
       "      <th>1994</th>\n",
       "      <td>72.000</td>\n",
       "      <td>2.850</td>\n",
       "      <td>0.800</td>\n",
       "      <td>5.500</td>\n",
       "      <td>2.950</td>\n",
       "    </tr>\n",
       "    <tr>\n",
       "      <th>1995</th>\n",
       "      <td>57.833</td>\n",
       "      <td>2.767</td>\n",
       "      <td>0.717</td>\n",
       "      <td>5.517</td>\n",
       "      <td>3.250</td>\n",
       "    </tr>\n",
       "    <tr>\n",
       "      <th>1996</th>\n",
       "      <td>107.800</td>\n",
       "      <td>5.040</td>\n",
       "      <td>1.820</td>\n",
       "      <td>6.560</td>\n",
       "      <td>2.820</td>\n",
       "    </tr>\n",
       "    <tr>\n",
       "      <th>1997</th>\n",
       "      <td>94.667</td>\n",
       "      <td>4.383</td>\n",
       "      <td>1.667</td>\n",
       "      <td>5.600</td>\n",
       "      <td>2.683</td>\n",
       "    </tr>\n",
       "    <tr>\n",
       "      <th>1998</th>\n",
       "      <td>20.000</td>\n",
       "      <td>1.350</td>\n",
       "      <td>0.200</td>\n",
       "      <td>4.800</td>\n",
       "      <td>3.150</td>\n",
       "    </tr>\n",
       "    <tr>\n",
       "      <th>1999</th>\n",
       "      <td>92.667</td>\n",
       "      <td>4.600</td>\n",
       "      <td>1.500</td>\n",
       "      <td>5.933</td>\n",
       "      <td>2.767</td>\n",
       "    </tr>\n",
       "    <tr>\n",
       "      <th>2000</th>\n",
       "      <td>97.800</td>\n",
       "      <td>4.260</td>\n",
       "      <td>1.460</td>\n",
       "      <td>5.920</td>\n",
       "      <td>3.020</td>\n",
       "    </tr>\n",
       "    <tr>\n",
       "      <th>2001</th>\n",
       "      <td>69.500</td>\n",
       "      <td>3.800</td>\n",
       "      <td>1.250</td>\n",
       "      <td>6.033</td>\n",
       "      <td>3.117</td>\n",
       "    </tr>\n",
       "    <tr>\n",
       "      <th>2002</th>\n",
       "      <td>94.400</td>\n",
       "      <td>4.920</td>\n",
       "      <td>1.720</td>\n",
       "      <td>6.340</td>\n",
       "      <td>2.820</td>\n",
       "    </tr>\n",
       "    <tr>\n",
       "      <th>2003</th>\n",
       "      <td>121.000</td>\n",
       "      <td>4.050</td>\n",
       "      <td>1.500</td>\n",
       "      <td>5.450</td>\n",
       "      <td>2.600</td>\n",
       "    </tr>\n",
       "    <tr>\n",
       "      <th>2004</th>\n",
       "      <td>97.500</td>\n",
       "      <td>4.050</td>\n",
       "      <td>1.417</td>\n",
       "      <td>5.983</td>\n",
       "      <td>3.150</td>\n",
       "    </tr>\n",
       "    <tr>\n",
       "      <th>2005</th>\n",
       "      <td>59.800</td>\n",
       "      <td>3.780</td>\n",
       "      <td>1.200</td>\n",
       "      <td>6.320</td>\n",
       "      <td>3.320</td>\n",
       "    </tr>\n",
       "    <tr>\n",
       "      <th>2006</th>\n",
       "      <td>65.000</td>\n",
       "      <td>3.450</td>\n",
       "      <td>0.983</td>\n",
       "      <td>5.933</td>\n",
       "      <td>3.217</td>\n",
       "    </tr>\n",
       "    <tr>\n",
       "      <th>2007</th>\n",
       "      <td>106.500</td>\n",
       "      <td>4.950</td>\n",
       "      <td>2.050</td>\n",
       "      <td>6.400</td>\n",
       "      <td>3.150</td>\n",
       "    </tr>\n",
       "    <tr>\n",
       "      <th>2008</th>\n",
       "      <td>76.000</td>\n",
       "      <td>3.740</td>\n",
       "      <td>1.240</td>\n",
       "      <td>5.940</td>\n",
       "      <td>3.200</td>\n",
       "    </tr>\n",
       "    <tr>\n",
       "      <th>2009</th>\n",
       "      <td>63.400</td>\n",
       "      <td>2.760</td>\n",
       "      <td>0.860</td>\n",
       "      <td>5.320</td>\n",
       "      <td>3.240</td>\n",
       "    </tr>\n",
       "    <tr>\n",
       "      <th>2010</th>\n",
       "      <td>73.333</td>\n",
       "      <td>4.150</td>\n",
       "      <td>1.417</td>\n",
       "      <td>6.067</td>\n",
       "      <td>3.150</td>\n",
       "    </tr>\n",
       "    <tr>\n",
       "      <th>2011</th>\n",
       "      <td>87.889</td>\n",
       "      <td>4.411</td>\n",
       "      <td>1.378</td>\n",
       "      <td>6.311</td>\n",
       "      <td>2.889</td>\n",
       "    </tr>\n",
       "    <tr>\n",
       "      <th>2013</th>\n",
       "      <td>90.750</td>\n",
       "      <td>4.075</td>\n",
       "      <td>1.250</td>\n",
       "      <td>5.575</td>\n",
       "      <td>2.850</td>\n",
       "    </tr>\n",
       "    <tr>\n",
       "      <th>2014</th>\n",
       "      <td>73.500</td>\n",
       "      <td>4.450</td>\n",
       "      <td>1.250</td>\n",
       "      <td>5.600</td>\n",
       "      <td>2.700</td>\n",
       "    </tr>\n",
       "    <tr>\n",
       "      <th>2015</th>\n",
       "      <td>34.600</td>\n",
       "      <td>2.100</td>\n",
       "      <td>0.400</td>\n",
       "      <td>5.060</td>\n",
       "      <td>3.360</td>\n",
       "    </tr>\n",
       "  </tbody>\n",
       "</table>\n",
       "</div>"
      ],
      "text/plain": [
       "         idx  petal_length  petal_width  sepal_length  sepal_width\n",
       "year                                                              \n",
       "1980  45.000         2.650        0.750         5.200        3.050\n",
       "1981  85.000         3.667        1.100         5.567        2.767\n",
       "1982  74.000         3.900        1.000         6.200        3.150\n",
       "1983  71.000         3.767        1.183         5.967        3.117\n",
       "1984  66.286         3.357        0.929         5.714        3.100\n",
       "1985  25.000         1.500        0.200         5.033        3.467\n",
       "1986  94.333         4.333        1.467         5.733        2.767\n",
       "1987  28.000         2.275        0.500         5.325        3.175\n",
       "1988  69.857         3.486        1.200         5.814        3.271\n",
       "1989  96.333         5.300        1.667         6.800        2.933\n",
       "1990  60.667         3.233        1.033         5.467        3.133\n",
       "1991  34.000         1.400        0.200         5.500        4.200\n",
       "1992  98.500         4.975        1.750         6.025        2.875\n",
       "1993  90.000         4.380        1.420         6.000        2.840\n",
       "1994  72.000         2.850        0.800         5.500        2.950\n",
       "1995  57.833         2.767        0.717         5.517        3.250\n",
       "1996 107.800         5.040        1.820         6.560        2.820\n",
       "1997  94.667         4.383        1.667         5.600        2.683\n",
       "1998  20.000         1.350        0.200         4.800        3.150\n",
       "1999  92.667         4.600        1.500         5.933        2.767\n",
       "2000  97.800         4.260        1.460         5.920        3.020\n",
       "2001  69.500         3.800        1.250         6.033        3.117\n",
       "2002  94.400         4.920        1.720         6.340        2.820\n",
       "2003 121.000         4.050        1.500         5.450        2.600\n",
       "2004  97.500         4.050        1.417         5.983        3.150\n",
       "2005  59.800         3.780        1.200         6.320        3.320\n",
       "2006  65.000         3.450        0.983         5.933        3.217\n",
       "2007 106.500         4.950        2.050         6.400        3.150\n",
       "2008  76.000         3.740        1.240         5.940        3.200\n",
       "2009  63.400         2.760        0.860         5.320        3.240\n",
       "2010  73.333         4.150        1.417         6.067        3.150\n",
       "2011  87.889         4.411        1.378         6.311        2.889\n",
       "2013  90.750         4.075        1.250         5.575        2.850\n",
       "2014  73.500         4.450        1.250         5.600        2.700\n",
       "2015  34.600         2.100        0.400         5.060        3.360"
      ]
     },
     "execution_count": 36,
     "metadata": {},
     "output_type": "execute_result"
    }
   ],
   "source": [
    "df.pivot_table(values=[\"idx\",\"sepal_length\",\"sepal_width\",\"petal_length\",\"petal_width\"], index=[\"year\"], aggfunc=np.mean)"
   ]
  },
  {
   "cell_type": "markdown",
   "metadata": {},
   "source": [
    "# 合并数据集"
   ]
  },
  {
   "cell_type": "code",
   "execution_count": 37,
   "metadata": {
    "collapsed": false
   },
   "outputs": [],
   "source": [
    "df2 = pd.DataFrame({'idx':range(1,151),\n",
    "                   'month2':np.random.randint(low=1,high=13,size=150)})"
   ]
  },
  {
   "cell_type": "code",
   "execution_count": 38,
   "metadata": {
    "collapsed": false
   },
   "outputs": [
    {
     "data": {
      "text/html": [
       "<div>\n",
       "<table border=\"1\" class=\"dataframe\">\n",
       "  <thead>\n",
       "    <tr style=\"text-align: right;\">\n",
       "      <th></th>\n",
       "      <th>idx</th>\n",
       "      <th>sepal_length</th>\n",
       "      <th>sepal_width</th>\n",
       "      <th>petal_length</th>\n",
       "      <th>petal_width</th>\n",
       "      <th>species</th>\n",
       "      <th>date</th>\n",
       "      <th>year</th>\n",
       "      <th>month2</th>\n",
       "    </tr>\n",
       "  </thead>\n",
       "  <tbody>\n",
       "    <tr>\n",
       "      <th>0</th>\n",
       "      <td>1</td>\n",
       "      <td>5.100</td>\n",
       "      <td>3.500</td>\n",
       "      <td>1.400</td>\n",
       "      <td>0.200</td>\n",
       "      <td>setosa</td>\n",
       "      <td>2015/6</td>\n",
       "      <td>2015</td>\n",
       "      <td>12</td>\n",
       "    </tr>\n",
       "    <tr>\n",
       "      <th>1</th>\n",
       "      <td>2</td>\n",
       "      <td>4.900</td>\n",
       "      <td>3.000</td>\n",
       "      <td>1.400</td>\n",
       "      <td>0.200</td>\n",
       "      <td>setosa</td>\n",
       "      <td>1987/8</td>\n",
       "      <td>1987</td>\n",
       "      <td>4</td>\n",
       "    </tr>\n",
       "    <tr>\n",
       "      <th>2</th>\n",
       "      <td>3</td>\n",
       "      <td>4.700</td>\n",
       "      <td>3.200</td>\n",
       "      <td>1.300</td>\n",
       "      <td>0.200</td>\n",
       "      <td>setosa</td>\n",
       "      <td>1988/2</td>\n",
       "      <td>1988</td>\n",
       "      <td>4</td>\n",
       "    </tr>\n",
       "    <tr>\n",
       "      <th>3</th>\n",
       "      <td>4</td>\n",
       "      <td>4.600</td>\n",
       "      <td>3.100</td>\n",
       "      <td>1.500</td>\n",
       "      <td>0.200</td>\n",
       "      <td>setosa</td>\n",
       "      <td>1998/2</td>\n",
       "      <td>1998</td>\n",
       "      <td>5</td>\n",
       "    </tr>\n",
       "    <tr>\n",
       "      <th>4</th>\n",
       "      <td>5</td>\n",
       "      <td>5.000</td>\n",
       "      <td>3.600</td>\n",
       "      <td>1.400</td>\n",
       "      <td>0.200</td>\n",
       "      <td>setosa</td>\n",
       "      <td>2006/9</td>\n",
       "      <td>2006</td>\n",
       "      <td>12</td>\n",
       "    </tr>\n",
       "  </tbody>\n",
       "</table>\n",
       "</div>"
      ],
      "text/plain": [
       "   idx  sepal_length  sepal_width  petal_length  petal_width species    date  \\\n",
       "0    1         5.100        3.500         1.400        0.200  setosa  2015/6   \n",
       "1    2         4.900        3.000         1.400        0.200  setosa  1987/8   \n",
       "2    3         4.700        3.200         1.300        0.200  setosa  1988/2   \n",
       "3    4         4.600        3.100         1.500        0.200  setosa  1998/2   \n",
       "4    5         5.000        3.600         1.400        0.200  setosa  2006/9   \n",
       "\n",
       "   year  month2  \n",
       "0  2015      12  \n",
       "1  1987       4  \n",
       "2  1988       4  \n",
       "3  1998       5  \n",
       "4  2006      12  "
      ]
     },
     "execution_count": 38,
     "metadata": {},
     "output_type": "execute_result"
    }
   ],
   "source": [
    "df12 = pd.merge(df, df2,on='idx')\n",
    "df12.head(5)"
   ]
  },
  {
   "cell_type": "markdown",
   "metadata": {},
   "source": [
    "# Drop missing values"
   ]
  },
  {
   "cell_type": "code",
   "execution_count": 39,
   "metadata": {
    "collapsed": false
   },
   "outputs": [
    {
     "data": {
      "text/html": [
       "<div>\n",
       "<table border=\"1\" class=\"dataframe\">\n",
       "  <thead>\n",
       "    <tr style=\"text-align: right;\">\n",
       "      <th></th>\n",
       "      <th>idx</th>\n",
       "      <th>sepal_length</th>\n",
       "      <th>sepal_width</th>\n",
       "      <th>petal_length</th>\n",
       "      <th>petal_width</th>\n",
       "      <th>species</th>\n",
       "      <th>date</th>\n",
       "      <th>year</th>\n",
       "      <th>month2</th>\n",
       "    </tr>\n",
       "  </thead>\n",
       "  <tbody>\n",
       "    <tr>\n",
       "      <th>0</th>\n",
       "      <td>1</td>\n",
       "      <td>5.100</td>\n",
       "      <td>3.500</td>\n",
       "      <td>1.400</td>\n",
       "      <td>0.200</td>\n",
       "      <td>setosa</td>\n",
       "      <td>2015/6</td>\n",
       "      <td>2015</td>\n",
       "      <td>12</td>\n",
       "    </tr>\n",
       "    <tr>\n",
       "      <th>1</th>\n",
       "      <td>2</td>\n",
       "      <td>4.900</td>\n",
       "      <td>3.000</td>\n",
       "      <td>1.400</td>\n",
       "      <td>0.200</td>\n",
       "      <td>setosa</td>\n",
       "      <td>1987/8</td>\n",
       "      <td>1987</td>\n",
       "      <td>4</td>\n",
       "    </tr>\n",
       "  </tbody>\n",
       "</table>\n",
       "</div>"
      ],
      "text/plain": [
       "   idx  sepal_length  sepal_width  petal_length  petal_width species    date  \\\n",
       "0    1         5.100        3.500         1.400        0.200  setosa  2015/6   \n",
       "1    2         4.900        3.000         1.400        0.200  setosa  1987/8   \n",
       "\n",
       "   year  month2  \n",
       "0  2015      12  \n",
       "1  1987       4  "
      ]
     },
     "execution_count": 39,
     "metadata": {},
     "output_type": "execute_result"
    }
   ],
   "source": [
    "df12.dropna().head(2)"
   ]
  },
  {
   "cell_type": "markdown",
   "metadata": {},
   "source": [
    "# Fill missing values"
   ]
  },
  {
   "cell_type": "code",
   "execution_count": 40,
   "metadata": {
    "collapsed": false
   },
   "outputs": [
    {
     "data": {
      "text/plain": [
       "0   5.100\n",
       "1   4.900\n",
       "2   4.700\n",
       "3   4.600\n",
       "4   5.000\n",
       "Name: sepal_length, dtype: float64"
      ]
     },
     "execution_count": 40,
     "metadata": {},
     "output_type": "execute_result"
    }
   ],
   "source": [
    "df12copy = df12.copy()\n",
    "mean = df12copy['sepal_length'].mean()\n",
    "df12copy['sepal_length'].fillna(mean).head(5)\n",
    "# a simple replacement using the mean of the available values."
   ]
  },
  {
   "cell_type": "markdown",
   "metadata": {},
   "source": [
    "# Saving your data to a csv"
   ]
  },
  {
   "cell_type": "code",
   "execution_count": 41,
   "metadata": {
    "collapsed": true
   },
   "outputs": [],
   "source": [
    "df12.to_csv('df12.csv')"
   ]
  },
  {
   "cell_type": "markdown",
   "metadata": {},
   "source": [
    "# Plots"
   ]
  },
  {
   "cell_type": "code",
   "execution_count": 42,
   "metadata": {
    "collapsed": false
   },
   "outputs": [
    {
     "data": {
      "text/html": [
       "<div>\n",
       "<table border=\"1\" class=\"dataframe\">\n",
       "  <thead>\n",
       "    <tr style=\"text-align: right;\">\n",
       "      <th></th>\n",
       "      <th>c</th>\n",
       "      <th>d</th>\n",
       "      <th>x</th>\n",
       "      <th>y</th>\n",
       "      <th>z</th>\n",
       "    </tr>\n",
       "  </thead>\n",
       "  <tbody>\n",
       "    <tr>\n",
       "      <th>0</th>\n",
       "      <td>a</td>\n",
       "      <td>p</td>\n",
       "      <td>-0.616</td>\n",
       "      <td>0.296</td>\n",
       "      <td>-0.402</td>\n",
       "    </tr>\n",
       "    <tr>\n",
       "      <th>1</th>\n",
       "      <td>b</td>\n",
       "      <td>n</td>\n",
       "      <td>1.322</td>\n",
       "      <td>0.256</td>\n",
       "      <td>1.036</td>\n",
       "    </tr>\n",
       "    <tr>\n",
       "      <th>2</th>\n",
       "      <td>b</td>\n",
       "      <td>p</td>\n",
       "      <td>-0.503</td>\n",
       "      <td>0.955</td>\n",
       "      <td>0.352</td>\n",
       "    </tr>\n",
       "    <tr>\n",
       "      <th>3</th>\n",
       "      <td>a</td>\n",
       "      <td>p</td>\n",
       "      <td>-2.512</td>\n",
       "      <td>-1.300</td>\n",
       "      <td>0.212</td>\n",
       "    </tr>\n",
       "    <tr>\n",
       "      <th>4</th>\n",
       "      <td>b</td>\n",
       "      <td>n</td>\n",
       "      <td>-0.397</td>\n",
       "      <td>-0.190</td>\n",
       "      <td>0.187</td>\n",
       "    </tr>\n",
       "  </tbody>\n",
       "</table>\n",
       "</div>"
      ],
      "text/plain": [
       "   c  d      x      y      z\n",
       "0  a  p -0.616  0.296 -0.402\n",
       "1  b  n  1.322  0.256  1.036\n",
       "2  b  p -0.503  0.955  0.352\n",
       "3  a  p -2.512 -1.300  0.212\n",
       "4  b  n -0.397 -0.190  0.187"
      ]
     },
     "execution_count": 42,
     "metadata": {},
     "output_type": "execute_result"
    }
   ],
   "source": [
    "df3 = pd.DataFrame({'x' : np.random.normal(0,1,1000),\n",
    "                   'y' : np.random.normal(0,1,1000),\n",
    "                   'z': np.random.normal(0,1,1000),\n",
    "                   'c': np.random.choice(['a','b'], 1000),\n",
    "                   'd': np.random.choice(['p','n'], 1000)})\n",
    "df3.head()"
   ]
  },
  {
   "cell_type": "code",
   "execution_count": 43,
   "metadata": {
    "collapsed": false
   },
   "outputs": [
    {
     "data": {
      "image/png": "[encoded data removed]",
      "text/plain": [
       "<matplotlib.figure.Figure at 0x1138d4990>"
      ]
     },
     "metadata": {},
     "output_type": "display_data"
    }
   ],
   "source": [
    "df3.hist(column='x');"
   ]
  },
  {
   "cell_type": "code",
   "execution_count": 44,
   "metadata": {
    "collapsed": false
   },
   "outputs": [
    {
     "data": {
      "image/png": "[encoded data removed]",
      "text/plain": [
       "<matplotlib.figure.Figure at 0x1123def50>"
      ]
     },
     "metadata": {},
     "output_type": "display_data"
    }
   ],
   "source": [
    "df3.hist(column='x',by='d',bins=10);"
   ]
  },
  {
   "cell_type": "code",
   "execution_count": 45,
   "metadata": {
    "collapsed": false
   },
   "outputs": [
    {
     "data": {
      "image/png": "[encoded data removed]",
      "text/plain": [
       "<matplotlib.figure.Figure at 0x112495290>"
      ]
     },
     "metadata": {},
     "output_type": "display_data"
    }
   ],
   "source": [
    "df3.boxplot(column='x', by='c');"
   ]
  },
  {
   "cell_type": "markdown",
   "metadata": {},
   "source": [
    "# Crosstab"
   ]
  },
  {
   "cell_type": "code",
   "execution_count": 46,
   "metadata": {
    "collapsed": false
   },
   "outputs": [
    {
     "data": {
      "text/html": [
       "<div>\n",
       "<table border=\"1\" class=\"dataframe\">\n",
       "  <thead>\n",
       "    <tr style=\"text-align: right;\">\n",
       "      <th>d</th>\n",
       "      <th>n</th>\n",
       "      <th>p</th>\n",
       "      <th>All</th>\n",
       "    </tr>\n",
       "    <tr>\n",
       "      <th>c</th>\n",
       "      <th></th>\n",
       "      <th></th>\n",
       "      <th></th>\n",
       "    </tr>\n",
       "  </thead>\n",
       "  <tbody>\n",
       "    <tr>\n",
       "      <th>a</th>\n",
       "      <td>243</td>\n",
       "      <td>245</td>\n",
       "      <td>488</td>\n",
       "    </tr>\n",
       "    <tr>\n",
       "      <th>b</th>\n",
       "      <td>256</td>\n",
       "      <td>256</td>\n",
       "      <td>512</td>\n",
       "    </tr>\n",
       "    <tr>\n",
       "      <th>All</th>\n",
       "      <td>499</td>\n",
       "      <td>501</td>\n",
       "      <td>1000</td>\n",
       "    </tr>\n",
       "  </tbody>\n",
       "</table>\n",
       "</div>"
      ],
      "text/plain": [
       "d      n    p   All\n",
       "c                  \n",
       "a    243  245   488\n",
       "b    256  256   512\n",
       "All  499  501  1000"
      ]
     },
     "execution_count": 46,
     "metadata": {},
     "output_type": "execute_result"
    }
   ],
   "source": [
    "pd.crosstab(df3[\"c\"],df3[\"d\"],margins=True)"
   ]
  },
  {
   "cell_type": "markdown",
   "metadata": {},
   "source": [
    "# sort_values"
   ]
  },
  {
   "cell_type": "code",
   "execution_count": 47,
   "metadata": {
    "collapsed": false
   },
   "outputs": [
    {
     "data": {
      "text/html": [
       "<div>\n",
       "<table border=\"1\" class=\"dataframe\">\n",
       "  <thead>\n",
       "    <tr style=\"text-align: right;\">\n",
       "      <th></th>\n",
       "      <th>c</th>\n",
       "      <th>d</th>\n",
       "      <th>x</th>\n",
       "      <th>y</th>\n",
       "      <th>z</th>\n",
       "    </tr>\n",
       "  </thead>\n",
       "  <tbody>\n",
       "    <tr>\n",
       "      <th>313</th>\n",
       "      <td>a</td>\n",
       "      <td>n</td>\n",
       "      <td>3.247</td>\n",
       "      <td>-2.238</td>\n",
       "      <td>0.118</td>\n",
       "    </tr>\n",
       "    <tr>\n",
       "      <th>147</th>\n",
       "      <td>a</td>\n",
       "      <td>n</td>\n",
       "      <td>2.966</td>\n",
       "      <td>-0.130</td>\n",
       "      <td>0.875</td>\n",
       "    </tr>\n",
       "    <tr>\n",
       "      <th>344</th>\n",
       "      <td>b</td>\n",
       "      <td>n</td>\n",
       "      <td>2.843</td>\n",
       "      <td>0.160</td>\n",
       "      <td>-0.719</td>\n",
       "    </tr>\n",
       "    <tr>\n",
       "      <th>350</th>\n",
       "      <td>b</td>\n",
       "      <td>p</td>\n",
       "      <td>2.649</td>\n",
       "      <td>-1.103</td>\n",
       "      <td>0.047</td>\n",
       "    </tr>\n",
       "    <tr>\n",
       "      <th>669</th>\n",
       "      <td>b</td>\n",
       "      <td>p</td>\n",
       "      <td>2.645</td>\n",
       "      <td>1.241</td>\n",
       "      <td>-1.405</td>\n",
       "    </tr>\n",
       "  </tbody>\n",
       "</table>\n",
       "</div>"
      ],
      "text/plain": [
       "     c  d     x      y      z\n",
       "313  a  n 3.247 -2.238  0.118\n",
       "147  a  n 2.966 -0.130  0.875\n",
       "344  b  n 2.843  0.160 -0.719\n",
       "350  b  p 2.649 -1.103  0.047\n",
       "669  b  p 2.645  1.241 -1.405"
      ]
     },
     "execution_count": 47,
     "metadata": {},
     "output_type": "execute_result"
    }
   ],
   "source": [
    "df3.sort_values(['x'], ascending=False).head()"
   ]
  },
  {
   "cell_type": "code",
   "execution_count": 48,
   "metadata": {
    "collapsed": false
   },
   "outputs": [
    {
     "data": {
      "text/html": [
       "<div>\n",
       "<table border=\"1\" class=\"dataframe\">\n",
       "  <thead>\n",
       "    <tr style=\"text-align: right;\">\n",
       "      <th></th>\n",
       "      <th>c</th>\n",
       "      <th>d</th>\n",
       "      <th>x</th>\n",
       "      <th>y</th>\n",
       "      <th>z</th>\n",
       "    </tr>\n",
       "  </thead>\n",
       "  <tbody>\n",
       "    <tr>\n",
       "      <th>731</th>\n",
       "      <td>a</td>\n",
       "      <td>p</td>\n",
       "      <td>-2.722</td>\n",
       "      <td>0.549</td>\n",
       "      <td>1.025</td>\n",
       "    </tr>\n",
       "    <tr>\n",
       "      <th>946</th>\n",
       "      <td>a</td>\n",
       "      <td>n</td>\n",
       "      <td>-2.695</td>\n",
       "      <td>0.541</td>\n",
       "      <td>-0.409</td>\n",
       "    </tr>\n",
       "    <tr>\n",
       "      <th>406</th>\n",
       "      <td>b</td>\n",
       "      <td>n</td>\n",
       "      <td>-2.568</td>\n",
       "      <td>2.202</td>\n",
       "      <td>-0.323</td>\n",
       "    </tr>\n",
       "    <tr>\n",
       "      <th>3</th>\n",
       "      <td>a</td>\n",
       "      <td>p</td>\n",
       "      <td>-2.512</td>\n",
       "      <td>-1.300</td>\n",
       "      <td>0.212</td>\n",
       "    </tr>\n",
       "    <tr>\n",
       "      <th>971</th>\n",
       "      <td>b</td>\n",
       "      <td>n</td>\n",
       "      <td>-2.484</td>\n",
       "      <td>0.980</td>\n",
       "      <td>-0.687</td>\n",
       "    </tr>\n",
       "  </tbody>\n",
       "</table>\n",
       "</div>"
      ],
      "text/plain": [
       "     c  d      x      y      z\n",
       "731  a  p -2.722  0.549  1.025\n",
       "946  a  n -2.695  0.541 -0.409\n",
       "406  b  n -2.568  2.202 -0.323\n",
       "3    a  p -2.512 -1.300  0.212\n",
       "971  b  n -2.484  0.980 -0.687"
      ]
     },
     "execution_count": 48,
     "metadata": {},
     "output_type": "execute_result"
    }
   ],
   "source": [
    "df3.sort_values(['x','z']).head()"
   ]
  },
  {
   "cell_type": "markdown",
   "metadata": {},
   "source": [
    "# value_counts"
   ]
  },
  {
   "cell_type": "code",
   "execution_count": 49,
   "metadata": {
    "collapsed": false
   },
   "outputs": [
    {
     "data": {
      "text/plain": [
       "a    488\n",
       "b    512\n",
       "Name: c, dtype: int64"
      ]
     },
     "execution_count": 49,
     "metadata": {},
     "output_type": "execute_result"
    }
   ],
   "source": [
    "pd.value_counts(df3[\"c\"], sort=False)"
   ]
  }
 ],
 "metadata": {
  "kernelspec": {
   "display_name": "Python 2",
   "language": "python",
   "name": "python2"
  },
  "language_info": {
   "codemirror_mode": {
    "name": "ipython",
    "version": 2
   },
   "file_extension": ".py",
   "mimetype": "text/x-python",
   "name": "python",
   "nbconvert_exporter": "python",
   "pygments_lexer": "ipython2",
   "version": "2.7.12"
  },
  "nav_menu": {},
  "toc": {
   "navigate_menu": true,
   "number_sections": true,
   "sideBar": true,
   "threshold": "6",
   "toc_cell": true,
   "toc_section_display": "block",
   "toc_window_display": false
  }
 },
 "nbformat": 4,
 "nbformat_minor": 0
}
