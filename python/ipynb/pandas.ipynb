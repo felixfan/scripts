{
 "cells": [
  {
   "cell_type": "markdown",
   "metadata": {
    "toc": "true"
   },
   "source": [
    "# Table of Contents\n",
    " <p><div class=\"lev1 toc-item\"><a href=\"#Reading-a-csv-into-Pandas\" data-toc-modified-id=\"Reading-a-csv-into-Pandas-1\"><span class=\"toc-item-num\">1&nbsp;&nbsp;</span>Reading a csv into Pandas</a></div><div class=\"lev1 toc-item\"><a href=\"#read-a-tabular-data-file-into-pandas\" data-toc-modified-id=\"read-a-tabular-data-file-into-pandas-2\"><span class=\"toc-item-num\">2&nbsp;&nbsp;</span>read a tabular data file into pandas</a></div><div class=\"lev1 toc-item\"><a href=\"#Getting-first-x-rows.\" data-toc-modified-id=\"Getting-first-x-rows.-3\"><span class=\"toc-item-num\">3&nbsp;&nbsp;</span>Getting first x rows.</a></div><div class=\"lev1 toc-item\"><a href=\"#Getting-last-x-rows.\" data-toc-modified-id=\"Getting-last-x-rows.-4\"><span class=\"toc-item-num\">4&nbsp;&nbsp;</span>Getting last x rows.</a></div><div class=\"lev1 toc-item\"><a href=\"#Changing-column-labels.\" data-toc-modified-id=\"Changing-column-labels.-5\"><span class=\"toc-item-num\">5&nbsp;&nbsp;</span>Changing column labels.</a></div><div class=\"lev1 toc-item\"><a href=\"#Finding-out-how-many-rows-dataset-has.\" data-toc-modified-id=\"Finding-out-how-many-rows-dataset-has.-6\"><span class=\"toc-item-num\">6&nbsp;&nbsp;</span>Finding out how many rows dataset has.</a></div><div class=\"lev1 toc-item\"><a href=\"#dimensionality-of-the-DataFrame.\" data-toc-modified-id=\"dimensionality-of-the-DataFrame.-7\"><span class=\"toc-item-num\">7&nbsp;&nbsp;</span>dimensionality of the DataFrame.</a></div><div class=\"lev1 toc-item\"><a href=\"#data-types-of-each-columns\" data-toc-modified-id=\"data-types-of-each-columns-8\"><span class=\"toc-item-num\">8&nbsp;&nbsp;</span>data types of each columns</a></div><div class=\"lev1 toc-item\"><a href=\"#Finding-out-basic-statistical-information-on-your-dataset.\" data-toc-modified-id=\"Finding-out-basic-statistical-information-on-your-dataset.-9\"><span class=\"toc-item-num\">9&nbsp;&nbsp;</span>Finding out basic statistical information on your dataset.</a></div><div class=\"lev1 toc-item\"><a href=\"#Getting-a-column-by-label\" data-toc-modified-id=\"Getting-a-column-by-label-10\"><span class=\"toc-item-num\">10&nbsp;&nbsp;</span>Getting a column by label</a></div><div class=\"lev1 toc-item\"><a href=\"#Getting-a-column-by-label-using-.\" data-toc-modified-id=\"Getting-a-column-by-label-using-.-11\"><span class=\"toc-item-num\">11&nbsp;&nbsp;</span>Getting a column by label using .</a></div><div class=\"lev1 toc-item\"><a href=\"#Creating-a-series-of-booleans-based-on-a-conditional\" data-toc-modified-id=\"Creating-a-series-of-booleans-based-on-a-conditional-12\"><span class=\"toc-item-num\">12&nbsp;&nbsp;</span>Creating a series of booleans based on a conditional</a></div><div class=\"lev1 toc-item\"><a href=\"#Using-a-series-of-booleans-to-filter\" data-toc-modified-id=\"Using-a-series-of-booleans-to-filter-13\"><span class=\"toc-item-num\">13&nbsp;&nbsp;</span>Using a series of booleans to filter</a></div><div class=\"lev1 toc-item\"><a href=\"#Filtering-by-multiple-conditionals\" data-toc-modified-id=\"Filtering-by-multiple-conditionals-14\"><span class=\"toc-item-num\">14&nbsp;&nbsp;</span>Filtering by multiple conditionals</a></div><div class=\"lev1 toc-item\"><a href=\"#Filtering-by-string-methods\" data-toc-modified-id=\"Filtering-by-string-methods-15\"><span class=\"toc-item-num\">15&nbsp;&nbsp;</span>Filtering by string methods</a></div><div class=\"lev1 toc-item\"><a href=\"#Getting-a-row-via-a-numerical-index\" data-toc-modified-id=\"Getting-a-row-via-a-numerical-index-16\"><span class=\"toc-item-num\">16&nbsp;&nbsp;</span>Getting a row via a numerical index</a></div><div class=\"lev1 toc-item\"><a href=\"#Setting-a-new-index-from-an-existing-column\" data-toc-modified-id=\"Setting-a-new-index-from-an-existing-column-17\"><span class=\"toc-item-num\">17&nbsp;&nbsp;</span>Setting a new index from an existing column</a></div><div class=\"lev1 toc-item\"><a href=\"#Getting-a-row-via-a-label-based-index\" data-toc-modified-id=\"Getting-a-row-via-a-label-based-index-18\"><span class=\"toc-item-num\">18&nbsp;&nbsp;</span>Getting a row via a label-based index</a></div><div class=\"lev1 toc-item\"><a href=\"#Getting-a-row-via-a-label-based-or-numerical-index\" data-toc-modified-id=\"Getting-a-row-via-a-label-based-or-numerical-index-19\"><span class=\"toc-item-num\">19&nbsp;&nbsp;</span>Getting a row via a label-based or numerical index</a></div><div class=\"lev1 toc-item\"><a href=\"#sort-index\" data-toc-modified-id=\"sort-index-20\"><span class=\"toc-item-num\">20&nbsp;&nbsp;</span>sort index</a></div><div class=\"lev1 toc-item\"><a href=\"#Returning-an-index-to-data\" data-toc-modified-id=\"Returning-an-index-to-data-21\"><span class=\"toc-item-num\">21&nbsp;&nbsp;</span>Returning an index to data</a></div><div class=\"lev1 toc-item\"><a href=\"#Selecting-a-subset-of-columns\" data-toc-modified-id=\"Selecting-a-subset-of-columns-22\"><span class=\"toc-item-num\">22&nbsp;&nbsp;</span>Selecting a subset of columns</a></div><div class=\"lev1 toc-item\"><a href=\"#Add-random-date-column\" data-toc-modified-id=\"Add-random-date-column-23\"><span class=\"toc-item-num\">23&nbsp;&nbsp;</span>Add random date column</a></div><div class=\"lev1 toc-item\"><a href=\"#Applying-a-function-to-a-column\" data-toc-modified-id=\"Applying-a-function-to-a-column-24\"><span class=\"toc-item-num\">24&nbsp;&nbsp;</span>Applying a function to a column</a></div><div class=\"lev1 toc-item\"><a href=\"#Grouby\" data-toc-modified-id=\"Grouby-25\"><span class=\"toc-item-num\">25&nbsp;&nbsp;</span>Grouby</a></div><div class=\"lev1 toc-item\"><a href=\"#Grouping-by-multiple-columns\" data-toc-modified-id=\"Grouping-by-multiple-columns-26\"><span class=\"toc-item-num\">26&nbsp;&nbsp;</span>Grouping by multiple columns</a></div><div class=\"lev1 toc-item\"><a href=\"#pivot_table\" data-toc-modified-id=\"pivot_table-27\"><span class=\"toc-item-num\">27&nbsp;&nbsp;</span>pivot_table</a></div><div class=\"lev1 toc-item\"><a href=\"#合并数据集\" data-toc-modified-id=\"合并数据集-28\"><span class=\"toc-item-num\">28&nbsp;&nbsp;</span>合并数据集</a></div><div class=\"lev1 toc-item\"><a href=\"#Drop-missing-values\" data-toc-modified-id=\"Drop-missing-values-29\"><span class=\"toc-item-num\">29&nbsp;&nbsp;</span>Drop missing values</a></div><div class=\"lev1 toc-item\"><a href=\"#Fill-missing-values\" data-toc-modified-id=\"Fill-missing-values-30\"><span class=\"toc-item-num\">30&nbsp;&nbsp;</span>Fill missing values</a></div><div class=\"lev1 toc-item\"><a href=\"#Saving-your-data-to-a-csv\" data-toc-modified-id=\"Saving-your-data-to-a-csv-31\"><span class=\"toc-item-num\">31&nbsp;&nbsp;</span>Saving your data to a csv</a></div><div class=\"lev1 toc-item\"><a href=\"#Plots\" data-toc-modified-id=\"Plots-32\"><span class=\"toc-item-num\">32&nbsp;&nbsp;</span>Plots</a></div><div class=\"lev1 toc-item\"><a href=\"#Crosstab\" data-toc-modified-id=\"Crosstab-33\"><span class=\"toc-item-num\">33&nbsp;&nbsp;</span>Crosstab</a></div><div class=\"lev1 toc-item\"><a href=\"#sort_values\" data-toc-modified-id=\"sort_values-34\"><span class=\"toc-item-num\">34&nbsp;&nbsp;</span>sort_values</a></div><div class=\"lev1 toc-item\"><a href=\"#value_counts\" data-toc-modified-id=\"value_counts-35\"><span class=\"toc-item-num\">35&nbsp;&nbsp;</span>value_counts</a></div>"
   ]
  },
  {
   "cell_type": "code",
   "execution_count": 1,
   "metadata": {
    "collapsed": true
   },
   "outputs": [],
   "source": [
    "import pandas as pd\n",
    "import numpy as np\n",
    "\n",
    "%matplotlib inline"
   ]
  },
  {
   "cell_type": "markdown",
   "metadata": {},
   "source": [
    "# Reading a csv into Pandas"
   ]
  },
  {
   "cell_type": "code",
   "execution_count": 2,
   "metadata": {
    "collapsed": true
   },
   "outputs": [],
   "source": [
    "df = pd.read_csv('iris.csv', header=0)\n",
    "# If there are no column names you can set header to None. "
   ]
  },
  {
   "cell_type": "markdown",
   "metadata": {},
   "source": [
    "# read a tabular data file into pandas"
   ]
  },
  {
   "cell_type": "code",
   "execution_count": 3,
   "metadata": {
    "collapsed": false
   },
   "outputs": [],
   "source": [
    "df2 = pd.read_table('olympics.txt')\n",
    "# by default, sep is tab, first row is header"
   ]
  },
  {
   "cell_type": "code",
   "execution_count": 4,
   "metadata": {
    "collapsed": true
   },
   "outputs": [],
   "source": [
    "df3 = pd.read_table('http://bit.ly/chiporders')"
   ]
  },
  {
   "cell_type": "code",
   "execution_count": 5,
   "metadata": {
    "collapsed": true
   },
   "outputs": [],
   "source": [
    "df4 = pd.read_table('http://bit.ly/movieusers', sep='|', header=None)"
   ]
  },
  {
   "cell_type": "code",
   "execution_count": 6,
   "metadata": {
    "collapsed": true
   },
   "outputs": [],
   "source": [
    "ufo = pd.read_csv('http://bit.ly/uforeports')"
   ]
  },
  {
   "cell_type": "code",
   "execution_count": 7,
   "metadata": {
    "collapsed": true
   },
   "outputs": [],
   "source": [
    "movies = pd.read_csv('http://bit.ly/imdbratings')"
   ]
  },
  {
   "cell_type": "markdown",
   "metadata": {},
   "source": [
    "# Getting first x rows."
   ]
  },
  {
   "cell_type": "code",
   "execution_count": 8,
   "metadata": {
    "collapsed": false
   },
   "outputs": [
    {
     "data": {
      "text/html": [
       "<div>\n",
       "<table border=\"1\" class=\"dataframe\">\n",
       "  <thead>\n",
       "    <tr style=\"text-align: right;\">\n",
       "      <th></th>\n",
       "      <th>Unnamed: 0</th>\n",
       "      <th>Sepal.Length</th>\n",
       "      <th>Sepal.Width</th>\n",
       "      <th>Petal.Length</th>\n",
       "      <th>Petal.Width</th>\n",
       "      <th>Species</th>\n",
       "    </tr>\n",
       "  </thead>\n",
       "  <tbody>\n",
       "    <tr>\n",
       "      <th>0</th>\n",
       "      <td>1</td>\n",
       "      <td>5.1</td>\n",
       "      <td>3.5</td>\n",
       "      <td>1.4</td>\n",
       "      <td>0.2</td>\n",
       "      <td>setosa</td>\n",
       "    </tr>\n",
       "    <tr>\n",
       "      <th>1</th>\n",
       "      <td>2</td>\n",
       "      <td>4.9</td>\n",
       "      <td>3.0</td>\n",
       "      <td>1.4</td>\n",
       "      <td>0.2</td>\n",
       "      <td>setosa</td>\n",
       "    </tr>\n",
       "  </tbody>\n",
       "</table>\n",
       "</div>"
      ],
      "text/plain": [
       "   Unnamed: 0  Sepal.Length  Sepal.Width  Petal.Length  Petal.Width Species\n",
       "0           1           5.1          3.5           1.4          0.2  setosa\n",
       "1           2           4.9          3.0           1.4          0.2  setosa"
      ]
     },
     "execution_count": 8,
     "metadata": {},
     "output_type": "execute_result"
    }
   ],
   "source": [
    "df.head(2)"
   ]
  },
  {
   "cell_type": "code",
   "execution_count": 9,
   "metadata": {
    "collapsed": false
   },
   "outputs": [
    {
     "data": {
      "text/html": [
       "<div>\n",
       "<table border=\"1\" class=\"dataframe\">\n",
       "  <thead>\n",
       "    <tr style=\"text-align: right;\">\n",
       "      <th></th>\n",
       "      <th>0</th>\n",
       "      <th>1</th>\n",
       "      <th>2</th>\n",
       "      <th>3</th>\n",
       "      <th>4</th>\n",
       "    </tr>\n",
       "  </thead>\n",
       "  <tbody>\n",
       "    <tr>\n",
       "      <th>0</th>\n",
       "      <td>1</td>\n",
       "      <td>24</td>\n",
       "      <td>M</td>\n",
       "      <td>technician</td>\n",
       "      <td>85711</td>\n",
       "    </tr>\n",
       "    <tr>\n",
       "      <th>1</th>\n",
       "      <td>2</td>\n",
       "      <td>53</td>\n",
       "      <td>F</td>\n",
       "      <td>other</td>\n",
       "      <td>94043</td>\n",
       "    </tr>\n",
       "  </tbody>\n",
       "</table>\n",
       "</div>"
      ],
      "text/plain": [
       "   0   1  2           3      4\n",
       "0  1  24  M  technician  85711\n",
       "1  2  53  F       other  94043"
      ]
     },
     "execution_count": 9,
     "metadata": {},
     "output_type": "execute_result"
    }
   ],
   "source": [
    "df4.head(2)"
   ]
  },
  {
   "cell_type": "markdown",
   "metadata": {},
   "source": [
    "# Getting last x rows."
   ]
  },
  {
   "cell_type": "code",
   "execution_count": 10,
   "metadata": {
    "collapsed": false
   },
   "outputs": [
    {
     "data": {
      "text/html": [
       "<div>\n",
       "<table border=\"1\" class=\"dataframe\">\n",
       "  <thead>\n",
       "    <tr style=\"text-align: right;\">\n",
       "      <th></th>\n",
       "      <th>Unnamed: 0</th>\n",
       "      <th>Sepal.Length</th>\n",
       "      <th>Sepal.Width</th>\n",
       "      <th>Petal.Length</th>\n",
       "      <th>Petal.Width</th>\n",
       "      <th>Species</th>\n",
       "    </tr>\n",
       "  </thead>\n",
       "  <tbody>\n",
       "    <tr>\n",
       "      <th>148</th>\n",
       "      <td>149</td>\n",
       "      <td>6.2</td>\n",
       "      <td>3.4</td>\n",
       "      <td>5.4</td>\n",
       "      <td>2.3</td>\n",
       "      <td>virginica</td>\n",
       "    </tr>\n",
       "    <tr>\n",
       "      <th>149</th>\n",
       "      <td>150</td>\n",
       "      <td>5.9</td>\n",
       "      <td>3.0</td>\n",
       "      <td>5.1</td>\n",
       "      <td>1.8</td>\n",
       "      <td>virginica</td>\n",
       "    </tr>\n",
       "  </tbody>\n",
       "</table>\n",
       "</div>"
      ],
      "text/plain": [
       "     Unnamed: 0  Sepal.Length  Sepal.Width  Petal.Length  Petal.Width  \\\n",
       "148         149           6.2          3.4           5.4          2.3   \n",
       "149         150           5.9          3.0           5.1          1.8   \n",
       "\n",
       "       Species  \n",
       "148  virginica  \n",
       "149  virginica  "
      ]
     },
     "execution_count": 10,
     "metadata": {},
     "output_type": "execute_result"
    }
   ],
   "source": [
    "df.tail(2)"
   ]
  },
  {
   "cell_type": "markdown",
   "metadata": {},
   "source": [
    "# Changing column labels."
   ]
  },
  {
   "cell_type": "code",
   "execution_count": 11,
   "metadata": {
    "collapsed": false
   },
   "outputs": [
    {
     "data": {
      "text/html": [
       "<div>\n",
       "<table border=\"1\" class=\"dataframe\">\n",
       "  <thead>\n",
       "    <tr style=\"text-align: right;\">\n",
       "      <th></th>\n",
       "      <th>idx</th>\n",
       "      <th>sepal_length</th>\n",
       "      <th>sepal_width</th>\n",
       "      <th>petal_length</th>\n",
       "      <th>petal_width</th>\n",
       "      <th>species</th>\n",
       "    </tr>\n",
       "  </thead>\n",
       "  <tbody>\n",
       "    <tr>\n",
       "      <th>0</th>\n",
       "      <td>1</td>\n",
       "      <td>5.1</td>\n",
       "      <td>3.5</td>\n",
       "      <td>1.4</td>\n",
       "      <td>0.2</td>\n",
       "      <td>setosa</td>\n",
       "    </tr>\n",
       "    <tr>\n",
       "      <th>1</th>\n",
       "      <td>2</td>\n",
       "      <td>4.9</td>\n",
       "      <td>3.0</td>\n",
       "      <td>1.4</td>\n",
       "      <td>0.2</td>\n",
       "      <td>setosa</td>\n",
       "    </tr>\n",
       "  </tbody>\n",
       "</table>\n",
       "</div>"
      ],
      "text/plain": [
       "   idx  sepal_length  sepal_width  petal_length  petal_width species\n",
       "0    1           5.1          3.5           1.4          0.2  setosa\n",
       "1    2           4.9          3.0           1.4          0.2  setosa"
      ]
     },
     "execution_count": 11,
     "metadata": {},
     "output_type": "execute_result"
    }
   ],
   "source": [
    "df.columns = ['idx','sepal_length', 'sepal_width', 'petal_length', 'petal_width', 'species']\n",
    "df.head(2)"
   ]
  },
  {
   "cell_type": "code",
   "execution_count": 12,
   "metadata": {
    "collapsed": false
   },
   "outputs": [
    {
     "data": {
      "text/html": [
       "<div>\n",
       "<table border=\"1\" class=\"dataframe\">\n",
       "  <thead>\n",
       "    <tr style=\"text-align: right;\">\n",
       "      <th></th>\n",
       "      <th>user_id</th>\n",
       "      <th>age</th>\n",
       "      <th>gender</th>\n",
       "      <th>occupation</th>\n",
       "      <th>zip_code</th>\n",
       "    </tr>\n",
       "  </thead>\n",
       "  <tbody>\n",
       "    <tr>\n",
       "      <th>0</th>\n",
       "      <td>1</td>\n",
       "      <td>24</td>\n",
       "      <td>M</td>\n",
       "      <td>technician</td>\n",
       "      <td>85711</td>\n",
       "    </tr>\n",
       "    <tr>\n",
       "      <th>1</th>\n",
       "      <td>2</td>\n",
       "      <td>53</td>\n",
       "      <td>F</td>\n",
       "      <td>other</td>\n",
       "      <td>94043</td>\n",
       "    </tr>\n",
       "  </tbody>\n",
       "</table>\n",
       "</div>"
      ],
      "text/plain": [
       "   user_id  age gender  occupation zip_code\n",
       "0        1   24      M  technician    85711\n",
       "1        2   53      F       other    94043"
      ]
     },
     "execution_count": 12,
     "metadata": {},
     "output_type": "execute_result"
    }
   ],
   "source": [
    "df4.columns = ['user_id', 'age', 'gender', 'occupation', 'zip_code']\n",
    "df4.head(2)"
   ]
  },
  {
   "cell_type": "markdown",
   "metadata": {},
   "source": [
    "# Finding out how many rows dataset has."
   ]
  },
  {
   "cell_type": "code",
   "execution_count": 13,
   "metadata": {
    "collapsed": false
   },
   "outputs": [
    {
     "data": {
      "text/plain": [
       "150"
      ]
     },
     "execution_count": 13,
     "metadata": {},
     "output_type": "execute_result"
    }
   ],
   "source": [
    "len(df)"
   ]
  },
  {
   "cell_type": "markdown",
   "metadata": {},
   "source": [
    "# dimensionality of the DataFrame."
   ]
  },
  {
   "cell_type": "code",
   "execution_count": 14,
   "metadata": {
    "collapsed": false
   },
   "outputs": [
    {
     "data": {
      "text/plain": [
       "(150, 6)"
      ]
     },
     "execution_count": 14,
     "metadata": {},
     "output_type": "execute_result"
    }
   ],
   "source": [
    "df.shape"
   ]
  },
  {
   "cell_type": "markdown",
   "metadata": {},
   "source": [
    "# data types of each columns"
   ]
  },
  {
   "cell_type": "code",
   "execution_count": 15,
   "metadata": {
    "collapsed": false
   },
   "outputs": [
    {
     "data": {
      "text/plain": [
       "idx               int64\n",
       "sepal_length    float64\n",
       "sepal_width     float64\n",
       "petal_length    float64\n",
       "petal_width     float64\n",
       "species          object\n",
       "dtype: object"
      ]
     },
     "execution_count": 15,
     "metadata": {},
     "output_type": "execute_result"
    }
   ],
   "source": [
    "df.dtypes"
   ]
  },
  {
   "cell_type": "markdown",
   "metadata": {},
   "source": [
    "# Finding out basic statistical information on your dataset."
   ]
  },
  {
   "cell_type": "code",
   "execution_count": 16,
   "metadata": {
    "collapsed": false
   },
   "outputs": [
    {
     "data": {
      "text/html": [
       "<div>\n",
       "<table border=\"1\" class=\"dataframe\">\n",
       "  <thead>\n",
       "    <tr style=\"text-align: right;\">\n",
       "      <th></th>\n",
       "      <th>idx</th>\n",
       "      <th>sepal_length</th>\n",
       "      <th>sepal_width</th>\n",
       "      <th>petal_length</th>\n",
       "      <th>petal_width</th>\n",
       "    </tr>\n",
       "  </thead>\n",
       "  <tbody>\n",
       "    <tr>\n",
       "      <th>count</th>\n",
       "      <td>150.000</td>\n",
       "      <td>150.000</td>\n",
       "      <td>150.000</td>\n",
       "      <td>150.000</td>\n",
       "      <td>150.000</td>\n",
       "    </tr>\n",
       "    <tr>\n",
       "      <th>mean</th>\n",
       "      <td>75.500</td>\n",
       "      <td>5.843</td>\n",
       "      <td>3.057</td>\n",
       "      <td>3.758</td>\n",
       "      <td>1.199</td>\n",
       "    </tr>\n",
       "    <tr>\n",
       "      <th>std</th>\n",
       "      <td>43.445</td>\n",
       "      <td>0.828</td>\n",
       "      <td>0.436</td>\n",
       "      <td>1.765</td>\n",
       "      <td>0.762</td>\n",
       "    </tr>\n",
       "    <tr>\n",
       "      <th>min</th>\n",
       "      <td>1.000</td>\n",
       "      <td>4.300</td>\n",
       "      <td>2.000</td>\n",
       "      <td>1.000</td>\n",
       "      <td>0.100</td>\n",
       "    </tr>\n",
       "    <tr>\n",
       "      <th>25%</th>\n",
       "      <td>38.250</td>\n",
       "      <td>5.100</td>\n",
       "      <td>2.800</td>\n",
       "      <td>1.600</td>\n",
       "      <td>0.300</td>\n",
       "    </tr>\n",
       "    <tr>\n",
       "      <th>50%</th>\n",
       "      <td>75.500</td>\n",
       "      <td>5.800</td>\n",
       "      <td>3.000</td>\n",
       "      <td>4.350</td>\n",
       "      <td>1.300</td>\n",
       "    </tr>\n",
       "    <tr>\n",
       "      <th>75%</th>\n",
       "      <td>112.750</td>\n",
       "      <td>6.400</td>\n",
       "      <td>3.300</td>\n",
       "      <td>5.100</td>\n",
       "      <td>1.800</td>\n",
       "    </tr>\n",
       "    <tr>\n",
       "      <th>max</th>\n",
       "      <td>150.000</td>\n",
       "      <td>7.900</td>\n",
       "      <td>4.400</td>\n",
       "      <td>6.900</td>\n",
       "      <td>2.500</td>\n",
       "    </tr>\n",
       "  </tbody>\n",
       "</table>\n",
       "</div>"
      ],
      "text/plain": [
       "          idx  sepal_length  sepal_width  petal_length  petal_width\n",
       "count 150.000       150.000      150.000       150.000      150.000\n",
       "mean   75.500         5.843        3.057         3.758        1.199\n",
       "std    43.445         0.828        0.436         1.765        0.762\n",
       "min     1.000         4.300        2.000         1.000        0.100\n",
       "25%    38.250         5.100        2.800         1.600        0.300\n",
       "50%    75.500         5.800        3.000         4.350        1.300\n",
       "75%   112.750         6.400        3.300         5.100        1.800\n",
       "max   150.000         7.900        4.400         6.900        2.500"
      ]
     },
     "execution_count": 16,
     "metadata": {},
     "output_type": "execute_result"
    }
   ],
   "source": [
    "pd.options.display.float_format = '{:,.3f}'.format \n",
    "# Limit output to 3 decimal places.\n",
    "df.describe()\n",
    "# only for numerical columns"
   ]
  },
  {
   "cell_type": "code",
   "execution_count": 17,
   "metadata": {
    "collapsed": false
   },
   "outputs": [
    {
     "data": {
      "text/html": [
       "<div>\n",
       "<table border=\"1\" class=\"dataframe\">\n",
       "  <thead>\n",
       "    <tr style=\"text-align: right;\">\n",
       "      <th></th>\n",
       "      <th>idx</th>\n",
       "      <th>sepal_length</th>\n",
       "      <th>sepal_width</th>\n",
       "      <th>petal_length</th>\n",
       "      <th>petal_width</th>\n",
       "    </tr>\n",
       "  </thead>\n",
       "  <tbody>\n",
       "    <tr>\n",
       "      <th>idx</th>\n",
       "      <td>1,887.500</td>\n",
       "      <td>25.783</td>\n",
       "      <td>-7.618</td>\n",
       "      <td>67.693</td>\n",
       "      <td>29.805</td>\n",
       "    </tr>\n",
       "    <tr>\n",
       "      <th>sepal_length</th>\n",
       "      <td>25.783</td>\n",
       "      <td>0.686</td>\n",
       "      <td>-0.042</td>\n",
       "      <td>1.274</td>\n",
       "      <td>0.516</td>\n",
       "    </tr>\n",
       "    <tr>\n",
       "      <th>sepal_width</th>\n",
       "      <td>-7.618</td>\n",
       "      <td>-0.042</td>\n",
       "      <td>0.190</td>\n",
       "      <td>-0.330</td>\n",
       "      <td>-0.122</td>\n",
       "    </tr>\n",
       "    <tr>\n",
       "      <th>petal_length</th>\n",
       "      <td>67.693</td>\n",
       "      <td>1.274</td>\n",
       "      <td>-0.330</td>\n",
       "      <td>3.116</td>\n",
       "      <td>1.296</td>\n",
       "    </tr>\n",
       "    <tr>\n",
       "      <th>petal_width</th>\n",
       "      <td>29.805</td>\n",
       "      <td>0.516</td>\n",
       "      <td>-0.122</td>\n",
       "      <td>1.296</td>\n",
       "      <td>0.581</td>\n",
       "    </tr>\n",
       "  </tbody>\n",
       "</table>\n",
       "</div>"
      ],
      "text/plain": [
       "                   idx  sepal_length  sepal_width  petal_length  petal_width\n",
       "idx          1,887.500        25.783       -7.618        67.693       29.805\n",
       "sepal_length    25.783         0.686       -0.042         1.274        0.516\n",
       "sepal_width     -7.618        -0.042        0.190        -0.330       -0.122\n",
       "petal_length    67.693         1.274       -0.330         3.116        1.296\n",
       "petal_width     29.805         0.516       -0.122         1.296        0.581"
      ]
     },
     "execution_count": 17,
     "metadata": {},
     "output_type": "execute_result"
    }
   ],
   "source": [
    "df.cov()"
   ]
  },
  {
   "cell_type": "code",
   "execution_count": 18,
   "metadata": {
    "collapsed": false
   },
   "outputs": [
    {
     "data": {
      "text/html": [
       "<div>\n",
       "<table border=\"1\" class=\"dataframe\">\n",
       "  <thead>\n",
       "    <tr style=\"text-align: right;\">\n",
       "      <th></th>\n",
       "      <th>idx</th>\n",
       "      <th>sepal_length</th>\n",
       "      <th>sepal_width</th>\n",
       "      <th>petal_length</th>\n",
       "      <th>petal_width</th>\n",
       "    </tr>\n",
       "  </thead>\n",
       "  <tbody>\n",
       "    <tr>\n",
       "      <th>idx</th>\n",
       "      <td>1.000</td>\n",
       "      <td>0.717</td>\n",
       "      <td>-0.402</td>\n",
       "      <td>0.883</td>\n",
       "      <td>0.900</td>\n",
       "    </tr>\n",
       "    <tr>\n",
       "      <th>sepal_length</th>\n",
       "      <td>0.717</td>\n",
       "      <td>1.000</td>\n",
       "      <td>-0.118</td>\n",
       "      <td>0.872</td>\n",
       "      <td>0.818</td>\n",
       "    </tr>\n",
       "    <tr>\n",
       "      <th>sepal_width</th>\n",
       "      <td>-0.402</td>\n",
       "      <td>-0.118</td>\n",
       "      <td>1.000</td>\n",
       "      <td>-0.428</td>\n",
       "      <td>-0.366</td>\n",
       "    </tr>\n",
       "    <tr>\n",
       "      <th>petal_length</th>\n",
       "      <td>0.883</td>\n",
       "      <td>0.872</td>\n",
       "      <td>-0.428</td>\n",
       "      <td>1.000</td>\n",
       "      <td>0.963</td>\n",
       "    </tr>\n",
       "    <tr>\n",
       "      <th>petal_width</th>\n",
       "      <td>0.900</td>\n",
       "      <td>0.818</td>\n",
       "      <td>-0.366</td>\n",
       "      <td>0.963</td>\n",
       "      <td>1.000</td>\n",
       "    </tr>\n",
       "  </tbody>\n",
       "</table>\n",
       "</div>"
      ],
      "text/plain": [
       "                idx  sepal_length  sepal_width  petal_length  petal_width\n",
       "idx           1.000         0.717       -0.402         0.883        0.900\n",
       "sepal_length  0.717         1.000       -0.118         0.872        0.818\n",
       "sepal_width  -0.402        -0.118        1.000        -0.428       -0.366\n",
       "petal_length  0.883         0.872       -0.428         1.000        0.963\n",
       "petal_width   0.900         0.818       -0.366         0.963        1.000"
      ]
     },
     "execution_count": 18,
     "metadata": {},
     "output_type": "execute_result"
    }
   ],
   "source": [
    "df.corr()"
   ]
  },
  {
   "cell_type": "markdown",
   "metadata": {},
   "source": [
    "# Getting a column by label"
   ]
  },
  {
   "cell_type": "code",
   "execution_count": 19,
   "metadata": {
    "collapsed": false
   },
   "outputs": [
    {
     "data": {
      "text/plain": [
       "0   5.100\n",
       "1   4.900\n",
       "Name: sepal_length, dtype: float64"
      ]
     },
     "execution_count": 19,
     "metadata": {},
     "output_type": "execute_result"
    }
   ],
   "source": [
    "df['sepal_length'].head(2)"
   ]
  },
  {
   "cell_type": "code",
   "execution_count": 20,
   "metadata": {
    "collapsed": false
   },
   "outputs": [
    {
     "data": {
      "text/plain": [
       "0                  Ithaca\n",
       "1             Willingboro\n",
       "2                 Holyoke\n",
       "3                 Abilene\n",
       "4    New York Worlds Fair\n",
       "Name: City, dtype: object"
      ]
     },
     "execution_count": 20,
     "metadata": {},
     "output_type": "execute_result"
    }
   ],
   "source": [
    "ufo['City'].head()"
   ]
  },
  {
   "cell_type": "markdown",
   "metadata": {},
   "source": [
    "# Getting a column by label using ."
   ]
  },
  {
   "cell_type": "code",
   "execution_count": 21,
   "metadata": {
    "collapsed": false
   },
   "outputs": [
    {
     "data": {
      "text/plain": [
       "0   5.100\n",
       "1   4.900\n",
       "Name: sepal_length, dtype: float64"
      ]
     },
     "execution_count": 21,
     "metadata": {},
     "output_type": "execute_result"
    }
   ],
   "source": [
    "df.sepal_length.head(2)"
   ]
  },
  {
   "cell_type": "code",
   "execution_count": 22,
   "metadata": {
    "collapsed": false
   },
   "outputs": [
    {
     "data": {
      "text/plain": [
       "0                  Ithaca\n",
       "1             Willingboro\n",
       "2                 Holyoke\n",
       "3                 Abilene\n",
       "4    New York Worlds Fair\n",
       "Name: City, dtype: object"
      ]
     },
     "execution_count": 22,
     "metadata": {},
     "output_type": "execute_result"
    }
   ],
   "source": [
    "ufo.City.head()"
   ]
  },
  {
   "cell_type": "code",
   "execution_count": 23,
   "metadata": {
    "collapsed": false
   },
   "outputs": [
    {
     "data": {
      "text/html": [
       "<div>\n",
       "<table border=\"1\" class=\"dataframe\">\n",
       "  <thead>\n",
       "    <tr style=\"text-align: right;\">\n",
       "      <th></th>\n",
       "      <th>City</th>\n",
       "      <th>Colors Reported</th>\n",
       "      <th>Shape Reported</th>\n",
       "      <th>State</th>\n",
       "      <th>Time</th>\n",
       "      <th>Location</th>\n",
       "    </tr>\n",
       "  </thead>\n",
       "  <tbody>\n",
       "    <tr>\n",
       "      <th>0</th>\n",
       "      <td>Ithaca</td>\n",
       "      <td>NaN</td>\n",
       "      <td>TRIANGLE</td>\n",
       "      <td>NY</td>\n",
       "      <td>6/1/1930 22:00</td>\n",
       "      <td>Ithaca, NY</td>\n",
       "    </tr>\n",
       "    <tr>\n",
       "      <th>1</th>\n",
       "      <td>Willingboro</td>\n",
       "      <td>NaN</td>\n",
       "      <td>OTHER</td>\n",
       "      <td>NJ</td>\n",
       "      <td>6/30/1930 20:00</td>\n",
       "      <td>Willingboro, NJ</td>\n",
       "    </tr>\n",
       "    <tr>\n",
       "      <th>2</th>\n",
       "      <td>Holyoke</td>\n",
       "      <td>NaN</td>\n",
       "      <td>OVAL</td>\n",
       "      <td>CO</td>\n",
       "      <td>2/15/1931 14:00</td>\n",
       "      <td>Holyoke, CO</td>\n",
       "    </tr>\n",
       "    <tr>\n",
       "      <th>3</th>\n",
       "      <td>Abilene</td>\n",
       "      <td>NaN</td>\n",
       "      <td>DISK</td>\n",
       "      <td>KS</td>\n",
       "      <td>6/1/1931 13:00</td>\n",
       "      <td>Abilene, KS</td>\n",
       "    </tr>\n",
       "    <tr>\n",
       "      <th>4</th>\n",
       "      <td>New York Worlds Fair</td>\n",
       "      <td>NaN</td>\n",
       "      <td>LIGHT</td>\n",
       "      <td>NY</td>\n",
       "      <td>4/18/1933 19:00</td>\n",
       "      <td>New York Worlds Fair, NY</td>\n",
       "    </tr>\n",
       "  </tbody>\n",
       "</table>\n",
       "</div>"
      ],
      "text/plain": [
       "                   City Colors Reported Shape Reported State             Time  \\\n",
       "0                Ithaca             NaN       TRIANGLE    NY   6/1/1930 22:00   \n",
       "1           Willingboro             NaN          OTHER    NJ  6/30/1930 20:00   \n",
       "2               Holyoke             NaN           OVAL    CO  2/15/1931 14:00   \n",
       "3               Abilene             NaN           DISK    KS   6/1/1931 13:00   \n",
       "4  New York Worlds Fair             NaN          LIGHT    NY  4/18/1933 19:00   \n",
       "\n",
       "                   Location  \n",
       "0                Ithaca, NY  \n",
       "1           Willingboro, NJ  \n",
       "2               Holyoke, CO  \n",
       "3               Abilene, KS  \n",
       "4  New York Worlds Fair, NY  "
      ]
     },
     "execution_count": 23,
     "metadata": {},
     "output_type": "execute_result"
    }
   ],
   "source": [
    "ufo['Location'] = ufo.City + ', ' + ufo.State\n",
    "ufo.head()"
   ]
  },
  {
   "cell_type": "markdown",
   "metadata": {},
   "source": [
    "# Creating a series of booleans based on a conditional"
   ]
  },
  {
   "cell_type": "code",
   "execution_count": 24,
   "metadata": {
    "collapsed": false
   },
   "outputs": [
    {
     "data": {
      "text/plain": [
       "0    False\n",
       "1     True\n",
       "Name: sepal_length, dtype: bool"
      ]
     },
     "execution_count": 24,
     "metadata": {},
     "output_type": "execute_result"
    }
   ],
   "source": [
    "boolean = df.sepal_length < 5\n",
    "boolean.head(2)\n",
    "# Or df['sepal_length'] < 5"
   ]
  },
  {
   "cell_type": "markdown",
   "metadata": {},
   "source": [
    "# Using a series of booleans to filter"
   ]
  },
  {
   "cell_type": "code",
   "execution_count": 25,
   "metadata": {
    "collapsed": false
   },
   "outputs": [
    {
     "data": {
      "text/html": [
       "<div>\n",
       "<table border=\"1\" class=\"dataframe\">\n",
       "  <thead>\n",
       "    <tr style=\"text-align: right;\">\n",
       "      <th></th>\n",
       "      <th>idx</th>\n",
       "      <th>sepal_length</th>\n",
       "      <th>sepal_width</th>\n",
       "      <th>petal_length</th>\n",
       "      <th>petal_width</th>\n",
       "      <th>species</th>\n",
       "    </tr>\n",
       "  </thead>\n",
       "  <tbody>\n",
       "    <tr>\n",
       "      <th>1</th>\n",
       "      <td>2</td>\n",
       "      <td>4.900</td>\n",
       "      <td>3.000</td>\n",
       "      <td>1.400</td>\n",
       "      <td>0.200</td>\n",
       "      <td>setosa</td>\n",
       "    </tr>\n",
       "    <tr>\n",
       "      <th>2</th>\n",
       "      <td>3</td>\n",
       "      <td>4.700</td>\n",
       "      <td>3.200</td>\n",
       "      <td>1.300</td>\n",
       "      <td>0.200</td>\n",
       "      <td>setosa</td>\n",
       "    </tr>\n",
       "  </tbody>\n",
       "</table>\n",
       "</div>"
      ],
      "text/plain": [
       "   idx  sepal_length  sepal_width  petal_length  petal_width species\n",
       "1    2         4.900        3.000         1.400        0.200  setosa\n",
       "2    3         4.700        3.200         1.300        0.200  setosa"
      ]
     },
     "execution_count": 25,
     "metadata": {},
     "output_type": "execute_result"
    }
   ],
   "source": [
    "df[df.sepal_length < 5].head(2)"
   ]
  },
  {
   "cell_type": "code",
   "execution_count": 26,
   "metadata": {
    "collapsed": false
   },
   "outputs": [
    {
     "data": {
      "text/html": [
       "<div>\n",
       "<table border=\"1\" class=\"dataframe\">\n",
       "  <thead>\n",
       "    <tr style=\"text-align: right;\">\n",
       "      <th></th>\n",
       "      <th>idx</th>\n",
       "      <th>sepal_length</th>\n",
       "      <th>sepal_width</th>\n",
       "      <th>petal_length</th>\n",
       "      <th>petal_width</th>\n",
       "      <th>species</th>\n",
       "    </tr>\n",
       "  </thead>\n",
       "  <tbody>\n",
       "    <tr>\n",
       "      <th>0</th>\n",
       "      <td>1</td>\n",
       "      <td>5.100</td>\n",
       "      <td>3.500</td>\n",
       "      <td>1.400</td>\n",
       "      <td>0.200</td>\n",
       "      <td>setosa</td>\n",
       "    </tr>\n",
       "    <tr>\n",
       "      <th>4</th>\n",
       "      <td>5</td>\n",
       "      <td>5.000</td>\n",
       "      <td>3.600</td>\n",
       "      <td>1.400</td>\n",
       "      <td>0.200</td>\n",
       "      <td>setosa</td>\n",
       "    </tr>\n",
       "  </tbody>\n",
       "</table>\n",
       "</div>"
      ],
      "text/plain": [
       "   idx  sepal_length  sepal_width  petal_length  petal_width species\n",
       "0    1         5.100        3.500         1.400        0.200  setosa\n",
       "4    5         5.000        3.600         1.400        0.200  setosa"
      ]
     },
     "execution_count": 26,
     "metadata": {},
     "output_type": "execute_result"
    }
   ],
   "source": [
    "df[~(df.sepal_length < 5)].head(2)"
   ]
  },
  {
   "cell_type": "markdown",
   "metadata": {},
   "source": [
    "# Filtering by multiple conditionals"
   ]
  },
  {
   "cell_type": "code",
   "execution_count": 27,
   "metadata": {
    "collapsed": false
   },
   "outputs": [
    {
     "data": {
      "text/html": [
       "<div>\n",
       "<table border=\"1\" class=\"dataframe\">\n",
       "  <thead>\n",
       "    <tr style=\"text-align: right;\">\n",
       "      <th></th>\n",
       "      <th>idx</th>\n",
       "      <th>sepal_length</th>\n",
       "      <th>sepal_width</th>\n",
       "      <th>petal_length</th>\n",
       "      <th>petal_width</th>\n",
       "      <th>species</th>\n",
       "    </tr>\n",
       "  </thead>\n",
       "  <tbody>\n",
       "    <tr>\n",
       "      <th>2</th>\n",
       "      <td>3</td>\n",
       "      <td>4.700</td>\n",
       "      <td>3.200</td>\n",
       "      <td>1.300</td>\n",
       "      <td>0.200</td>\n",
       "      <td>setosa</td>\n",
       "    </tr>\n",
       "    <tr>\n",
       "      <th>3</th>\n",
       "      <td>4</td>\n",
       "      <td>4.600</td>\n",
       "      <td>3.100</td>\n",
       "      <td>1.500</td>\n",
       "      <td>0.200</td>\n",
       "      <td>setosa</td>\n",
       "    </tr>\n",
       "  </tbody>\n",
       "</table>\n",
       "</div>"
      ],
      "text/plain": [
       "   idx  sepal_length  sepal_width  petal_length  petal_width species\n",
       "2    3         4.700        3.200         1.300        0.200  setosa\n",
       "3    4         4.600        3.100         1.500        0.200  setosa"
      ]
     },
     "execution_count": 27,
     "metadata": {},
     "output_type": "execute_result"
    }
   ],
   "source": [
    "df[(df.sepal_length < 5) & (df.sepal_width > 3)].head(2)\n",
    "# Can't use the keyword 'and'"
   ]
  },
  {
   "cell_type": "code",
   "execution_count": 28,
   "metadata": {
    "collapsed": false
   },
   "outputs": [
    {
     "data": {
      "text/html": [
       "<div>\n",
       "<table border=\"1\" class=\"dataframe\">\n",
       "  <thead>\n",
       "    <tr style=\"text-align: right;\">\n",
       "      <th></th>\n",
       "      <th>idx</th>\n",
       "      <th>sepal_length</th>\n",
       "      <th>sepal_width</th>\n",
       "      <th>petal_length</th>\n",
       "      <th>petal_width</th>\n",
       "      <th>species</th>\n",
       "    </tr>\n",
       "  </thead>\n",
       "  <tbody>\n",
       "    <tr>\n",
       "      <th>0</th>\n",
       "      <td>1</td>\n",
       "      <td>5.100</td>\n",
       "      <td>3.500</td>\n",
       "      <td>1.400</td>\n",
       "      <td>0.200</td>\n",
       "      <td>setosa</td>\n",
       "    </tr>\n",
       "    <tr>\n",
       "      <th>1</th>\n",
       "      <td>2</td>\n",
       "      <td>4.900</td>\n",
       "      <td>3.000</td>\n",
       "      <td>1.400</td>\n",
       "      <td>0.200</td>\n",
       "      <td>setosa</td>\n",
       "    </tr>\n",
       "  </tbody>\n",
       "</table>\n",
       "</div>"
      ],
      "text/plain": [
       "   idx  sepal_length  sepal_width  petal_length  petal_width species\n",
       "0    1         5.100        3.500         1.400        0.200  setosa\n",
       "1    2         4.900        3.000         1.400        0.200  setosa"
      ]
     },
     "execution_count": 28,
     "metadata": {},
     "output_type": "execute_result"
    }
   ],
   "source": [
    "df[(df.sepal_length < 5) | (df.sepal_width > 3)].head(2)"
   ]
  },
  {
   "cell_type": "markdown",
   "metadata": {},
   "source": [
    "# Filtering by string methods"
   ]
  },
  {
   "cell_type": "code",
   "execution_count": 29,
   "metadata": {
    "collapsed": false
   },
   "outputs": [
    {
     "data": {
      "text/html": [
       "<div>\n",
       "<table border=\"1\" class=\"dataframe\">\n",
       "  <thead>\n",
       "    <tr style=\"text-align: right;\">\n",
       "      <th></th>\n",
       "      <th>idx</th>\n",
       "      <th>sepal_length</th>\n",
       "      <th>sepal_width</th>\n",
       "      <th>petal_length</th>\n",
       "      <th>petal_width</th>\n",
       "      <th>species</th>\n",
       "    </tr>\n",
       "  </thead>\n",
       "  <tbody>\n",
       "    <tr>\n",
       "      <th>0</th>\n",
       "      <td>1</td>\n",
       "      <td>5.100</td>\n",
       "      <td>3.500</td>\n",
       "      <td>1.400</td>\n",
       "      <td>0.200</td>\n",
       "      <td>setosa</td>\n",
       "    </tr>\n",
       "    <tr>\n",
       "      <th>1</th>\n",
       "      <td>2</td>\n",
       "      <td>4.900</td>\n",
       "      <td>3.000</td>\n",
       "      <td>1.400</td>\n",
       "      <td>0.200</td>\n",
       "      <td>setosa</td>\n",
       "    </tr>\n",
       "    <tr>\n",
       "      <th>2</th>\n",
       "      <td>3</td>\n",
       "      <td>4.700</td>\n",
       "      <td>3.200</td>\n",
       "      <td>1.300</td>\n",
       "      <td>0.200</td>\n",
       "      <td>setosa</td>\n",
       "    </tr>\n",
       "  </tbody>\n",
       "</table>\n",
       "</div>"
      ],
      "text/plain": [
       "   idx  sepal_length  sepal_width  petal_length  petal_width species\n",
       "0    1         5.100        3.500         1.400        0.200  setosa\n",
       "1    2         4.900        3.000         1.400        0.200  setosa\n",
       "2    3         4.700        3.200         1.300        0.200  setosa"
      ]
     },
     "execution_count": 29,
     "metadata": {},
     "output_type": "execute_result"
    }
   ],
   "source": [
    "df[df.species.str.startswith('seto')].head(3)"
   ]
  },
  {
   "cell_type": "markdown",
   "metadata": {},
   "source": [
    "# Getting a row via a numerical index"
   ]
  },
  {
   "cell_type": "code",
   "execution_count": 30,
   "metadata": {
    "collapsed": false
   },
   "outputs": [
    {
     "data": {
      "text/plain": [
       "idx                 31\n",
       "sepal_length     4.800\n",
       "sepal_width      3.100\n",
       "petal_length     1.600\n",
       "petal_width      0.200\n",
       "species         setosa\n",
       "Name: 30, dtype: object"
      ]
     },
     "execution_count": 30,
     "metadata": {},
     "output_type": "execute_result"
    }
   ],
   "source": [
    "df.iloc[30]"
   ]
  },
  {
   "cell_type": "markdown",
   "metadata": {},
   "source": [
    "# Setting a new index from an existing column"
   ]
  },
  {
   "cell_type": "code",
   "execution_count": 31,
   "metadata": {
    "collapsed": false
   },
   "outputs": [
    {
     "data": {
      "text/html": [
       "<div>\n",
       "<table border=\"1\" class=\"dataframe\">\n",
       "  <thead>\n",
       "    <tr style=\"text-align: right;\">\n",
       "      <th></th>\n",
       "      <th>sepal_length</th>\n",
       "      <th>sepal_width</th>\n",
       "      <th>petal_length</th>\n",
       "      <th>petal_width</th>\n",
       "      <th>species</th>\n",
       "    </tr>\n",
       "    <tr>\n",
       "      <th>idx</th>\n",
       "      <th></th>\n",
       "      <th></th>\n",
       "      <th></th>\n",
       "      <th></th>\n",
       "      <th></th>\n",
       "    </tr>\n",
       "  </thead>\n",
       "  <tbody>\n",
       "    <tr>\n",
       "      <th>1</th>\n",
       "      <td>5.100</td>\n",
       "      <td>3.500</td>\n",
       "      <td>1.400</td>\n",
       "      <td>0.200</td>\n",
       "      <td>setosa</td>\n",
       "    </tr>\n",
       "    <tr>\n",
       "      <th>2</th>\n",
       "      <td>4.900</td>\n",
       "      <td>3.000</td>\n",
       "      <td>1.400</td>\n",
       "      <td>0.200</td>\n",
       "      <td>setosa</td>\n",
       "    </tr>\n",
       "    <tr>\n",
       "      <th>3</th>\n",
       "      <td>4.700</td>\n",
       "      <td>3.200</td>\n",
       "      <td>1.300</td>\n",
       "      <td>0.200</td>\n",
       "      <td>setosa</td>\n",
       "    </tr>\n",
       "    <tr>\n",
       "      <th>4</th>\n",
       "      <td>4.600</td>\n",
       "      <td>3.100</td>\n",
       "      <td>1.500</td>\n",
       "      <td>0.200</td>\n",
       "      <td>setosa</td>\n",
       "    </tr>\n",
       "    <tr>\n",
       "      <th>5</th>\n",
       "      <td>5.000</td>\n",
       "      <td>3.600</td>\n",
       "      <td>1.400</td>\n",
       "      <td>0.200</td>\n",
       "      <td>setosa</td>\n",
       "    </tr>\n",
       "  </tbody>\n",
       "</table>\n",
       "</div>"
      ],
      "text/plain": [
       "     sepal_length  sepal_width  petal_length  petal_width species\n",
       "idx                                                              \n",
       "1           5.100        3.500         1.400        0.200  setosa\n",
       "2           4.900        3.000         1.400        0.200  setosa\n",
       "3           4.700        3.200         1.300        0.200  setosa\n",
       "4           4.600        3.100         1.500        0.200  setosa\n",
       "5           5.000        3.600         1.400        0.200  setosa"
      ]
     },
     "execution_count": 31,
     "metadata": {},
     "output_type": "execute_result"
    }
   ],
   "source": [
    "df = df.set_index(['idx'])\n",
    "# This will make the column ‘idx’ an index.\n",
    "df.head(5)"
   ]
  },
  {
   "cell_type": "markdown",
   "metadata": {},
   "source": [
    "# Getting a row via a label-based index"
   ]
  },
  {
   "cell_type": "code",
   "execution_count": 32,
   "metadata": {
    "collapsed": false
   },
   "outputs": [
    {
     "data": {
      "text/plain": [
       "sepal_length     4.700\n",
       "sepal_width      3.200\n",
       "petal_length     1.600\n",
       "petal_width      0.200\n",
       "species         setosa\n",
       "Name: 30, dtype: object"
      ]
     },
     "execution_count": 32,
     "metadata": {},
     "output_type": "execute_result"
    }
   ],
   "source": [
    "df.loc[30]\n",
    "# This, like iloc will return a series of the row you reference. \n",
    "# The only difference is this time you are using label based \n",
    "# referencing not numerical based.\n",
    "# Note: idx starts from 1 while index starts from 0"
   ]
  },
  {
   "cell_type": "markdown",
   "metadata": {},
   "source": [
    "# Getting a row via a label-based or numerical index"
   ]
  },
  {
   "cell_type": "code",
   "execution_count": 33,
   "metadata": {
    "collapsed": false
   },
   "outputs": [
    {
     "data": {
      "text/plain": [
       "sepal_length     4.700\n",
       "sepal_width      3.200\n",
       "petal_length     1.600\n",
       "petal_width      0.200\n",
       "species         setosa\n",
       "Name: 30, dtype: object"
      ]
     },
     "execution_count": 33,
     "metadata": {},
     "output_type": "execute_result"
    }
   ],
   "source": [
    "df.ix[30] \n",
    "# Label based with numerical index fallback \n",
    "# *Not recommended"
   ]
  },
  {
   "cell_type": "markdown",
   "metadata": {},
   "source": [
    "# sort index"
   ]
  },
  {
   "cell_type": "code",
   "execution_count": 34,
   "metadata": {
    "collapsed": false
   },
   "outputs": [
    {
     "data": {
      "text/html": [
       "<div>\n",
       "<table border=\"1\" class=\"dataframe\">\n",
       "  <thead>\n",
       "    <tr style=\"text-align: right;\">\n",
       "      <th></th>\n",
       "      <th>sepal_length</th>\n",
       "      <th>sepal_width</th>\n",
       "      <th>petal_length</th>\n",
       "      <th>petal_width</th>\n",
       "      <th>species</th>\n",
       "    </tr>\n",
       "    <tr>\n",
       "      <th>idx</th>\n",
       "      <th></th>\n",
       "      <th></th>\n",
       "      <th></th>\n",
       "      <th></th>\n",
       "      <th></th>\n",
       "    </tr>\n",
       "  </thead>\n",
       "  <tbody>\n",
       "    <tr>\n",
       "      <th>150</th>\n",
       "      <td>5.900</td>\n",
       "      <td>3.000</td>\n",
       "      <td>5.100</td>\n",
       "      <td>1.800</td>\n",
       "      <td>virginica</td>\n",
       "    </tr>\n",
       "    <tr>\n",
       "      <th>149</th>\n",
       "      <td>6.200</td>\n",
       "      <td>3.400</td>\n",
       "      <td>5.400</td>\n",
       "      <td>2.300</td>\n",
       "      <td>virginica</td>\n",
       "    </tr>\n",
       "    <tr>\n",
       "      <th>148</th>\n",
       "      <td>6.500</td>\n",
       "      <td>3.000</td>\n",
       "      <td>5.200</td>\n",
       "      <td>2.000</td>\n",
       "      <td>virginica</td>\n",
       "    </tr>\n",
       "    <tr>\n",
       "      <th>147</th>\n",
       "      <td>6.300</td>\n",
       "      <td>2.500</td>\n",
       "      <td>5.000</td>\n",
       "      <td>1.900</td>\n",
       "      <td>virginica</td>\n",
       "    </tr>\n",
       "    <tr>\n",
       "      <th>146</th>\n",
       "      <td>6.700</td>\n",
       "      <td>3.000</td>\n",
       "      <td>5.200</td>\n",
       "      <td>2.300</td>\n",
       "      <td>virginica</td>\n",
       "    </tr>\n",
       "  </tbody>\n",
       "</table>\n",
       "</div>"
      ],
      "text/plain": [
       "     sepal_length  sepal_width  petal_length  petal_width    species\n",
       "idx                                                                 \n",
       "150         5.900        3.000         5.100        1.800  virginica\n",
       "149         6.200        3.400         5.400        2.300  virginica\n",
       "148         6.500        3.000         5.200        2.000  virginica\n",
       "147         6.300        2.500         5.000        1.900  virginica\n",
       "146         6.700        3.000         5.200        2.300  virginica"
      ]
     },
     "execution_count": 34,
     "metadata": {},
     "output_type": "execute_result"
    }
   ],
   "source": [
    "df.sort_index(ascending=False).head(5) \n",
    "#inplace=True to apple the sorting in place"
   ]
  },
  {
   "cell_type": "markdown",
   "metadata": {},
   "source": [
    "# Returning an index to data"
   ]
  },
  {
   "cell_type": "code",
   "execution_count": 35,
   "metadata": {
    "collapsed": false
   },
   "outputs": [
    {
     "data": {
      "text/html": [
       "<div>\n",
       "<table border=\"1\" class=\"dataframe\">\n",
       "  <thead>\n",
       "    <tr style=\"text-align: right;\">\n",
       "      <th></th>\n",
       "      <th>idx</th>\n",
       "      <th>sepal_length</th>\n",
       "      <th>sepal_width</th>\n",
       "      <th>petal_length</th>\n",
       "      <th>petal_width</th>\n",
       "      <th>species</th>\n",
       "    </tr>\n",
       "  </thead>\n",
       "  <tbody>\n",
       "    <tr>\n",
       "      <th>0</th>\n",
       "      <td>1</td>\n",
       "      <td>5.100</td>\n",
       "      <td>3.500</td>\n",
       "      <td>1.400</td>\n",
       "      <td>0.200</td>\n",
       "      <td>setosa</td>\n",
       "    </tr>\n",
       "    <tr>\n",
       "      <th>1</th>\n",
       "      <td>2</td>\n",
       "      <td>4.900</td>\n",
       "      <td>3.000</td>\n",
       "      <td>1.400</td>\n",
       "      <td>0.200</td>\n",
       "      <td>setosa</td>\n",
       "    </tr>\n",
       "    <tr>\n",
       "      <th>2</th>\n",
       "      <td>3</td>\n",
       "      <td>4.700</td>\n",
       "      <td>3.200</td>\n",
       "      <td>1.300</td>\n",
       "      <td>0.200</td>\n",
       "      <td>setosa</td>\n",
       "    </tr>\n",
       "    <tr>\n",
       "      <th>3</th>\n",
       "      <td>4</td>\n",
       "      <td>4.600</td>\n",
       "      <td>3.100</td>\n",
       "      <td>1.500</td>\n",
       "      <td>0.200</td>\n",
       "      <td>setosa</td>\n",
       "    </tr>\n",
       "    <tr>\n",
       "      <th>4</th>\n",
       "      <td>5</td>\n",
       "      <td>5.000</td>\n",
       "      <td>3.600</td>\n",
       "      <td>1.400</td>\n",
       "      <td>0.200</td>\n",
       "      <td>setosa</td>\n",
       "    </tr>\n",
       "  </tbody>\n",
       "</table>\n",
       "</div>"
      ],
      "text/plain": [
       "   idx  sepal_length  sepal_width  petal_length  petal_width species\n",
       "0    1         5.100        3.500         1.400        0.200  setosa\n",
       "1    2         4.900        3.000         1.400        0.200  setosa\n",
       "2    3         4.700        3.200         1.300        0.200  setosa\n",
       "3    4         4.600        3.100         1.500        0.200  setosa\n",
       "4    5         5.000        3.600         1.400        0.200  setosa"
      ]
     },
     "execution_count": 35,
     "metadata": {},
     "output_type": "execute_result"
    }
   ],
   "source": [
    "df = df.reset_index('idx')\n",
    "df.head(5)"
   ]
  },
  {
   "cell_type": "markdown",
   "metadata": {},
   "source": [
    "# Selecting a subset of columns"
   ]
  },
  {
   "cell_type": "code",
   "execution_count": 36,
   "metadata": {
    "collapsed": false
   },
   "outputs": [
    {
     "data": {
      "text/html": [
       "<div>\n",
       "<table border=\"1\" class=\"dataframe\">\n",
       "  <thead>\n",
       "    <tr style=\"text-align: right;\">\n",
       "      <th></th>\n",
       "      <th>sepal_length</th>\n",
       "      <th>sepal_width</th>\n",
       "    </tr>\n",
       "  </thead>\n",
       "  <tbody>\n",
       "    <tr>\n",
       "      <th>0</th>\n",
       "      <td>5.100</td>\n",
       "      <td>3.500</td>\n",
       "    </tr>\n",
       "    <tr>\n",
       "      <th>1</th>\n",
       "      <td>4.900</td>\n",
       "      <td>3.000</td>\n",
       "    </tr>\n",
       "  </tbody>\n",
       "</table>\n",
       "</div>"
      ],
      "text/plain": [
       "   sepal_length  sepal_width\n",
       "0         5.100        3.500\n",
       "1         4.900        3.000"
      ]
     },
     "execution_count": 36,
     "metadata": {},
     "output_type": "execute_result"
    }
   ],
   "source": [
    "df[['sepal_length', 'sepal_width']].head(2)"
   ]
  },
  {
   "cell_type": "markdown",
   "metadata": {},
   "source": [
    "# Add random date column"
   ]
  },
  {
   "cell_type": "code",
   "execution_count": 37,
   "metadata": {
    "collapsed": true
   },
   "outputs": [],
   "source": [
    "year = np.random.randint(low=1980,high=2016,size=len(df))\n",
    "month = np.random.randint(low=1,high=13,size=len(df))\n",
    "date = []\n",
    "for y, m in zip(year, month):\n",
    "    y = str(y)\n",
    "    m = str(m)\n",
    "    date.append('/'.join((y, m)))"
   ]
  },
  {
   "cell_type": "code",
   "execution_count": 38,
   "metadata": {
    "collapsed": false
   },
   "outputs": [
    {
     "data": {
      "text/html": [
       "<div>\n",
       "<table border=\"1\" class=\"dataframe\">\n",
       "  <thead>\n",
       "    <tr style=\"text-align: right;\">\n",
       "      <th></th>\n",
       "      <th>idx</th>\n",
       "      <th>sepal_length</th>\n",
       "      <th>sepal_width</th>\n",
       "      <th>petal_length</th>\n",
       "      <th>petal_width</th>\n",
       "      <th>species</th>\n",
       "      <th>date</th>\n",
       "    </tr>\n",
       "  </thead>\n",
       "  <tbody>\n",
       "    <tr>\n",
       "      <th>0</th>\n",
       "      <td>1</td>\n",
       "      <td>5.100</td>\n",
       "      <td>3.500</td>\n",
       "      <td>1.400</td>\n",
       "      <td>0.200</td>\n",
       "      <td>setosa</td>\n",
       "      <td>2000/8</td>\n",
       "    </tr>\n",
       "    <tr>\n",
       "      <th>1</th>\n",
       "      <td>2</td>\n",
       "      <td>4.900</td>\n",
       "      <td>3.000</td>\n",
       "      <td>1.400</td>\n",
       "      <td>0.200</td>\n",
       "      <td>setosa</td>\n",
       "      <td>1994/2</td>\n",
       "    </tr>\n",
       "    <tr>\n",
       "      <th>2</th>\n",
       "      <td>3</td>\n",
       "      <td>4.700</td>\n",
       "      <td>3.200</td>\n",
       "      <td>1.300</td>\n",
       "      <td>0.200</td>\n",
       "      <td>setosa</td>\n",
       "      <td>2003/10</td>\n",
       "    </tr>\n",
       "    <tr>\n",
       "      <th>3</th>\n",
       "      <td>4</td>\n",
       "      <td>4.600</td>\n",
       "      <td>3.100</td>\n",
       "      <td>1.500</td>\n",
       "      <td>0.200</td>\n",
       "      <td>setosa</td>\n",
       "      <td>1993/12</td>\n",
       "    </tr>\n",
       "    <tr>\n",
       "      <th>4</th>\n",
       "      <td>5</td>\n",
       "      <td>5.000</td>\n",
       "      <td>3.600</td>\n",
       "      <td>1.400</td>\n",
       "      <td>0.200</td>\n",
       "      <td>setosa</td>\n",
       "      <td>2011/11</td>\n",
       "    </tr>\n",
       "  </tbody>\n",
       "</table>\n",
       "</div>"
      ],
      "text/plain": [
       "   idx  sepal_length  sepal_width  petal_length  petal_width species     date\n",
       "0    1         5.100        3.500         1.400        0.200  setosa   2000/8\n",
       "1    2         4.900        3.000         1.400        0.200  setosa   1994/2\n",
       "2    3         4.700        3.200         1.300        0.200  setosa  2003/10\n",
       "3    4         4.600        3.100         1.500        0.200  setosa  1993/12\n",
       "4    5         5.000        3.600         1.400        0.200  setosa  2011/11"
      ]
     },
     "execution_count": 38,
     "metadata": {},
     "output_type": "execute_result"
    }
   ],
   "source": [
    "df['date'] = pd.Series(date, index=df.index)\n",
    "df.head(5)"
   ]
  },
  {
   "cell_type": "markdown",
   "metadata": {},
   "source": [
    "# Applying a function to a column"
   ]
  },
  {
   "cell_type": "code",
   "execution_count": 39,
   "metadata": {
    "collapsed": false
   },
   "outputs": [
    {
     "data": {
      "text/html": [
       "<div>\n",
       "<table border=\"1\" class=\"dataframe\">\n",
       "  <thead>\n",
       "    <tr style=\"text-align: right;\">\n",
       "      <th></th>\n",
       "      <th>idx</th>\n",
       "      <th>sepal_length</th>\n",
       "      <th>sepal_width</th>\n",
       "      <th>petal_length</th>\n",
       "      <th>petal_width</th>\n",
       "      <th>species</th>\n",
       "      <th>date</th>\n",
       "      <th>year</th>\n",
       "    </tr>\n",
       "  </thead>\n",
       "  <tbody>\n",
       "    <tr>\n",
       "      <th>0</th>\n",
       "      <td>1</td>\n",
       "      <td>5.100</td>\n",
       "      <td>3.500</td>\n",
       "      <td>1.400</td>\n",
       "      <td>0.200</td>\n",
       "      <td>setosa</td>\n",
       "      <td>2000/8</td>\n",
       "      <td>2000</td>\n",
       "    </tr>\n",
       "    <tr>\n",
       "      <th>1</th>\n",
       "      <td>2</td>\n",
       "      <td>4.900</td>\n",
       "      <td>3.000</td>\n",
       "      <td>1.400</td>\n",
       "      <td>0.200</td>\n",
       "      <td>setosa</td>\n",
       "      <td>1994/2</td>\n",
       "      <td>1994</td>\n",
       "    </tr>\n",
       "    <tr>\n",
       "      <th>2</th>\n",
       "      <td>3</td>\n",
       "      <td>4.700</td>\n",
       "      <td>3.200</td>\n",
       "      <td>1.300</td>\n",
       "      <td>0.200</td>\n",
       "      <td>setosa</td>\n",
       "      <td>2003/10</td>\n",
       "      <td>2003</td>\n",
       "    </tr>\n",
       "    <tr>\n",
       "      <th>3</th>\n",
       "      <td>4</td>\n",
       "      <td>4.600</td>\n",
       "      <td>3.100</td>\n",
       "      <td>1.500</td>\n",
       "      <td>0.200</td>\n",
       "      <td>setosa</td>\n",
       "      <td>1993/12</td>\n",
       "      <td>1993</td>\n",
       "    </tr>\n",
       "    <tr>\n",
       "      <th>4</th>\n",
       "      <td>5</td>\n",
       "      <td>5.000</td>\n",
       "      <td>3.600</td>\n",
       "      <td>1.400</td>\n",
       "      <td>0.200</td>\n",
       "      <td>setosa</td>\n",
       "      <td>2011/11</td>\n",
       "      <td>2011</td>\n",
       "    </tr>\n",
       "  </tbody>\n",
       "</table>\n",
       "</div>"
      ],
      "text/plain": [
       "   idx  sepal_length  sepal_width  petal_length  petal_width species     date  \\\n",
       "0    1         5.100        3.500         1.400        0.200  setosa   2000/8   \n",
       "1    2         4.900        3.000         1.400        0.200  setosa   1994/2   \n",
       "2    3         4.700        3.200         1.300        0.200  setosa  2003/10   \n",
       "3    4         4.600        3.100         1.500        0.200  setosa  1993/12   \n",
       "4    5         5.000        3.600         1.400        0.200  setosa  2011/11   \n",
       "\n",
       "   year  \n",
       "0  2000  \n",
       "1  1994  \n",
       "2  2003  \n",
       "3  1993  \n",
       "4  2011  "
      ]
     },
     "execution_count": 39,
     "metadata": {},
     "output_type": "execute_result"
    }
   ],
   "source": [
    "def get_year(date):\n",
    "    year = date[:4]\n",
    "    year= pd.to_datetime(year).year\n",
    "    return year\n",
    " \n",
    "df['year'] = df.date.apply(get_year)\n",
    "df.head(5)"
   ]
  },
  {
   "cell_type": "code",
   "execution_count": 40,
   "metadata": {
    "collapsed": false
   },
   "outputs": [
    {
     "data": {
      "text/html": [
       "<div>\n",
       "<table border=\"1\" class=\"dataframe\">\n",
       "  <thead>\n",
       "    <tr style=\"text-align: right;\">\n",
       "      <th></th>\n",
       "      <th>sepal_length</th>\n",
       "      <th>sepal_width</th>\n",
       "    </tr>\n",
       "  </thead>\n",
       "  <tbody>\n",
       "    <tr>\n",
       "      <th>0</th>\n",
       "      <td>2.258</td>\n",
       "      <td>1.871</td>\n",
       "    </tr>\n",
       "    <tr>\n",
       "      <th>1</th>\n",
       "      <td>2.214</td>\n",
       "      <td>1.732</td>\n",
       "    </tr>\n",
       "  </tbody>\n",
       "</table>\n",
       "</div>"
      ],
      "text/plain": [
       "   sepal_length  sepal_width\n",
       "0         2.258        1.871\n",
       "1         2.214        1.732"
      ]
     },
     "execution_count": 40,
     "metadata": {},
     "output_type": "execute_result"
    }
   ],
   "source": [
    "df[['sepal_length','sepal_width']].apply(np.sqrt).head(2)"
   ]
  },
  {
   "cell_type": "markdown",
   "metadata": {},
   "source": [
    "# Grouby"
   ]
  },
  {
   "cell_type": "code",
   "execution_count": 41,
   "metadata": {
    "collapsed": false
   },
   "outputs": [
    {
     "data": {
      "text/html": [
       "<div>\n",
       "<table border=\"1\" class=\"dataframe\">\n",
       "  <thead>\n",
       "    <tr style=\"text-align: right;\">\n",
       "      <th></th>\n",
       "      <th></th>\n",
       "      <th>idx</th>\n",
       "      <th>sepal_length</th>\n",
       "      <th>sepal_width</th>\n",
       "      <th>petal_length</th>\n",
       "      <th>petal_width</th>\n",
       "      <th>year</th>\n",
       "    </tr>\n",
       "    <tr>\n",
       "      <th>year</th>\n",
       "      <th></th>\n",
       "      <th></th>\n",
       "      <th></th>\n",
       "      <th></th>\n",
       "      <th></th>\n",
       "      <th></th>\n",
       "      <th></th>\n",
       "    </tr>\n",
       "  </thead>\n",
       "  <tbody>\n",
       "    <tr>\n",
       "      <th rowspan=\"8\" valign=\"top\">1980</th>\n",
       "      <th>count</th>\n",
       "      <td>36.000</td>\n",
       "      <td>36.000</td>\n",
       "      <td>36.000</td>\n",
       "      <td>36.000</td>\n",
       "      <td>36.000</td>\n",
       "      <td>36.000</td>\n",
       "    </tr>\n",
       "    <tr>\n",
       "      <th>mean</th>\n",
       "      <td>70.556</td>\n",
       "      <td>5.900</td>\n",
       "      <td>3.081</td>\n",
       "      <td>3.697</td>\n",
       "      <td>1.139</td>\n",
       "      <td>1,984.694</td>\n",
       "    </tr>\n",
       "    <tr>\n",
       "      <th>std</th>\n",
       "      <td>40.008</td>\n",
       "      <td>0.913</td>\n",
       "      <td>0.359</td>\n",
       "      <td>1.868</td>\n",
       "      <td>0.782</td>\n",
       "      <td>3.022</td>\n",
       "    </tr>\n",
       "    <tr>\n",
       "      <th>min</th>\n",
       "      <td>10.000</td>\n",
       "      <td>4.400</td>\n",
       "      <td>2.200</td>\n",
       "      <td>1.200</td>\n",
       "      <td>0.100</td>\n",
       "      <td>1,980.000</td>\n",
       "    </tr>\n",
       "    <tr>\n",
       "      <th>25%</th>\n",
       "      <td>34.750</td>\n",
       "      <td>5.075</td>\n",
       "      <td>2.875</td>\n",
       "      <td>1.600</td>\n",
       "      <td>0.200</td>\n",
       "      <td>1,982.750</td>\n",
       "    </tr>\n",
       "    <tr>\n",
       "      <th>50%</th>\n",
       "      <td>73.000</td>\n",
       "      <td>5.900</td>\n",
       "      <td>3.000</td>\n",
       "      <td>4.400</td>\n",
       "      <td>1.350</td>\n",
       "      <td>1,985.000</td>\n",
       "    </tr>\n",
       "    <tr>\n",
       "      <th>75%</th>\n",
       "      <td>113.750</td>\n",
       "      <td>6.425</td>\n",
       "      <td>3.400</td>\n",
       "      <td>5.025</td>\n",
       "      <td>1.800</td>\n",
       "      <td>1,988.000</td>\n",
       "    </tr>\n",
       "    <tr>\n",
       "      <th>max</th>\n",
       "      <td>136.000</td>\n",
       "      <td>7.700</td>\n",
       "      <td>3.800</td>\n",
       "      <td>6.900</td>\n",
       "      <td>2.300</td>\n",
       "      <td>1,989.000</td>\n",
       "    </tr>\n",
       "    <tr>\n",
       "      <th rowspan=\"8\" valign=\"top\">1990</th>\n",
       "      <th>count</th>\n",
       "      <td>46.000</td>\n",
       "      <td>46.000</td>\n",
       "      <td>46.000</td>\n",
       "      <td>46.000</td>\n",
       "      <td>46.000</td>\n",
       "      <td>46.000</td>\n",
       "    </tr>\n",
       "    <tr>\n",
       "      <th>mean</th>\n",
       "      <td>84.717</td>\n",
       "      <td>5.946</td>\n",
       "      <td>2.985</td>\n",
       "      <td>4.115</td>\n",
       "      <td>1.337</td>\n",
       "      <td>1,993.935</td>\n",
       "    </tr>\n",
       "    <tr>\n",
       "      <th>std</th>\n",
       "      <td>44.148</td>\n",
       "      <td>0.855</td>\n",
       "      <td>0.430</td>\n",
       "      <td>1.748</td>\n",
       "      <td>0.757</td>\n",
       "      <td>2.736</td>\n",
       "    </tr>\n",
       "    <tr>\n",
       "      <th>min</th>\n",
       "      <td>2.000</td>\n",
       "      <td>4.500</td>\n",
       "      <td>2.000</td>\n",
       "      <td>1.300</td>\n",
       "      <td>0.100</td>\n",
       "      <td>1,990.000</td>\n",
       "    </tr>\n",
       "    <tr>\n",
       "      <th>25%</th>\n",
       "      <td>51.000</td>\n",
       "      <td>5.100</td>\n",
       "      <td>2.800</td>\n",
       "      <td>2.150</td>\n",
       "      <td>0.625</td>\n",
       "      <td>1,991.250</td>\n",
       "    </tr>\n",
       "    <tr>\n",
       "      <th>50%</th>\n",
       "      <td>91.500</td>\n",
       "      <td>6.100</td>\n",
       "      <td>3.000</td>\n",
       "      <td>4.650</td>\n",
       "      <td>1.500</td>\n",
       "      <td>1,994.000</td>\n",
       "    </tr>\n",
       "    <tr>\n",
       "      <th>75%</th>\n",
       "      <td>124.500</td>\n",
       "      <td>6.475</td>\n",
       "      <td>3.200</td>\n",
       "      <td>5.475</td>\n",
       "      <td>1.800</td>\n",
       "      <td>1,996.000</td>\n",
       "    </tr>\n",
       "    <tr>\n",
       "      <th>max</th>\n",
       "      <td>150.000</td>\n",
       "      <td>7.700</td>\n",
       "      <td>4.100</td>\n",
       "      <td>6.700</td>\n",
       "      <td>2.500</td>\n",
       "      <td>1,999.000</td>\n",
       "    </tr>\n",
       "    <tr>\n",
       "      <th rowspan=\"8\" valign=\"top\">2000</th>\n",
       "      <th>count</th>\n",
       "      <td>39.000</td>\n",
       "      <td>39.000</td>\n",
       "      <td>39.000</td>\n",
       "      <td>39.000</td>\n",
       "      <td>39.000</td>\n",
       "      <td>39.000</td>\n",
       "    </tr>\n",
       "    <tr>\n",
       "      <th>mean</th>\n",
       "      <td>75.923</td>\n",
       "      <td>5.836</td>\n",
       "      <td>3.051</td>\n",
       "      <td>3.744</td>\n",
       "      <td>1.223</td>\n",
       "      <td>2,004.846</td>\n",
       "    </tr>\n",
       "    <tr>\n",
       "      <th>std</th>\n",
       "      <td>46.197</td>\n",
       "      <td>0.819</td>\n",
       "      <td>0.461</td>\n",
       "      <td>1.697</td>\n",
       "      <td>0.761</td>\n",
       "      <td>2.777</td>\n",
       "    </tr>\n",
       "    <tr>\n",
       "      <th>min</th>\n",
       "      <td>1.000</td>\n",
       "      <td>4.300</td>\n",
       "      <td>2.200</td>\n",
       "      <td>1.100</td>\n",
       "      <td>0.100</td>\n",
       "      <td>2,000.000</td>\n",
       "    </tr>\n",
       "    <tr>\n",
       "      <th>25%</th>\n",
       "      <td>41.000</td>\n",
       "      <td>5.400</td>\n",
       "      <td>2.800</td>\n",
       "      <td>1.650</td>\n",
       "      <td>0.400</td>\n",
       "      <td>2,003.000</td>\n",
       "    </tr>\n",
       "    <tr>\n",
       "      <th>50%</th>\n",
       "      <td>80.000</td>\n",
       "      <td>5.700</td>\n",
       "      <td>3.000</td>\n",
       "      <td>4.100</td>\n",
       "      <td>1.300</td>\n",
       "      <td>2,005.000</td>\n",
       "    </tr>\n",
       "    <tr>\n",
       "      <th>75%</th>\n",
       "      <td>110.000</td>\n",
       "      <td>6.450</td>\n",
       "      <td>3.200</td>\n",
       "      <td>5.100</td>\n",
       "      <td>1.900</td>\n",
       "      <td>2,007.000</td>\n",
       "    </tr>\n",
       "    <tr>\n",
       "      <th>max</th>\n",
       "      <td>146.000</td>\n",
       "      <td>7.900</td>\n",
       "      <td>4.400</td>\n",
       "      <td>6.400</td>\n",
       "      <td>2.400</td>\n",
       "      <td>2,009.000</td>\n",
       "    </tr>\n",
       "    <tr>\n",
       "      <th rowspan=\"8\" valign=\"top\">2010</th>\n",
       "      <th>count</th>\n",
       "      <td>29.000</td>\n",
       "      <td>29.000</td>\n",
       "      <td>29.000</td>\n",
       "      <td>29.000</td>\n",
       "      <td>29.000</td>\n",
       "      <td>29.000</td>\n",
       "    </tr>\n",
       "    <tr>\n",
       "      <th>mean</th>\n",
       "      <td>66.448</td>\n",
       "      <td>5.621</td>\n",
       "      <td>3.152</td>\n",
       "      <td>3.286</td>\n",
       "      <td>1.024</td>\n",
       "      <td>2,012.172</td>\n",
       "    </tr>\n",
       "    <tr>\n",
       "      <th>std</th>\n",
       "      <td>41.935</td>\n",
       "      <td>0.671</td>\n",
       "      <td>0.495</td>\n",
       "      <td>1.721</td>\n",
       "      <td>0.743</td>\n",
       "      <td>1.537</td>\n",
       "    </tr>\n",
       "    <tr>\n",
       "      <th>min</th>\n",
       "      <td>5.000</td>\n",
       "      <td>4.400</td>\n",
       "      <td>2.300</td>\n",
       "      <td>1.000</td>\n",
       "      <td>0.200</td>\n",
       "      <td>2,010.000</td>\n",
       "    </tr>\n",
       "    <tr>\n",
       "      <th>25%</th>\n",
       "      <td>32.000</td>\n",
       "      <td>5.000</td>\n",
       "      <td>2.800</td>\n",
       "      <td>1.500</td>\n",
       "      <td>0.200</td>\n",
       "      <td>2,011.000</td>\n",
       "    </tr>\n",
       "    <tr>\n",
       "      <th>50%</th>\n",
       "      <td>58.000</td>\n",
       "      <td>5.500</td>\n",
       "      <td>3.100</td>\n",
       "      <td>3.900</td>\n",
       "      <td>1.000</td>\n",
       "      <td>2,012.000</td>\n",
       "    </tr>\n",
       "    <tr>\n",
       "      <th>75%</th>\n",
       "      <td>91.000</td>\n",
       "      <td>6.100</td>\n",
       "      <td>3.400</td>\n",
       "      <td>4.900</td>\n",
       "      <td>1.600</td>\n",
       "      <td>2,013.000</td>\n",
       "    </tr>\n",
       "    <tr>\n",
       "      <th>max</th>\n",
       "      <td>149.000</td>\n",
       "      <td>6.900</td>\n",
       "      <td>4.200</td>\n",
       "      <td>5.800</td>\n",
       "      <td>2.300</td>\n",
       "      <td>2,015.000</td>\n",
       "    </tr>\n",
       "  </tbody>\n",
       "</table>\n",
       "</div>"
      ],
      "text/plain": [
       "               idx  sepal_length  sepal_width  petal_length  petal_width  \\\n",
       "year                                                                       \n",
       "1980 count  36.000        36.000       36.000        36.000       36.000   \n",
       "     mean   70.556         5.900        3.081         3.697        1.139   \n",
       "     std    40.008         0.913        0.359         1.868        0.782   \n",
       "     min    10.000         4.400        2.200         1.200        0.100   \n",
       "     25%    34.750         5.075        2.875         1.600        0.200   \n",
       "     50%    73.000         5.900        3.000         4.400        1.350   \n",
       "     75%   113.750         6.425        3.400         5.025        1.800   \n",
       "     max   136.000         7.700        3.800         6.900        2.300   \n",
       "1990 count  46.000        46.000       46.000        46.000       46.000   \n",
       "     mean   84.717         5.946        2.985         4.115        1.337   \n",
       "     std    44.148         0.855        0.430         1.748        0.757   \n",
       "     min     2.000         4.500        2.000         1.300        0.100   \n",
       "     25%    51.000         5.100        2.800         2.150        0.625   \n",
       "     50%    91.500         6.100        3.000         4.650        1.500   \n",
       "     75%   124.500         6.475        3.200         5.475        1.800   \n",
       "     max   150.000         7.700        4.100         6.700        2.500   \n",
       "2000 count  39.000        39.000       39.000        39.000       39.000   \n",
       "     mean   75.923         5.836        3.051         3.744        1.223   \n",
       "     std    46.197         0.819        0.461         1.697        0.761   \n",
       "     min     1.000         4.300        2.200         1.100        0.100   \n",
       "     25%    41.000         5.400        2.800         1.650        0.400   \n",
       "     50%    80.000         5.700        3.000         4.100        1.300   \n",
       "     75%   110.000         6.450        3.200         5.100        1.900   \n",
       "     max   146.000         7.900        4.400         6.400        2.400   \n",
       "2010 count  29.000        29.000       29.000        29.000       29.000   \n",
       "     mean   66.448         5.621        3.152         3.286        1.024   \n",
       "     std    41.935         0.671        0.495         1.721        0.743   \n",
       "     min     5.000         4.400        2.300         1.000        0.200   \n",
       "     25%    32.000         5.000        2.800         1.500        0.200   \n",
       "     50%    58.000         5.500        3.100         3.900        1.000   \n",
       "     75%    91.000         6.100        3.400         4.900        1.600   \n",
       "     max   149.000         6.900        4.200         5.800        2.300   \n",
       "\n",
       "                year  \n",
       "year                  \n",
       "1980 count    36.000  \n",
       "     mean  1,984.694  \n",
       "     std       3.022  \n",
       "     min   1,980.000  \n",
       "     25%   1,982.750  \n",
       "     50%   1,985.000  \n",
       "     75%   1,988.000  \n",
       "     max   1,989.000  \n",
       "1990 count    46.000  \n",
       "     mean  1,993.935  \n",
       "     std       2.736  \n",
       "     min   1,990.000  \n",
       "     25%   1,991.250  \n",
       "     50%   1,994.000  \n",
       "     75%   1,996.000  \n",
       "     max   1,999.000  \n",
       "2000 count    39.000  \n",
       "     mean  2,004.846  \n",
       "     std       2.777  \n",
       "     min   2,000.000  \n",
       "     25%   2,003.000  \n",
       "     50%   2,005.000  \n",
       "     75%   2,007.000  \n",
       "     max   2,009.000  \n",
       "2010 count    29.000  \n",
       "     mean  2,012.172  \n",
       "     std       1.537  \n",
       "     min   2,010.000  \n",
       "     25%   2,011.000  \n",
       "     50%   2,012.000  \n",
       "     75%   2,013.000  \n",
       "     max   2,015.000  "
      ]
     },
     "execution_count": 41,
     "metadata": {},
     "output_type": "execute_result"
    }
   ],
   "source": [
    "df.groupby(df.year // 10 * 10).describe()\n",
    "# 按年代分组， 再获得每组的统计值"
   ]
  },
  {
   "cell_type": "markdown",
   "metadata": {},
   "source": [
    "# Grouping by multiple columns"
   ]
  },
  {
   "cell_type": "code",
   "execution_count": 42,
   "metadata": {
    "collapsed": false
   },
   "outputs": [
    {
     "data": {
      "text/html": [
       "<div>\n",
       "<table border=\"1\" class=\"dataframe\">\n",
       "  <thead>\n",
       "    <tr style=\"text-align: right;\">\n",
       "      <th></th>\n",
       "      <th></th>\n",
       "      <th>idx</th>\n",
       "      <th>sepal_length</th>\n",
       "      <th>sepal_width</th>\n",
       "      <th>petal_length</th>\n",
       "      <th>petal_width</th>\n",
       "      <th>year</th>\n",
       "    </tr>\n",
       "    <tr>\n",
       "      <th>year</th>\n",
       "      <th>sepal_length</th>\n",
       "      <th></th>\n",
       "      <th></th>\n",
       "      <th></th>\n",
       "      <th></th>\n",
       "      <th></th>\n",
       "      <th></th>\n",
       "    </tr>\n",
       "  </thead>\n",
       "  <tbody>\n",
       "    <tr>\n",
       "      <th rowspan=\"4\" valign=\"top\">1980</th>\n",
       "      <th>4.000</th>\n",
       "      <td>23.400</td>\n",
       "      <td>4.740</td>\n",
       "      <td>3.200</td>\n",
       "      <td>1.580</td>\n",
       "      <td>0.180</td>\n",
       "      <td>1,983.400</td>\n",
       "    </tr>\n",
       "    <tr>\n",
       "      <th>5.000</th>\n",
       "      <td>48.500</td>\n",
       "      <td>5.350</td>\n",
       "      <td>3.243</td>\n",
       "      <td>2.500</td>\n",
       "      <td>0.700</td>\n",
       "      <td>1,984.571</td>\n",
       "    </tr>\n",
       "    <tr>\n",
       "      <th>6.000</th>\n",
       "      <td>99.083</td>\n",
       "      <td>6.358</td>\n",
       "      <td>2.842</td>\n",
       "      <td>4.975</td>\n",
       "      <td>1.683</td>\n",
       "      <td>1,985.667</td>\n",
       "    </tr>\n",
       "    <tr>\n",
       "      <th>7.000</th>\n",
       "      <td>111.000</td>\n",
       "      <td>7.500</td>\n",
       "      <td>3.080</td>\n",
       "      <td>6.100</td>\n",
       "      <td>2.020</td>\n",
       "      <td>1,984.000</td>\n",
       "    </tr>\n",
       "    <tr>\n",
       "      <th rowspan=\"4\" valign=\"top\">1990</th>\n",
       "      <th>4.000</th>\n",
       "      <td>34.429</td>\n",
       "      <td>4.786</td>\n",
       "      <td>2.943</td>\n",
       "      <td>1.857</td>\n",
       "      <td>0.400</td>\n",
       "      <td>1,993.000</td>\n",
       "    </tr>\n",
       "    <tr>\n",
       "      <th>5.000</th>\n",
       "      <td>59.071</td>\n",
       "      <td>5.329</td>\n",
       "      <td>3.079</td>\n",
       "      <td>2.971</td>\n",
       "      <td>0.864</td>\n",
       "      <td>1,994.571</td>\n",
       "    </tr>\n",
       "    <tr>\n",
       "      <th>6.000</th>\n",
       "      <td>112.800</td>\n",
       "      <td>6.420</td>\n",
       "      <td>2.905</td>\n",
       "      <td>5.150</td>\n",
       "      <td>1.820</td>\n",
       "      <td>1,993.150</td>\n",
       "    </tr>\n",
       "    <tr>\n",
       "      <th>7.000</th>\n",
       "      <td>114.600</td>\n",
       "      <td>7.400</td>\n",
       "      <td>3.100</td>\n",
       "      <td>6.340</td>\n",
       "      <td>2.040</td>\n",
       "      <td>1,996.600</td>\n",
       "    </tr>\n",
       "    <tr>\n",
       "      <th rowspan=\"4\" valign=\"top\">2000</th>\n",
       "      <th>4.000</th>\n",
       "      <td>18.167</td>\n",
       "      <td>4.583</td>\n",
       "      <td>3.117</td>\n",
       "      <td>1.367</td>\n",
       "      <td>0.217</td>\n",
       "      <td>2,004.000</td>\n",
       "    </tr>\n",
       "    <tr>\n",
       "      <th>5.000</th>\n",
       "      <td>71.222</td>\n",
       "      <td>5.561</td>\n",
       "      <td>3.083</td>\n",
       "      <td>3.378</td>\n",
       "      <td>1.089</td>\n",
       "      <td>2,004.389</td>\n",
       "    </tr>\n",
       "    <tr>\n",
       "      <th>6.000</th>\n",
       "      <td>100.417</td>\n",
       "      <td>6.483</td>\n",
       "      <td>2.917</td>\n",
       "      <td>4.908</td>\n",
       "      <td>1.758</td>\n",
       "      <td>2,006.333</td>\n",
       "    </tr>\n",
       "    <tr>\n",
       "      <th>7.000</th>\n",
       "      <td>121.667</td>\n",
       "      <td>7.400</td>\n",
       "      <td>3.267</td>\n",
       "      <td>6.033</td>\n",
       "      <td>1.900</td>\n",
       "      <td>2,003.333</td>\n",
       "    </tr>\n",
       "    <tr>\n",
       "      <th rowspan=\"3\" valign=\"top\">2010</th>\n",
       "      <th>4.000</th>\n",
       "      <td>43.000</td>\n",
       "      <td>4.625</td>\n",
       "      <td>3.100</td>\n",
       "      <td>1.750</td>\n",
       "      <td>0.400</td>\n",
       "      <td>2,012.250</td>\n",
       "    </tr>\n",
       "    <tr>\n",
       "      <th>5.000</th>\n",
       "      <td>49.867</td>\n",
       "      <td>5.387</td>\n",
       "      <td>3.213</td>\n",
       "      <td>2.507</td>\n",
       "      <td>0.673</td>\n",
       "      <td>2,012.133</td>\n",
       "    </tr>\n",
       "    <tr>\n",
       "      <th>6.000</th>\n",
       "      <td>100.700</td>\n",
       "      <td>6.370</td>\n",
       "      <td>3.080</td>\n",
       "      <td>5.070</td>\n",
       "      <td>1.800</td>\n",
       "      <td>2,012.200</td>\n",
       "    </tr>\n",
       "  </tbody>\n",
       "</table>\n",
       "</div>"
      ],
      "text/plain": [
       "                      idx  sepal_length  sepal_width  petal_length  \\\n",
       "year sepal_length                                                    \n",
       "1980 4.000         23.400         4.740        3.200         1.580   \n",
       "     5.000         48.500         5.350        3.243         2.500   \n",
       "     6.000         99.083         6.358        2.842         4.975   \n",
       "     7.000        111.000         7.500        3.080         6.100   \n",
       "1990 4.000         34.429         4.786        2.943         1.857   \n",
       "     5.000         59.071         5.329        3.079         2.971   \n",
       "     6.000        112.800         6.420        2.905         5.150   \n",
       "     7.000        114.600         7.400        3.100         6.340   \n",
       "2000 4.000         18.167         4.583        3.117         1.367   \n",
       "     5.000         71.222         5.561        3.083         3.378   \n",
       "     6.000        100.417         6.483        2.917         4.908   \n",
       "     7.000        121.667         7.400        3.267         6.033   \n",
       "2010 4.000         43.000         4.625        3.100         1.750   \n",
       "     5.000         49.867         5.387        3.213         2.507   \n",
       "     6.000        100.700         6.370        3.080         5.070   \n",
       "\n",
       "                   petal_width      year  \n",
       "year sepal_length                         \n",
       "1980 4.000               0.180 1,983.400  \n",
       "     5.000               0.700 1,984.571  \n",
       "     6.000               1.683 1,985.667  \n",
       "     7.000               2.020 1,984.000  \n",
       "1990 4.000               0.400 1,993.000  \n",
       "     5.000               0.864 1,994.571  \n",
       "     6.000               1.820 1,993.150  \n",
       "     7.000               2.040 1,996.600  \n",
       "2000 4.000               0.217 2,004.000  \n",
       "     5.000               1.089 2,004.389  \n",
       "     6.000               1.758 2,006.333  \n",
       "     7.000               1.900 2,003.333  \n",
       "2010 4.000               0.400 2,012.250  \n",
       "     5.000               0.673 2,012.133  \n",
       "     6.000               1.800 2,012.200  "
      ]
     },
     "execution_count": 42,
     "metadata": {},
     "output_type": "execute_result"
    }
   ],
   "source": [
    "df.groupby([df.year // 10 * 10, df.sepal_length // 1]).mean()\n",
    "# decade & sepal_length"
   ]
  },
  {
   "cell_type": "markdown",
   "metadata": {},
   "source": [
    "# pivot_table"
   ]
  },
  {
   "cell_type": "code",
   "execution_count": 43,
   "metadata": {
    "collapsed": false
   },
   "outputs": [
    {
     "data": {
      "text/html": [
       "<div>\n",
       "<table border=\"1\" class=\"dataframe\">\n",
       "  <thead>\n",
       "    <tr style=\"text-align: right;\">\n",
       "      <th></th>\n",
       "      <th>idx</th>\n",
       "      <th>petal_length</th>\n",
       "      <th>petal_width</th>\n",
       "      <th>sepal_length</th>\n",
       "      <th>sepal_width</th>\n",
       "    </tr>\n",
       "    <tr>\n",
       "      <th>year</th>\n",
       "      <th></th>\n",
       "      <th></th>\n",
       "      <th></th>\n",
       "      <th></th>\n",
       "      <th></th>\n",
       "    </tr>\n",
       "  </thead>\n",
       "  <tbody>\n",
       "    <tr>\n",
       "      <th>1980</th>\n",
       "      <td>57.167</td>\n",
       "      <td>2.900</td>\n",
       "      <td>0.883</td>\n",
       "      <td>5.683</td>\n",
       "      <td>3.250</td>\n",
       "    </tr>\n",
       "    <tr>\n",
       "      <th>1981</th>\n",
       "      <td>131.000</td>\n",
       "      <td>6.100</td>\n",
       "      <td>1.900</td>\n",
       "      <td>7.400</td>\n",
       "      <td>2.800</td>\n",
       "    </tr>\n",
       "    <tr>\n",
       "      <th>1982</th>\n",
       "      <td>94.000</td>\n",
       "      <td>4.900</td>\n",
       "      <td>1.700</td>\n",
       "      <td>6.600</td>\n",
       "      <td>2.950</td>\n",
       "    </tr>\n",
       "    <tr>\n",
       "      <th>1983</th>\n",
       "      <td>51.000</td>\n",
       "      <td>2.825</td>\n",
       "      <td>0.725</td>\n",
       "      <td>5.825</td>\n",
       "      <td>3.175</td>\n",
       "    </tr>\n",
       "    <tr>\n",
       "      <th>1984</th>\n",
       "      <td>38.333</td>\n",
       "      <td>2.800</td>\n",
       "      <td>0.767</td>\n",
       "      <td>5.467</td>\n",
       "      <td>3.467</td>\n",
       "    </tr>\n",
       "    <tr>\n",
       "      <th>1985</th>\n",
       "      <td>59.750</td>\n",
       "      <td>3.650</td>\n",
       "      <td>1.125</td>\n",
       "      <td>5.725</td>\n",
       "      <td>2.950</td>\n",
       "    </tr>\n",
       "    <tr>\n",
       "      <th>1986</th>\n",
       "      <td>63.400</td>\n",
       "      <td>2.800</td>\n",
       "      <td>0.860</td>\n",
       "      <td>5.280</td>\n",
       "      <td>3.120</td>\n",
       "    </tr>\n",
       "    <tr>\n",
       "      <th>1987</th>\n",
       "      <td>133.000</td>\n",
       "      <td>5.600</td>\n",
       "      <td>2.200</td>\n",
       "      <td>6.400</td>\n",
       "      <td>2.800</td>\n",
       "    </tr>\n",
       "    <tr>\n",
       "      <th>1988</th>\n",
       "      <td>81.429</td>\n",
       "      <td>4.714</td>\n",
       "      <td>1.429</td>\n",
       "      <td>6.414</td>\n",
       "      <td>3.086</td>\n",
       "    </tr>\n",
       "    <tr>\n",
       "      <th>1989</th>\n",
       "      <td>100.000</td>\n",
       "      <td>4.300</td>\n",
       "      <td>1.400</td>\n",
       "      <td>5.800</td>\n",
       "      <td>2.600</td>\n",
       "    </tr>\n",
       "    <tr>\n",
       "      <th>1990</th>\n",
       "      <td>106.286</td>\n",
       "      <td>4.914</td>\n",
       "      <td>1.586</td>\n",
       "      <td>6.214</td>\n",
       "      <td>2.929</td>\n",
       "    </tr>\n",
       "    <tr>\n",
       "      <th>1991</th>\n",
       "      <td>86.000</td>\n",
       "      <td>4.000</td>\n",
       "      <td>1.300</td>\n",
       "      <td>5.620</td>\n",
       "      <td>3.000</td>\n",
       "    </tr>\n",
       "    <tr>\n",
       "      <th>1992</th>\n",
       "      <td>91.333</td>\n",
       "      <td>3.400</td>\n",
       "      <td>1.167</td>\n",
       "      <td>5.800</td>\n",
       "      <td>2.933</td>\n",
       "    </tr>\n",
       "    <tr>\n",
       "      <th>1993</th>\n",
       "      <td>66.333</td>\n",
       "      <td>3.833</td>\n",
       "      <td>1.267</td>\n",
       "      <td>6.000</td>\n",
       "      <td>3.000</td>\n",
       "    </tr>\n",
       "    <tr>\n",
       "      <th>1994</th>\n",
       "      <td>66.000</td>\n",
       "      <td>3.320</td>\n",
       "      <td>0.970</td>\n",
       "      <td>5.580</td>\n",
       "      <td>2.850</td>\n",
       "    </tr>\n",
       "    <tr>\n",
       "      <th>1995</th>\n",
       "      <td>84.000</td>\n",
       "      <td>4.575</td>\n",
       "      <td>1.475</td>\n",
       "      <td>6.200</td>\n",
       "      <td>3.350</td>\n",
       "    </tr>\n",
       "    <tr>\n",
       "      <th>1996</th>\n",
       "      <td>89.800</td>\n",
       "      <td>4.020</td>\n",
       "      <td>1.520</td>\n",
       "      <td>6.000</td>\n",
       "      <td>3.400</td>\n",
       "    </tr>\n",
       "    <tr>\n",
       "      <th>1997</th>\n",
       "      <td>113.000</td>\n",
       "      <td>4.467</td>\n",
       "      <td>1.667</td>\n",
       "      <td>6.033</td>\n",
       "      <td>2.733</td>\n",
       "    </tr>\n",
       "    <tr>\n",
       "      <th>1998</th>\n",
       "      <td>58.750</td>\n",
       "      <td>3.800</td>\n",
       "      <td>1.150</td>\n",
       "      <td>5.700</td>\n",
       "      <td>2.800</td>\n",
       "    </tr>\n",
       "    <tr>\n",
       "      <th>1999</th>\n",
       "      <td>115.500</td>\n",
       "      <td>6.500</td>\n",
       "      <td>1.900</td>\n",
       "      <td>7.500</td>\n",
       "      <td>2.850</td>\n",
       "    </tr>\n",
       "    <tr>\n",
       "      <th>2000</th>\n",
       "      <td>79.000</td>\n",
       "      <td>3.500</td>\n",
       "      <td>1.100</td>\n",
       "      <td>5.567</td>\n",
       "      <td>2.933</td>\n",
       "    </tr>\n",
       "    <tr>\n",
       "      <th>2001</th>\n",
       "      <td>69.333</td>\n",
       "      <td>3.133</td>\n",
       "      <td>0.833</td>\n",
       "      <td>5.800</td>\n",
       "      <td>3.333</td>\n",
       "    </tr>\n",
       "    <tr>\n",
       "      <th>2002</th>\n",
       "      <td>83.500</td>\n",
       "      <td>3.400</td>\n",
       "      <td>1.200</td>\n",
       "      <td>5.350</td>\n",
       "      <td>3.300</td>\n",
       "    </tr>\n",
       "    <tr>\n",
       "      <th>2003</th>\n",
       "      <td>48.600</td>\n",
       "      <td>3.420</td>\n",
       "      <td>0.980</td>\n",
       "      <td>5.700</td>\n",
       "      <td>3.040</td>\n",
       "    </tr>\n",
       "    <tr>\n",
       "      <th>2004</th>\n",
       "      <td>65.167</td>\n",
       "      <td>3.533</td>\n",
       "      <td>1.150</td>\n",
       "      <td>5.733</td>\n",
       "      <td>3.050</td>\n",
       "    </tr>\n",
       "    <tr>\n",
       "      <th>2005</th>\n",
       "      <td>91.667</td>\n",
       "      <td>3.700</td>\n",
       "      <td>1.300</td>\n",
       "      <td>5.967</td>\n",
       "      <td>3.167</td>\n",
       "    </tr>\n",
       "    <tr>\n",
       "      <th>2006</th>\n",
       "      <td>127.333</td>\n",
       "      <td>5.500</td>\n",
       "      <td>2.133</td>\n",
       "      <td>6.433</td>\n",
       "      <td>3.067</td>\n",
       "    </tr>\n",
       "    <tr>\n",
       "      <th>2007</th>\n",
       "      <td>77.333</td>\n",
       "      <td>3.850</td>\n",
       "      <td>1.267</td>\n",
       "      <td>5.950</td>\n",
       "      <td>2.867</td>\n",
       "    </tr>\n",
       "    <tr>\n",
       "      <th>2008</th>\n",
       "      <td>80.250</td>\n",
       "      <td>4.200</td>\n",
       "      <td>1.450</td>\n",
       "      <td>5.925</td>\n",
       "      <td>2.975</td>\n",
       "    </tr>\n",
       "    <tr>\n",
       "      <th>2009</th>\n",
       "      <td>68.250</td>\n",
       "      <td>3.375</td>\n",
       "      <td>1.000</td>\n",
       "      <td>5.825</td>\n",
       "      <td>3.075</td>\n",
       "    </tr>\n",
       "    <tr>\n",
       "      <th>2010</th>\n",
       "      <td>94.000</td>\n",
       "      <td>4.525</td>\n",
       "      <td>1.550</td>\n",
       "      <td>5.825</td>\n",
       "      <td>2.850</td>\n",
       "    </tr>\n",
       "    <tr>\n",
       "      <th>2011</th>\n",
       "      <td>46.000</td>\n",
       "      <td>2.450</td>\n",
       "      <td>0.612</td>\n",
       "      <td>5.375</td>\n",
       "      <td>3.150</td>\n",
       "    </tr>\n",
       "    <tr>\n",
       "      <th>2012</th>\n",
       "      <td>75.200</td>\n",
       "      <td>3.940</td>\n",
       "      <td>1.320</td>\n",
       "      <td>5.860</td>\n",
       "      <td>3.240</td>\n",
       "    </tr>\n",
       "    <tr>\n",
       "      <th>2013</th>\n",
       "      <td>82.000</td>\n",
       "      <td>3.660</td>\n",
       "      <td>1.340</td>\n",
       "      <td>5.740</td>\n",
       "      <td>3.180</td>\n",
       "    </tr>\n",
       "    <tr>\n",
       "      <th>2014</th>\n",
       "      <td>59.000</td>\n",
       "      <td>2.640</td>\n",
       "      <td>0.720</td>\n",
       "      <td>5.300</td>\n",
       "      <td>3.180</td>\n",
       "    </tr>\n",
       "    <tr>\n",
       "      <th>2015</th>\n",
       "      <td>51.000</td>\n",
       "      <td>3.200</td>\n",
       "      <td>0.850</td>\n",
       "      <td>6.100</td>\n",
       "      <td>3.400</td>\n",
       "    </tr>\n",
       "  </tbody>\n",
       "</table>\n",
       "</div>"
      ],
      "text/plain": [
       "         idx  petal_length  petal_width  sepal_length  sepal_width\n",
       "year                                                              \n",
       "1980  57.167         2.900        0.883         5.683        3.250\n",
       "1981 131.000         6.100        1.900         7.400        2.800\n",
       "1982  94.000         4.900        1.700         6.600        2.950\n",
       "1983  51.000         2.825        0.725         5.825        3.175\n",
       "1984  38.333         2.800        0.767         5.467        3.467\n",
       "1985  59.750         3.650        1.125         5.725        2.950\n",
       "1986  63.400         2.800        0.860         5.280        3.120\n",
       "1987 133.000         5.600        2.200         6.400        2.800\n",
       "1988  81.429         4.714        1.429         6.414        3.086\n",
       "1989 100.000         4.300        1.400         5.800        2.600\n",
       "1990 106.286         4.914        1.586         6.214        2.929\n",
       "1991  86.000         4.000        1.300         5.620        3.000\n",
       "1992  91.333         3.400        1.167         5.800        2.933\n",
       "1993  66.333         3.833        1.267         6.000        3.000\n",
       "1994  66.000         3.320        0.970         5.580        2.850\n",
       "1995  84.000         4.575        1.475         6.200        3.350\n",
       "1996  89.800         4.020        1.520         6.000        3.400\n",
       "1997 113.000         4.467        1.667         6.033        2.733\n",
       "1998  58.750         3.800        1.150         5.700        2.800\n",
       "1999 115.500         6.500        1.900         7.500        2.850\n",
       "2000  79.000         3.500        1.100         5.567        2.933\n",
       "2001  69.333         3.133        0.833         5.800        3.333\n",
       "2002  83.500         3.400        1.200         5.350        3.300\n",
       "2003  48.600         3.420        0.980         5.700        3.040\n",
       "2004  65.167         3.533        1.150         5.733        3.050\n",
       "2005  91.667         3.700        1.300         5.967        3.167\n",
       "2006 127.333         5.500        2.133         6.433        3.067\n",
       "2007  77.333         3.850        1.267         5.950        2.867\n",
       "2008  80.250         4.200        1.450         5.925        2.975\n",
       "2009  68.250         3.375        1.000         5.825        3.075\n",
       "2010  94.000         4.525        1.550         5.825        2.850\n",
       "2011  46.000         2.450        0.612         5.375        3.150\n",
       "2012  75.200         3.940        1.320         5.860        3.240\n",
       "2013  82.000         3.660        1.340         5.740        3.180\n",
       "2014  59.000         2.640        0.720         5.300        3.180\n",
       "2015  51.000         3.200        0.850         6.100        3.400"
      ]
     },
     "execution_count": 43,
     "metadata": {},
     "output_type": "execute_result"
    }
   ],
   "source": [
    "df.pivot_table(values=[\"idx\",\"sepal_length\",\"sepal_width\",\"petal_length\",\"petal_width\"], index=[\"year\"], aggfunc=np.mean)"
   ]
  },
  {
   "cell_type": "markdown",
   "metadata": {},
   "source": [
    "# 合并数据集"
   ]
  },
  {
   "cell_type": "code",
   "execution_count": 44,
   "metadata": {
    "collapsed": false
   },
   "outputs": [],
   "source": [
    "df2 = pd.DataFrame({'idx':range(1,151),\n",
    "                   'month2':np.random.randint(low=1,high=13,size=150)})"
   ]
  },
  {
   "cell_type": "code",
   "execution_count": 45,
   "metadata": {
    "collapsed": false
   },
   "outputs": [
    {
     "data": {
      "text/html": [
       "<div>\n",
       "<table border=\"1\" class=\"dataframe\">\n",
       "  <thead>\n",
       "    <tr style=\"text-align: right;\">\n",
       "      <th></th>\n",
       "      <th>idx</th>\n",
       "      <th>sepal_length</th>\n",
       "      <th>sepal_width</th>\n",
       "      <th>petal_length</th>\n",
       "      <th>petal_width</th>\n",
       "      <th>species</th>\n",
       "      <th>date</th>\n",
       "      <th>year</th>\n",
       "      <th>month2</th>\n",
       "    </tr>\n",
       "  </thead>\n",
       "  <tbody>\n",
       "    <tr>\n",
       "      <th>0</th>\n",
       "      <td>1</td>\n",
       "      <td>5.100</td>\n",
       "      <td>3.500</td>\n",
       "      <td>1.400</td>\n",
       "      <td>0.200</td>\n",
       "      <td>setosa</td>\n",
       "      <td>2000/8</td>\n",
       "      <td>2000</td>\n",
       "      <td>4</td>\n",
       "    </tr>\n",
       "    <tr>\n",
       "      <th>1</th>\n",
       "      <td>2</td>\n",
       "      <td>4.900</td>\n",
       "      <td>3.000</td>\n",
       "      <td>1.400</td>\n",
       "      <td>0.200</td>\n",
       "      <td>setosa</td>\n",
       "      <td>1994/2</td>\n",
       "      <td>1994</td>\n",
       "      <td>11</td>\n",
       "    </tr>\n",
       "    <tr>\n",
       "      <th>2</th>\n",
       "      <td>3</td>\n",
       "      <td>4.700</td>\n",
       "      <td>3.200</td>\n",
       "      <td>1.300</td>\n",
       "      <td>0.200</td>\n",
       "      <td>setosa</td>\n",
       "      <td>2003/10</td>\n",
       "      <td>2003</td>\n",
       "      <td>4</td>\n",
       "    </tr>\n",
       "    <tr>\n",
       "      <th>3</th>\n",
       "      <td>4</td>\n",
       "      <td>4.600</td>\n",
       "      <td>3.100</td>\n",
       "      <td>1.500</td>\n",
       "      <td>0.200</td>\n",
       "      <td>setosa</td>\n",
       "      <td>1993/12</td>\n",
       "      <td>1993</td>\n",
       "      <td>1</td>\n",
       "    </tr>\n",
       "    <tr>\n",
       "      <th>4</th>\n",
       "      <td>5</td>\n",
       "      <td>5.000</td>\n",
       "      <td>3.600</td>\n",
       "      <td>1.400</td>\n",
       "      <td>0.200</td>\n",
       "      <td>setosa</td>\n",
       "      <td>2011/11</td>\n",
       "      <td>2011</td>\n",
       "      <td>6</td>\n",
       "    </tr>\n",
       "  </tbody>\n",
       "</table>\n",
       "</div>"
      ],
      "text/plain": [
       "   idx  sepal_length  sepal_width  petal_length  petal_width species     date  \\\n",
       "0    1         5.100        3.500         1.400        0.200  setosa   2000/8   \n",
       "1    2         4.900        3.000         1.400        0.200  setosa   1994/2   \n",
       "2    3         4.700        3.200         1.300        0.200  setosa  2003/10   \n",
       "3    4         4.600        3.100         1.500        0.200  setosa  1993/12   \n",
       "4    5         5.000        3.600         1.400        0.200  setosa  2011/11   \n",
       "\n",
       "   year  month2  \n",
       "0  2000       4  \n",
       "1  1994      11  \n",
       "2  2003       4  \n",
       "3  1993       1  \n",
       "4  2011       6  "
      ]
     },
     "execution_count": 45,
     "metadata": {},
     "output_type": "execute_result"
    }
   ],
   "source": [
    "df12 = pd.merge(df, df2,on='idx')\n",
    "df12.head(5)"
   ]
  },
  {
   "cell_type": "markdown",
   "metadata": {},
   "source": [
    "# Drop missing values"
   ]
  },
  {
   "cell_type": "code",
   "execution_count": 46,
   "metadata": {
    "collapsed": false
   },
   "outputs": [
    {
     "data": {
      "text/html": [
       "<div>\n",
       "<table border=\"1\" class=\"dataframe\">\n",
       "  <thead>\n",
       "    <tr style=\"text-align: right;\">\n",
       "      <th></th>\n",
       "      <th>idx</th>\n",
       "      <th>sepal_length</th>\n",
       "      <th>sepal_width</th>\n",
       "      <th>petal_length</th>\n",
       "      <th>petal_width</th>\n",
       "      <th>species</th>\n",
       "      <th>date</th>\n",
       "      <th>year</th>\n",
       "      <th>month2</th>\n",
       "    </tr>\n",
       "  </thead>\n",
       "  <tbody>\n",
       "    <tr>\n",
       "      <th>0</th>\n",
       "      <td>1</td>\n",
       "      <td>5.100</td>\n",
       "      <td>3.500</td>\n",
       "      <td>1.400</td>\n",
       "      <td>0.200</td>\n",
       "      <td>setosa</td>\n",
       "      <td>2000/8</td>\n",
       "      <td>2000</td>\n",
       "      <td>4</td>\n",
       "    </tr>\n",
       "    <tr>\n",
       "      <th>1</th>\n",
       "      <td>2</td>\n",
       "      <td>4.900</td>\n",
       "      <td>3.000</td>\n",
       "      <td>1.400</td>\n",
       "      <td>0.200</td>\n",
       "      <td>setosa</td>\n",
       "      <td>1994/2</td>\n",
       "      <td>1994</td>\n",
       "      <td>11</td>\n",
       "    </tr>\n",
       "  </tbody>\n",
       "</table>\n",
       "</div>"
      ],
      "text/plain": [
       "   idx  sepal_length  sepal_width  petal_length  petal_width species    date  \\\n",
       "0    1         5.100        3.500         1.400        0.200  setosa  2000/8   \n",
       "1    2         4.900        3.000         1.400        0.200  setosa  1994/2   \n",
       "\n",
       "   year  month2  \n",
       "0  2000       4  \n",
       "1  1994      11  "
      ]
     },
     "execution_count": 46,
     "metadata": {},
     "output_type": "execute_result"
    }
   ],
   "source": [
    "df12.dropna().head(2)"
   ]
  },
  {
   "cell_type": "markdown",
   "metadata": {},
   "source": [
    "# Fill missing values"
   ]
  },
  {
   "cell_type": "code",
   "execution_count": 47,
   "metadata": {
    "collapsed": false
   },
   "outputs": [
    {
     "data": {
      "text/plain": [
       "0   5.100\n",
       "1   4.900\n",
       "2   4.700\n",
       "3   4.600\n",
       "4   5.000\n",
       "Name: sepal_length, dtype: float64"
      ]
     },
     "execution_count": 47,
     "metadata": {},
     "output_type": "execute_result"
    }
   ],
   "source": [
    "df12copy = df12.copy()\n",
    "mean = df12copy['sepal_length'].mean()\n",
    "df12copy['sepal_length'].fillna(mean).head(5)\n",
    "# a simple replacement using the mean of the available values."
   ]
  },
  {
   "cell_type": "markdown",
   "metadata": {},
   "source": [
    "# Saving your data to a csv"
   ]
  },
  {
   "cell_type": "code",
   "execution_count": 48,
   "metadata": {
    "collapsed": true
   },
   "outputs": [],
   "source": [
    "df12.to_csv('df12.csv')"
   ]
  },
  {
   "cell_type": "markdown",
   "metadata": {},
   "source": [
    "# Plots"
   ]
  },
  {
   "cell_type": "code",
   "execution_count": 49,
   "metadata": {
    "collapsed": false
   },
   "outputs": [
    {
     "data": {
      "text/html": [
       "<div>\n",
       "<table border=\"1\" class=\"dataframe\">\n",
       "  <thead>\n",
       "    <tr style=\"text-align: right;\">\n",
       "      <th></th>\n",
       "      <th>c</th>\n",
       "      <th>d</th>\n",
       "      <th>x</th>\n",
       "      <th>y</th>\n",
       "      <th>z</th>\n",
       "    </tr>\n",
       "  </thead>\n",
       "  <tbody>\n",
       "    <tr>\n",
       "      <th>0</th>\n",
       "      <td>b</td>\n",
       "      <td>p</td>\n",
       "      <td>0.069</td>\n",
       "      <td>-0.235</td>\n",
       "      <td>0.295</td>\n",
       "    </tr>\n",
       "    <tr>\n",
       "      <th>1</th>\n",
       "      <td>a</td>\n",
       "      <td>n</td>\n",
       "      <td>0.292</td>\n",
       "      <td>1.005</td>\n",
       "      <td>-0.056</td>\n",
       "    </tr>\n",
       "    <tr>\n",
       "      <th>2</th>\n",
       "      <td>b</td>\n",
       "      <td>p</td>\n",
       "      <td>-0.814</td>\n",
       "      <td>0.268</td>\n",
       "      <td>0.600</td>\n",
       "    </tr>\n",
       "    <tr>\n",
       "      <th>3</th>\n",
       "      <td>b</td>\n",
       "      <td>p</td>\n",
       "      <td>0.458</td>\n",
       "      <td>0.242</td>\n",
       "      <td>0.981</td>\n",
       "    </tr>\n",
       "    <tr>\n",
       "      <th>4</th>\n",
       "      <td>b</td>\n",
       "      <td>p</td>\n",
       "      <td>-0.251</td>\n",
       "      <td>0.676</td>\n",
       "      <td>-0.571</td>\n",
       "    </tr>\n",
       "  </tbody>\n",
       "</table>\n",
       "</div>"
      ],
      "text/plain": [
       "   c  d      x      y      z\n",
       "0  b  p  0.069 -0.235  0.295\n",
       "1  a  n  0.292  1.005 -0.056\n",
       "2  b  p -0.814  0.268  0.600\n",
       "3  b  p  0.458  0.242  0.981\n",
       "4  b  p -0.251  0.676 -0.571"
      ]
     },
     "execution_count": 49,
     "metadata": {},
     "output_type": "execute_result"
    }
   ],
   "source": [
    "df3 = pd.DataFrame({'x' : np.random.normal(0,1,1000),\n",
    "                   'y' : np.random.normal(0,1,1000),\n",
    "                   'z': np.random.normal(0,1,1000),\n",
    "                   'c': np.random.choice(['a','b'], 1000),\n",
    "                   'd': np.random.choice(['p','n'], 1000)})\n",
    "df3.head()"
   ]
  },
  {
   "cell_type": "code",
   "execution_count": 50,
   "metadata": {
    "collapsed": false
   },
   "outputs": [
    {
     "data": {
      "image/png": "[encoded data removed]",
      "text/plain": [
       "<matplotlib.figure.Figure at 0x112ca9990>"
      ]
     },
     "metadata": {},
     "output_type": "display_data"
    }
   ],
   "source": [
    "df3.hist(column='x');"
   ]
  },
  {
   "cell_type": "code",
   "execution_count": 51,
   "metadata": {
    "collapsed": false
   },
   "outputs": [
    {
     "data": {
      "image/png": "[encoded data removed]",
      "text/plain": [
       "<matplotlib.figure.Figure at 0x114233d10>"
      ]
     },
     "metadata": {},
     "output_type": "display_data"
    }
   ],
   "source": [
    "df3.hist(column='x',by='d',bins=10);"
   ]
  },
  {
   "cell_type": "code",
   "execution_count": 52,
   "metadata": {
    "collapsed": false
   },
   "outputs": [
    {
     "data": {
      "image/png": "[encoded data removed]",
      "text/plain": [
       "<matplotlib.figure.Figure at 0x113fb7bd0>"
      ]
     },
     "metadata": {},
     "output_type": "display_data"
    }
   ],
   "source": [
    "df3.boxplot(column='x', by='c');"
   ]
  },
  {
   "cell_type": "markdown",
   "metadata": {},
   "source": [
    "# Crosstab"
   ]
  },
  {
   "cell_type": "code",
   "execution_count": 53,
   "metadata": {
    "collapsed": false
   },
   "outputs": [
    {
     "data": {
      "text/html": [
       "<div>\n",
       "<table border=\"1\" class=\"dataframe\">\n",
       "  <thead>\n",
       "    <tr style=\"text-align: right;\">\n",
       "      <th>d</th>\n",
       "      <th>n</th>\n",
       "      <th>p</th>\n",
       "      <th>All</th>\n",
       "    </tr>\n",
       "    <tr>\n",
       "      <th>c</th>\n",
       "      <th></th>\n",
       "      <th></th>\n",
       "      <th></th>\n",
       "    </tr>\n",
       "  </thead>\n",
       "  <tbody>\n",
       "    <tr>\n",
       "      <th>a</th>\n",
       "      <td>256</td>\n",
       "      <td>244</td>\n",
       "      <td>500</td>\n",
       "    </tr>\n",
       "    <tr>\n",
       "      <th>b</th>\n",
       "      <td>263</td>\n",
       "      <td>237</td>\n",
       "      <td>500</td>\n",
       "    </tr>\n",
       "    <tr>\n",
       "      <th>All</th>\n",
       "      <td>519</td>\n",
       "      <td>481</td>\n",
       "      <td>1000</td>\n",
       "    </tr>\n",
       "  </tbody>\n",
       "</table>\n",
       "</div>"
      ],
      "text/plain": [
       "d      n    p   All\n",
       "c                  \n",
       "a    256  244   500\n",
       "b    263  237   500\n",
       "All  519  481  1000"
      ]
     },
     "execution_count": 53,
     "metadata": {},
     "output_type": "execute_result"
    }
   ],
   "source": [
    "pd.crosstab(df3[\"c\"],df3[\"d\"],margins=True)"
   ]
  },
  {
   "cell_type": "markdown",
   "metadata": {},
   "source": [
    "# sort_values"
   ]
  },
  {
   "cell_type": "code",
   "execution_count": 54,
   "metadata": {
    "collapsed": false
   },
   "outputs": [
    {
     "data": {
      "text/html": [
       "<div>\n",
       "<table border=\"1\" class=\"dataframe\">\n",
       "  <thead>\n",
       "    <tr style=\"text-align: right;\">\n",
       "      <th></th>\n",
       "      <th>c</th>\n",
       "      <th>d</th>\n",
       "      <th>x</th>\n",
       "      <th>y</th>\n",
       "      <th>z</th>\n",
       "    </tr>\n",
       "  </thead>\n",
       "  <tbody>\n",
       "    <tr>\n",
       "      <th>466</th>\n",
       "      <td>b</td>\n",
       "      <td>n</td>\n",
       "      <td>3.197</td>\n",
       "      <td>0.447</td>\n",
       "      <td>-0.550</td>\n",
       "    </tr>\n",
       "    <tr>\n",
       "      <th>486</th>\n",
       "      <td>a</td>\n",
       "      <td>n</td>\n",
       "      <td>2.928</td>\n",
       "      <td>1.223</td>\n",
       "      <td>-0.333</td>\n",
       "    </tr>\n",
       "    <tr>\n",
       "      <th>111</th>\n",
       "      <td>b</td>\n",
       "      <td>n</td>\n",
       "      <td>2.742</td>\n",
       "      <td>0.999</td>\n",
       "      <td>1.285</td>\n",
       "    </tr>\n",
       "    <tr>\n",
       "      <th>92</th>\n",
       "      <td>b</td>\n",
       "      <td>n</td>\n",
       "      <td>2.736</td>\n",
       "      <td>-0.530</td>\n",
       "      <td>0.371</td>\n",
       "    </tr>\n",
       "    <tr>\n",
       "      <th>155</th>\n",
       "      <td>b</td>\n",
       "      <td>p</td>\n",
       "      <td>2.719</td>\n",
       "      <td>-0.478</td>\n",
       "      <td>-1.176</td>\n",
       "    </tr>\n",
       "  </tbody>\n",
       "</table>\n",
       "</div>"
      ],
      "text/plain": [
       "     c  d     x      y      z\n",
       "466  b  n 3.197  0.447 -0.550\n",
       "486  a  n 2.928  1.223 -0.333\n",
       "111  b  n 2.742  0.999  1.285\n",
       "92   b  n 2.736 -0.530  0.371\n",
       "155  b  p 2.719 -0.478 -1.176"
      ]
     },
     "execution_count": 54,
     "metadata": {},
     "output_type": "execute_result"
    }
   ],
   "source": [
    "df3.sort_values(['x'], ascending=False).head()"
   ]
  },
  {
   "cell_type": "code",
   "execution_count": 55,
   "metadata": {
    "collapsed": false
   },
   "outputs": [
    {
     "data": {
      "text/html": [
       "<div>\n",
       "<table border=\"1\" class=\"dataframe\">\n",
       "  <thead>\n",
       "    <tr style=\"text-align: right;\">\n",
       "      <th></th>\n",
       "      <th>c</th>\n",
       "      <th>d</th>\n",
       "      <th>x</th>\n",
       "      <th>y</th>\n",
       "      <th>z</th>\n",
       "    </tr>\n",
       "  </thead>\n",
       "  <tbody>\n",
       "    <tr>\n",
       "      <th>52</th>\n",
       "      <td>a</td>\n",
       "      <td>n</td>\n",
       "      <td>-3.119</td>\n",
       "      <td>-0.612</td>\n",
       "      <td>-0.125</td>\n",
       "    </tr>\n",
       "    <tr>\n",
       "      <th>977</th>\n",
       "      <td>a</td>\n",
       "      <td>n</td>\n",
       "      <td>-3.103</td>\n",
       "      <td>-0.689</td>\n",
       "      <td>1.946</td>\n",
       "    </tr>\n",
       "    <tr>\n",
       "      <th>530</th>\n",
       "      <td>b</td>\n",
       "      <td>n</td>\n",
       "      <td>-3.009</td>\n",
       "      <td>1.289</td>\n",
       "      <td>-1.095</td>\n",
       "    </tr>\n",
       "    <tr>\n",
       "      <th>465</th>\n",
       "      <td>b</td>\n",
       "      <td>n</td>\n",
       "      <td>-2.778</td>\n",
       "      <td>-1.055</td>\n",
       "      <td>-0.942</td>\n",
       "    </tr>\n",
       "    <tr>\n",
       "      <th>698</th>\n",
       "      <td>a</td>\n",
       "      <td>p</td>\n",
       "      <td>-2.594</td>\n",
       "      <td>2.085</td>\n",
       "      <td>-2.021</td>\n",
       "    </tr>\n",
       "  </tbody>\n",
       "</table>\n",
       "</div>"
      ],
      "text/plain": [
       "     c  d      x      y      z\n",
       "52   a  n -3.119 -0.612 -0.125\n",
       "977  a  n -3.103 -0.689  1.946\n",
       "530  b  n -3.009  1.289 -1.095\n",
       "465  b  n -2.778 -1.055 -0.942\n",
       "698  a  p -2.594  2.085 -2.021"
      ]
     },
     "execution_count": 55,
     "metadata": {},
     "output_type": "execute_result"
    }
   ],
   "source": [
    "df3.sort_values(['x','z']).head()"
   ]
  },
  {
   "cell_type": "markdown",
   "metadata": {},
   "source": [
    "# value_counts"
   ]
  },
  {
   "cell_type": "code",
   "execution_count": 56,
   "metadata": {
    "collapsed": false
   },
   "outputs": [
    {
     "data": {
      "text/plain": [
       "a    500\n",
       "b    500\n",
       "Name: c, dtype: int64"
      ]
     },
     "execution_count": 56,
     "metadata": {},
     "output_type": "execute_result"
    }
   ],
   "source": [
    "pd.value_counts(df3[\"c\"], sort=False)"
   ]
  }
 ],
 "metadata": {
  "kernelspec": {
   "display_name": "Python 2",
   "language": "python",
   "name": "python2"
  },
  "language_info": {
   "codemirror_mode": {
    "name": "ipython",
    "version": 2
   },
   "file_extension": ".py",
   "mimetype": "text/x-python",
   "name": "python",
   "nbconvert_exporter": "python",
   "pygments_lexer": "ipython2",
   "version": "2.7.12"
  },
  "nav_menu": {},
  "toc": {
   "navigate_menu": true,
   "number_sections": true,
   "sideBar": true,
   "threshold": "6",
   "toc_cell": true,
   "toc_section_display": "block",
   "toc_window_display": false
  }
 },
 "nbformat": 4,
 "nbformat_minor": 0
}
