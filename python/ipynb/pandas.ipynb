{
 "cells": [
  {
   "cell_type": "markdown",
   "metadata": {
    "toc": "true"
   },
   "source": [
    "# Table of Contents\n",
    " <p><div class=\"lev1 toc-item\"><a href=\"#Creat-a-dataframe\" data-toc-modified-id=\"Creat-a-dataframe-1\"><span class=\"toc-item-num\">1&nbsp;&nbsp;</span>Creat a dataframe</a></div><div class=\"lev1 toc-item\"><a href=\"#Reading/Saving-a-csv/tabular-data-file-into-Pandas\" data-toc-modified-id=\"Reading/Saving-a-csv/tabular-data-file-into-Pandas-2\"><span class=\"toc-item-num\">2&nbsp;&nbsp;</span>Reading/Saving a csv/tabular data file into Pandas</a></div><div class=\"lev1 toc-item\"><a href=\"#Getting-first/last-x-rows.\" data-toc-modified-id=\"Getting-first/last-x-rows.-3\"><span class=\"toc-item-num\">3&nbsp;&nbsp;</span>Getting first/last x rows.</a></div><div class=\"lev1 toc-item\"><a href=\"#Changing-column-labels.\" data-toc-modified-id=\"Changing-column-labels.-4\"><span class=\"toc-item-num\">4&nbsp;&nbsp;</span>Changing column labels.</a></div><div class=\"lev1 toc-item\"><a href=\"#Finding-out-rows/dimension/data-types-of-a-dataset-has.\" data-toc-modified-id=\"Finding-out-rows/dimension/data-types-of-a-dataset-has.-5\"><span class=\"toc-item-num\">5&nbsp;&nbsp;</span>Finding out rows/dimension/data types of a dataset has.</a></div><div class=\"lev1 toc-item\"><a href=\"#Finding-out-basic-statistical-information-on-your-dataset.\" data-toc-modified-id=\"Finding-out-basic-statistical-information-on-your-dataset.-6\"><span class=\"toc-item-num\">6&nbsp;&nbsp;</span>Finding out basic statistical information on your dataset.</a></div><div class=\"lev1 toc-item\"><a href=\"#index\" data-toc-modified-id=\"index-7\"><span class=\"toc-item-num\">7&nbsp;&nbsp;</span>index</a></div><div class=\"lev2 toc-item\"><a href=\"#Setting-a-new-index-from-an-existing-column\" data-toc-modified-id=\"Setting-a-new-index-from-an-existing-column-7.1\"><span class=\"toc-item-num\">7.1&nbsp;&nbsp;</span>Setting a new index from an existing column</a></div><div class=\"lev2 toc-item\"><a href=\"#sort-index\" data-toc-modified-id=\"sort-index-7.2\"><span class=\"toc-item-num\">7.2&nbsp;&nbsp;</span>sort index</a></div><div class=\"lev2 toc-item\"><a href=\"#Returning-an-index-to-data\" data-toc-modified-id=\"Returning-an-index-to-data-7.3\"><span class=\"toc-item-num\">7.3&nbsp;&nbsp;</span>Returning an index to data</a></div><div class=\"lev1 toc-item\"><a href=\"#Getting/Remove-a-column-or-a-subset-of-columns\" data-toc-modified-id=\"Getting/Remove-a-column-or-a-subset-of-columns-8\"><span class=\"toc-item-num\">8&nbsp;&nbsp;</span>Getting/Remove a column or a subset of columns</a></div><div class=\"lev1 toc-item\"><a href=\"#Getting/Remove-a-row\" data-toc-modified-id=\"Getting/Remove-a-row-9\"><span class=\"toc-item-num\">9&nbsp;&nbsp;</span>Getting/Remove a row</a></div><div class=\"lev1 toc-item\"><a href=\"#booleans-and-Filtering\" data-toc-modified-id=\"booleans-and-Filtering-10\"><span class=\"toc-item-num\">10&nbsp;&nbsp;</span>booleans and Filtering</a></div><div class=\"lev2 toc-item\"><a href=\"#Creating-a-series-of-booleans-based-on-a-conditional\" data-toc-modified-id=\"Creating-a-series-of-booleans-based-on-a-conditional-10.1\"><span class=\"toc-item-num\">10.1&nbsp;&nbsp;</span>Creating a series of booleans based on a conditional</a></div><div class=\"lev2 toc-item\"><a href=\"#Using-a-series-of-booleans-to-filter\" data-toc-modified-id=\"Using-a-series-of-booleans-to-filter-10.2\"><span class=\"toc-item-num\">10.2&nbsp;&nbsp;</span>Using a series of booleans to filter</a></div><div class=\"lev2 toc-item\"><a href=\"#Filtering-by-multiple-conditionals\" data-toc-modified-id=\"Filtering-by-multiple-conditionals-10.3\"><span class=\"toc-item-num\">10.3&nbsp;&nbsp;</span>Filtering by multiple conditionals</a></div><div class=\"lev2 toc-item\"><a href=\"#Filtering-by-string-methods\" data-toc-modified-id=\"Filtering-by-string-methods-10.4\"><span class=\"toc-item-num\">10.4&nbsp;&nbsp;</span>Filtering by string methods</a></div><div class=\"lev1 toc-item\"><a href=\"#Add-a-column-to-a-dataframe\" data-toc-modified-id=\"Add-a-column-to-a-dataframe-11\"><span class=\"toc-item-num\">11&nbsp;&nbsp;</span>Add a column to a dataframe</a></div><div class=\"lev1 toc-item\"><a href=\"#Applying-a-function-to-a-column\" data-toc-modified-id=\"Applying-a-function-to-a-column-12\"><span class=\"toc-item-num\">12&nbsp;&nbsp;</span>Applying a function to a column</a></div><div class=\"lev1 toc-item\"><a href=\"#Grouby\" data-toc-modified-id=\"Grouby-13\"><span class=\"toc-item-num\">13&nbsp;&nbsp;</span>Grouby</a></div><div class=\"lev2 toc-item\"><a href=\"#Groupby-one-column\" data-toc-modified-id=\"Groupby-one-column-13.1\"><span class=\"toc-item-num\">13.1&nbsp;&nbsp;</span>Groupby one column</a></div><div class=\"lev2 toc-item\"><a href=\"#Grouping-by-multiple-columns\" data-toc-modified-id=\"Grouping-by-multiple-columns-13.2\"><span class=\"toc-item-num\">13.2&nbsp;&nbsp;</span>Grouping by multiple columns</a></div><div class=\"lev1 toc-item\"><a href=\"#pivot_table\" data-toc-modified-id=\"pivot_table-14\"><span class=\"toc-item-num\">14&nbsp;&nbsp;</span>pivot_table</a></div><div class=\"lev1 toc-item\"><a href=\"#Crosstab\" data-toc-modified-id=\"Crosstab-15\"><span class=\"toc-item-num\">15&nbsp;&nbsp;</span>Crosstab</a></div><div class=\"lev1 toc-item\"><a href=\"#sort_values\" data-toc-modified-id=\"sort_values-16\"><span class=\"toc-item-num\">16&nbsp;&nbsp;</span>sort_values</a></div><div class=\"lev1 toc-item\"><a href=\"#value_counts\" data-toc-modified-id=\"value_counts-17\"><span class=\"toc-item-num\">17&nbsp;&nbsp;</span>value_counts</a></div><div class=\"lev1 toc-item\"><a href=\"#合并数据集\" data-toc-modified-id=\"合并数据集-18\"><span class=\"toc-item-num\">18&nbsp;&nbsp;</span>合并数据集</a></div><div class=\"lev1 toc-item\"><a href=\"#Missing-Values\" data-toc-modified-id=\"Missing-Values-19\"><span class=\"toc-item-num\">19&nbsp;&nbsp;</span>Missing Values</a></div><div class=\"lev2 toc-item\"><a href=\"#Drop-missing-values\" data-toc-modified-id=\"Drop-missing-values-19.1\"><span class=\"toc-item-num\">19.1&nbsp;&nbsp;</span>Drop missing values</a></div><div class=\"lev2 toc-item\"><a href=\"#Fill-missing-values\" data-toc-modified-id=\"Fill-missing-values-19.2\"><span class=\"toc-item-num\">19.2&nbsp;&nbsp;</span>Fill missing values</a></div><div class=\"lev1 toc-item\"><a href=\"#Plots\" data-toc-modified-id=\"Plots-20\"><span class=\"toc-item-num\">20&nbsp;&nbsp;</span>Plots</a></div>"
   ]
  },
  {
   "cell_type": "code",
   "execution_count": 1,
   "metadata": {
    "collapsed": true
   },
   "outputs": [],
   "source": [
    "import pandas as pd\n",
    "import numpy as np\n",
    "\n",
    "%matplotlib inline"
   ]
  },
  {
   "cell_type": "markdown",
   "metadata": {},
   "source": [
    "# Creat a dataframe"
   ]
  },
  {
   "cell_type": "code",
   "execution_count": 2,
   "metadata": {
    "collapsed": false
   },
   "outputs": [
    {
     "data": {
      "text/html": [
       "<div>\n",
       "<table border=\"1\" class=\"dataframe\">\n",
       "  <thead>\n",
       "    <tr style=\"text-align: right;\">\n",
       "      <th></th>\n",
       "      <th>c</th>\n",
       "      <th>d</th>\n",
       "      <th>x</th>\n",
       "      <th>y</th>\n",
       "      <th>z</th>\n",
       "    </tr>\n",
       "  </thead>\n",
       "  <tbody>\n",
       "    <tr>\n",
       "      <th>0</th>\n",
       "      <td>a</td>\n",
       "      <td>p</td>\n",
       "      <td>-2.146032</td>\n",
       "      <td>0.459089</td>\n",
       "      <td>1.867977</td>\n",
       "    </tr>\n",
       "    <tr>\n",
       "      <th>1</th>\n",
       "      <td>a</td>\n",
       "      <td>n</td>\n",
       "      <td>0.987915</td>\n",
       "      <td>-0.380110</td>\n",
       "      <td>-0.728256</td>\n",
       "    </tr>\n",
       "    <tr>\n",
       "      <th>2</th>\n",
       "      <td>a</td>\n",
       "      <td>p</td>\n",
       "      <td>-0.022535</td>\n",
       "      <td>-1.175936</td>\n",
       "      <td>0.104927</td>\n",
       "    </tr>\n",
       "    <tr>\n",
       "      <th>3</th>\n",
       "      <td>b</td>\n",
       "      <td>p</td>\n",
       "      <td>0.151726</td>\n",
       "      <td>1.172237</td>\n",
       "      <td>1.607810</td>\n",
       "    </tr>\n",
       "    <tr>\n",
       "      <th>4</th>\n",
       "      <td>a</td>\n",
       "      <td>n</td>\n",
       "      <td>-0.113895</td>\n",
       "      <td>1.979173</td>\n",
       "      <td>1.732140</td>\n",
       "    </tr>\n",
       "  </tbody>\n",
       "</table>\n",
       "</div>"
      ],
      "text/plain": [
       "   c  d         x         y         z\n",
       "0  a  p -2.146032  0.459089  1.867977\n",
       "1  a  n  0.987915 -0.380110 -0.728256\n",
       "2  a  p -0.022535 -1.175936  0.104927\n",
       "3  b  p  0.151726  1.172237  1.607810\n",
       "4  a  n -0.113895  1.979173  1.732140"
      ]
     },
     "execution_count": 2,
     "metadata": {},
     "output_type": "execute_result"
    }
   ],
   "source": [
    "df0 = pd.DataFrame({'x' : np.random.normal(0,1,1000),\n",
    "                   'y' : np.random.normal(0,1,1000),\n",
    "                   'z': np.random.normal(0,1,1000),\n",
    "                   'c': np.random.choice(['a','b'], 1000),\n",
    "                   'd': np.random.choice(['p','n'], 1000)})\n",
    "df0.head()"
   ]
  },
  {
   "cell_type": "markdown",
   "metadata": {},
   "source": [
    "# Reading/Saving a csv/tabular data file into Pandas"
   ]
  },
  {
   "cell_type": "code",
   "execution_count": 3,
   "metadata": {
    "collapsed": true
   },
   "outputs": [],
   "source": [
    "df = pd.read_csv('iris.csv', header=0)\n",
    "# If there are no column names you can set header to None. "
   ]
  },
  {
   "cell_type": "code",
   "execution_count": 4,
   "metadata": {
    "collapsed": false
   },
   "outputs": [],
   "source": [
    "df2 = pd.read_table('olympics.txt')\n",
    "# by default, sep is tab, first row is header"
   ]
  },
  {
   "cell_type": "code",
   "execution_count": 5,
   "metadata": {
    "collapsed": true
   },
   "outputs": [],
   "source": [
    "chiporders = pd.read_table('http://bit.ly/chiporders')"
   ]
  },
  {
   "cell_type": "code",
   "execution_count": 6,
   "metadata": {
    "collapsed": true
   },
   "outputs": [],
   "source": [
    "movieusers = pd.read_table('http://bit.ly/movieusers', sep='|', header=None)"
   ]
  },
  {
   "cell_type": "code",
   "execution_count": 7,
   "metadata": {
    "collapsed": true
   },
   "outputs": [],
   "source": [
    "ufo = pd.read_csv('http://bit.ly/uforeports')"
   ]
  },
  {
   "cell_type": "code",
   "execution_count": 8,
   "metadata": {
    "collapsed": true
   },
   "outputs": [],
   "source": [
    "movies = pd.read_csv('http://bit.ly/imdbratings')"
   ]
  },
  {
   "cell_type": "code",
   "execution_count": 9,
   "metadata": {
    "collapsed": true
   },
   "outputs": [],
   "source": [
    "ufo.to_csv('ufo.csv')"
   ]
  },
  {
   "cell_type": "markdown",
   "metadata": {},
   "source": [
    "# Getting first/last x rows."
   ]
  },
  {
   "cell_type": "code",
   "execution_count": 10,
   "metadata": {
    "collapsed": false
   },
   "outputs": [
    {
     "data": {
      "text/html": [
       "<div>\n",
       "<table border=\"1\" class=\"dataframe\">\n",
       "  <thead>\n",
       "    <tr style=\"text-align: right;\">\n",
       "      <th></th>\n",
       "      <th>Unnamed: 0</th>\n",
       "      <th>Sepal.Length</th>\n",
       "      <th>Sepal.Width</th>\n",
       "      <th>Petal.Length</th>\n",
       "      <th>Petal.Width</th>\n",
       "      <th>Species</th>\n",
       "    </tr>\n",
       "  </thead>\n",
       "  <tbody>\n",
       "    <tr>\n",
       "      <th>0</th>\n",
       "      <td>1</td>\n",
       "      <td>5.1</td>\n",
       "      <td>3.5</td>\n",
       "      <td>1.4</td>\n",
       "      <td>0.2</td>\n",
       "      <td>setosa</td>\n",
       "    </tr>\n",
       "    <tr>\n",
       "      <th>1</th>\n",
       "      <td>2</td>\n",
       "      <td>4.9</td>\n",
       "      <td>3.0</td>\n",
       "      <td>1.4</td>\n",
       "      <td>0.2</td>\n",
       "      <td>setosa</td>\n",
       "    </tr>\n",
       "  </tbody>\n",
       "</table>\n",
       "</div>"
      ],
      "text/plain": [
       "   Unnamed: 0  Sepal.Length  Sepal.Width  Petal.Length  Petal.Width Species\n",
       "0           1           5.1          3.5           1.4          0.2  setosa\n",
       "1           2           4.9          3.0           1.4          0.2  setosa"
      ]
     },
     "execution_count": 10,
     "metadata": {},
     "output_type": "execute_result"
    }
   ],
   "source": [
    "df.head(2)"
   ]
  },
  {
   "cell_type": "code",
   "execution_count": 11,
   "metadata": {
    "collapsed": false
   },
   "outputs": [
    {
     "data": {
      "text/html": [
       "<div>\n",
       "<table border=\"1\" class=\"dataframe\">\n",
       "  <thead>\n",
       "    <tr style=\"text-align: right;\">\n",
       "      <th></th>\n",
       "      <th>Unnamed: 0</th>\n",
       "      <th>Sepal.Length</th>\n",
       "      <th>Sepal.Width</th>\n",
       "      <th>Petal.Length</th>\n",
       "      <th>Petal.Width</th>\n",
       "      <th>Species</th>\n",
       "    </tr>\n",
       "  </thead>\n",
       "  <tbody>\n",
       "    <tr>\n",
       "      <th>148</th>\n",
       "      <td>149</td>\n",
       "      <td>6.2</td>\n",
       "      <td>3.4</td>\n",
       "      <td>5.4</td>\n",
       "      <td>2.3</td>\n",
       "      <td>virginica</td>\n",
       "    </tr>\n",
       "    <tr>\n",
       "      <th>149</th>\n",
       "      <td>150</td>\n",
       "      <td>5.9</td>\n",
       "      <td>3.0</td>\n",
       "      <td>5.1</td>\n",
       "      <td>1.8</td>\n",
       "      <td>virginica</td>\n",
       "    </tr>\n",
       "  </tbody>\n",
       "</table>\n",
       "</div>"
      ],
      "text/plain": [
       "     Unnamed: 0  Sepal.Length  Sepal.Width  Petal.Length  Petal.Width  \\\n",
       "148         149           6.2          3.4           5.4          2.3   \n",
       "149         150           5.9          3.0           5.1          1.8   \n",
       "\n",
       "       Species  \n",
       "148  virginica  \n",
       "149  virginica  "
      ]
     },
     "execution_count": 11,
     "metadata": {},
     "output_type": "execute_result"
    }
   ],
   "source": [
    "df.tail(2)"
   ]
  },
  {
   "cell_type": "markdown",
   "metadata": {},
   "source": [
    "# Changing column labels."
   ]
  },
  {
   "cell_type": "code",
   "execution_count": 12,
   "metadata": {
    "collapsed": false
   },
   "outputs": [
    {
     "data": {
      "text/html": [
       "<div>\n",
       "<table border=\"1\" class=\"dataframe\">\n",
       "  <thead>\n",
       "    <tr style=\"text-align: right;\">\n",
       "      <th></th>\n",
       "      <th>idx</th>\n",
       "      <th>sepal_length</th>\n",
       "      <th>sepal_width</th>\n",
       "      <th>petal_length</th>\n",
       "      <th>petal_width</th>\n",
       "      <th>species</th>\n",
       "    </tr>\n",
       "  </thead>\n",
       "  <tbody>\n",
       "    <tr>\n",
       "      <th>0</th>\n",
       "      <td>1</td>\n",
       "      <td>5.1</td>\n",
       "      <td>3.5</td>\n",
       "      <td>1.4</td>\n",
       "      <td>0.2</td>\n",
       "      <td>setosa</td>\n",
       "    </tr>\n",
       "    <tr>\n",
       "      <th>1</th>\n",
       "      <td>2</td>\n",
       "      <td>4.9</td>\n",
       "      <td>3.0</td>\n",
       "      <td>1.4</td>\n",
       "      <td>0.2</td>\n",
       "      <td>setosa</td>\n",
       "    </tr>\n",
       "  </tbody>\n",
       "</table>\n",
       "</div>"
      ],
      "text/plain": [
       "   idx  sepal_length  sepal_width  petal_length  petal_width species\n",
       "0    1           5.1          3.5           1.4          0.2  setosa\n",
       "1    2           4.9          3.0           1.4          0.2  setosa"
      ]
     },
     "execution_count": 12,
     "metadata": {},
     "output_type": "execute_result"
    }
   ],
   "source": [
    "df.columns = ['idx','sepal_length', 'sepal_width', 'petal_length', 'petal_width', 'species']\n",
    "df.head(2)"
   ]
  },
  {
   "cell_type": "code",
   "execution_count": 13,
   "metadata": {
    "collapsed": false
   },
   "outputs": [
    {
     "data": {
      "text/html": [
       "<div>\n",
       "<table border=\"1\" class=\"dataframe\">\n",
       "  <thead>\n",
       "    <tr style=\"text-align: right;\">\n",
       "      <th></th>\n",
       "      <th>user_id</th>\n",
       "      <th>age</th>\n",
       "      <th>gender</th>\n",
       "      <th>occupation</th>\n",
       "      <th>zip_code</th>\n",
       "    </tr>\n",
       "  </thead>\n",
       "  <tbody>\n",
       "    <tr>\n",
       "      <th>0</th>\n",
       "      <td>1</td>\n",
       "      <td>24</td>\n",
       "      <td>M</td>\n",
       "      <td>technician</td>\n",
       "      <td>85711</td>\n",
       "    </tr>\n",
       "    <tr>\n",
       "      <th>1</th>\n",
       "      <td>2</td>\n",
       "      <td>53</td>\n",
       "      <td>F</td>\n",
       "      <td>other</td>\n",
       "      <td>94043</td>\n",
       "    </tr>\n",
       "  </tbody>\n",
       "</table>\n",
       "</div>"
      ],
      "text/plain": [
       "   user_id  age gender  occupation zip_code\n",
       "0        1   24      M  technician    85711\n",
       "1        2   53      F       other    94043"
      ]
     },
     "execution_count": 13,
     "metadata": {},
     "output_type": "execute_result"
    }
   ],
   "source": [
    "movieusers.columns = ['user_id', 'age', 'gender', 'occupation', 'zip_code']\n",
    "movieusers.head(2)"
   ]
  },
  {
   "cell_type": "code",
   "execution_count": 14,
   "metadata": {
    "collapsed": false
   },
   "outputs": [
    {
     "data": {
      "text/plain": [
       "Index([u'City', u'Colors Reported', u'Shape Reported', u'State', u'Time'], dtype='object')"
      ]
     },
     "execution_count": 14,
     "metadata": {},
     "output_type": "execute_result"
    }
   ],
   "source": [
    "ufo.columns"
   ]
  },
  {
   "cell_type": "code",
   "execution_count": 15,
   "metadata": {
    "collapsed": false
   },
   "outputs": [
    {
     "data": {
      "text/plain": [
       "Index([u'City', u'Colors_Reported', u'Shape_Reported', u'State', u'Time'], dtype='object')"
      ]
     },
     "execution_count": 15,
     "metadata": {},
     "output_type": "execute_result"
    }
   ],
   "source": [
    "ufo.rename(columns={'Colors Reported':'Colors_Reported', 'Shape Reported':'Shape_Reported'}, inplace=True)\n",
    "ufo.columns"
   ]
  },
  {
   "cell_type": "code",
   "execution_count": 16,
   "metadata": {
    "collapsed": false
   },
   "outputs": [
    {
     "data": {
      "text/html": [
       "<div>\n",
       "<table border=\"1\" class=\"dataframe\">\n",
       "  <thead>\n",
       "    <tr style=\"text-align: right;\">\n",
       "      <th></th>\n",
       "      <th>city</th>\n",
       "      <th>colors_reported</th>\n",
       "      <th>shape_reported</th>\n",
       "      <th>state</th>\n",
       "      <th>time</th>\n",
       "    </tr>\n",
       "  </thead>\n",
       "  <tbody>\n",
       "    <tr>\n",
       "      <th>0</th>\n",
       "      <td>Ithaca</td>\n",
       "      <td>NaN</td>\n",
       "      <td>TRIANGLE</td>\n",
       "      <td>NY</td>\n",
       "      <td>6/1/1930 22:00</td>\n",
       "    </tr>\n",
       "    <tr>\n",
       "      <th>1</th>\n",
       "      <td>Willingboro</td>\n",
       "      <td>NaN</td>\n",
       "      <td>OTHER</td>\n",
       "      <td>NJ</td>\n",
       "      <td>6/30/1930 20:00</td>\n",
       "    </tr>\n",
       "  </tbody>\n",
       "</table>\n",
       "</div>"
      ],
      "text/plain": [
       "          city colors_reported shape_reported state             time\n",
       "0       Ithaca             NaN       TRIANGLE    NY   6/1/1930 22:00\n",
       "1  Willingboro             NaN          OTHER    NJ  6/30/1930 20:00"
      ]
     },
     "execution_count": 16,
     "metadata": {},
     "output_type": "execute_result"
    }
   ],
   "source": [
    "ufo_cols = ['city', 'colors_reported', 'shape_reported', 'state', 'time']\n",
    "ufo.columns = ufo_cols\n",
    "ufo.head(2)"
   ]
  },
  {
   "cell_type": "code",
   "execution_count": 17,
   "metadata": {
    "collapsed": false
   },
   "outputs": [
    {
     "data": {
      "text/html": [
       "<div>\n",
       "<table border=\"1\" class=\"dataframe\">\n",
       "  <thead>\n",
       "    <tr style=\"text-align: right;\">\n",
       "      <th></th>\n",
       "      <th>city</th>\n",
       "      <th>colors_reported</th>\n",
       "      <th>shape_reported</th>\n",
       "      <th>state</th>\n",
       "      <th>time</th>\n",
       "    </tr>\n",
       "  </thead>\n",
       "  <tbody>\n",
       "    <tr>\n",
       "      <th>0</th>\n",
       "      <td>Ithaca</td>\n",
       "      <td>NaN</td>\n",
       "      <td>TRIANGLE</td>\n",
       "      <td>NY</td>\n",
       "      <td>6/1/1930 22:00</td>\n",
       "    </tr>\n",
       "    <tr>\n",
       "      <th>1</th>\n",
       "      <td>Willingboro</td>\n",
       "      <td>NaN</td>\n",
       "      <td>OTHER</td>\n",
       "      <td>NJ</td>\n",
       "      <td>6/30/1930 20:00</td>\n",
       "    </tr>\n",
       "  </tbody>\n",
       "</table>\n",
       "</div>"
      ],
      "text/plain": [
       "          city colors_reported shape_reported state             time\n",
       "0       Ithaca             NaN       TRIANGLE    NY   6/1/1930 22:00\n",
       "1  Willingboro             NaN          OTHER    NJ  6/30/1930 20:00"
      ]
     },
     "execution_count": 17,
     "metadata": {},
     "output_type": "execute_result"
    }
   ],
   "source": [
    "ufo = pd.read_csv('http://bit.ly/uforeports', names=ufo_cols, header=0)\n",
    "# header=0 is needed\n",
    "ufo.head(2)"
   ]
  },
  {
   "cell_type": "code",
   "execution_count": 18,
   "metadata": {
    "collapsed": false
   },
   "outputs": [
    {
     "data": {
      "text/html": [
       "<div>\n",
       "<table border=\"1\" class=\"dataframe\">\n",
       "  <thead>\n",
       "    <tr style=\"text-align: right;\">\n",
       "      <th></th>\n",
       "      <th>City</th>\n",
       "      <th>Colors_Reported</th>\n",
       "      <th>Shape_Reported</th>\n",
       "      <th>State</th>\n",
       "      <th>Time</th>\n",
       "    </tr>\n",
       "  </thead>\n",
       "  <tbody>\n",
       "    <tr>\n",
       "      <th>0</th>\n",
       "      <td>Ithaca</td>\n",
       "      <td>NaN</td>\n",
       "      <td>TRIANGLE</td>\n",
       "      <td>NY</td>\n",
       "      <td>6/1/1930 22:00</td>\n",
       "    </tr>\n",
       "    <tr>\n",
       "      <th>1</th>\n",
       "      <td>Willingboro</td>\n",
       "      <td>NaN</td>\n",
       "      <td>OTHER</td>\n",
       "      <td>NJ</td>\n",
       "      <td>6/30/1930 20:00</td>\n",
       "    </tr>\n",
       "  </tbody>\n",
       "</table>\n",
       "</div>"
      ],
      "text/plain": [
       "          City Colors_Reported Shape_Reported State             Time\n",
       "0       Ithaca             NaN       TRIANGLE    NY   6/1/1930 22:00\n",
       "1  Willingboro             NaN          OTHER    NJ  6/30/1930 20:00"
      ]
     },
     "execution_count": 18,
     "metadata": {},
     "output_type": "execute_result"
    }
   ],
   "source": [
    "ufo = pd.read_csv('http://bit.ly/uforeports')\n",
    "ufo.columns = ufo.columns.str.replace(' ', '_')\n",
    "ufo.head(2)"
   ]
  },
  {
   "cell_type": "markdown",
   "metadata": {},
   "source": [
    "# Finding out rows/dimension/data types of a dataset has."
   ]
  },
  {
   "cell_type": "code",
   "execution_count": 19,
   "metadata": {
    "collapsed": false
   },
   "outputs": [
    {
     "data": {
      "text/plain": [
       "150"
      ]
     },
     "execution_count": 19,
     "metadata": {},
     "output_type": "execute_result"
    }
   ],
   "source": [
    "len(df)"
   ]
  },
  {
   "cell_type": "code",
   "execution_count": 20,
   "metadata": {
    "collapsed": false
   },
   "outputs": [
    {
     "data": {
      "text/plain": [
       "(150, 6)"
      ]
     },
     "execution_count": 20,
     "metadata": {},
     "output_type": "execute_result"
    }
   ],
   "source": [
    "df.shape"
   ]
  },
  {
   "cell_type": "code",
   "execution_count": 21,
   "metadata": {
    "collapsed": false
   },
   "outputs": [
    {
     "data": {
      "text/plain": [
       "idx               int64\n",
       "sepal_length    float64\n",
       "sepal_width     float64\n",
       "petal_length    float64\n",
       "petal_width     float64\n",
       "species          object\n",
       "dtype: object"
      ]
     },
     "execution_count": 21,
     "metadata": {},
     "output_type": "execute_result"
    }
   ],
   "source": [
    "df.dtypes"
   ]
  },
  {
   "cell_type": "markdown",
   "metadata": {},
   "source": [
    "# Finding out basic statistical information on your dataset."
   ]
  },
  {
   "cell_type": "code",
   "execution_count": 22,
   "metadata": {
    "collapsed": false
   },
   "outputs": [
    {
     "data": {
      "text/html": [
       "<div>\n",
       "<table border=\"1\" class=\"dataframe\">\n",
       "  <thead>\n",
       "    <tr style=\"text-align: right;\">\n",
       "      <th></th>\n",
       "      <th>idx</th>\n",
       "      <th>sepal_length</th>\n",
       "      <th>sepal_width</th>\n",
       "      <th>petal_length</th>\n",
       "      <th>petal_width</th>\n",
       "    </tr>\n",
       "  </thead>\n",
       "  <tbody>\n",
       "    <tr>\n",
       "      <th>count</th>\n",
       "      <td>150.000</td>\n",
       "      <td>150.000</td>\n",
       "      <td>150.000</td>\n",
       "      <td>150.000</td>\n",
       "      <td>150.000</td>\n",
       "    </tr>\n",
       "    <tr>\n",
       "      <th>mean</th>\n",
       "      <td>75.500</td>\n",
       "      <td>5.843</td>\n",
       "      <td>3.057</td>\n",
       "      <td>3.758</td>\n",
       "      <td>1.199</td>\n",
       "    </tr>\n",
       "    <tr>\n",
       "      <th>std</th>\n",
       "      <td>43.445</td>\n",
       "      <td>0.828</td>\n",
       "      <td>0.436</td>\n",
       "      <td>1.765</td>\n",
       "      <td>0.762</td>\n",
       "    </tr>\n",
       "    <tr>\n",
       "      <th>min</th>\n",
       "      <td>1.000</td>\n",
       "      <td>4.300</td>\n",
       "      <td>2.000</td>\n",
       "      <td>1.000</td>\n",
       "      <td>0.100</td>\n",
       "    </tr>\n",
       "    <tr>\n",
       "      <th>25%</th>\n",
       "      <td>38.250</td>\n",
       "      <td>5.100</td>\n",
       "      <td>2.800</td>\n",
       "      <td>1.600</td>\n",
       "      <td>0.300</td>\n",
       "    </tr>\n",
       "    <tr>\n",
       "      <th>50%</th>\n",
       "      <td>75.500</td>\n",
       "      <td>5.800</td>\n",
       "      <td>3.000</td>\n",
       "      <td>4.350</td>\n",
       "      <td>1.300</td>\n",
       "    </tr>\n",
       "    <tr>\n",
       "      <th>75%</th>\n",
       "      <td>112.750</td>\n",
       "      <td>6.400</td>\n",
       "      <td>3.300</td>\n",
       "      <td>5.100</td>\n",
       "      <td>1.800</td>\n",
       "    </tr>\n",
       "    <tr>\n",
       "      <th>max</th>\n",
       "      <td>150.000</td>\n",
       "      <td>7.900</td>\n",
       "      <td>4.400</td>\n",
       "      <td>6.900</td>\n",
       "      <td>2.500</td>\n",
       "    </tr>\n",
       "  </tbody>\n",
       "</table>\n",
       "</div>"
      ],
      "text/plain": [
       "          idx  sepal_length  sepal_width  petal_length  petal_width\n",
       "count 150.000       150.000      150.000       150.000      150.000\n",
       "mean   75.500         5.843        3.057         3.758        1.199\n",
       "std    43.445         0.828        0.436         1.765        0.762\n",
       "min     1.000         4.300        2.000         1.000        0.100\n",
       "25%    38.250         5.100        2.800         1.600        0.300\n",
       "50%    75.500         5.800        3.000         4.350        1.300\n",
       "75%   112.750         6.400        3.300         5.100        1.800\n",
       "max   150.000         7.900        4.400         6.900        2.500"
      ]
     },
     "execution_count": 22,
     "metadata": {},
     "output_type": "execute_result"
    }
   ],
   "source": [
    "pd.options.display.float_format = '{:,.3f}'.format \n",
    "# Limit output to 3 decimal places.\n",
    "df.describe()\n",
    "# only for numerical columns"
   ]
  },
  {
   "cell_type": "code",
   "execution_count": 23,
   "metadata": {
    "collapsed": false
   },
   "outputs": [
    {
     "data": {
      "text/html": [
       "<div>\n",
       "<table border=\"1\" class=\"dataframe\">\n",
       "  <thead>\n",
       "    <tr style=\"text-align: right;\">\n",
       "      <th></th>\n",
       "      <th>idx</th>\n",
       "      <th>sepal_length</th>\n",
       "      <th>sepal_width</th>\n",
       "      <th>petal_length</th>\n",
       "      <th>petal_width</th>\n",
       "    </tr>\n",
       "  </thead>\n",
       "  <tbody>\n",
       "    <tr>\n",
       "      <th>idx</th>\n",
       "      <td>1,887.500</td>\n",
       "      <td>25.783</td>\n",
       "      <td>-7.618</td>\n",
       "      <td>67.693</td>\n",
       "      <td>29.805</td>\n",
       "    </tr>\n",
       "    <tr>\n",
       "      <th>sepal_length</th>\n",
       "      <td>25.783</td>\n",
       "      <td>0.686</td>\n",
       "      <td>-0.042</td>\n",
       "      <td>1.274</td>\n",
       "      <td>0.516</td>\n",
       "    </tr>\n",
       "    <tr>\n",
       "      <th>sepal_width</th>\n",
       "      <td>-7.618</td>\n",
       "      <td>-0.042</td>\n",
       "      <td>0.190</td>\n",
       "      <td>-0.330</td>\n",
       "      <td>-0.122</td>\n",
       "    </tr>\n",
       "    <tr>\n",
       "      <th>petal_length</th>\n",
       "      <td>67.693</td>\n",
       "      <td>1.274</td>\n",
       "      <td>-0.330</td>\n",
       "      <td>3.116</td>\n",
       "      <td>1.296</td>\n",
       "    </tr>\n",
       "    <tr>\n",
       "      <th>petal_width</th>\n",
       "      <td>29.805</td>\n",
       "      <td>0.516</td>\n",
       "      <td>-0.122</td>\n",
       "      <td>1.296</td>\n",
       "      <td>0.581</td>\n",
       "    </tr>\n",
       "  </tbody>\n",
       "</table>\n",
       "</div>"
      ],
      "text/plain": [
       "                   idx  sepal_length  sepal_width  petal_length  petal_width\n",
       "idx          1,887.500        25.783       -7.618        67.693       29.805\n",
       "sepal_length    25.783         0.686       -0.042         1.274        0.516\n",
       "sepal_width     -7.618        -0.042        0.190        -0.330       -0.122\n",
       "petal_length    67.693         1.274       -0.330         3.116        1.296\n",
       "petal_width     29.805         0.516       -0.122         1.296        0.581"
      ]
     },
     "execution_count": 23,
     "metadata": {},
     "output_type": "execute_result"
    }
   ],
   "source": [
    "df.cov()"
   ]
  },
  {
   "cell_type": "code",
   "execution_count": 24,
   "metadata": {
    "collapsed": false
   },
   "outputs": [
    {
     "data": {
      "text/html": [
       "<div>\n",
       "<table border=\"1\" class=\"dataframe\">\n",
       "  <thead>\n",
       "    <tr style=\"text-align: right;\">\n",
       "      <th></th>\n",
       "      <th>idx</th>\n",
       "      <th>sepal_length</th>\n",
       "      <th>sepal_width</th>\n",
       "      <th>petal_length</th>\n",
       "      <th>petal_width</th>\n",
       "    </tr>\n",
       "  </thead>\n",
       "  <tbody>\n",
       "    <tr>\n",
       "      <th>idx</th>\n",
       "      <td>1.000</td>\n",
       "      <td>0.717</td>\n",
       "      <td>-0.402</td>\n",
       "      <td>0.883</td>\n",
       "      <td>0.900</td>\n",
       "    </tr>\n",
       "    <tr>\n",
       "      <th>sepal_length</th>\n",
       "      <td>0.717</td>\n",
       "      <td>1.000</td>\n",
       "      <td>-0.118</td>\n",
       "      <td>0.872</td>\n",
       "      <td>0.818</td>\n",
       "    </tr>\n",
       "    <tr>\n",
       "      <th>sepal_width</th>\n",
       "      <td>-0.402</td>\n",
       "      <td>-0.118</td>\n",
       "      <td>1.000</td>\n",
       "      <td>-0.428</td>\n",
       "      <td>-0.366</td>\n",
       "    </tr>\n",
       "    <tr>\n",
       "      <th>petal_length</th>\n",
       "      <td>0.883</td>\n",
       "      <td>0.872</td>\n",
       "      <td>-0.428</td>\n",
       "      <td>1.000</td>\n",
       "      <td>0.963</td>\n",
       "    </tr>\n",
       "    <tr>\n",
       "      <th>petal_width</th>\n",
       "      <td>0.900</td>\n",
       "      <td>0.818</td>\n",
       "      <td>-0.366</td>\n",
       "      <td>0.963</td>\n",
       "      <td>1.000</td>\n",
       "    </tr>\n",
       "  </tbody>\n",
       "</table>\n",
       "</div>"
      ],
      "text/plain": [
       "                idx  sepal_length  sepal_width  petal_length  petal_width\n",
       "idx           1.000         0.717       -0.402         0.883        0.900\n",
       "sepal_length  0.717         1.000       -0.118         0.872        0.818\n",
       "sepal_width  -0.402        -0.118        1.000        -0.428       -0.366\n",
       "petal_length  0.883         0.872       -0.428         1.000        0.963\n",
       "petal_width   0.900         0.818       -0.366         0.963        1.000"
      ]
     },
     "execution_count": 24,
     "metadata": {},
     "output_type": "execute_result"
    }
   ],
   "source": [
    "df.corr()"
   ]
  },
  {
   "cell_type": "markdown",
   "metadata": {},
   "source": [
    "# index"
   ]
  },
  {
   "cell_type": "markdown",
   "metadata": {},
   "source": [
    "## Setting a new index from an existing column"
   ]
  },
  {
   "cell_type": "code",
   "execution_count": 25,
   "metadata": {
    "collapsed": false
   },
   "outputs": [
    {
     "data": {
      "text/html": [
       "<div>\n",
       "<table border=\"1\" class=\"dataframe\">\n",
       "  <thead>\n",
       "    <tr style=\"text-align: right;\">\n",
       "      <th></th>\n",
       "      <th>sepal_length</th>\n",
       "      <th>sepal_width</th>\n",
       "      <th>petal_length</th>\n",
       "      <th>petal_width</th>\n",
       "      <th>species</th>\n",
       "    </tr>\n",
       "    <tr>\n",
       "      <th>idx</th>\n",
       "      <th></th>\n",
       "      <th></th>\n",
       "      <th></th>\n",
       "      <th></th>\n",
       "      <th></th>\n",
       "    </tr>\n",
       "  </thead>\n",
       "  <tbody>\n",
       "    <tr>\n",
       "      <th>1</th>\n",
       "      <td>5.100</td>\n",
       "      <td>3.500</td>\n",
       "      <td>1.400</td>\n",
       "      <td>0.200</td>\n",
       "      <td>setosa</td>\n",
       "    </tr>\n",
       "    <tr>\n",
       "      <th>2</th>\n",
       "      <td>4.900</td>\n",
       "      <td>3.000</td>\n",
       "      <td>1.400</td>\n",
       "      <td>0.200</td>\n",
       "      <td>setosa</td>\n",
       "    </tr>\n",
       "    <tr>\n",
       "      <th>3</th>\n",
       "      <td>4.700</td>\n",
       "      <td>3.200</td>\n",
       "      <td>1.300</td>\n",
       "      <td>0.200</td>\n",
       "      <td>setosa</td>\n",
       "    </tr>\n",
       "    <tr>\n",
       "      <th>4</th>\n",
       "      <td>4.600</td>\n",
       "      <td>3.100</td>\n",
       "      <td>1.500</td>\n",
       "      <td>0.200</td>\n",
       "      <td>setosa</td>\n",
       "    </tr>\n",
       "    <tr>\n",
       "      <th>5</th>\n",
       "      <td>5.000</td>\n",
       "      <td>3.600</td>\n",
       "      <td>1.400</td>\n",
       "      <td>0.200</td>\n",
       "      <td>setosa</td>\n",
       "    </tr>\n",
       "  </tbody>\n",
       "</table>\n",
       "</div>"
      ],
      "text/plain": [
       "     sepal_length  sepal_width  petal_length  petal_width species\n",
       "idx                                                              \n",
       "1           5.100        3.500         1.400        0.200  setosa\n",
       "2           4.900        3.000         1.400        0.200  setosa\n",
       "3           4.700        3.200         1.300        0.200  setosa\n",
       "4           4.600        3.100         1.500        0.200  setosa\n",
       "5           5.000        3.600         1.400        0.200  setosa"
      ]
     },
     "execution_count": 25,
     "metadata": {},
     "output_type": "execute_result"
    }
   ],
   "source": [
    "df = df.set_index(['idx'])\n",
    "# This will make the column ‘idx’ an index.\n",
    "df.head(5)"
   ]
  },
  {
   "cell_type": "markdown",
   "metadata": {},
   "source": [
    "## sort index"
   ]
  },
  {
   "cell_type": "code",
   "execution_count": 26,
   "metadata": {
    "collapsed": false
   },
   "outputs": [
    {
     "data": {
      "text/html": [
       "<div>\n",
       "<table border=\"1\" class=\"dataframe\">\n",
       "  <thead>\n",
       "    <tr style=\"text-align: right;\">\n",
       "      <th></th>\n",
       "      <th>sepal_length</th>\n",
       "      <th>sepal_width</th>\n",
       "      <th>petal_length</th>\n",
       "      <th>petal_width</th>\n",
       "      <th>species</th>\n",
       "    </tr>\n",
       "    <tr>\n",
       "      <th>idx</th>\n",
       "      <th></th>\n",
       "      <th></th>\n",
       "      <th></th>\n",
       "      <th></th>\n",
       "      <th></th>\n",
       "    </tr>\n",
       "  </thead>\n",
       "  <tbody>\n",
       "    <tr>\n",
       "      <th>150</th>\n",
       "      <td>5.900</td>\n",
       "      <td>3.000</td>\n",
       "      <td>5.100</td>\n",
       "      <td>1.800</td>\n",
       "      <td>virginica</td>\n",
       "    </tr>\n",
       "    <tr>\n",
       "      <th>149</th>\n",
       "      <td>6.200</td>\n",
       "      <td>3.400</td>\n",
       "      <td>5.400</td>\n",
       "      <td>2.300</td>\n",
       "      <td>virginica</td>\n",
       "    </tr>\n",
       "    <tr>\n",
       "      <th>148</th>\n",
       "      <td>6.500</td>\n",
       "      <td>3.000</td>\n",
       "      <td>5.200</td>\n",
       "      <td>2.000</td>\n",
       "      <td>virginica</td>\n",
       "    </tr>\n",
       "    <tr>\n",
       "      <th>147</th>\n",
       "      <td>6.300</td>\n",
       "      <td>2.500</td>\n",
       "      <td>5.000</td>\n",
       "      <td>1.900</td>\n",
       "      <td>virginica</td>\n",
       "    </tr>\n",
       "    <tr>\n",
       "      <th>146</th>\n",
       "      <td>6.700</td>\n",
       "      <td>3.000</td>\n",
       "      <td>5.200</td>\n",
       "      <td>2.300</td>\n",
       "      <td>virginica</td>\n",
       "    </tr>\n",
       "  </tbody>\n",
       "</table>\n",
       "</div>"
      ],
      "text/plain": [
       "     sepal_length  sepal_width  petal_length  petal_width    species\n",
       "idx                                                                 \n",
       "150         5.900        3.000         5.100        1.800  virginica\n",
       "149         6.200        3.400         5.400        2.300  virginica\n",
       "148         6.500        3.000         5.200        2.000  virginica\n",
       "147         6.300        2.500         5.000        1.900  virginica\n",
       "146         6.700        3.000         5.200        2.300  virginica"
      ]
     },
     "execution_count": 26,
     "metadata": {},
     "output_type": "execute_result"
    }
   ],
   "source": [
    "df.sort_index(ascending=False).head(5) \n",
    "#inplace=True to apple the sorting in place"
   ]
  },
  {
   "cell_type": "markdown",
   "metadata": {},
   "source": [
    "## Returning an index to data"
   ]
  },
  {
   "cell_type": "code",
   "execution_count": 27,
   "metadata": {
    "collapsed": false
   },
   "outputs": [
    {
     "data": {
      "text/html": [
       "<div>\n",
       "<table border=\"1\" class=\"dataframe\">\n",
       "  <thead>\n",
       "    <tr style=\"text-align: right;\">\n",
       "      <th></th>\n",
       "      <th>idx</th>\n",
       "      <th>sepal_length</th>\n",
       "      <th>sepal_width</th>\n",
       "      <th>petal_length</th>\n",
       "      <th>petal_width</th>\n",
       "      <th>species</th>\n",
       "    </tr>\n",
       "  </thead>\n",
       "  <tbody>\n",
       "    <tr>\n",
       "      <th>0</th>\n",
       "      <td>1</td>\n",
       "      <td>5.100</td>\n",
       "      <td>3.500</td>\n",
       "      <td>1.400</td>\n",
       "      <td>0.200</td>\n",
       "      <td>setosa</td>\n",
       "    </tr>\n",
       "    <tr>\n",
       "      <th>1</th>\n",
       "      <td>2</td>\n",
       "      <td>4.900</td>\n",
       "      <td>3.000</td>\n",
       "      <td>1.400</td>\n",
       "      <td>0.200</td>\n",
       "      <td>setosa</td>\n",
       "    </tr>\n",
       "    <tr>\n",
       "      <th>2</th>\n",
       "      <td>3</td>\n",
       "      <td>4.700</td>\n",
       "      <td>3.200</td>\n",
       "      <td>1.300</td>\n",
       "      <td>0.200</td>\n",
       "      <td>setosa</td>\n",
       "    </tr>\n",
       "    <tr>\n",
       "      <th>3</th>\n",
       "      <td>4</td>\n",
       "      <td>4.600</td>\n",
       "      <td>3.100</td>\n",
       "      <td>1.500</td>\n",
       "      <td>0.200</td>\n",
       "      <td>setosa</td>\n",
       "    </tr>\n",
       "    <tr>\n",
       "      <th>4</th>\n",
       "      <td>5</td>\n",
       "      <td>5.000</td>\n",
       "      <td>3.600</td>\n",
       "      <td>1.400</td>\n",
       "      <td>0.200</td>\n",
       "      <td>setosa</td>\n",
       "    </tr>\n",
       "  </tbody>\n",
       "</table>\n",
       "</div>"
      ],
      "text/plain": [
       "   idx  sepal_length  sepal_width  petal_length  petal_width species\n",
       "0    1         5.100        3.500         1.400        0.200  setosa\n",
       "1    2         4.900        3.000         1.400        0.200  setosa\n",
       "2    3         4.700        3.200         1.300        0.200  setosa\n",
       "3    4         4.600        3.100         1.500        0.200  setosa\n",
       "4    5         5.000        3.600         1.400        0.200  setosa"
      ]
     },
     "execution_count": 27,
     "metadata": {},
     "output_type": "execute_result"
    }
   ],
   "source": [
    "df = df.reset_index('idx')\n",
    "df.head(5)"
   ]
  },
  {
   "cell_type": "markdown",
   "metadata": {},
   "source": [
    "# Getting/Remove a column or a subset of columns"
   ]
  },
  {
   "cell_type": "code",
   "execution_count": 28,
   "metadata": {
    "collapsed": false
   },
   "outputs": [
    {
     "data": {
      "text/plain": [
       "0   5.100\n",
       "1   4.900\n",
       "Name: sepal_length, dtype: float64"
      ]
     },
     "execution_count": 28,
     "metadata": {},
     "output_type": "execute_result"
    }
   ],
   "source": [
    "df['sepal_length'].head(2) # by []"
   ]
  },
  {
   "cell_type": "code",
   "execution_count": 29,
   "metadata": {
    "collapsed": false
   },
   "outputs": [
    {
     "data": {
      "text/plain": [
       "0                  Ithaca\n",
       "1             Willingboro\n",
       "2                 Holyoke\n",
       "3                 Abilene\n",
       "4    New York Worlds Fair\n",
       "Name: City, dtype: object"
      ]
     },
     "execution_count": 29,
     "metadata": {},
     "output_type": "execute_result"
    }
   ],
   "source": [
    "ufo['City'].head()"
   ]
  },
  {
   "cell_type": "code",
   "execution_count": 30,
   "metadata": {
    "collapsed": false
   },
   "outputs": [
    {
     "data": {
      "text/plain": [
       "0   5.100\n",
       "1   4.900\n",
       "Name: sepal_length, dtype: float64"
      ]
     },
     "execution_count": 30,
     "metadata": {},
     "output_type": "execute_result"
    }
   ],
   "source": [
    "df.sepal_length.head(2) # by ."
   ]
  },
  {
   "cell_type": "code",
   "execution_count": 31,
   "metadata": {
    "collapsed": false
   },
   "outputs": [
    {
     "data": {
      "text/plain": [
       "0                  Ithaca\n",
       "1             Willingboro\n",
       "2                 Holyoke\n",
       "3                 Abilene\n",
       "4    New York Worlds Fair\n",
       "Name: City, dtype: object"
      ]
     },
     "execution_count": 31,
     "metadata": {},
     "output_type": "execute_result"
    }
   ],
   "source": [
    "ufo.City.head()"
   ]
  },
  {
   "cell_type": "code",
   "execution_count": 32,
   "metadata": {
    "collapsed": false
   },
   "outputs": [
    {
     "data": {
      "text/html": [
       "<div>\n",
       "<table border=\"1\" class=\"dataframe\">\n",
       "  <thead>\n",
       "    <tr style=\"text-align: right;\">\n",
       "      <th></th>\n",
       "      <th>sepal_length</th>\n",
       "      <th>sepal_width</th>\n",
       "    </tr>\n",
       "  </thead>\n",
       "  <tbody>\n",
       "    <tr>\n",
       "      <th>0</th>\n",
       "      <td>5.100</td>\n",
       "      <td>3.500</td>\n",
       "    </tr>\n",
       "    <tr>\n",
       "      <th>1</th>\n",
       "      <td>4.900</td>\n",
       "      <td>3.000</td>\n",
       "    </tr>\n",
       "  </tbody>\n",
       "</table>\n",
       "</div>"
      ],
      "text/plain": [
       "   sepal_length  sepal_width\n",
       "0         5.100        3.500\n",
       "1         4.900        3.000"
      ]
     },
     "execution_count": 32,
     "metadata": {},
     "output_type": "execute_result"
    }
   ],
   "source": [
    "df[['sepal_length', 'sepal_width']].head(2) # Selecting a subset of columns"
   ]
  },
  {
   "cell_type": "code",
   "execution_count": 33,
   "metadata": {
    "collapsed": false
   },
   "outputs": [
    {
     "data": {
      "text/html": [
       "<div>\n",
       "<table border=\"1\" class=\"dataframe\">\n",
       "  <thead>\n",
       "    <tr style=\"text-align: right;\">\n",
       "      <th></th>\n",
       "      <th>Colors_Reported</th>\n",
       "      <th>Shape_Reported</th>\n",
       "      <th>State</th>\n",
       "      <th>Time</th>\n",
       "    </tr>\n",
       "  </thead>\n",
       "  <tbody>\n",
       "    <tr>\n",
       "      <th>0</th>\n",
       "      <td>NaN</td>\n",
       "      <td>TRIANGLE</td>\n",
       "      <td>NY</td>\n",
       "      <td>6/1/1930 22:00</td>\n",
       "    </tr>\n",
       "    <tr>\n",
       "      <th>1</th>\n",
       "      <td>NaN</td>\n",
       "      <td>OTHER</td>\n",
       "      <td>NJ</td>\n",
       "      <td>6/30/1930 20:00</td>\n",
       "    </tr>\n",
       "  </tbody>\n",
       "</table>\n",
       "</div>"
      ],
      "text/plain": [
       "  Colors_Reported Shape_Reported State             Time\n",
       "0             NaN       TRIANGLE    NY   6/1/1930 22:00\n",
       "1             NaN          OTHER    NJ  6/30/1930 20:00"
      ]
     },
     "execution_count": 33,
     "metadata": {},
     "output_type": "execute_result"
    }
   ],
   "source": [
    "ufo.drop('City', axis=1, inplace=True)\n",
    "# axis: 0-row, 1-column\n",
    "ufo.head(2)"
   ]
  },
  {
   "cell_type": "code",
   "execution_count": 34,
   "metadata": {
    "collapsed": false
   },
   "outputs": [
    {
     "data": {
      "text/html": [
       "<div>\n",
       "<table border=\"1\" class=\"dataframe\">\n",
       "  <thead>\n",
       "    <tr style=\"text-align: right;\">\n",
       "      <th></th>\n",
       "      <th>Colors_Reported</th>\n",
       "      <th>Shape_Reported</th>\n",
       "    </tr>\n",
       "  </thead>\n",
       "  <tbody>\n",
       "    <tr>\n",
       "      <th>0</th>\n",
       "      <td>NaN</td>\n",
       "      <td>TRIANGLE</td>\n",
       "    </tr>\n",
       "    <tr>\n",
       "      <th>1</th>\n",
       "      <td>NaN</td>\n",
       "      <td>OTHER</td>\n",
       "    </tr>\n",
       "  </tbody>\n",
       "</table>\n",
       "</div>"
      ],
      "text/plain": [
       "  Colors_Reported Shape_Reported\n",
       "0             NaN       TRIANGLE\n",
       "1             NaN          OTHER"
      ]
     },
     "execution_count": 34,
     "metadata": {},
     "output_type": "execute_result"
    }
   ],
   "source": [
    "ufo.drop(['State', 'Time'], axis=1, inplace=True)\n",
    "ufo.head(2)"
   ]
  },
  {
   "cell_type": "markdown",
   "metadata": {},
   "source": [
    "# Getting/Remove a row"
   ]
  },
  {
   "cell_type": "code",
   "execution_count": 35,
   "metadata": {
    "collapsed": false
   },
   "outputs": [
    {
     "data": {
      "text/plain": [
       "idx                 31\n",
       "sepal_length     4.800\n",
       "sepal_width      3.100\n",
       "petal_length     1.600\n",
       "petal_width      0.200\n",
       "species         setosa\n",
       "Name: 30, dtype: object"
      ]
     },
     "execution_count": 35,
     "metadata": {},
     "output_type": "execute_result"
    }
   ],
   "source": [
    "df.iloc[30] # via a numerical index"
   ]
  },
  {
   "cell_type": "code",
   "execution_count": 36,
   "metadata": {
    "collapsed": false
   },
   "outputs": [
    {
     "data": {
      "text/plain": [
       "idx                 31\n",
       "sepal_length     4.800\n",
       "sepal_width      3.100\n",
       "petal_length     1.600\n",
       "petal_width      0.200\n",
       "species         setosa\n",
       "Name: 30, dtype: object"
      ]
     },
     "execution_count": 36,
     "metadata": {},
     "output_type": "execute_result"
    }
   ],
   "source": [
    "df.loc[30] # via a label-based index\n",
    "# This, like iloc will return a series of the row you reference. \n",
    "# The only difference is this time you are using label based \n",
    "# referencing not numerical based.\n",
    "# Note: idx starts from 1 while index starts from 0"
   ]
  },
  {
   "cell_type": "code",
   "execution_count": 37,
   "metadata": {
    "collapsed": false
   },
   "outputs": [
    {
     "data": {
      "text/plain": [
       "idx                 31\n",
       "sepal_length     4.800\n",
       "sepal_width      3.100\n",
       "petal_length     1.600\n",
       "petal_width      0.200\n",
       "species         setosa\n",
       "Name: 30, dtype: object"
      ]
     },
     "execution_count": 37,
     "metadata": {},
     "output_type": "execute_result"
    }
   ],
   "source": [
    "df.ix[30] # via a label-based or numerical index\n",
    "# Label based with numerical index fallback \n",
    "# *Not recommended"
   ]
  },
  {
   "cell_type": "code",
   "execution_count": 38,
   "metadata": {
    "collapsed": false
   },
   "outputs": [
    {
     "data": {
      "text/html": [
       "<div>\n",
       "<table border=\"1\" class=\"dataframe\">\n",
       "  <thead>\n",
       "    <tr style=\"text-align: right;\">\n",
       "      <th></th>\n",
       "      <th>City</th>\n",
       "      <th>Colors Reported</th>\n",
       "      <th>Shape Reported</th>\n",
       "      <th>State</th>\n",
       "      <th>Time</th>\n",
       "    </tr>\n",
       "  </thead>\n",
       "  <tbody>\n",
       "    <tr>\n",
       "      <th>0</th>\n",
       "      <td>Ithaca</td>\n",
       "      <td>NaN</td>\n",
       "      <td>TRIANGLE</td>\n",
       "      <td>NY</td>\n",
       "      <td>6/1/1930 22:00</td>\n",
       "    </tr>\n",
       "    <tr>\n",
       "      <th>1</th>\n",
       "      <td>Willingboro</td>\n",
       "      <td>NaN</td>\n",
       "      <td>OTHER</td>\n",
       "      <td>NJ</td>\n",
       "      <td>6/30/1930 20:00</td>\n",
       "    </tr>\n",
       "    <tr>\n",
       "      <th>2</th>\n",
       "      <td>Holyoke</td>\n",
       "      <td>NaN</td>\n",
       "      <td>OVAL</td>\n",
       "      <td>CO</td>\n",
       "      <td>2/15/1931 14:00</td>\n",
       "    </tr>\n",
       "    <tr>\n",
       "      <th>3</th>\n",
       "      <td>Abilene</td>\n",
       "      <td>NaN</td>\n",
       "      <td>DISK</td>\n",
       "      <td>KS</td>\n",
       "      <td>6/1/1931 13:00</td>\n",
       "    </tr>\n",
       "    <tr>\n",
       "      <th>4</th>\n",
       "      <td>New York Worlds Fair</td>\n",
       "      <td>NaN</td>\n",
       "      <td>LIGHT</td>\n",
       "      <td>NY</td>\n",
       "      <td>4/18/1933 19:00</td>\n",
       "    </tr>\n",
       "  </tbody>\n",
       "</table>\n",
       "</div>"
      ],
      "text/plain": [
       "                   City Colors Reported Shape Reported State             Time\n",
       "0                Ithaca             NaN       TRIANGLE    NY   6/1/1930 22:00\n",
       "1           Willingboro             NaN          OTHER    NJ  6/30/1930 20:00\n",
       "2               Holyoke             NaN           OVAL    CO  2/15/1931 14:00\n",
       "3               Abilene             NaN           DISK    KS   6/1/1931 13:00\n",
       "4  New York Worlds Fair             NaN          LIGHT    NY  4/18/1933 19:00"
      ]
     },
     "execution_count": 38,
     "metadata": {},
     "output_type": "execute_result"
    }
   ],
   "source": [
    "ufo = pd.read_csv('http://bit.ly/uforeports')\n",
    "ufo.head()"
   ]
  },
  {
   "cell_type": "code",
   "execution_count": 39,
   "metadata": {
    "collapsed": false
   },
   "outputs": [
    {
     "data": {
      "text/html": [
       "<div>\n",
       "<table border=\"1\" class=\"dataframe\">\n",
       "  <thead>\n",
       "    <tr style=\"text-align: right;\">\n",
       "      <th></th>\n",
       "      <th>City</th>\n",
       "      <th>Colors Reported</th>\n",
       "      <th>Shape Reported</th>\n",
       "      <th>State</th>\n",
       "      <th>Time</th>\n",
       "    </tr>\n",
       "  </thead>\n",
       "  <tbody>\n",
       "    <tr>\n",
       "      <th>1</th>\n",
       "      <td>Willingboro</td>\n",
       "      <td>NaN</td>\n",
       "      <td>OTHER</td>\n",
       "      <td>NJ</td>\n",
       "      <td>6/30/1930 20:00</td>\n",
       "    </tr>\n",
       "    <tr>\n",
       "      <th>2</th>\n",
       "      <td>Holyoke</td>\n",
       "      <td>NaN</td>\n",
       "      <td>OVAL</td>\n",
       "      <td>CO</td>\n",
       "      <td>2/15/1931 14:00</td>\n",
       "    </tr>\n",
       "    <tr>\n",
       "      <th>3</th>\n",
       "      <td>Abilene</td>\n",
       "      <td>NaN</td>\n",
       "      <td>DISK</td>\n",
       "      <td>KS</td>\n",
       "      <td>6/1/1931 13:00</td>\n",
       "    </tr>\n",
       "    <tr>\n",
       "      <th>4</th>\n",
       "      <td>New York Worlds Fair</td>\n",
       "      <td>NaN</td>\n",
       "      <td>LIGHT</td>\n",
       "      <td>NY</td>\n",
       "      <td>4/18/1933 19:00</td>\n",
       "    </tr>\n",
       "    <tr>\n",
       "      <th>5</th>\n",
       "      <td>Valley City</td>\n",
       "      <td>NaN</td>\n",
       "      <td>DISK</td>\n",
       "      <td>ND</td>\n",
       "      <td>9/15/1934 15:30</td>\n",
       "    </tr>\n",
       "  </tbody>\n",
       "</table>\n",
       "</div>"
      ],
      "text/plain": [
       "                   City Colors Reported Shape Reported State             Time\n",
       "1           Willingboro             NaN          OTHER    NJ  6/30/1930 20:00\n",
       "2               Holyoke             NaN           OVAL    CO  2/15/1931 14:00\n",
       "3               Abilene             NaN           DISK    KS   6/1/1931 13:00\n",
       "4  New York Worlds Fair             NaN          LIGHT    NY  4/18/1933 19:00\n",
       "5           Valley City             NaN           DISK    ND  9/15/1934 15:30"
      ]
     },
     "execution_count": 39,
     "metadata": {},
     "output_type": "execute_result"
    }
   ],
   "source": [
    "ufo.drop(0, axis=0, inplace=True)\n",
    "ufo.head()"
   ]
  },
  {
   "cell_type": "code",
   "execution_count": 40,
   "metadata": {
    "collapsed": false
   },
   "outputs": [
    {
     "data": {
      "text/html": [
       "<div>\n",
       "<table border=\"1\" class=\"dataframe\">\n",
       "  <thead>\n",
       "    <tr style=\"text-align: right;\">\n",
       "      <th></th>\n",
       "      <th>City</th>\n",
       "      <th>Colors Reported</th>\n",
       "      <th>Shape Reported</th>\n",
       "      <th>State</th>\n",
       "      <th>Time</th>\n",
       "    </tr>\n",
       "  </thead>\n",
       "  <tbody>\n",
       "    <tr>\n",
       "      <th>3</th>\n",
       "      <td>Abilene</td>\n",
       "      <td>NaN</td>\n",
       "      <td>DISK</td>\n",
       "      <td>KS</td>\n",
       "      <td>6/1/1931 13:00</td>\n",
       "    </tr>\n",
       "    <tr>\n",
       "      <th>4</th>\n",
       "      <td>New York Worlds Fair</td>\n",
       "      <td>NaN</td>\n",
       "      <td>LIGHT</td>\n",
       "      <td>NY</td>\n",
       "      <td>4/18/1933 19:00</td>\n",
       "    </tr>\n",
       "    <tr>\n",
       "      <th>5</th>\n",
       "      <td>Valley City</td>\n",
       "      <td>NaN</td>\n",
       "      <td>DISK</td>\n",
       "      <td>ND</td>\n",
       "      <td>9/15/1934 15:30</td>\n",
       "    </tr>\n",
       "    <tr>\n",
       "      <th>6</th>\n",
       "      <td>Crater Lake</td>\n",
       "      <td>NaN</td>\n",
       "      <td>CIRCLE</td>\n",
       "      <td>CA</td>\n",
       "      <td>6/15/1935 0:00</td>\n",
       "    </tr>\n",
       "    <tr>\n",
       "      <th>7</th>\n",
       "      <td>Alma</td>\n",
       "      <td>NaN</td>\n",
       "      <td>DISK</td>\n",
       "      <td>MI</td>\n",
       "      <td>7/15/1936 0:00</td>\n",
       "    </tr>\n",
       "  </tbody>\n",
       "</table>\n",
       "</div>"
      ],
      "text/plain": [
       "                   City Colors Reported Shape Reported State             Time\n",
       "3               Abilene             NaN           DISK    KS   6/1/1931 13:00\n",
       "4  New York Worlds Fair             NaN          LIGHT    NY  4/18/1933 19:00\n",
       "5           Valley City             NaN           DISK    ND  9/15/1934 15:30\n",
       "6           Crater Lake             NaN         CIRCLE    CA   6/15/1935 0:00\n",
       "7                  Alma             NaN           DISK    MI   7/15/1936 0:00"
      ]
     },
     "execution_count": 40,
     "metadata": {},
     "output_type": "execute_result"
    }
   ],
   "source": [
    "ufo.drop([1,2], axis=0, inplace=True)\n",
    "ufo.head()"
   ]
  },
  {
   "cell_type": "markdown",
   "metadata": {},
   "source": [
    "# booleans and Filtering"
   ]
  },
  {
   "cell_type": "markdown",
   "metadata": {},
   "source": [
    "## Creating a series of booleans based on a conditional"
   ]
  },
  {
   "cell_type": "code",
   "execution_count": 41,
   "metadata": {
    "collapsed": false
   },
   "outputs": [
    {
     "data": {
      "text/plain": [
       "0    False\n",
       "1     True\n",
       "Name: sepal_length, dtype: bool"
      ]
     },
     "execution_count": 41,
     "metadata": {},
     "output_type": "execute_result"
    }
   ],
   "source": [
    "boolean = df.sepal_length < 5\n",
    "boolean.head(2)\n",
    "# Or df['sepal_length'] < 5"
   ]
  },
  {
   "cell_type": "markdown",
   "metadata": {},
   "source": [
    "## Using a series of booleans to filter"
   ]
  },
  {
   "cell_type": "code",
   "execution_count": 42,
   "metadata": {
    "collapsed": false
   },
   "outputs": [
    {
     "data": {
      "text/html": [
       "<div>\n",
       "<table border=\"1\" class=\"dataframe\">\n",
       "  <thead>\n",
       "    <tr style=\"text-align: right;\">\n",
       "      <th></th>\n",
       "      <th>idx</th>\n",
       "      <th>sepal_length</th>\n",
       "      <th>sepal_width</th>\n",
       "      <th>petal_length</th>\n",
       "      <th>petal_width</th>\n",
       "      <th>species</th>\n",
       "    </tr>\n",
       "  </thead>\n",
       "  <tbody>\n",
       "    <tr>\n",
       "      <th>1</th>\n",
       "      <td>2</td>\n",
       "      <td>4.900</td>\n",
       "      <td>3.000</td>\n",
       "      <td>1.400</td>\n",
       "      <td>0.200</td>\n",
       "      <td>setosa</td>\n",
       "    </tr>\n",
       "    <tr>\n",
       "      <th>2</th>\n",
       "      <td>3</td>\n",
       "      <td>4.700</td>\n",
       "      <td>3.200</td>\n",
       "      <td>1.300</td>\n",
       "      <td>0.200</td>\n",
       "      <td>setosa</td>\n",
       "    </tr>\n",
       "  </tbody>\n",
       "</table>\n",
       "</div>"
      ],
      "text/plain": [
       "   idx  sepal_length  sepal_width  petal_length  petal_width species\n",
       "1    2         4.900        3.000         1.400        0.200  setosa\n",
       "2    3         4.700        3.200         1.300        0.200  setosa"
      ]
     },
     "execution_count": 42,
     "metadata": {},
     "output_type": "execute_result"
    }
   ],
   "source": [
    "df[df.sepal_length < 5].head(2)"
   ]
  },
  {
   "cell_type": "code",
   "execution_count": 43,
   "metadata": {
    "collapsed": false
   },
   "outputs": [
    {
     "data": {
      "text/html": [
       "<div>\n",
       "<table border=\"1\" class=\"dataframe\">\n",
       "  <thead>\n",
       "    <tr style=\"text-align: right;\">\n",
       "      <th></th>\n",
       "      <th>idx</th>\n",
       "      <th>sepal_length</th>\n",
       "      <th>sepal_width</th>\n",
       "      <th>petal_length</th>\n",
       "      <th>petal_width</th>\n",
       "      <th>species</th>\n",
       "    </tr>\n",
       "  </thead>\n",
       "  <tbody>\n",
       "    <tr>\n",
       "      <th>0</th>\n",
       "      <td>1</td>\n",
       "      <td>5.100</td>\n",
       "      <td>3.500</td>\n",
       "      <td>1.400</td>\n",
       "      <td>0.200</td>\n",
       "      <td>setosa</td>\n",
       "    </tr>\n",
       "    <tr>\n",
       "      <th>4</th>\n",
       "      <td>5</td>\n",
       "      <td>5.000</td>\n",
       "      <td>3.600</td>\n",
       "      <td>1.400</td>\n",
       "      <td>0.200</td>\n",
       "      <td>setosa</td>\n",
       "    </tr>\n",
       "  </tbody>\n",
       "</table>\n",
       "</div>"
      ],
      "text/plain": [
       "   idx  sepal_length  sepal_width  petal_length  petal_width species\n",
       "0    1         5.100        3.500         1.400        0.200  setosa\n",
       "4    5         5.000        3.600         1.400        0.200  setosa"
      ]
     },
     "execution_count": 43,
     "metadata": {},
     "output_type": "execute_result"
    }
   ],
   "source": [
    "df[~(df.sepal_length < 5)].head(2)"
   ]
  },
  {
   "cell_type": "markdown",
   "metadata": {},
   "source": [
    "## Filtering by multiple conditionals"
   ]
  },
  {
   "cell_type": "code",
   "execution_count": 44,
   "metadata": {
    "collapsed": false
   },
   "outputs": [
    {
     "data": {
      "text/html": [
       "<div>\n",
       "<table border=\"1\" class=\"dataframe\">\n",
       "  <thead>\n",
       "    <tr style=\"text-align: right;\">\n",
       "      <th></th>\n",
       "      <th>idx</th>\n",
       "      <th>sepal_length</th>\n",
       "      <th>sepal_width</th>\n",
       "      <th>petal_length</th>\n",
       "      <th>petal_width</th>\n",
       "      <th>species</th>\n",
       "    </tr>\n",
       "  </thead>\n",
       "  <tbody>\n",
       "    <tr>\n",
       "      <th>2</th>\n",
       "      <td>3</td>\n",
       "      <td>4.700</td>\n",
       "      <td>3.200</td>\n",
       "      <td>1.300</td>\n",
       "      <td>0.200</td>\n",
       "      <td>setosa</td>\n",
       "    </tr>\n",
       "    <tr>\n",
       "      <th>3</th>\n",
       "      <td>4</td>\n",
       "      <td>4.600</td>\n",
       "      <td>3.100</td>\n",
       "      <td>1.500</td>\n",
       "      <td>0.200</td>\n",
       "      <td>setosa</td>\n",
       "    </tr>\n",
       "  </tbody>\n",
       "</table>\n",
       "</div>"
      ],
      "text/plain": [
       "   idx  sepal_length  sepal_width  petal_length  petal_width species\n",
       "2    3         4.700        3.200         1.300        0.200  setosa\n",
       "3    4         4.600        3.100         1.500        0.200  setosa"
      ]
     },
     "execution_count": 44,
     "metadata": {},
     "output_type": "execute_result"
    }
   ],
   "source": [
    "df[(df.sepal_length < 5) & (df.sepal_width > 3)].head(2)\n",
    "# Can't use the keyword 'and'"
   ]
  },
  {
   "cell_type": "code",
   "execution_count": 45,
   "metadata": {
    "collapsed": false
   },
   "outputs": [
    {
     "data": {
      "text/html": [
       "<div>\n",
       "<table border=\"1\" class=\"dataframe\">\n",
       "  <thead>\n",
       "    <tr style=\"text-align: right;\">\n",
       "      <th></th>\n",
       "      <th>idx</th>\n",
       "      <th>sepal_length</th>\n",
       "      <th>sepal_width</th>\n",
       "      <th>petal_length</th>\n",
       "      <th>petal_width</th>\n",
       "      <th>species</th>\n",
       "    </tr>\n",
       "  </thead>\n",
       "  <tbody>\n",
       "    <tr>\n",
       "      <th>0</th>\n",
       "      <td>1</td>\n",
       "      <td>5.100</td>\n",
       "      <td>3.500</td>\n",
       "      <td>1.400</td>\n",
       "      <td>0.200</td>\n",
       "      <td>setosa</td>\n",
       "    </tr>\n",
       "    <tr>\n",
       "      <th>1</th>\n",
       "      <td>2</td>\n",
       "      <td>4.900</td>\n",
       "      <td>3.000</td>\n",
       "      <td>1.400</td>\n",
       "      <td>0.200</td>\n",
       "      <td>setosa</td>\n",
       "    </tr>\n",
       "  </tbody>\n",
       "</table>\n",
       "</div>"
      ],
      "text/plain": [
       "   idx  sepal_length  sepal_width  petal_length  petal_width species\n",
       "0    1         5.100        3.500         1.400        0.200  setosa\n",
       "1    2         4.900        3.000         1.400        0.200  setosa"
      ]
     },
     "execution_count": 45,
     "metadata": {},
     "output_type": "execute_result"
    }
   ],
   "source": [
    "df[(df.sepal_length < 5) | (df.sepal_width > 3)].head(2)"
   ]
  },
  {
   "cell_type": "markdown",
   "metadata": {},
   "source": [
    "## Filtering by string methods"
   ]
  },
  {
   "cell_type": "code",
   "execution_count": 46,
   "metadata": {
    "collapsed": false
   },
   "outputs": [
    {
     "data": {
      "text/html": [
       "<div>\n",
       "<table border=\"1\" class=\"dataframe\">\n",
       "  <thead>\n",
       "    <tr style=\"text-align: right;\">\n",
       "      <th></th>\n",
       "      <th>idx</th>\n",
       "      <th>sepal_length</th>\n",
       "      <th>sepal_width</th>\n",
       "      <th>petal_length</th>\n",
       "      <th>petal_width</th>\n",
       "      <th>species</th>\n",
       "    </tr>\n",
       "  </thead>\n",
       "  <tbody>\n",
       "    <tr>\n",
       "      <th>0</th>\n",
       "      <td>1</td>\n",
       "      <td>5.100</td>\n",
       "      <td>3.500</td>\n",
       "      <td>1.400</td>\n",
       "      <td>0.200</td>\n",
       "      <td>setosa</td>\n",
       "    </tr>\n",
       "    <tr>\n",
       "      <th>1</th>\n",
       "      <td>2</td>\n",
       "      <td>4.900</td>\n",
       "      <td>3.000</td>\n",
       "      <td>1.400</td>\n",
       "      <td>0.200</td>\n",
       "      <td>setosa</td>\n",
       "    </tr>\n",
       "    <tr>\n",
       "      <th>2</th>\n",
       "      <td>3</td>\n",
       "      <td>4.700</td>\n",
       "      <td>3.200</td>\n",
       "      <td>1.300</td>\n",
       "      <td>0.200</td>\n",
       "      <td>setosa</td>\n",
       "    </tr>\n",
       "  </tbody>\n",
       "</table>\n",
       "</div>"
      ],
      "text/plain": [
       "   idx  sepal_length  sepal_width  petal_length  petal_width species\n",
       "0    1         5.100        3.500         1.400        0.200  setosa\n",
       "1    2         4.900        3.000         1.400        0.200  setosa\n",
       "2    3         4.700        3.200         1.300        0.200  setosa"
      ]
     },
     "execution_count": 46,
     "metadata": {},
     "output_type": "execute_result"
    }
   ],
   "source": [
    "df[df.species.str.startswith('seto')].head(3)"
   ]
  },
  {
   "cell_type": "markdown",
   "metadata": {},
   "source": [
    "# Add a column to a dataframe"
   ]
  },
  {
   "cell_type": "code",
   "execution_count": 47,
   "metadata": {
    "collapsed": true
   },
   "outputs": [],
   "source": [
    "year = np.random.randint(low=1980,high=2016,size=len(df))\n",
    "month = np.random.randint(low=1,high=13,size=len(df))\n",
    "date = []\n",
    "for y, m in zip(year, month):\n",
    "    y = str(y)\n",
    "    m = str(m)\n",
    "    date.append('/'.join((y, m)))"
   ]
  },
  {
   "cell_type": "code",
   "execution_count": 48,
   "metadata": {
    "collapsed": false
   },
   "outputs": [
    {
     "data": {
      "text/html": [
       "<div>\n",
       "<table border=\"1\" class=\"dataframe\">\n",
       "  <thead>\n",
       "    <tr style=\"text-align: right;\">\n",
       "      <th></th>\n",
       "      <th>idx</th>\n",
       "      <th>sepal_length</th>\n",
       "      <th>sepal_width</th>\n",
       "      <th>petal_length</th>\n",
       "      <th>petal_width</th>\n",
       "      <th>species</th>\n",
       "      <th>date</th>\n",
       "    </tr>\n",
       "  </thead>\n",
       "  <tbody>\n",
       "    <tr>\n",
       "      <th>0</th>\n",
       "      <td>1</td>\n",
       "      <td>5.100</td>\n",
       "      <td>3.500</td>\n",
       "      <td>1.400</td>\n",
       "      <td>0.200</td>\n",
       "      <td>setosa</td>\n",
       "      <td>2011/5</td>\n",
       "    </tr>\n",
       "    <tr>\n",
       "      <th>1</th>\n",
       "      <td>2</td>\n",
       "      <td>4.900</td>\n",
       "      <td>3.000</td>\n",
       "      <td>1.400</td>\n",
       "      <td>0.200</td>\n",
       "      <td>setosa</td>\n",
       "      <td>1984/9</td>\n",
       "    </tr>\n",
       "    <tr>\n",
       "      <th>2</th>\n",
       "      <td>3</td>\n",
       "      <td>4.700</td>\n",
       "      <td>3.200</td>\n",
       "      <td>1.300</td>\n",
       "      <td>0.200</td>\n",
       "      <td>setosa</td>\n",
       "      <td>2008/3</td>\n",
       "    </tr>\n",
       "    <tr>\n",
       "      <th>3</th>\n",
       "      <td>4</td>\n",
       "      <td>4.600</td>\n",
       "      <td>3.100</td>\n",
       "      <td>1.500</td>\n",
       "      <td>0.200</td>\n",
       "      <td>setosa</td>\n",
       "      <td>1988/3</td>\n",
       "    </tr>\n",
       "    <tr>\n",
       "      <th>4</th>\n",
       "      <td>5</td>\n",
       "      <td>5.000</td>\n",
       "      <td>3.600</td>\n",
       "      <td>1.400</td>\n",
       "      <td>0.200</td>\n",
       "      <td>setosa</td>\n",
       "      <td>1993/6</td>\n",
       "    </tr>\n",
       "  </tbody>\n",
       "</table>\n",
       "</div>"
      ],
      "text/plain": [
       "   idx  sepal_length  sepal_width  petal_length  petal_width species    date\n",
       "0    1         5.100        3.500         1.400        0.200  setosa  2011/5\n",
       "1    2         4.900        3.000         1.400        0.200  setosa  1984/9\n",
       "2    3         4.700        3.200         1.300        0.200  setosa  2008/3\n",
       "3    4         4.600        3.100         1.500        0.200  setosa  1988/3\n",
       "4    5         5.000        3.600         1.400        0.200  setosa  1993/6"
      ]
     },
     "execution_count": 48,
     "metadata": {},
     "output_type": "execute_result"
    }
   ],
   "source": [
    "df['date'] = pd.Series(date, index=df.index)\n",
    "df.head(5)"
   ]
  },
  {
   "cell_type": "code",
   "execution_count": 49,
   "metadata": {
    "collapsed": false
   },
   "outputs": [
    {
     "data": {
      "text/html": [
       "<div>\n",
       "<table border=\"1\" class=\"dataframe\">\n",
       "  <thead>\n",
       "    <tr style=\"text-align: right;\">\n",
       "      <th></th>\n",
       "      <th>City</th>\n",
       "      <th>Colors Reported</th>\n",
       "      <th>Shape Reported</th>\n",
       "      <th>State</th>\n",
       "      <th>Time</th>\n",
       "      <th>Location</th>\n",
       "    </tr>\n",
       "  </thead>\n",
       "  <tbody>\n",
       "    <tr>\n",
       "      <th>3</th>\n",
       "      <td>Abilene</td>\n",
       "      <td>NaN</td>\n",
       "      <td>DISK</td>\n",
       "      <td>KS</td>\n",
       "      <td>6/1/1931 13:00</td>\n",
       "      <td>Abilene, KS</td>\n",
       "    </tr>\n",
       "    <tr>\n",
       "      <th>4</th>\n",
       "      <td>New York Worlds Fair</td>\n",
       "      <td>NaN</td>\n",
       "      <td>LIGHT</td>\n",
       "      <td>NY</td>\n",
       "      <td>4/18/1933 19:00</td>\n",
       "      <td>New York Worlds Fair, NY</td>\n",
       "    </tr>\n",
       "    <tr>\n",
       "      <th>5</th>\n",
       "      <td>Valley City</td>\n",
       "      <td>NaN</td>\n",
       "      <td>DISK</td>\n",
       "      <td>ND</td>\n",
       "      <td>9/15/1934 15:30</td>\n",
       "      <td>Valley City, ND</td>\n",
       "    </tr>\n",
       "    <tr>\n",
       "      <th>6</th>\n",
       "      <td>Crater Lake</td>\n",
       "      <td>NaN</td>\n",
       "      <td>CIRCLE</td>\n",
       "      <td>CA</td>\n",
       "      <td>6/15/1935 0:00</td>\n",
       "      <td>Crater Lake, CA</td>\n",
       "    </tr>\n",
       "    <tr>\n",
       "      <th>7</th>\n",
       "      <td>Alma</td>\n",
       "      <td>NaN</td>\n",
       "      <td>DISK</td>\n",
       "      <td>MI</td>\n",
       "      <td>7/15/1936 0:00</td>\n",
       "      <td>Alma, MI</td>\n",
       "    </tr>\n",
       "  </tbody>\n",
       "</table>\n",
       "</div>"
      ],
      "text/plain": [
       "                   City Colors Reported Shape Reported State             Time  \\\n",
       "3               Abilene             NaN           DISK    KS   6/1/1931 13:00   \n",
       "4  New York Worlds Fair             NaN          LIGHT    NY  4/18/1933 19:00   \n",
       "5           Valley City             NaN           DISK    ND  9/15/1934 15:30   \n",
       "6           Crater Lake             NaN         CIRCLE    CA   6/15/1935 0:00   \n",
       "7                  Alma             NaN           DISK    MI   7/15/1936 0:00   \n",
       "\n",
       "                   Location  \n",
       "3               Abilene, KS  \n",
       "4  New York Worlds Fair, NY  \n",
       "5           Valley City, ND  \n",
       "6           Crater Lake, CA  \n",
       "7                  Alma, MI  "
      ]
     },
     "execution_count": 49,
     "metadata": {},
     "output_type": "execute_result"
    }
   ],
   "source": [
    "ufo['Location'] = ufo.City + ', ' + ufo.State\n",
    "ufo.head()"
   ]
  },
  {
   "cell_type": "markdown",
   "metadata": {},
   "source": [
    "# Applying a function to a column"
   ]
  },
  {
   "cell_type": "code",
   "execution_count": 50,
   "metadata": {
    "collapsed": false
   },
   "outputs": [
    {
     "data": {
      "text/html": [
       "<div>\n",
       "<table border=\"1\" class=\"dataframe\">\n",
       "  <thead>\n",
       "    <tr style=\"text-align: right;\">\n",
       "      <th></th>\n",
       "      <th>idx</th>\n",
       "      <th>sepal_length</th>\n",
       "      <th>sepal_width</th>\n",
       "      <th>petal_length</th>\n",
       "      <th>petal_width</th>\n",
       "      <th>species</th>\n",
       "      <th>date</th>\n",
       "      <th>year</th>\n",
       "    </tr>\n",
       "  </thead>\n",
       "  <tbody>\n",
       "    <tr>\n",
       "      <th>0</th>\n",
       "      <td>1</td>\n",
       "      <td>5.100</td>\n",
       "      <td>3.500</td>\n",
       "      <td>1.400</td>\n",
       "      <td>0.200</td>\n",
       "      <td>setosa</td>\n",
       "      <td>2011/5</td>\n",
       "      <td>2011</td>\n",
       "    </tr>\n",
       "    <tr>\n",
       "      <th>1</th>\n",
       "      <td>2</td>\n",
       "      <td>4.900</td>\n",
       "      <td>3.000</td>\n",
       "      <td>1.400</td>\n",
       "      <td>0.200</td>\n",
       "      <td>setosa</td>\n",
       "      <td>1984/9</td>\n",
       "      <td>1984</td>\n",
       "    </tr>\n",
       "    <tr>\n",
       "      <th>2</th>\n",
       "      <td>3</td>\n",
       "      <td>4.700</td>\n",
       "      <td>3.200</td>\n",
       "      <td>1.300</td>\n",
       "      <td>0.200</td>\n",
       "      <td>setosa</td>\n",
       "      <td>2008/3</td>\n",
       "      <td>2008</td>\n",
       "    </tr>\n",
       "    <tr>\n",
       "      <th>3</th>\n",
       "      <td>4</td>\n",
       "      <td>4.600</td>\n",
       "      <td>3.100</td>\n",
       "      <td>1.500</td>\n",
       "      <td>0.200</td>\n",
       "      <td>setosa</td>\n",
       "      <td>1988/3</td>\n",
       "      <td>1988</td>\n",
       "    </tr>\n",
       "    <tr>\n",
       "      <th>4</th>\n",
       "      <td>5</td>\n",
       "      <td>5.000</td>\n",
       "      <td>3.600</td>\n",
       "      <td>1.400</td>\n",
       "      <td>0.200</td>\n",
       "      <td>setosa</td>\n",
       "      <td>1993/6</td>\n",
       "      <td>1993</td>\n",
       "    </tr>\n",
       "  </tbody>\n",
       "</table>\n",
       "</div>"
      ],
      "text/plain": [
       "   idx  sepal_length  sepal_width  petal_length  petal_width species    date  \\\n",
       "0    1         5.100        3.500         1.400        0.200  setosa  2011/5   \n",
       "1    2         4.900        3.000         1.400        0.200  setosa  1984/9   \n",
       "2    3         4.700        3.200         1.300        0.200  setosa  2008/3   \n",
       "3    4         4.600        3.100         1.500        0.200  setosa  1988/3   \n",
       "4    5         5.000        3.600         1.400        0.200  setosa  1993/6   \n",
       "\n",
       "   year  \n",
       "0  2011  \n",
       "1  1984  \n",
       "2  2008  \n",
       "3  1988  \n",
       "4  1993  "
      ]
     },
     "execution_count": 50,
     "metadata": {},
     "output_type": "execute_result"
    }
   ],
   "source": [
    "def get_year(date):\n",
    "    year = date[:4]\n",
    "    year= pd.to_datetime(year).year\n",
    "    return year\n",
    " \n",
    "df['year'] = df.date.apply(get_year)\n",
    "df.head(5)"
   ]
  },
  {
   "cell_type": "code",
   "execution_count": 51,
   "metadata": {
    "collapsed": false
   },
   "outputs": [
    {
     "data": {
      "text/html": [
       "<div>\n",
       "<table border=\"1\" class=\"dataframe\">\n",
       "  <thead>\n",
       "    <tr style=\"text-align: right;\">\n",
       "      <th></th>\n",
       "      <th>sepal_length</th>\n",
       "      <th>sepal_width</th>\n",
       "    </tr>\n",
       "  </thead>\n",
       "  <tbody>\n",
       "    <tr>\n",
       "      <th>0</th>\n",
       "      <td>2.258</td>\n",
       "      <td>1.871</td>\n",
       "    </tr>\n",
       "    <tr>\n",
       "      <th>1</th>\n",
       "      <td>2.214</td>\n",
       "      <td>1.732</td>\n",
       "    </tr>\n",
       "  </tbody>\n",
       "</table>\n",
       "</div>"
      ],
      "text/plain": [
       "   sepal_length  sepal_width\n",
       "0         2.258        1.871\n",
       "1         2.214        1.732"
      ]
     },
     "execution_count": 51,
     "metadata": {},
     "output_type": "execute_result"
    }
   ],
   "source": [
    "df[['sepal_length','sepal_width']].apply(np.sqrt).head(2)"
   ]
  },
  {
   "cell_type": "markdown",
   "metadata": {},
   "source": [
    "# Grouby"
   ]
  },
  {
   "cell_type": "markdown",
   "metadata": {},
   "source": [
    "## Groupby one column"
   ]
  },
  {
   "cell_type": "code",
   "execution_count": 52,
   "metadata": {
    "collapsed": false
   },
   "outputs": [
    {
     "data": {
      "text/html": [
       "<div>\n",
       "<table border=\"1\" class=\"dataframe\">\n",
       "  <thead>\n",
       "    <tr style=\"text-align: right;\">\n",
       "      <th></th>\n",
       "      <th></th>\n",
       "      <th>idx</th>\n",
       "      <th>sepal_length</th>\n",
       "      <th>sepal_width</th>\n",
       "      <th>petal_length</th>\n",
       "      <th>petal_width</th>\n",
       "      <th>year</th>\n",
       "    </tr>\n",
       "    <tr>\n",
       "      <th>year</th>\n",
       "      <th></th>\n",
       "      <th></th>\n",
       "      <th></th>\n",
       "      <th></th>\n",
       "      <th></th>\n",
       "      <th></th>\n",
       "      <th></th>\n",
       "    </tr>\n",
       "  </thead>\n",
       "  <tbody>\n",
       "    <tr>\n",
       "      <th rowspan=\"8\" valign=\"top\">1980</th>\n",
       "      <th>count</th>\n",
       "      <td>37.000</td>\n",
       "      <td>37.000</td>\n",
       "      <td>37.000</td>\n",
       "      <td>37.000</td>\n",
       "      <td>37.000</td>\n",
       "      <td>37.000</td>\n",
       "    </tr>\n",
       "    <tr>\n",
       "      <th>mean</th>\n",
       "      <td>63.703</td>\n",
       "      <td>5.651</td>\n",
       "      <td>3.070</td>\n",
       "      <td>3.454</td>\n",
       "      <td>1.089</td>\n",
       "      <td>1,984.973</td>\n",
       "    </tr>\n",
       "    <tr>\n",
       "      <th>std</th>\n",
       "      <td>42.723</td>\n",
       "      <td>0.767</td>\n",
       "      <td>0.471</td>\n",
       "      <td>1.738</td>\n",
       "      <td>0.755</td>\n",
       "      <td>2.764</td>\n",
       "    </tr>\n",
       "    <tr>\n",
       "      <th>min</th>\n",
       "      <td>2.000</td>\n",
       "      <td>4.500</td>\n",
       "      <td>2.000</td>\n",
       "      <td>1.300</td>\n",
       "      <td>0.100</td>\n",
       "      <td>1,980.000</td>\n",
       "    </tr>\n",
       "    <tr>\n",
       "      <th>25%</th>\n",
       "      <td>30.000</td>\n",
       "      <td>5.000</td>\n",
       "      <td>2.800</td>\n",
       "      <td>1.600</td>\n",
       "      <td>0.300</td>\n",
       "      <td>1,982.000</td>\n",
       "    </tr>\n",
       "    <tr>\n",
       "      <th>50%</th>\n",
       "      <td>57.000</td>\n",
       "      <td>5.500</td>\n",
       "      <td>3.100</td>\n",
       "      <td>4.000</td>\n",
       "      <td>1.300</td>\n",
       "      <td>1,985.000</td>\n",
       "    </tr>\n",
       "    <tr>\n",
       "      <th>75%</th>\n",
       "      <td>90.000</td>\n",
       "      <td>6.300</td>\n",
       "      <td>3.400</td>\n",
       "      <td>4.900</td>\n",
       "      <td>1.600</td>\n",
       "      <td>1,987.000</td>\n",
       "    </tr>\n",
       "    <tr>\n",
       "      <th>max</th>\n",
       "      <td>143.000</td>\n",
       "      <td>7.400</td>\n",
       "      <td>4.200</td>\n",
       "      <td>6.100</td>\n",
       "      <td>2.500</td>\n",
       "      <td>1,989.000</td>\n",
       "    </tr>\n",
       "    <tr>\n",
       "      <th rowspan=\"8\" valign=\"top\">1990</th>\n",
       "      <th>count</th>\n",
       "      <td>43.000</td>\n",
       "      <td>43.000</td>\n",
       "      <td>43.000</td>\n",
       "      <td>43.000</td>\n",
       "      <td>43.000</td>\n",
       "      <td>43.000</td>\n",
       "    </tr>\n",
       "    <tr>\n",
       "      <th>mean</th>\n",
       "      <td>79.372</td>\n",
       "      <td>5.926</td>\n",
       "      <td>3.065</td>\n",
       "      <td>3.844</td>\n",
       "      <td>1.272</td>\n",
       "      <td>1,995.233</td>\n",
       "    </tr>\n",
       "    <tr>\n",
       "      <th>std</th>\n",
       "      <td>44.243</td>\n",
       "      <td>0.818</td>\n",
       "      <td>0.477</td>\n",
       "      <td>1.719</td>\n",
       "      <td>0.791</td>\n",
       "      <td>3.213</td>\n",
       "    </tr>\n",
       "    <tr>\n",
       "      <th>min</th>\n",
       "      <td>5.000</td>\n",
       "      <td>4.400</td>\n",
       "      <td>2.200</td>\n",
       "      <td>1.200</td>\n",
       "      <td>0.200</td>\n",
       "      <td>1,990.000</td>\n",
       "    </tr>\n",
       "    <tr>\n",
       "      <th>25%</th>\n",
       "      <td>42.500</td>\n",
       "      <td>5.100</td>\n",
       "      <td>2.800</td>\n",
       "      <td>1.550</td>\n",
       "      <td>0.400</td>\n",
       "      <td>1,992.000</td>\n",
       "    </tr>\n",
       "    <tr>\n",
       "      <th>50%</th>\n",
       "      <td>81.000</td>\n",
       "      <td>5.800</td>\n",
       "      <td>3.000</td>\n",
       "      <td>4.300</td>\n",
       "      <td>1.300</td>\n",
       "      <td>1,996.000</td>\n",
       "    </tr>\n",
       "    <tr>\n",
       "      <th>75%</th>\n",
       "      <td>110.500</td>\n",
       "      <td>6.550</td>\n",
       "      <td>3.400</td>\n",
       "      <td>5.150</td>\n",
       "      <td>2.000</td>\n",
       "      <td>1,998.000</td>\n",
       "    </tr>\n",
       "    <tr>\n",
       "      <th>max</th>\n",
       "      <td>149.000</td>\n",
       "      <td>7.900</td>\n",
       "      <td>4.400</td>\n",
       "      <td>6.600</td>\n",
       "      <td>2.500</td>\n",
       "      <td>1,999.000</td>\n",
       "    </tr>\n",
       "    <tr>\n",
       "      <th rowspan=\"8\" valign=\"top\">2000</th>\n",
       "      <th>count</th>\n",
       "      <td>42.000</td>\n",
       "      <td>42.000</td>\n",
       "      <td>42.000</td>\n",
       "      <td>42.000</td>\n",
       "      <td>42.000</td>\n",
       "      <td>42.000</td>\n",
       "    </tr>\n",
       "    <tr>\n",
       "      <th>mean</th>\n",
       "      <td>84.786</td>\n",
       "      <td>5.940</td>\n",
       "      <td>3.000</td>\n",
       "      <td>4.045</td>\n",
       "      <td>1.321</td>\n",
       "      <td>2,005.095</td>\n",
       "    </tr>\n",
       "    <tr>\n",
       "      <th>std</th>\n",
       "      <td>41.599</td>\n",
       "      <td>0.872</td>\n",
       "      <td>0.349</td>\n",
       "      <td>1.696</td>\n",
       "      <td>0.711</td>\n",
       "      <td>2.766</td>\n",
       "    </tr>\n",
       "    <tr>\n",
       "      <th>min</th>\n",
       "      <td>3.000</td>\n",
       "      <td>4.300</td>\n",
       "      <td>2.500</td>\n",
       "      <td>1.000</td>\n",
       "      <td>0.100</td>\n",
       "      <td>2,000.000</td>\n",
       "    </tr>\n",
       "    <tr>\n",
       "      <th>25%</th>\n",
       "      <td>52.250</td>\n",
       "      <td>5.400</td>\n",
       "      <td>2.800</td>\n",
       "      <td>3.225</td>\n",
       "      <td>1.025</td>\n",
       "      <td>2,003.250</td>\n",
       "    </tr>\n",
       "    <tr>\n",
       "      <th>50%</th>\n",
       "      <td>94.500</td>\n",
       "      <td>5.900</td>\n",
       "      <td>3.000</td>\n",
       "      <td>4.450</td>\n",
       "      <td>1.400</td>\n",
       "      <td>2,005.500</td>\n",
       "    </tr>\n",
       "    <tr>\n",
       "      <th>75%</th>\n",
       "      <td>120.250</td>\n",
       "      <td>6.475</td>\n",
       "      <td>3.100</td>\n",
       "      <td>5.100</td>\n",
       "      <td>1.875</td>\n",
       "      <td>2,007.750</td>\n",
       "    </tr>\n",
       "    <tr>\n",
       "      <th>max</th>\n",
       "      <td>150.000</td>\n",
       "      <td>7.700</td>\n",
       "      <td>4.000</td>\n",
       "      <td>6.700</td>\n",
       "      <td>2.300</td>\n",
       "      <td>2,009.000</td>\n",
       "    </tr>\n",
       "    <tr>\n",
       "      <th rowspan=\"8\" valign=\"top\">2010</th>\n",
       "      <th>count</th>\n",
       "      <td>28.000</td>\n",
       "      <td>28.000</td>\n",
       "      <td>28.000</td>\n",
       "      <td>28.000</td>\n",
       "      <td>28.000</td>\n",
       "      <td>28.000</td>\n",
       "    </tr>\n",
       "    <tr>\n",
       "      <th>mean</th>\n",
       "      <td>71.214</td>\n",
       "      <td>5.825</td>\n",
       "      <td>3.114</td>\n",
       "      <td>3.596</td>\n",
       "      <td>1.050</td>\n",
       "      <td>2,012.393</td>\n",
       "    </tr>\n",
       "    <tr>\n",
       "      <th>std</th>\n",
       "      <td>44.068</td>\n",
       "      <td>0.853</td>\n",
       "      <td>0.453</td>\n",
       "      <td>1.977</td>\n",
       "      <td>0.797</td>\n",
       "      <td>1.397</td>\n",
       "    </tr>\n",
       "    <tr>\n",
       "      <th>min</th>\n",
       "      <td>1.000</td>\n",
       "      <td>4.400</td>\n",
       "      <td>2.200</td>\n",
       "      <td>1.300</td>\n",
       "      <td>0.100</td>\n",
       "      <td>2,010.000</td>\n",
       "    </tr>\n",
       "    <tr>\n",
       "      <th>25%</th>\n",
       "      <td>32.000</td>\n",
       "      <td>5.175</td>\n",
       "      <td>2.800</td>\n",
       "      <td>1.500</td>\n",
       "      <td>0.200</td>\n",
       "      <td>2,011.000</td>\n",
       "    </tr>\n",
       "    <tr>\n",
       "      <th>50%</th>\n",
       "      <td>64.500</td>\n",
       "      <td>5.800</td>\n",
       "      <td>3.050</td>\n",
       "      <td>4.500</td>\n",
       "      <td>1.300</td>\n",
       "      <td>2,013.000</td>\n",
       "    </tr>\n",
       "    <tr>\n",
       "      <th>75%</th>\n",
       "      <td>110.750</td>\n",
       "      <td>6.400</td>\n",
       "      <td>3.425</td>\n",
       "      <td>5.200</td>\n",
       "      <td>1.800</td>\n",
       "      <td>2,013.000</td>\n",
       "    </tr>\n",
       "    <tr>\n",
       "      <th>max</th>\n",
       "      <td>144.000</td>\n",
       "      <td>7.700</td>\n",
       "      <td>4.100</td>\n",
       "      <td>6.900</td>\n",
       "      <td>2.300</td>\n",
       "      <td>2,015.000</td>\n",
       "    </tr>\n",
       "  </tbody>\n",
       "</table>\n",
       "</div>"
      ],
      "text/plain": [
       "               idx  sepal_length  sepal_width  petal_length  petal_width  \\\n",
       "year                                                                       \n",
       "1980 count  37.000        37.000       37.000        37.000       37.000   \n",
       "     mean   63.703         5.651        3.070         3.454        1.089   \n",
       "     std    42.723         0.767        0.471         1.738        0.755   \n",
       "     min     2.000         4.500        2.000         1.300        0.100   \n",
       "     25%    30.000         5.000        2.800         1.600        0.300   \n",
       "     50%    57.000         5.500        3.100         4.000        1.300   \n",
       "     75%    90.000         6.300        3.400         4.900        1.600   \n",
       "     max   143.000         7.400        4.200         6.100        2.500   \n",
       "1990 count  43.000        43.000       43.000        43.000       43.000   \n",
       "     mean   79.372         5.926        3.065         3.844        1.272   \n",
       "     std    44.243         0.818        0.477         1.719        0.791   \n",
       "     min     5.000         4.400        2.200         1.200        0.200   \n",
       "     25%    42.500         5.100        2.800         1.550        0.400   \n",
       "     50%    81.000         5.800        3.000         4.300        1.300   \n",
       "     75%   110.500         6.550        3.400         5.150        2.000   \n",
       "     max   149.000         7.900        4.400         6.600        2.500   \n",
       "2000 count  42.000        42.000       42.000        42.000       42.000   \n",
       "     mean   84.786         5.940        3.000         4.045        1.321   \n",
       "     std    41.599         0.872        0.349         1.696        0.711   \n",
       "     min     3.000         4.300        2.500         1.000        0.100   \n",
       "     25%    52.250         5.400        2.800         3.225        1.025   \n",
       "     50%    94.500         5.900        3.000         4.450        1.400   \n",
       "     75%   120.250         6.475        3.100         5.100        1.875   \n",
       "     max   150.000         7.700        4.000         6.700        2.300   \n",
       "2010 count  28.000        28.000       28.000        28.000       28.000   \n",
       "     mean   71.214         5.825        3.114         3.596        1.050   \n",
       "     std    44.068         0.853        0.453         1.977        0.797   \n",
       "     min     1.000         4.400        2.200         1.300        0.100   \n",
       "     25%    32.000         5.175        2.800         1.500        0.200   \n",
       "     50%    64.500         5.800        3.050         4.500        1.300   \n",
       "     75%   110.750         6.400        3.425         5.200        1.800   \n",
       "     max   144.000         7.700        4.100         6.900        2.300   \n",
       "\n",
       "                year  \n",
       "year                  \n",
       "1980 count    37.000  \n",
       "     mean  1,984.973  \n",
       "     std       2.764  \n",
       "     min   1,980.000  \n",
       "     25%   1,982.000  \n",
       "     50%   1,985.000  \n",
       "     75%   1,987.000  \n",
       "     max   1,989.000  \n",
       "1990 count    43.000  \n",
       "     mean  1,995.233  \n",
       "     std       3.213  \n",
       "     min   1,990.000  \n",
       "     25%   1,992.000  \n",
       "     50%   1,996.000  \n",
       "     75%   1,998.000  \n",
       "     max   1,999.000  \n",
       "2000 count    42.000  \n",
       "     mean  2,005.095  \n",
       "     std       2.766  \n",
       "     min   2,000.000  \n",
       "     25%   2,003.250  \n",
       "     50%   2,005.500  \n",
       "     75%   2,007.750  \n",
       "     max   2,009.000  \n",
       "2010 count    28.000  \n",
       "     mean  2,012.393  \n",
       "     std       1.397  \n",
       "     min   2,010.000  \n",
       "     25%   2,011.000  \n",
       "     50%   2,013.000  \n",
       "     75%   2,013.000  \n",
       "     max   2,015.000  "
      ]
     },
     "execution_count": 52,
     "metadata": {},
     "output_type": "execute_result"
    }
   ],
   "source": [
    "df.groupby(df.year // 10 * 10).describe()\n",
    "# 按年代分组， 再获得每组的统计值"
   ]
  },
  {
   "cell_type": "markdown",
   "metadata": {},
   "source": [
    "## Grouping by multiple columns"
   ]
  },
  {
   "cell_type": "code",
   "execution_count": 53,
   "metadata": {
    "collapsed": false
   },
   "outputs": [
    {
     "data": {
      "text/html": [
       "<div>\n",
       "<table border=\"1\" class=\"dataframe\">\n",
       "  <thead>\n",
       "    <tr style=\"text-align: right;\">\n",
       "      <th></th>\n",
       "      <th></th>\n",
       "      <th>idx</th>\n",
       "      <th>sepal_length</th>\n",
       "      <th>sepal_width</th>\n",
       "      <th>petal_length</th>\n",
       "      <th>petal_width</th>\n",
       "      <th>year</th>\n",
       "    </tr>\n",
       "    <tr>\n",
       "      <th>year</th>\n",
       "      <th>sepal_length</th>\n",
       "      <th></th>\n",
       "      <th></th>\n",
       "      <th></th>\n",
       "      <th></th>\n",
       "      <th></th>\n",
       "      <th></th>\n",
       "    </tr>\n",
       "  </thead>\n",
       "  <tbody>\n",
       "    <tr>\n",
       "      <th rowspan=\"4\" valign=\"top\">1980</th>\n",
       "      <th>4.000</th>\n",
       "      <td>18.875</td>\n",
       "      <td>4.725</td>\n",
       "      <td>3.075</td>\n",
       "      <td>1.525</td>\n",
       "      <td>0.212</td>\n",
       "      <td>1,985.375</td>\n",
       "    </tr>\n",
       "    <tr>\n",
       "      <th>5.000</th>\n",
       "      <td>58.250</td>\n",
       "      <td>5.412</td>\n",
       "      <td>3.056</td>\n",
       "      <td>3.019</td>\n",
       "      <td>0.963</td>\n",
       "      <td>1,985.000</td>\n",
       "    </tr>\n",
       "    <tr>\n",
       "      <th>6.000</th>\n",
       "      <td>96.600</td>\n",
       "      <td>6.310</td>\n",
       "      <td>3.090</td>\n",
       "      <td>5.050</td>\n",
       "      <td>1.810</td>\n",
       "      <td>1,985.200</td>\n",
       "    </tr>\n",
       "    <tr>\n",
       "      <th>7.000</th>\n",
       "      <td>102.667</td>\n",
       "      <td>7.200</td>\n",
       "      <td>3.067</td>\n",
       "      <td>5.600</td>\n",
       "      <td>1.700</td>\n",
       "      <td>1,983.000</td>\n",
       "    </tr>\n",
       "    <tr>\n",
       "      <th rowspan=\"4\" valign=\"top\">1990</th>\n",
       "      <th>4.000</th>\n",
       "      <td>40.750</td>\n",
       "      <td>4.750</td>\n",
       "      <td>2.975</td>\n",
       "      <td>2.250</td>\n",
       "      <td>0.575</td>\n",
       "      <td>1,996.500</td>\n",
       "    </tr>\n",
       "    <tr>\n",
       "      <th>5.000</th>\n",
       "      <td>55.167</td>\n",
       "      <td>5.361</td>\n",
       "      <td>3.178</td>\n",
       "      <td>2.650</td>\n",
       "      <td>0.761</td>\n",
       "      <td>1,995.389</td>\n",
       "    </tr>\n",
       "    <tr>\n",
       "      <th>6.000</th>\n",
       "      <td>106.056</td>\n",
       "      <td>6.478</td>\n",
       "      <td>2.906</td>\n",
       "      <td>4.972</td>\n",
       "      <td>1.783</td>\n",
       "      <td>1,994.556</td>\n",
       "    </tr>\n",
       "    <tr>\n",
       "      <th>7.000</th>\n",
       "      <td>116.000</td>\n",
       "      <td>7.567</td>\n",
       "      <td>3.467</td>\n",
       "      <td>6.367</td>\n",
       "      <td>2.200</td>\n",
       "      <td>1,996.667</td>\n",
       "    </tr>\n",
       "    <tr>\n",
       "      <th rowspan=\"4\" valign=\"top\">2000</th>\n",
       "      <th>4.000</th>\n",
       "      <td>25.400</td>\n",
       "      <td>4.520</td>\n",
       "      <td>3.200</td>\n",
       "      <td>1.220</td>\n",
       "      <td>0.180</td>\n",
       "      <td>2,005.800</td>\n",
       "    </tr>\n",
       "    <tr>\n",
       "      <th>5.000</th>\n",
       "      <td>73.471</td>\n",
       "      <td>5.512</td>\n",
       "      <td>3.006</td>\n",
       "      <td>3.388</td>\n",
       "      <td>1.047</td>\n",
       "      <td>2,004.588</td>\n",
       "    </tr>\n",
       "    <tr>\n",
       "      <th>6.000</th>\n",
       "      <td>106.562</td>\n",
       "      <td>6.438</td>\n",
       "      <td>2.894</td>\n",
       "      <td>5.050</td>\n",
       "      <td>1.763</td>\n",
       "      <td>2,005.688</td>\n",
       "    </tr>\n",
       "    <tr>\n",
       "      <th>7.000</th>\n",
       "      <td>120.000</td>\n",
       "      <td>7.550</td>\n",
       "      <td>3.150</td>\n",
       "      <td>6.350</td>\n",
       "      <td>2.150</td>\n",
       "      <td>2,004.000</td>\n",
       "    </tr>\n",
       "    <tr>\n",
       "      <th rowspan=\"4\" valign=\"top\">2010</th>\n",
       "      <th>4.000</th>\n",
       "      <td>39.600</td>\n",
       "      <td>4.760</td>\n",
       "      <td>3.040</td>\n",
       "      <td>1.760</td>\n",
       "      <td>0.340</td>\n",
       "      <td>2,012.600</td>\n",
       "    </tr>\n",
       "    <tr>\n",
       "      <th>5.000</th>\n",
       "      <td>36.200</td>\n",
       "      <td>5.360</td>\n",
       "      <td>3.500</td>\n",
       "      <td>2.140</td>\n",
       "      <td>0.470</td>\n",
       "      <td>2,011.600</td>\n",
       "    </tr>\n",
       "    <tr>\n",
       "      <th>6.000</th>\n",
       "      <td>107.700</td>\n",
       "      <td>6.350</td>\n",
       "      <td>2.850</td>\n",
       "      <td>5.150</td>\n",
       "      <td>1.730</td>\n",
       "      <td>2,012.700</td>\n",
       "    </tr>\n",
       "    <tr>\n",
       "      <th>7.000</th>\n",
       "      <td>119.000</td>\n",
       "      <td>7.400</td>\n",
       "      <td>2.833</td>\n",
       "      <td>6.333</td>\n",
       "      <td>1.900</td>\n",
       "      <td>2,013.667</td>\n",
       "    </tr>\n",
       "  </tbody>\n",
       "</table>\n",
       "</div>"
      ],
      "text/plain": [
       "                      idx  sepal_length  sepal_width  petal_length  \\\n",
       "year sepal_length                                                    \n",
       "1980 4.000         18.875         4.725        3.075         1.525   \n",
       "     5.000         58.250         5.412        3.056         3.019   \n",
       "     6.000         96.600         6.310        3.090         5.050   \n",
       "     7.000        102.667         7.200        3.067         5.600   \n",
       "1990 4.000         40.750         4.750        2.975         2.250   \n",
       "     5.000         55.167         5.361        3.178         2.650   \n",
       "     6.000        106.056         6.478        2.906         4.972   \n",
       "     7.000        116.000         7.567        3.467         6.367   \n",
       "2000 4.000         25.400         4.520        3.200         1.220   \n",
       "     5.000         73.471         5.512        3.006         3.388   \n",
       "     6.000        106.562         6.438        2.894         5.050   \n",
       "     7.000        120.000         7.550        3.150         6.350   \n",
       "2010 4.000         39.600         4.760        3.040         1.760   \n",
       "     5.000         36.200         5.360        3.500         2.140   \n",
       "     6.000        107.700         6.350        2.850         5.150   \n",
       "     7.000        119.000         7.400        2.833         6.333   \n",
       "\n",
       "                   petal_width      year  \n",
       "year sepal_length                         \n",
       "1980 4.000               0.212 1,985.375  \n",
       "     5.000               0.963 1,985.000  \n",
       "     6.000               1.810 1,985.200  \n",
       "     7.000               1.700 1,983.000  \n",
       "1990 4.000               0.575 1,996.500  \n",
       "     5.000               0.761 1,995.389  \n",
       "     6.000               1.783 1,994.556  \n",
       "     7.000               2.200 1,996.667  \n",
       "2000 4.000               0.180 2,005.800  \n",
       "     5.000               1.047 2,004.588  \n",
       "     6.000               1.763 2,005.688  \n",
       "     7.000               2.150 2,004.000  \n",
       "2010 4.000               0.340 2,012.600  \n",
       "     5.000               0.470 2,011.600  \n",
       "     6.000               1.730 2,012.700  \n",
       "     7.000               1.900 2,013.667  "
      ]
     },
     "execution_count": 53,
     "metadata": {},
     "output_type": "execute_result"
    }
   ],
   "source": [
    "df.groupby([df.year // 10 * 10, df.sepal_length // 1]).mean()\n",
    "# decade & sepal_length"
   ]
  },
  {
   "cell_type": "markdown",
   "metadata": {},
   "source": [
    "# pivot_table"
   ]
  },
  {
   "cell_type": "code",
   "execution_count": 54,
   "metadata": {
    "collapsed": false
   },
   "outputs": [
    {
     "data": {
      "text/html": [
       "<div>\n",
       "<table border=\"1\" class=\"dataframe\">\n",
       "  <thead>\n",
       "    <tr style=\"text-align: right;\">\n",
       "      <th></th>\n",
       "      <th>idx</th>\n",
       "      <th>petal_length</th>\n",
       "      <th>petal_width</th>\n",
       "      <th>sepal_length</th>\n",
       "      <th>sepal_width</th>\n",
       "    </tr>\n",
       "    <tr>\n",
       "      <th>year</th>\n",
       "      <th></th>\n",
       "      <th></th>\n",
       "      <th></th>\n",
       "      <th></th>\n",
       "      <th></th>\n",
       "    </tr>\n",
       "  </thead>\n",
       "  <tbody>\n",
       "    <tr>\n",
       "      <th>1980</th>\n",
       "      <td>68.000</td>\n",
       "      <td>3.750</td>\n",
       "      <td>0.950</td>\n",
       "      <td>6.050</td>\n",
       "      <td>3.150</td>\n",
       "    </tr>\n",
       "    <tr>\n",
       "      <th>1981</th>\n",
       "      <td>76.500</td>\n",
       "      <td>4.200</td>\n",
       "      <td>1.250</td>\n",
       "      <td>6.000</td>\n",
       "      <td>2.550</td>\n",
       "    </tr>\n",
       "    <tr>\n",
       "      <th>1982</th>\n",
       "      <td>66.333</td>\n",
       "      <td>3.567</td>\n",
       "      <td>1.233</td>\n",
       "      <td>5.850</td>\n",
       "      <td>3.283</td>\n",
       "    </tr>\n",
       "    <tr>\n",
       "      <th>1983</th>\n",
       "      <td>50.000</td>\n",
       "      <td>2.900</td>\n",
       "      <td>0.800</td>\n",
       "      <td>6.100</td>\n",
       "      <td>3.650</td>\n",
       "    </tr>\n",
       "    <tr>\n",
       "      <th>1984</th>\n",
       "      <td>29.500</td>\n",
       "      <td>2.150</td>\n",
       "      <td>0.575</td>\n",
       "      <td>4.900</td>\n",
       "      <td>2.925</td>\n",
       "    </tr>\n",
       "    <tr>\n",
       "      <th>1985</th>\n",
       "      <td>98.250</td>\n",
       "      <td>4.550</td>\n",
       "      <td>1.625</td>\n",
       "      <td>5.775</td>\n",
       "      <td>2.600</td>\n",
       "    </tr>\n",
       "    <tr>\n",
       "      <th>1986</th>\n",
       "      <td>62.000</td>\n",
       "      <td>2.800</td>\n",
       "      <td>0.800</td>\n",
       "      <td>5.233</td>\n",
       "      <td>3.200</td>\n",
       "    </tr>\n",
       "    <tr>\n",
       "      <th>1987</th>\n",
       "      <td>69.000</td>\n",
       "      <td>3.883</td>\n",
       "      <td>1.333</td>\n",
       "      <td>6.100</td>\n",
       "      <td>3.467</td>\n",
       "    </tr>\n",
       "    <tr>\n",
       "      <th>1988</th>\n",
       "      <td>44.250</td>\n",
       "      <td>2.575</td>\n",
       "      <td>0.600</td>\n",
       "      <td>4.950</td>\n",
       "      <td>2.675</td>\n",
       "    </tr>\n",
       "    <tr>\n",
       "      <th>1989</th>\n",
       "      <td>70.500</td>\n",
       "      <td>3.975</td>\n",
       "      <td>1.325</td>\n",
       "      <td>5.725</td>\n",
       "      <td>3.000</td>\n",
       "    </tr>\n",
       "    <tr>\n",
       "      <th>1990</th>\n",
       "      <td>92.400</td>\n",
       "      <td>4.500</td>\n",
       "      <td>1.580</td>\n",
       "      <td>6.480</td>\n",
       "      <td>3.180</td>\n",
       "    </tr>\n",
       "    <tr>\n",
       "      <th>1991</th>\n",
       "      <td>52.000</td>\n",
       "      <td>2.267</td>\n",
       "      <td>0.500</td>\n",
       "      <td>5.167</td>\n",
       "      <td>2.967</td>\n",
       "    </tr>\n",
       "    <tr>\n",
       "      <th>1992</th>\n",
       "      <td>102.750</td>\n",
       "      <td>5.025</td>\n",
       "      <td>1.800</td>\n",
       "      <td>6.350</td>\n",
       "      <td>3.125</td>\n",
       "    </tr>\n",
       "    <tr>\n",
       "      <th>1993</th>\n",
       "      <td>69.000</td>\n",
       "      <td>3.600</td>\n",
       "      <td>1.167</td>\n",
       "      <td>5.667</td>\n",
       "      <td>2.800</td>\n",
       "    </tr>\n",
       "    <tr>\n",
       "      <th>1994</th>\n",
       "      <td>90.000</td>\n",
       "      <td>4.800</td>\n",
       "      <td>1.750</td>\n",
       "      <td>6.350</td>\n",
       "      <td>2.700</td>\n",
       "    </tr>\n",
       "    <tr>\n",
       "      <th>1995</th>\n",
       "      <td>54.500</td>\n",
       "      <td>3.000</td>\n",
       "      <td>0.750</td>\n",
       "      <td>5.800</td>\n",
       "      <td>3.100</td>\n",
       "    </tr>\n",
       "    <tr>\n",
       "      <th>1996</th>\n",
       "      <td>63.667</td>\n",
       "      <td>3.267</td>\n",
       "      <td>0.867</td>\n",
       "      <td>5.633</td>\n",
       "      <td>2.900</td>\n",
       "    </tr>\n",
       "    <tr>\n",
       "      <th>1997</th>\n",
       "      <td>66.571</td>\n",
       "      <td>3.314</td>\n",
       "      <td>1.100</td>\n",
       "      <td>5.657</td>\n",
       "      <td>3.171</td>\n",
       "    </tr>\n",
       "    <tr>\n",
       "      <th>1998</th>\n",
       "      <td>77.000</td>\n",
       "      <td>3.183</td>\n",
       "      <td>1.117</td>\n",
       "      <td>5.767</td>\n",
       "      <td>3.317</td>\n",
       "    </tr>\n",
       "    <tr>\n",
       "      <th>1999</th>\n",
       "      <td>96.125</td>\n",
       "      <td>4.675</td>\n",
       "      <td>1.575</td>\n",
       "      <td>6.138</td>\n",
       "      <td>2.963</td>\n",
       "    </tr>\n",
       "    <tr>\n",
       "      <th>2000</th>\n",
       "      <td>68.500</td>\n",
       "      <td>3.300</td>\n",
       "      <td>0.950</td>\n",
       "      <td>5.575</td>\n",
       "      <td>3.200</td>\n",
       "    </tr>\n",
       "    <tr>\n",
       "      <th>2001</th>\n",
       "      <td>120.500</td>\n",
       "      <td>4.050</td>\n",
       "      <td>1.700</td>\n",
       "      <td>6.000</td>\n",
       "      <td>2.800</td>\n",
       "    </tr>\n",
       "    <tr>\n",
       "      <th>2002</th>\n",
       "      <td>117.667</td>\n",
       "      <td>6.233</td>\n",
       "      <td>2.033</td>\n",
       "      <td>7.267</td>\n",
       "      <td>3.100</td>\n",
       "    </tr>\n",
       "    <tr>\n",
       "      <th>2003</th>\n",
       "      <td>91.000</td>\n",
       "      <td>4.350</td>\n",
       "      <td>1.400</td>\n",
       "      <td>5.550</td>\n",
       "      <td>2.950</td>\n",
       "    </tr>\n",
       "    <tr>\n",
       "      <th>2004</th>\n",
       "      <td>86.000</td>\n",
       "      <td>3.740</td>\n",
       "      <td>1.280</td>\n",
       "      <td>6.080</td>\n",
       "      <td>3.080</td>\n",
       "    </tr>\n",
       "    <tr>\n",
       "      <th>2005</th>\n",
       "      <td>65.200</td>\n",
       "      <td>3.820</td>\n",
       "      <td>1.120</td>\n",
       "      <td>5.980</td>\n",
       "      <td>3.060</td>\n",
       "    </tr>\n",
       "    <tr>\n",
       "      <th>2006</th>\n",
       "      <td>60.167</td>\n",
       "      <td>3.333</td>\n",
       "      <td>1.100</td>\n",
       "      <td>5.450</td>\n",
       "      <td>2.967</td>\n",
       "    </tr>\n",
       "    <tr>\n",
       "      <th>2007</th>\n",
       "      <td>60.000</td>\n",
       "      <td>2.900</td>\n",
       "      <td>0.875</td>\n",
       "      <td>5.625</td>\n",
       "      <td>3.225</td>\n",
       "    </tr>\n",
       "    <tr>\n",
       "      <th>2008</th>\n",
       "      <td>91.250</td>\n",
       "      <td>4.612</td>\n",
       "      <td>1.475</td>\n",
       "      <td>6.050</td>\n",
       "      <td>2.838</td>\n",
       "    </tr>\n",
       "    <tr>\n",
       "      <th>2009</th>\n",
       "      <td>141.333</td>\n",
       "      <td>4.967</td>\n",
       "      <td>1.833</td>\n",
       "      <td>6.133</td>\n",
       "      <td>2.767</td>\n",
       "    </tr>\n",
       "    <tr>\n",
       "      <th>2010</th>\n",
       "      <td>58.500</td>\n",
       "      <td>3.075</td>\n",
       "      <td>0.850</td>\n",
       "      <td>5.525</td>\n",
       "      <td>3.475</td>\n",
       "    </tr>\n",
       "    <tr>\n",
       "      <th>2011</th>\n",
       "      <td>23.250</td>\n",
       "      <td>1.475</td>\n",
       "      <td>0.200</td>\n",
       "      <td>5.025</td>\n",
       "      <td>3.400</td>\n",
       "    </tr>\n",
       "    <tr>\n",
       "      <th>2012</th>\n",
       "      <td>54.000</td>\n",
       "      <td>2.667</td>\n",
       "      <td>0.667</td>\n",
       "      <td>5.500</td>\n",
       "      <td>3.267</td>\n",
       "    </tr>\n",
       "    <tr>\n",
       "      <th>2013</th>\n",
       "      <td>93.250</td>\n",
       "      <td>4.333</td>\n",
       "      <td>1.358</td>\n",
       "      <td>6.100</td>\n",
       "      <td>3.017</td>\n",
       "    </tr>\n",
       "    <tr>\n",
       "      <th>2014</th>\n",
       "      <td>85.000</td>\n",
       "      <td>5.275</td>\n",
       "      <td>1.650</td>\n",
       "      <td>6.600</td>\n",
       "      <td>2.675</td>\n",
       "    </tr>\n",
       "    <tr>\n",
       "      <th>2015</th>\n",
       "      <td>46.000</td>\n",
       "      <td>1.400</td>\n",
       "      <td>0.300</td>\n",
       "      <td>4.800</td>\n",
       "      <td>3.000</td>\n",
       "    </tr>\n",
       "  </tbody>\n",
       "</table>\n",
       "</div>"
      ],
      "text/plain": [
       "         idx  petal_length  petal_width  sepal_length  sepal_width\n",
       "year                                                              \n",
       "1980  68.000         3.750        0.950         6.050        3.150\n",
       "1981  76.500         4.200        1.250         6.000        2.550\n",
       "1982  66.333         3.567        1.233         5.850        3.283\n",
       "1983  50.000         2.900        0.800         6.100        3.650\n",
       "1984  29.500         2.150        0.575         4.900        2.925\n",
       "1985  98.250         4.550        1.625         5.775        2.600\n",
       "1986  62.000         2.800        0.800         5.233        3.200\n",
       "1987  69.000         3.883        1.333         6.100        3.467\n",
       "1988  44.250         2.575        0.600         4.950        2.675\n",
       "1989  70.500         3.975        1.325         5.725        3.000\n",
       "1990  92.400         4.500        1.580         6.480        3.180\n",
       "1991  52.000         2.267        0.500         5.167        2.967\n",
       "1992 102.750         5.025        1.800         6.350        3.125\n",
       "1993  69.000         3.600        1.167         5.667        2.800\n",
       "1994  90.000         4.800        1.750         6.350        2.700\n",
       "1995  54.500         3.000        0.750         5.800        3.100\n",
       "1996  63.667         3.267        0.867         5.633        2.900\n",
       "1997  66.571         3.314        1.100         5.657        3.171\n",
       "1998  77.000         3.183        1.117         5.767        3.317\n",
       "1999  96.125         4.675        1.575         6.138        2.963\n",
       "2000  68.500         3.300        0.950         5.575        3.200\n",
       "2001 120.500         4.050        1.700         6.000        2.800\n",
       "2002 117.667         6.233        2.033         7.267        3.100\n",
       "2003  91.000         4.350        1.400         5.550        2.950\n",
       "2004  86.000         3.740        1.280         6.080        3.080\n",
       "2005  65.200         3.820        1.120         5.980        3.060\n",
       "2006  60.167         3.333        1.100         5.450        2.967\n",
       "2007  60.000         2.900        0.875         5.625        3.225\n",
       "2008  91.250         4.612        1.475         6.050        2.838\n",
       "2009 141.333         4.967        1.833         6.133        2.767\n",
       "2010  58.500         3.075        0.850         5.525        3.475\n",
       "2011  23.250         1.475        0.200         5.025        3.400\n",
       "2012  54.000         2.667        0.667         5.500        3.267\n",
       "2013  93.250         4.333        1.358         6.100        3.017\n",
       "2014  85.000         5.275        1.650         6.600        2.675\n",
       "2015  46.000         1.400        0.300         4.800        3.000"
      ]
     },
     "execution_count": 54,
     "metadata": {},
     "output_type": "execute_result"
    }
   ],
   "source": [
    "df.pivot_table(values=[\"idx\",\"sepal_length\",\"sepal_width\",\"petal_length\",\"petal_width\"], index=[\"year\"], aggfunc=np.mean)"
   ]
  },
  {
   "cell_type": "markdown",
   "metadata": {},
   "source": [
    "# Crosstab"
   ]
  },
  {
   "cell_type": "code",
   "execution_count": 55,
   "metadata": {
    "collapsed": false
   },
   "outputs": [
    {
     "data": {
      "text/html": [
       "<div>\n",
       "<table border=\"1\" class=\"dataframe\">\n",
       "  <thead>\n",
       "    <tr style=\"text-align: right;\">\n",
       "      <th>d</th>\n",
       "      <th>n</th>\n",
       "      <th>p</th>\n",
       "      <th>All</th>\n",
       "    </tr>\n",
       "    <tr>\n",
       "      <th>c</th>\n",
       "      <th></th>\n",
       "      <th></th>\n",
       "      <th></th>\n",
       "    </tr>\n",
       "  </thead>\n",
       "  <tbody>\n",
       "    <tr>\n",
       "      <th>a</th>\n",
       "      <td>232</td>\n",
       "      <td>271</td>\n",
       "      <td>503</td>\n",
       "    </tr>\n",
       "    <tr>\n",
       "      <th>b</th>\n",
       "      <td>245</td>\n",
       "      <td>252</td>\n",
       "      <td>497</td>\n",
       "    </tr>\n",
       "    <tr>\n",
       "      <th>All</th>\n",
       "      <td>477</td>\n",
       "      <td>523</td>\n",
       "      <td>1000</td>\n",
       "    </tr>\n",
       "  </tbody>\n",
       "</table>\n",
       "</div>"
      ],
      "text/plain": [
       "d      n    p   All\n",
       "c                  \n",
       "a    232  271   503\n",
       "b    245  252   497\n",
       "All  477  523  1000"
      ]
     },
     "execution_count": 55,
     "metadata": {},
     "output_type": "execute_result"
    }
   ],
   "source": [
    "pd.crosstab(df0[\"c\"],df0[\"d\"],margins=True)"
   ]
  },
  {
   "cell_type": "markdown",
   "metadata": {},
   "source": [
    "# sort_values"
   ]
  },
  {
   "cell_type": "code",
   "execution_count": 56,
   "metadata": {
    "collapsed": false
   },
   "outputs": [
    {
     "data": {
      "text/html": [
       "<div>\n",
       "<table border=\"1\" class=\"dataframe\">\n",
       "  <thead>\n",
       "    <tr style=\"text-align: right;\">\n",
       "      <th></th>\n",
       "      <th>c</th>\n",
       "      <th>d</th>\n",
       "      <th>x</th>\n",
       "      <th>y</th>\n",
       "      <th>z</th>\n",
       "    </tr>\n",
       "  </thead>\n",
       "  <tbody>\n",
       "    <tr>\n",
       "      <th>597</th>\n",
       "      <td>a</td>\n",
       "      <td>n</td>\n",
       "      <td>2.843</td>\n",
       "      <td>0.443</td>\n",
       "      <td>1.397</td>\n",
       "    </tr>\n",
       "    <tr>\n",
       "      <th>579</th>\n",
       "      <td>a</td>\n",
       "      <td>p</td>\n",
       "      <td>2.816</td>\n",
       "      <td>0.949</td>\n",
       "      <td>0.459</td>\n",
       "    </tr>\n",
       "    <tr>\n",
       "      <th>202</th>\n",
       "      <td>b</td>\n",
       "      <td>p</td>\n",
       "      <td>2.713</td>\n",
       "      <td>2.097</td>\n",
       "      <td>-1.750</td>\n",
       "    </tr>\n",
       "    <tr>\n",
       "      <th>824</th>\n",
       "      <td>a</td>\n",
       "      <td>n</td>\n",
       "      <td>2.712</td>\n",
       "      <td>2.084</td>\n",
       "      <td>-0.736</td>\n",
       "    </tr>\n",
       "    <tr>\n",
       "      <th>97</th>\n",
       "      <td>b</td>\n",
       "      <td>p</td>\n",
       "      <td>2.681</td>\n",
       "      <td>0.264</td>\n",
       "      <td>-1.720</td>\n",
       "    </tr>\n",
       "  </tbody>\n",
       "</table>\n",
       "</div>"
      ],
      "text/plain": [
       "     c  d     x     y      z\n",
       "597  a  n 2.843 0.443  1.397\n",
       "579  a  p 2.816 0.949  0.459\n",
       "202  b  p 2.713 2.097 -1.750\n",
       "824  a  n 2.712 2.084 -0.736\n",
       "97   b  p 2.681 0.264 -1.720"
      ]
     },
     "execution_count": 56,
     "metadata": {},
     "output_type": "execute_result"
    }
   ],
   "source": [
    "df0.sort_values(['x'], ascending=False).head()"
   ]
  },
  {
   "cell_type": "code",
   "execution_count": 57,
   "metadata": {
    "collapsed": false
   },
   "outputs": [
    {
     "data": {
      "text/html": [
       "<div>\n",
       "<table border=\"1\" class=\"dataframe\">\n",
       "  <thead>\n",
       "    <tr style=\"text-align: right;\">\n",
       "      <th></th>\n",
       "      <th>c</th>\n",
       "      <th>d</th>\n",
       "      <th>x</th>\n",
       "      <th>y</th>\n",
       "      <th>z</th>\n",
       "    </tr>\n",
       "  </thead>\n",
       "  <tbody>\n",
       "    <tr>\n",
       "      <th>930</th>\n",
       "      <td>a</td>\n",
       "      <td>n</td>\n",
       "      <td>-3.701</td>\n",
       "      <td>-0.038</td>\n",
       "      <td>1.291</td>\n",
       "    </tr>\n",
       "    <tr>\n",
       "      <th>360</th>\n",
       "      <td>a</td>\n",
       "      <td>p</td>\n",
       "      <td>-3.318</td>\n",
       "      <td>0.271</td>\n",
       "      <td>-1.825</td>\n",
       "    </tr>\n",
       "    <tr>\n",
       "      <th>898</th>\n",
       "      <td>a</td>\n",
       "      <td>p</td>\n",
       "      <td>-3.301</td>\n",
       "      <td>1.354</td>\n",
       "      <td>-0.163</td>\n",
       "    </tr>\n",
       "    <tr>\n",
       "      <th>938</th>\n",
       "      <td>a</td>\n",
       "      <td>p</td>\n",
       "      <td>-2.502</td>\n",
       "      <td>2.673</td>\n",
       "      <td>0.431</td>\n",
       "    </tr>\n",
       "    <tr>\n",
       "      <th>950</th>\n",
       "      <td>b</td>\n",
       "      <td>n</td>\n",
       "      <td>-2.482</td>\n",
       "      <td>0.298</td>\n",
       "      <td>0.011</td>\n",
       "    </tr>\n",
       "  </tbody>\n",
       "</table>\n",
       "</div>"
      ],
      "text/plain": [
       "     c  d      x      y      z\n",
       "930  a  n -3.701 -0.038  1.291\n",
       "360  a  p -3.318  0.271 -1.825\n",
       "898  a  p -3.301  1.354 -0.163\n",
       "938  a  p -2.502  2.673  0.431\n",
       "950  b  n -2.482  0.298  0.011"
      ]
     },
     "execution_count": 57,
     "metadata": {},
     "output_type": "execute_result"
    }
   ],
   "source": [
    "df0.sort_values(['x','z']).head()"
   ]
  },
  {
   "cell_type": "markdown",
   "metadata": {},
   "source": [
    "# value_counts"
   ]
  },
  {
   "cell_type": "code",
   "execution_count": 58,
   "metadata": {
    "collapsed": false
   },
   "outputs": [
    {
     "data": {
      "text/plain": [
       "a    503\n",
       "b    497\n",
       "Name: c, dtype: int64"
      ]
     },
     "execution_count": 58,
     "metadata": {},
     "output_type": "execute_result"
    }
   ],
   "source": [
    "pd.value_counts(df0[\"c\"], sort=False)"
   ]
  },
  {
   "cell_type": "markdown",
   "metadata": {},
   "source": [
    "# 合并数据集"
   ]
  },
  {
   "cell_type": "code",
   "execution_count": 59,
   "metadata": {
    "collapsed": false
   },
   "outputs": [],
   "source": [
    "df2 = pd.DataFrame({'idx':range(1,151),\n",
    "                   'month2':np.random.randint(low=1,high=13,size=150)})"
   ]
  },
  {
   "cell_type": "code",
   "execution_count": 60,
   "metadata": {
    "collapsed": false
   },
   "outputs": [
    {
     "data": {
      "text/html": [
       "<div>\n",
       "<table border=\"1\" class=\"dataframe\">\n",
       "  <thead>\n",
       "    <tr style=\"text-align: right;\">\n",
       "      <th></th>\n",
       "      <th>idx</th>\n",
       "      <th>sepal_length</th>\n",
       "      <th>sepal_width</th>\n",
       "      <th>petal_length</th>\n",
       "      <th>petal_width</th>\n",
       "      <th>species</th>\n",
       "      <th>date</th>\n",
       "      <th>year</th>\n",
       "      <th>month2</th>\n",
       "    </tr>\n",
       "  </thead>\n",
       "  <tbody>\n",
       "    <tr>\n",
       "      <th>0</th>\n",
       "      <td>1</td>\n",
       "      <td>5.100</td>\n",
       "      <td>3.500</td>\n",
       "      <td>1.400</td>\n",
       "      <td>0.200</td>\n",
       "      <td>setosa</td>\n",
       "      <td>2011/5</td>\n",
       "      <td>2011</td>\n",
       "      <td>5</td>\n",
       "    </tr>\n",
       "    <tr>\n",
       "      <th>1</th>\n",
       "      <td>2</td>\n",
       "      <td>4.900</td>\n",
       "      <td>3.000</td>\n",
       "      <td>1.400</td>\n",
       "      <td>0.200</td>\n",
       "      <td>setosa</td>\n",
       "      <td>1984/9</td>\n",
       "      <td>1984</td>\n",
       "      <td>2</td>\n",
       "    </tr>\n",
       "    <tr>\n",
       "      <th>2</th>\n",
       "      <td>3</td>\n",
       "      <td>4.700</td>\n",
       "      <td>3.200</td>\n",
       "      <td>1.300</td>\n",
       "      <td>0.200</td>\n",
       "      <td>setosa</td>\n",
       "      <td>2008/3</td>\n",
       "      <td>2008</td>\n",
       "      <td>12</td>\n",
       "    </tr>\n",
       "    <tr>\n",
       "      <th>3</th>\n",
       "      <td>4</td>\n",
       "      <td>4.600</td>\n",
       "      <td>3.100</td>\n",
       "      <td>1.500</td>\n",
       "      <td>0.200</td>\n",
       "      <td>setosa</td>\n",
       "      <td>1988/3</td>\n",
       "      <td>1988</td>\n",
       "      <td>1</td>\n",
       "    </tr>\n",
       "    <tr>\n",
       "      <th>4</th>\n",
       "      <td>5</td>\n",
       "      <td>5.000</td>\n",
       "      <td>3.600</td>\n",
       "      <td>1.400</td>\n",
       "      <td>0.200</td>\n",
       "      <td>setosa</td>\n",
       "      <td>1993/6</td>\n",
       "      <td>1993</td>\n",
       "      <td>5</td>\n",
       "    </tr>\n",
       "  </tbody>\n",
       "</table>\n",
       "</div>"
      ],
      "text/plain": [
       "   idx  sepal_length  sepal_width  petal_length  petal_width species    date  \\\n",
       "0    1         5.100        3.500         1.400        0.200  setosa  2011/5   \n",
       "1    2         4.900        3.000         1.400        0.200  setosa  1984/9   \n",
       "2    3         4.700        3.200         1.300        0.200  setosa  2008/3   \n",
       "3    4         4.600        3.100         1.500        0.200  setosa  1988/3   \n",
       "4    5         5.000        3.600         1.400        0.200  setosa  1993/6   \n",
       "\n",
       "   year  month2  \n",
       "0  2011       5  \n",
       "1  1984       2  \n",
       "2  2008      12  \n",
       "3  1988       1  \n",
       "4  1993       5  "
      ]
     },
     "execution_count": 60,
     "metadata": {},
     "output_type": "execute_result"
    }
   ],
   "source": [
    "df12 = pd.merge(df, df2,on='idx')\n",
    "df12.head(5)"
   ]
  },
  {
   "cell_type": "markdown",
   "metadata": {},
   "source": [
    "# Missing Values"
   ]
  },
  {
   "cell_type": "markdown",
   "metadata": {},
   "source": [
    "## Drop missing values"
   ]
  },
  {
   "cell_type": "code",
   "execution_count": 61,
   "metadata": {
    "collapsed": false
   },
   "outputs": [
    {
     "data": {
      "text/html": [
       "<div>\n",
       "<table border=\"1\" class=\"dataframe\">\n",
       "  <thead>\n",
       "    <tr style=\"text-align: right;\">\n",
       "      <th></th>\n",
       "      <th>idx</th>\n",
       "      <th>sepal_length</th>\n",
       "      <th>sepal_width</th>\n",
       "      <th>petal_length</th>\n",
       "      <th>petal_width</th>\n",
       "      <th>species</th>\n",
       "      <th>date</th>\n",
       "      <th>year</th>\n",
       "      <th>month2</th>\n",
       "    </tr>\n",
       "  </thead>\n",
       "  <tbody>\n",
       "    <tr>\n",
       "      <th>0</th>\n",
       "      <td>1</td>\n",
       "      <td>5.100</td>\n",
       "      <td>3.500</td>\n",
       "      <td>1.400</td>\n",
       "      <td>0.200</td>\n",
       "      <td>setosa</td>\n",
       "      <td>2011/5</td>\n",
       "      <td>2011</td>\n",
       "      <td>5</td>\n",
       "    </tr>\n",
       "    <tr>\n",
       "      <th>1</th>\n",
       "      <td>2</td>\n",
       "      <td>4.900</td>\n",
       "      <td>3.000</td>\n",
       "      <td>1.400</td>\n",
       "      <td>0.200</td>\n",
       "      <td>setosa</td>\n",
       "      <td>1984/9</td>\n",
       "      <td>1984</td>\n",
       "      <td>2</td>\n",
       "    </tr>\n",
       "  </tbody>\n",
       "</table>\n",
       "</div>"
      ],
      "text/plain": [
       "   idx  sepal_length  sepal_width  petal_length  petal_width species    date  \\\n",
       "0    1         5.100        3.500         1.400        0.200  setosa  2011/5   \n",
       "1    2         4.900        3.000         1.400        0.200  setosa  1984/9   \n",
       "\n",
       "   year  month2  \n",
       "0  2011       5  \n",
       "1  1984       2  "
      ]
     },
     "execution_count": 61,
     "metadata": {},
     "output_type": "execute_result"
    }
   ],
   "source": [
    "df12.dropna().head(2)"
   ]
  },
  {
   "cell_type": "markdown",
   "metadata": {},
   "source": [
    "## Fill missing values"
   ]
  },
  {
   "cell_type": "code",
   "execution_count": 62,
   "metadata": {
    "collapsed": false
   },
   "outputs": [
    {
     "data": {
      "text/plain": [
       "0   5.100\n",
       "1   4.900\n",
       "2   4.700\n",
       "3   4.600\n",
       "4   5.000\n",
       "Name: sepal_length, dtype: float64"
      ]
     },
     "execution_count": 62,
     "metadata": {},
     "output_type": "execute_result"
    }
   ],
   "source": [
    "df12copy = df12.copy()\n",
    "mean = df12copy['sepal_length'].mean()\n",
    "df12copy['sepal_length'].fillna(mean).head(5)\n",
    "# a simple replacement using the mean of the available values."
   ]
  },
  {
   "cell_type": "markdown",
   "metadata": {},
   "source": [
    "# Plots"
   ]
  },
  {
   "cell_type": "code",
   "execution_count": 63,
   "metadata": {
    "collapsed": false
   },
   "outputs": [
    {
     "data": {
      "image/png": "[encoded data removed]",
      "text/plain": [
       "<matplotlib.figure.Figure at 0x112cd0ed0>"
      ]
     },
     "metadata": {},
     "output_type": "display_data"
    }
   ],
   "source": [
    "df0.hist(column='x');"
   ]
  },
  {
   "cell_type": "code",
   "execution_count": 64,
   "metadata": {
    "collapsed": false
   },
   "outputs": [
    {
     "data": {
      "image/png": "[encoded data removed]",
      "text/plain": [
       "<matplotlib.figure.Figure at 0x11426c190>"
      ]
     },
     "metadata": {},
     "output_type": "display_data"
    }
   ],
   "source": [
    "df0.hist(column='x',by='d',bins=10);"
   ]
  },
  {
   "cell_type": "code",
   "execution_count": 65,
   "metadata": {
    "collapsed": false
   },
   "outputs": [
    {
     "data": {
      "image/png": "[encoded data removed]",
      "text/plain": [
       "<matplotlib.figure.Figure at 0x113559450>"
      ]
     },
     "metadata": {},
     "output_type": "display_data"
    }
   ],
   "source": [
    "df0.boxplot(column='x', by='c');"
   ]
  }
 ],
 "metadata": {
  "kernelspec": {
   "display_name": "Python 2",
   "language": "python",
   "name": "python2"
  },
  "language_info": {
   "codemirror_mode": {
    "name": "ipython",
    "version": 2
   },
   "file_extension": ".py",
   "mimetype": "text/x-python",
   "name": "python",
   "nbconvert_exporter": "python",
   "pygments_lexer": "ipython2",
   "version": "2.7.12"
  },
  "nav_menu": {},
  "toc": {
   "navigate_menu": true,
   "number_sections": true,
   "sideBar": true,
   "threshold": "6",
   "toc_cell": true,
   "toc_section_display": "block",
   "toc_window_display": false
  }
 },
 "nbformat": 4,
 "nbformat_minor": 0
}
