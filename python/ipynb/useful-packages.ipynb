{
 "cells": [
  {
   "cell_type": "markdown",
   "metadata": {
    "toc": "true"
   },
   "source": [
    "# Table of Contents\n",
    " <p><div class=\"lev1 toc-item\"><a href=\"#wget\" data-toc-modified-id=\"wget-1\"><span class=\"toc-item-num\">1&nbsp;&nbsp;</span>wget</a></div><div class=\"lev1 toc-item\"><a href=\"#sh\" data-toc-modified-id=\"sh-2\"><span class=\"toc-item-num\">2&nbsp;&nbsp;</span>sh</a></div><div class=\"lev1 toc-item\"><a href=\"#os\" data-toc-modified-id=\"os-3\"><span class=\"toc-item-num\">3&nbsp;&nbsp;</span>os</a></div><div class=\"lev1 toc-item\"><a href=\"#shutil\" data-toc-modified-id=\"shutil-4\"><span class=\"toc-item-num\">4&nbsp;&nbsp;</span>shutil</a></div><div class=\"lev1 toc-item\"><a href=\"#把HTML转换成PDF文件(Install-wkhtmltopdf)\" data-toc-modified-id=\"把HTML转换成PDF文件(Install-wkhtmltopdf)-5\"><span class=\"toc-item-num\">5&nbsp;&nbsp;</span>把HTML转换成PDF文件(Install wkhtmltopdf)</a></div><div class=\"lev1 toc-item\"><a href=\"#when\" data-toc-modified-id=\"when-6\"><span class=\"toc-item-num\">6&nbsp;&nbsp;</span>when</a></div><div class=\"lev1 toc-item\"><a href=\"#clize\" data-toc-modified-id=\"clize-7\"><span class=\"toc-item-num\">7&nbsp;&nbsp;</span>clize</a></div>"
   ]
  },
  {
   "cell_type": "code",
   "execution_count": 1,
   "metadata": {
    "collapsed": false
   },
   "outputs": [],
   "source": [
    "import wget\n",
    "import sh\n",
    "import progressbar\n",
    "import os\n",
    "import shutil\n",
    "import pdfkit # Wkhtmltopdf python wrapper to convert html to pdf \n",
    "import requests\n",
    "import when\n",
    "import clize"
   ]
  },
  {
   "cell_type": "markdown",
   "metadata": {},
   "source": [
    "# wget"
   ]
  },
  {
   "cell_type": "code",
   "execution_count": 2,
   "metadata": {
    "collapsed": false
   },
   "outputs": [
    {
     "data": {
      "text/plain": [
       "'razorback.mp3'"
      ]
     },
     "execution_count": 2,
     "metadata": {},
     "output_type": "execute_result"
    }
   ],
   "source": [
    "url = 'http://www.futurecrew.com/skaven/song_files/mp3/razorback.mp3'\n",
    "wget.download(url)"
   ]
  },
  {
   "cell_type": "markdown",
   "metadata": {},
   "source": [
    "# sh"
   ]
  },
  {
   "cell_type": "markdown",
   "metadata": {
    "collapsed": false
   },
   "source": [
    "sh.ls()"
   ]
  },
  {
   "cell_type": "markdown",
   "metadata": {
    "collapsed": false
   },
   "source": [
    "sh.ls(\"-ls\")"
   ]
  },
  {
   "cell_type": "code",
   "execution_count": 3,
   "metadata": {
    "collapsed": false
   },
   "outputs": [
    {
     "data": {
      "text/plain": []
     },
     "execution_count": 3,
     "metadata": {},
     "output_type": "execute_result"
    }
   ],
   "source": [
    "from sh import tar\n",
    "tar(\"zcvf\", \"1.sh.tar.gz\", \"1.sh\")"
   ]
  },
  {
   "cell_type": "markdown",
   "metadata": {
    "collapsed": true
   },
   "source": [
    "- build Command object using only the binary    \n",
    "- pass the arguments to the object when invoking    "
   ]
  },
  {
   "cell_type": "markdown",
   "metadata": {
    "collapsed": false
   },
   "source": [
    "bashcmd = sh.Command(\"/bin/bash\") # Absolute path \n",
    "bashcmd(\"1.sh\")       "
   ]
  },
  {
   "cell_type": "code",
   "execution_count": 4,
   "metadata": {
    "collapsed": false
   },
   "outputs": [
    {
     "data": {
      "text/plain": []
     },
     "execution_count": 4,
     "metadata": {},
     "output_type": "execute_result"
    }
   ],
   "source": [
    "tarcmd = sh.Command(\"/usr/bin/tar\")\n",
    "tarcmd(\"zcvf\", \"1.sh.tar.gz\", \"1.sh\")"
   ]
  },
  {
   "cell_type": "markdown",
   "metadata": {},
   "source": [
    "# os"
   ]
  },
  {
   "cell_type": "code",
   "execution_count": 5,
   "metadata": {
    "collapsed": false
   },
   "outputs": [
    {
     "data": {
      "text/plain": [
       "'/Users/alicefelix/github/scripts/python/ipynb'"
      ]
     },
     "execution_count": 5,
     "metadata": {},
     "output_type": "execute_result"
    }
   ],
   "source": [
    "os.getcwd()"
   ]
  },
  {
   "cell_type": "markdown",
   "metadata": {
    "collapsed": false
   },
   "source": [
    "os.listdir('./')"
   ]
  },
  {
   "cell_type": "code",
   "execution_count": 6,
   "metadata": {
    "collapsed": true
   },
   "outputs": [],
   "source": [
    "os.mkdir('tmp') # Create a directory"
   ]
  },
  {
   "cell_type": "code",
   "execution_count": 7,
   "metadata": {
    "collapsed": true
   },
   "outputs": [],
   "source": [
    "os.rename('tmp', 'tmp2') # Rename the file or directory "
   ]
  },
  {
   "cell_type": "code",
   "execution_count": 8,
   "metadata": {
    "collapsed": true
   },
   "outputs": [],
   "source": [
    "os.rmdir('tmp2')"
   ]
  },
  {
   "cell_type": "markdown",
   "metadata": {},
   "source": [
    "# shutil"
   ]
  },
  {
   "cell_type": "code",
   "execution_count": 9,
   "metadata": {
    "collapsed": true
   },
   "outputs": [],
   "source": [
    "shutil.copyfile('1.sh', '2.sh') # 复制文件"
   ]
  },
  {
   "cell_type": "code",
   "execution_count": 10,
   "metadata": {
    "collapsed": true
   },
   "outputs": [],
   "source": [
    "shutil.copy('1.sh', '2.sh') \n",
    "# Copy the file src to the file or directory dst. \n",
    "# If dst is a directory, a file with the same basename \n",
    "# as src is created (or overwritten) in the directory specified."
   ]
  },
  {
   "cell_type": "code",
   "execution_count": 11,
   "metadata": {
    "collapsed": true
   },
   "outputs": [],
   "source": [
    "shutil.copy2('1.sh', '2.sh')\n",
    "# Similar to shutil.copy(), but metadata is copied as well"
   ]
  },
  {
   "cell_type": "code",
   "execution_count": 12,
   "metadata": {
    "collapsed": true
   },
   "outputs": [],
   "source": [
    "shutil.move('2.sh', '3.sh') \n",
    "# Recursively move a file or directory (src) to another location (dst)."
   ]
  },
  {
   "cell_type": "markdown",
   "metadata": {},
   "source": [
    "# 把HTML转换成PDF文件(Install wkhtmltopdf)"
   ]
  },
  {
   "cell_type": "code",
   "execution_count": 13,
   "metadata": {
    "collapsed": false
   },
   "outputs": [
    {
     "name": "stdout",
     "output_type": "stream",
     "text": [
      "Loading pages (1/6)\n",
      "[>                                                           ] 0%\r",
      "[======>                                                     ] 10%\r",
      "[==============================>                             ] 50%\r",
      "[============================================================] 100%\r",
      "Counting pages (2/6)                                               \n",
      "[============================================================] Object 1 of 1\r",
      "Resolving links (4/6)                                                       \n",
      "[============================================================] Object 1 of 1\r",
      "Loading headers and footers (5/6)                                           \n",
      "Printing pages (6/6)\n",
      "[>                                                           ] Preparing\r",
      "[============================================================] Page 1 of 1\r",
      "Done                                                                      \n"
     ]
    },
    {
     "data": {
      "text/plain": [
       "True"
      ]
     },
     "execution_count": 13,
     "metadata": {},
     "output_type": "execute_result"
    }
   ],
   "source": [
    "pdfkit.from_string('Hello!', 'out.pdf')"
   ]
  },
  {
   "cell_type": "code",
   "execution_count": 14,
   "metadata": {
    "collapsed": false
   },
   "outputs": [
    {
     "name": "stdout",
     "output_type": "stream",
     "text": [
      "Loading pages (1/6)\n",
      "[>                                                           ] 0%\r",
      "[======>                                                     ] 10%\r",
      "[======================>                                     ] 37%\r",
      "[===========================>                                ] 46%\r",
      "[=============================>                              ] 49%\r",
      "[===============================>                            ] 52%\r",
      "[================================>                           ] 54%\r",
      "[==================================>                         ] 57%\r",
      "[====================================>                       ] 60%\r",
      "[=====================================>                      ] 62%\r",
      "[=======================================>                    ] 65%\r",
      "[========================================>                   ] 68%\r",
      "[==========================================>                 ] 70%\r",
      "[===========================================>                ] 73%\r",
      "[==============================================>             ] 77%\r",
      "[==================================================>         ] 84%\r",
      "[============================================================] 100%\r",
      "Counting pages (2/6)                                               \n",
      "[============================================================] Object 1 of 1\r",
      "Resolving links (4/6)                                                       \n",
      "[============================================================] Object 1 of 1\r",
      "Loading headers and footers (5/6)                                           \n",
      "Printing pages (6/6)\n",
      "[>                                                           ] Preparing\r",
      "[============================================================] Page 1 of 1\r",
      "Done                                                                      \n"
     ]
    },
    {
     "data": {
      "text/plain": [
       "True"
      ]
     },
     "execution_count": 14,
     "metadata": {},
     "output_type": "execute_result"
    }
   ],
   "source": [
    "pdfkit.from_url('http://google.com', 'out2.pdf')"
   ]
  },
  {
   "cell_type": "code",
   "execution_count": 15,
   "metadata": {
    "collapsed": false
   },
   "outputs": [
    {
     "name": "stdout",
     "output_type": "stream",
     "text": [
      "Loading pages (1/6)\n",
      "[>                                                           ] 0%\r",
      "[======>                                                     ] 10%\r",
      "[=========================>                                  ] 42%\r",
      "Warning: Failed to load file:///Users/alicefelix/github/scripts/python/ipynb/custom.css (ignore)\n",
      "[===============================>                            ] 52%\r",
      "[=======================================>                    ] 66%\r",
      "[=============================================>              ] 75%\r",
      "[================================================>           ] 81%\r",
      "[===================================================>        ] 86%\r",
      "[============================================================] 100%\r",
      "Counting pages (2/6)                                               \n",
      "[============================================================] Object 1 of 1\r",
      "Resolving links (4/6)                                                       \n",
      "[============================================================] Object 1 of 1\r",
      "Loading headers and footers (5/6)                                           \n",
      "Printing pages (6/6)\n",
      "[>                                                           ] Preparing\r",
      "[========>                                                   ] Page 1 of 7\r",
      "[================>                                           ] Page 2 of 7\r",
      "[=========================>                                  ] Page 3 of 7\r",
      "[==================================>                         ] Page 4 of 7\r",
      "[==========================================>                 ] Page 5 of 7\r",
      "[===================================================>        ] Page 6 of 7\r",
      "Done                                                                      \n"
     ]
    },
    {
     "data": {
      "text/plain": [
       "True"
      ]
     },
     "execution_count": 15,
     "metadata": {},
     "output_type": "execute_result"
    }
   ],
   "source": [
    "pdfkit.from_file('2016-06-07-numpy.html', 'out3.pdf')"
   ]
  },
  {
   "cell_type": "markdown",
   "metadata": {},
   "source": [
    "# when"
   ]
  },
  {
   "cell_type": "code",
   "execution_count": 16,
   "metadata": {
    "collapsed": false
   },
   "outputs": [
    {
     "data": {
      "text/plain": [
       "'Asia/Hong_Kong'"
      ]
     },
     "execution_count": 16,
     "metadata": {},
     "output_type": "execute_result"
    }
   ],
   "source": [
    "when.timezone() # get the system time zone's name"
   ]
  },
  {
   "cell_type": "code",
   "execution_count": 17,
   "metadata": {
    "collapsed": false
   },
   "outputs": [
    {
     "data": {
      "text/plain": [
       "datetime.date(2016, 8, 7)"
      ]
     },
     "execution_count": 17,
     "metadata": {},
     "output_type": "execute_result"
    }
   ],
   "source": [
    "when.today() # get the current date"
   ]
  },
  {
   "cell_type": "code",
   "execution_count": 18,
   "metadata": {
    "collapsed": false
   },
   "outputs": [
    {
     "data": {
      "text/plain": [
       "datetime.date(2016, 8, 8)"
      ]
     },
     "execution_count": 18,
     "metadata": {},
     "output_type": "execute_result"
    }
   ],
   "source": [
    "when.tomorrow()"
   ]
  },
  {
   "cell_type": "code",
   "execution_count": 19,
   "metadata": {
    "collapsed": false
   },
   "outputs": [
    {
     "data": {
      "text/plain": [
       "datetime.date(2016, 8, 6)"
      ]
     },
     "execution_count": 19,
     "metadata": {},
     "output_type": "execute_result"
    }
   ],
   "source": [
    "when.yesterday()"
   ]
  },
  {
   "cell_type": "code",
   "execution_count": 20,
   "metadata": {
    "collapsed": false
   },
   "outputs": [
    {
     "data": {
      "text/plain": [
       "datetime.datetime(2017, 8, 7, 22, 56, 41, 618707)"
      ]
     },
     "execution_count": 20,
     "metadata": {},
     "output_type": "execute_result"
    }
   ],
   "source": [
    "when.future(years=1) # get a datetime one year from now"
   ]
  },
  {
   "cell_type": "code",
   "execution_count": 21,
   "metadata": {
    "collapsed": false
   },
   "outputs": [
    {
     "data": {
      "text/plain": [
       "datetime.datetime(2017, 10, 10, 22, 56, 41, 633406)"
      ]
     },
     "execution_count": 21,
     "metadata": {},
     "output_type": "execute_result"
    }
   ],
   "source": [
    "when.future(years=1,months=2,days=3)"
   ]
  },
  {
   "cell_type": "code",
   "execution_count": 22,
   "metadata": {
    "collapsed": false
   },
   "outputs": [
    {
     "data": {
      "text/plain": [
       "datetime.datetime(2016, 8, 7, 22, 56, 41, 643482)"
      ]
     },
     "execution_count": 22,
     "metadata": {},
     "output_type": "execute_result"
    }
   ],
   "source": [
    "when.now() # get the current time"
   ]
  },
  {
   "cell_type": "markdown",
   "metadata": {},
   "source": [
    "# clize"
   ]
  },
  {
   "cell_type": "markdown",
   "metadata": {
    "collapsed": false
   },
   "source": [
    "#coding=utf-8\n",
    "\n",
    "'''\n",
    "clizeExample.py\n",
    "'''\n",
    "\n",
    "from clize import run\n",
    "\n",
    "def hello_world(name=None):\n",
    "    '''\n",
    "    Greets the world or the given name.   \n",
    "\n",
    "    name: If specified, only greet this person.   \n",
    "    '''\n",
    "    if name:\n",
    "        print(\"Hello {}!\".format(name))\n",
    "    else:\n",
    "        print(\"Hello world!\")\n",
    "\n",
    "if __name__ == '__main__':\n",
    "    run(hello_world)"
   ]
  },
  {
   "cell_type": "code",
   "execution_count": 23,
   "metadata": {
    "collapsed": false
   },
   "outputs": [
    {
     "name": "stdout",
     "output_type": "stream",
     "text": [
      "Usage: clizeExample.py [name]\n",
      "\n",
      "Greets the world or the given name.\n",
      "\n",
      "Arguments:\n",
      "  name         If specified, only greet this person.\n",
      "\n",
      "Other actions:\n",
      "  -h, --help   Show the help\n"
     ]
    }
   ],
   "source": [
    "%run clizeExample.py --help"
   ]
  }
 ],
 "metadata": {
  "kernelspec": {
   "display_name": "Python 2",
   "language": "python",
   "name": "python2"
  },
  "language_info": {
   "codemirror_mode": {
    "name": "ipython",
    "version": 2
   },
   "file_extension": ".py",
   "mimetype": "text/x-python",
   "name": "python",
   "nbconvert_exporter": "python",
   "pygments_lexer": "ipython2",
   "version": "2.7.13"
  },
  "nav_menu": {},
  "toc": {
   "navigate_menu": true,
   "number_sections": true,
   "sideBar": true,
   "threshold": "6",
   "toc_cell": true,
   "toc_section_display": "block",
   "toc_window_display": false
  }
 },
 "nbformat": 4,
 "nbformat_minor": 0
}
