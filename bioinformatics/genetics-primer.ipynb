{
 "cells": [
  {
   "cell_type": "markdown",
   "metadata": {},
   "source": [
    "# 1. homozygous, heterozygous or hemizygous\n",
    "\n",
    "The genotype for a single gene in a diploid organism often referred to as being either homozygous, heterozygous or hemizygous. These terms are a shorthand way of describing the genotypes.    \n",
    "\n",
    "- Homo means \"same or common\". Homozygous means that both alleles are the same.\n",
    "\n",
    "- Hetero  means \"different\".   Heterozygous means that the two alleles are not the same.\n",
    "\n",
    "- Hemi means \"half\".   Hemizygous means that there is only one allele (instead of two) in a diploid cell. \n",
    "\n",
    "This condition is present in males for sex linked genes on X chromosome. Because males are XY, they have only one copy of X chromosome. So for all the genes present on X chromosomes for male, they have only one allele. So we can say only half of the alleles are present as compare to females with genotype XX. \n",
    "\n",
    "Hemizygous condition can also occur in autosomal chromosome under abnormal condition such as deletion or loss of chromosome where one of the autosomal allele is missing. So for that particular gene on autosomal chromosome it is called hemizygous.\n",
    "\n",
    "- Zygosity is the degree of similarity of the alleles for a trait in an organism."
   ]
  },
  {
   "cell_type": "markdown",
   "metadata": {},
   "source": [
    "# 2. Genes and Alleles\n",
    "\n",
    "DNA is our genetic material and it is polymer of nucleotides which codes for all our physical characteristics, proteins etc. \n",
    "\n",
    "Say for example, a patch of DNA containing a particular nucleotide sequence codes for eye color. This patch of DNA is called **GENE**. \n",
    "\n",
    "Likewise there can be many genes in DNA which codes for various characteristics, proteins or enzymes etc.\n",
    "\n",
    "**GENE = a patch of DNA containing specific nucleotide sequence that codes for something.**\n",
    "\n",
    "We have 23 pairs of chromosomes meaning every chromosome has a homologous pair. \n",
    "\n",
    "It is very important to understand that the gene location is always specific on chromosomes meaning at whichever locus the gene for eye color is present at in one chromosome is same for the homologous chromosomes also. \n",
    "\n",
    "This means **we contain two copies of the same gene**, isn’t it! **And each copy in this gene is called an ALLELE**. So we have two alleles of the same gene. \n",
    "\n",
    "In a population there can be multiple alleles. But in an individual we can have only two alleles present for any particular given gene and that is because we carry homologous pairs of every chromosome. \n",
    "\n",
    "**ALLELE = variation of the same gene.**\n",
    "\n"
   ]
  },
  {
   "cell_type": "markdown",
   "metadata": {},
   "source": [
    "# 3. X-Linked Inheritance\n",
    "\n",
    "The genes present on the X and Y-chromosomes are called **sex-linked genes**.\n",
    "\n",
    "With both an X and a Y-chromosome, males inherit both X and Y-linked traits, while females only inherit X-linked traits. \n",
    "\n",
    "Since males have only one copy of each sex chromosome, they are hemizygous for all sex-linked genes and they always express the phenotype of the allele they get. In other words, their phenotypes always match their genotypes. \n",
    "\n",
    "Females get two copies of X-linked genes, so they demonstrate the more typical dominant-recessive expression patterns of non-sex linked traits.\n",
    "\n",
    "Since the X-chromosome is bigger and contains more genes than the Y-chromosome, most sex-linked traits are X-linked traits.\n",
    "\n",
    "Wild-type fruit flies have dark red eyes, but there are recessive alleles of this eye color gene (called the white gene) that cause individuals to have white eyes. As recessive trait, the white eye phenotype is masked by the presence of a wild-type (red encoding) allele. \n",
    "\n",
    "Since control of eye color is encoded by a gene on the X-chromosome, females (XX) carry two copies and males (XY) only carry one. In females, the presence of a dominant red encoding allele ($X^W$) will produce red eyes even if the individual in heterozygous for the white allele. Females can be\n",
    "\n",
    "- Homozygous dominant for the red encoding allele - genotype: $X^WX^W$; phenotype: red eyes.\n",
    "- Heterozygous - genotype $X^WX^w$; phenotype: red eyes.\n",
    "- Homozygous recessive with two white encoding alleles - genotype $X^wX^w$; phenotype white eyes.\n",
    "\n",
    "With only one copy of the X-chromosome, all males are hemizygous for this gene. They have only two options:\n",
    "\n",
    "- Hemizygous dominant - genotype: $X^WY$; phenotype: red eyes\n",
    "- Hemizygous recessive - genotype: $X^wY$; phenotype: white eyes."
   ]
  },
  {
   "cell_type": "markdown",
   "metadata": {},
   "source": [
    "# 4. Y-Linked Traits\n",
    "\n",
    "- Only males have Y chromosomes\n",
    "- Passed from father to sons\n",
    "- All Y-linked traits are expressed\n",
    "- Approximately three dozen Y-linked traits have been discovered"
   ]
  },
  {
   "cell_type": "markdown",
   "metadata": {},
   "source": [
    "# 5. Mitochondrial Inheritance\n",
    "\n",
    "- Mitochondria are cytoplasmic organelles important in cellular respiration\n",
    "- Have their own DNA\n",
    "- Carry 37 genes\n",
    "- Transmitted from mother to ALL of her offspring\n",
    "- No recombination\n",
    "- Males and females equally affected\n",
    "- High mutation rate"
   ]
  },
  {
   "cell_type": "markdown",
   "metadata": {},
   "source": [
    "# 6. Complications in genetic analyses\n",
    "\n",
    "- Pleiotropy: One gene influences more than one phenotype/trait\n",
    "- Genetic heterogeneity: one phenotype, many genes\n",
    "- The same genotype does not always produce the same phenotype\n",
    "    * Phenotype depends on penetrance ($penetrance=\\frac{\\#\\ showing\\ phenotype}{total\\ of\\ that\\ genotypes}$)\n",
    "    * Phenotype depends on expressivity (refers to the degree to which an individual expresses the trait)\n",
    "    * Phenotype can be affected by other modifier genes\n",
    "        + Modifier genes alter the phenotype produced by other genes.\n",
    "        + Modifier genes by themselves may have little or no effect on the phenotype. \n",
    "    * Environment can affect phenotype\n",
    "        + restricted diet can result in a profound change in phenotype\n",
    "        + ..."
   ]
  },
  {
   "cell_type": "markdown",
   "metadata": {},
   "source": [
    "# References\n",
    "\n",
    "- http://www.nowiknowblog.com/\n",
    "- http://scienceprimer.com/\n",
    "- http://www.bio.brandeis.edu/classes/heredity/Lecture%20Powerpoints/chapter4-3.pdf\n",
    "\n"
   ]
  },
  {
   "cell_type": "code",
   "execution_count": null,
   "metadata": {
    "collapsed": true
   },
   "outputs": [],
   "source": []
  }
 ],
 "metadata": {
  "anaconda-cloud": {},
  "kernelspec": {
   "display_name": "Python [Root]",
   "language": "python",
   "name": "Python [Root]"
  },
  "language_info": {
   "codemirror_mode": {
    "name": "ipython",
    "version": 2
   },
   "file_extension": ".py",
   "mimetype": "text/x-python",
   "name": "python",
   "nbconvert_exporter": "python",
   "pygments_lexer": "ipython2",
   "version": "2.7.12"
  },
  "nav_menu": {},
  "toc": {
   "navigate_menu": true,
   "number_sections": false,
   "sideBar": false,
   "threshold": "",
   "toc_cell": false,
   "toc_section_display": "block",
   "toc_window_display": false
  }
 },
 "nbformat": 4,
 "nbformat_minor": 0
}
